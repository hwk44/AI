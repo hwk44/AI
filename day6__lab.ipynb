{
 "cells": [
  {
   "cell_type": "markdown",
   "metadata": {
    "id": "ZYJeA4fpcGNk"
   },
   "source": [
    "# Lab11"
   ]
  },
  {
   "cell_type": "markdown",
   "metadata": {
    "id": "0AZqhmeccW7p"
   },
   "source": [
    "## 0. Prerequisite"
   ]
  },
  {
   "cell_type": "code",
   "execution_count": 1,
   "metadata": {
    "colab": {
     "base_uri": "https://localhost:8080/"
    },
    "id": "gyxzozzA4prN",
    "outputId": "88da27f3-0f43-4081-ba4c-f32fe6489dd6"
   },
   "outputs": [
    {
     "name": "stdout",
     "output_type": "stream",
     "text": [
      "Requirement already satisfied: mypy in d:\\ai\\venv\\lib\\site-packages (1.2.0)\n",
      "Requirement already satisfied: typing-extensions>=3.10 in d:\\ai\\venv\\lib\\site-packages (from mypy) (4.5.0)\n",
      "Requirement already satisfied: tomli>=1.1.0 in d:\\ai\\venv\\lib\\site-packages (from mypy) (2.0.1)\n",
      "Requirement already satisfied: mypy-extensions>=1.0.0 in d:\\ai\\venv\\lib\\site-packages (from mypy) (1.0.0)\n"
     ]
    }
   ],
   "source": [
    "!pip install mypy\n",
    "from IPython.core.magic import register_cell_magic\n",
    "from IPython import get_ipython\n",
    "from mypy import api\n",
    "\n",
    "@register_cell_magic\n",
    "def mypy(line, cell):\n",
    "  for output in api.run(['-c', '\\n' + cell] + line.split()):\n",
    "    if output and not output.startswith('Success'):\n",
    "      raise TypeError(output)\n",
    "  get_ipython().run_cell(cell)"
   ]
  },
  {
   "cell_type": "code",
   "execution_count": 2,
   "metadata": {
    "colab": {
     "base_uri": "https://localhost:8080/"
    },
    "id": "ZDeM7aGRQfp2",
    "outputId": "cb921096-87fe-4577-c3ac-ddc52e5f9613"
   },
   "outputs": [
    {
     "ename": "ModuleNotFoundError",
     "evalue": "No module named 'google'",
     "output_type": "error",
     "traceback": [
      "\u001b[1;31m---------------------------------------------------------------------------\u001b[0m",
      "\u001b[1;31mModuleNotFoundError\u001b[0m                       Traceback (most recent call last)",
      "Cell \u001b[1;32mIn[2], line 1\u001b[0m\n\u001b[1;32m----> 1\u001b[0m \u001b[39mfrom\u001b[39;00m \u001b[39mgoogle\u001b[39;00m\u001b[39m.\u001b[39;00m\u001b[39mcolab\u001b[39;00m \u001b[39mimport\u001b[39;00m drive\n\u001b[0;32m      3\u001b[0m drive\u001b[39m.\u001b[39mmount(\u001b[39m'\u001b[39m\u001b[39m/content/gdrive/\u001b[39m\u001b[39m'\u001b[39m, force_remount\u001b[39m=\u001b[39m\u001b[39mTrue\u001b[39;00m)\n",
      "\u001b[1;31mModuleNotFoundError\u001b[0m: No module named 'google'"
     ]
    }
   ],
   "source": [
    "from google.colab import drive\n",
    "\n",
    "drive.mount('/content/gdrive/', force_remount=True)\n"
   ]
  },
  {
   "cell_type": "markdown",
   "metadata": {
    "id": "AL3MoBZO5NpL"
   },
   "source": [
    "## Common Exception\n",
    "\n",
    "\n"
   ]
  },
  {
   "cell_type": "code",
   "execution_count": 7,
   "metadata": {
    "colab": {
     "base_uri": "https://localhost:8080/",
     "height": 170
    },
    "id": "M3ABCUJiIqOC",
    "outputId": "6ca0b050-33f1-4029-f65b-16daf9a0bff4"
   },
   "outputs": [
    {
     "ename": "NameError",
     "evalue": "name 'ab' is not defined",
     "output_type": "error",
     "traceback": [
      "\u001b[1;31m---------------------------------------------------------------------------\u001b[0m",
      "\u001b[1;31mNameError\u001b[0m                                 Traceback (most recent call last)",
      "Cell \u001b[1;32mIn[7], line 1\u001b[0m\n\u001b[1;32m----> 1\u001b[0m \u001b[39mprint\u001b[39m(ab)\n",
      "\u001b[1;31mNameError\u001b[0m: name 'ab' is not defined"
     ]
    }
   ],
   "source": [
    "\n",
    "print(ab)"
   ]
  },
  {
   "cell_type": "code",
   "execution_count": 12,
   "metadata": {
    "colab": {
     "base_uri": "https://localhost:8080/",
     "height": 206
    },
    "id": "SBUQ1WRTc1Nz",
    "outputId": "41051c45-329c-405e-d3fd-b97d29b52002"
   },
   "outputs": [
    {
     "ename": "ValueError",
     "evalue": "could not convert string to float: '3.14O'",
     "output_type": "error",
     "traceback": [
      "\u001b[1;31m---------------------------------------------------------------------------\u001b[0m",
      "\u001b[1;31mValueError\u001b[0m                                Traceback (most recent call last)",
      "Cell \u001b[1;32mIn[12], line 5\u001b[0m\n\u001b[0;32m      1\u001b[0m \u001b[39m# pi = '3.140'\u001b[39;00m\n\u001b[0;32m      2\u001b[0m \u001b[39m# float(pi)\u001b[39;00m\n\u001b[0;32m      4\u001b[0m d \u001b[39m=\u001b[39m \u001b[39m'\u001b[39m\u001b[39m3.14O\u001b[39m\u001b[39m'\u001b[39m\n\u001b[1;32m----> 5\u001b[0m \u001b[39mfloat\u001b[39;49m(d) \u001b[39m# Error\u001b[39;00m\n",
      "\u001b[1;31mValueError\u001b[0m: could not convert string to float: '3.14O'"
     ]
    }
   ],
   "source": [
    "# pi = '3.140'\n",
    "# float(pi)\n",
    "\n",
    "d = '3.14O' # 맨 뒤 O 숫자가 아님\n",
    "float(d)"
   ]
  },
  {
   "cell_type": "code",
   "execution_count": 16,
   "metadata": {
    "colab": {
     "base_uri": "https://localhost:8080/",
     "height": 188
    },
    "id": "9SdhMfnjIOXN",
    "outputId": "206f9d17-31b5-4c61-bc34-ef262356697a"
   },
   "outputs": [
    {
     "name": "stdout",
     "output_type": "stream",
     "text": [
      "hello\n",
      "world\n",
      "3.14\n",
      "0.78\n"
     ]
    }
   ],
   "source": [
    "lst = ['hello', 'world', '3.14', '0.78']\n",
    "# print(lst[4])\n",
    "\n",
    "for i in lst:\n",
    "    print(i)"
   ]
  },
  {
   "cell_type": "code",
   "execution_count": null,
   "metadata": {
    "colab": {
     "base_uri": "https://localhost:8080/",
     "height": 206
    },
    "id": "YhrsG-RVHpfI",
    "outputId": "09434404-1560-4f45-97fd-b8758bc17131"
   },
   "outputs": [
    {
     "ename": "ValueError",
     "evalue": "ignored",
     "output_type": "error",
     "traceback": [
      "\u001b[0;31m---------------------------------------------------------------------------\u001b[0m",
      "\u001b[0;31mValueError\u001b[0m                                Traceback (most recent call last)",
      "\u001b[0;32m<ipython-input-23-11567e994a51>\u001b[0m in \u001b[0;36m<cell line: 3>\u001b[0;34m()\u001b[0m\n\u001b[1;32m      1\u001b[0m \u001b[0mlst\u001b[0m \u001b[0;34m=\u001b[0m \u001b[0;34m[\u001b[0m\u001b[0;34m'hello'\u001b[0m\u001b[0;34m,\u001b[0m \u001b[0;34m'world'\u001b[0m\u001b[0;34m,\u001b[0m \u001b[0;34m'3.14'\u001b[0m\u001b[0;34m,\u001b[0m \u001b[0;34m'0.78'\u001b[0m\u001b[0;34m]\u001b[0m\u001b[0;34m\u001b[0m\u001b[0;34m\u001b[0m\u001b[0m\n\u001b[1;32m      2\u001b[0m \u001b[0;34m\u001b[0m\u001b[0m\n\u001b[0;32m----> 3\u001b[0;31m \u001b[0mlist\u001b[0m\u001b[0;34m(\u001b[0m\u001b[0mmap\u001b[0m\u001b[0;34m(\u001b[0m\u001b[0mtype\u001b[0m\u001b[0;34m,\u001b[0m \u001b[0mmap\u001b[0m\u001b[0;34m(\u001b[0m\u001b[0mfloat\u001b[0m\u001b[0;34m,\u001b[0m \u001b[0mlst\u001b[0m\u001b[0;34m)\u001b[0m\u001b[0;34m)\u001b[0m\u001b[0;34m)\u001b[0m\u001b[0;34m\u001b[0m\u001b[0;34m\u001b[0m\u001b[0m\n\u001b[0m",
      "\u001b[0;31mValueError\u001b[0m: could not convert string to float: 'hello'"
     ]
    }
   ],
   "source": [
    "lst = ['hello', 'world', '3.14', '0.78']\n",
    "\n",
    "list(map(type, map(float, lst)))"
   ]
  },
  {
   "cell_type": "code",
   "execution_count": 3,
   "metadata": {
    "colab": {
     "base_uri": "https://localhost:8080/",
     "height": 206
    },
    "id": "e2egenn1ISmS",
    "outputId": "e1a70f64-0090-4607-804d-73799d8bb111",
    "tags": []
   },
   "outputs": [
    {
     "name": "stdout",
     "output_type": "stream",
     "text": [
      "0\n"
     ]
    }
   ],
   "source": [
    "d = {'kim': 'hello',\n",
    "     'lee': 'world'}\n",
    "\n",
    "# d['park']\n",
    "#  d['kim']\n",
    "if 'park' in d:\n",
    "    print(d['park'])\n",
    "else:\n",
    "    print(0)"
   ]
  },
  {
   "cell_type": "code",
   "execution_count": 11,
   "metadata": {
    "colab": {
     "base_uri": "https://localhost:8080/",
     "height": 333
    },
    "id": "biRIzRNoMd44",
    "outputId": "f357a564-4169-4266-b419-d4662ea28b55",
    "tags": []
   },
   "outputs": [
    {
     "name": "stdout",
     "output_type": "stream",
     "text": [
      "1\n"
     ]
    }
   ],
   "source": [
    "def f():\n",
    "    if 5 < 3:\n",
    "        return 3\n",
    "    else:\n",
    "        return 1\n",
    "\n",
    "print(f())\n"
   ]
  },
  {
   "cell_type": "code",
   "execution_count": 15,
   "metadata": {
    "colab": {
     "base_uri": "https://localhost:8080/",
     "height": 351
    },
    "id": "GtR4wC0NMgpy",
    "outputId": "5a18ef7f-da87-4ae2-a772-49fa44ce81be",
    "tags": []
   },
   "outputs": [
    {
     "name": "stdout",
     "output_type": "stream",
     "text": [
      "5\n"
     ]
    },
    {
     "ename": "NameError",
     "evalue": "name 'x' is not defined",
     "output_type": "error",
     "traceback": [
      "\u001b[1;31m---------------------------------------------------------------------------\u001b[0m",
      "\u001b[1;31mNameError\u001b[0m                                 Traceback (most recent call last)",
      "Cell \u001b[1;32mIn[15], line 16\u001b[0m\n\u001b[0;32m     13\u001b[0m     \u001b[38;5;28;01mreturn\u001b[39;00m i()\n\u001b[0;32m     15\u001b[0m r1()\n\u001b[1;32m---> 16\u001b[0m \u001b[43mr2\u001b[49m\u001b[43m(\u001b[49m\u001b[43m)\u001b[49m\n",
      "Cell \u001b[1;32mIn[15], line 12\u001b[0m, in \u001b[0;36mr2\u001b[1;34m()\u001b[0m\n\u001b[0;32m     10\u001b[0m     x \u001b[38;5;241m=\u001b[39m \u001b[38;5;241m5\u001b[39m\n\u001b[0;32m     11\u001b[0m     \u001b[38;5;28;01mreturn\u001b[39;00m x\n\u001b[1;32m---> 12\u001b[0m \u001b[38;5;28mprint\u001b[39m(\u001b[43mx\u001b[49m)\n\u001b[0;32m     13\u001b[0m \u001b[38;5;28;01mreturn\u001b[39;00m i()\n",
      "\u001b[1;31mNameError\u001b[0m: name 'x' is not defined"
     ]
    }
   ],
   "source": [
    "def r1():\n",
    "    x = 5\n",
    "    def i():\n",
    "        return x\n",
    "    print(x)\n",
    "    return i()\n",
    "\n",
    "def r2():\n",
    "    def i():\n",
    "        x = 5\n",
    "        return x\n",
    "    print(x)\n",
    "    return i()\n",
    "\n",
    "r1()\n",
    "r2()"
   ]
  },
  {
   "cell_type": "code",
   "execution_count": 18,
   "metadata": {
    "colab": {
     "base_uri": "https://localhost:8080/"
    },
    "id": "q14HlQIdHcHt",
    "outputId": "2c620b55-6323-47bb-dd96-ac9cae897b53",
    "tags": []
   },
   "outputs": [
    {
     "name": "stdout",
     "output_type": "stream",
     "text": [
      "Python 3.10.10\n"
     ]
    }
   ],
   "source": [
    "!python --version"
   ]
  },
  {
   "cell_type": "code",
   "execution_count": 23,
   "metadata": {
    "id": "enDvASizGj4y",
    "tags": []
   },
   "outputs": [
    {
     "name": "stderr",
     "output_type": "stream",
     "text": [
      "UsageError: Cell magic `%%mypy` not found.\n"
     ]
    }
   ],
   "source": [
    "%%mypy\n",
    "\n",
    "from typing import Union\n",
    "\n",
    "def to_float(n: str) -> Union[float, str]:\n",
    "    try:\n",
    "      return float(n)\n",
    "    except ValueError:\n",
    "      print('N is not a float type!')\n",
    "      return n"
   ]
  },
  {
   "cell_type": "code",
   "execution_count": 22,
   "metadata": {
    "colab": {
     "base_uri": "https://localhost:8080/"
    },
    "id": "YWJHyp8PGIXS",
    "outputId": "c5e7f7c3-bf20-4344-f312-f785d3492a81",
    "tags": []
   },
   "outputs": [
    {
     "name": "stdout",
     "output_type": "stream",
     "text": [
      "N is not a float type!\n",
      "N is not a float type!\n"
     ]
    },
    {
     "data": {
      "text/plain": [
       "[str, str, float, float]"
      ]
     },
     "execution_count": 22,
     "metadata": {},
     "output_type": "execute_result"
    }
   ],
   "source": [
    "lst = ['hello', 'world', '3.14', '0.78']\n",
    "number = lambda x: float(x) if x.isnumeric() else x\n",
    "list(map(type, map(to_float, lst)))"
   ]
  },
  {
   "cell_type": "markdown",
   "metadata": {
    "id": "mGbPfQJEc5pl"
   },
   "source": [
    "## p3. Exception Handling (사용자 입력)\n",
    "\n",
    "<a href=\"https://docs.python.org/3/library/exceptions.html#exception-hierarchy\">Exception Hierarchy in P\n",
    "\n",
    "```\n",
    "# This is formatted as code\n",
    "```\n",
    "\n",
    "ython</a>"
   ]
  },
  {
   "cell_type": "code",
   "execution_count": 24,
   "metadata": {
    "colab": {
     "base_uri": "https://localhost:8080/",
     "height": 224
    },
    "id": "mGAC-9rSc7Qd",
    "outputId": "91fc5104-f88b-43f7-8304-caa599490048",
    "tags": []
   },
   "outputs": [
    {
     "name": "stdin",
     "output_type": "stream",
     "text": [
      "Enter number of dependents:  100\n"
     ]
    },
    {
     "name": "stdout",
     "output_type": "stream",
     "text": [
      "Tax credit: 100000\n"
     ]
    }
   ],
   "source": [
    "numDependents = int(input(\"Enter number of dependents: \"))\n",
    "taxCredit = 1000 * numDependents\n",
    "print(\"Tax credit:\", taxCredit)"
   ]
  },
  {
   "cell_type": "code",
   "execution_count": 27,
   "metadata": {
    "colab": {
     "base_uri": "https://localhost:8080/"
    },
    "id": "cAtg__AdJwac",
    "outputId": "4b12e4b9-92cd-44b6-a5a3-31b0a7c032b9",
    "tags": []
   },
   "outputs": [
    {
     "name": "stdin",
     "output_type": "stream",
     "text": [
      "Enter number of dependents:  0.22\n"
     ]
    },
    {
     "name": "stdout",
     "output_type": "stream",
     "text": [
      "\n",
      "You did not respond with an integer value.\n",
      "We will assume your answer is zero.\n",
      "Tax credit: 0\n"
     ]
    }
   ],
   "source": [
    "try:\n",
    "  numDependents = int(input(\"Enter number of dependents: \"))\n",
    "except ValueError as e:\n",
    "  print(\"\\nYou did not respond with an integer value.\")\n",
    "  print(\"We will assume your answer is zero.\")\n",
    "  numDependents = 0\n",
    "\n",
    "taxCredit = 1000 * numDependents\n",
    "print(\"Tax credit:\", taxCredit)"
   ]
  },
  {
   "cell_type": "markdown",
   "metadata": {
    "id": "INqFk2K5c7ks"
   },
   "source": [
    "## p8. Exception Handling (파일 처리)\n",
    "\n"
   ]
  },
  {
   "cell_type": "code",
   "execution_count": 28,
   "metadata": {
    "colab": {
     "base_uri": "https://localhost:8080/"
    },
    "id": "B2c46qWfc8z0",
    "outputId": "7a1ef13c-980a-4138-be1d-11c49fc27eb7",
    "tags": []
   },
   "outputs": [
    {
     "name": "stdin",
     "output_type": "stream",
     "text": [
      "Enter the name of a file:  hello.txt\n"
     ]
    },
    {
     "name": "stdout",
     "output_type": "stream",
     "text": [
      "[Errno 2] No such file or directory: 'hello.txt'\n"
     ]
    }
   ],
   "source": [
    "def main():\n",
    "  '''\n",
    "  Display the reciprocal of a number in a file.\n",
    "  '''\n",
    "  try:\n",
    "    fileName = input(\"Enter the name of a file: \")\n",
    "    infile = open(fileName, 'r')\n",
    "    num = float(infile.readline())\n",
    "    print(1 / num)\n",
    "  except FileNotFoundError as exc1:\n",
    "    print(exc1)\n",
    "  except TypeError as exc2:\n",
    "    print(exc2)\n",
    "\n",
    "main()"
   ]
  },
  {
   "cell_type": "markdown",
   "metadata": {
    "id": "jAEoPcBXc9kM"
   },
   "source": [
    "## p10. Exception Handling (사용자로부터 원하는 입력 받기??)"
   ]
  },
  {
   "cell_type": "code",
   "execution_count": null,
   "metadata": {
    "colab": {
     "base_uri": "https://localhost:8080/"
    },
    "id": "nJN7nZ1Nc-ad",
    "outputId": "50749e8f-ab5e-4946-90cb-5866c020da0f"
   },
   "outputs": [
    {
     "name": "stdout",
     "output_type": "stream",
     "text": [
      "Enter a, b, or c: e\n",
      "Unacceptable letter was entered.\n",
      "Enter a, b, or c: f\n",
      "Unacceptable letter was entered.\n",
      "Enter a, b, or c: a\n",
      "alpha\n"
     ]
    }
   ],
   "source": [
    "def main():\n",
    "  '''\n",
    "  Request that the user enter a proper response.\n",
    "  '''\n",
    "  phoneticAlpha = {'a':\"alpha\", 'b':\"bravo\",'c':\"charlie\"}\n",
    "  while True:\n",
    "    try:\n",
    "      letter = input(\"Enter a, b, or c: \")\n",
    "      print(phoneticAlpha[letter])\n",
    "      break\n",
    "    except KeyError:\n",
    "      print(\"Unacceptable letter was entered.\")\n",
    "\n",
    "main()"
   ]
  },
  {
   "cell_type": "markdown",
   "metadata": {
    "id": "EkRNBCyLctUY"
   },
   "source": [
    "## p12. Exception Handling (예외는 어디서나 발생할 수 있다??)\n",
    "\n",
    "\n",
    "\n",
    "\n",
    "\n"
   ]
  },
  {
   "cell_type": "code",
   "execution_count": null,
   "metadata": {
    "id": "ML_Alh4iQHVT"
   },
   "outputs": [],
   "source": [
    "fileName = '/content/gdrive/MyDrive/Numbers.txt'\n",
    "with open(fileName, 'w') as f_write:\n",
    "  for i in range(1, 100+1):\n",
    "    f_write.write(str(i) + '\\n')"
   ]
  },
  {
   "cell_type": "code",
   "execution_count": null,
   "metadata": {
    "id": "wv45rrgKvu9W"
   },
   "outputs": [],
   "source": [
    "!cat /content/gdrive/MyDrive/Numbers.txt"
   ]
  },
  {
   "cell_type": "code",
   "execution_count": 29,
   "metadata": {
    "colab": {
     "base_uri": "https://localhost:8080/",
     "height": 444
    },
    "id": "BxdeHEF_cB3C",
    "outputId": "0375af62-c176-44f1-b837-27ce11b73804",
    "tags": []
   },
   "outputs": [
    {
     "name": "stdout",
     "output_type": "stream",
     "text": [
      "File not found.\n",
      "None\n",
      "File not found.\n"
     ]
    },
    {
     "ename": "FileNotFoundError",
     "evalue": "[Errno 2] No such file or directory: '/content/gdrive/MyDrive/Numbers.txt'",
     "output_type": "error",
     "traceback": [
      "\u001b[1;31m---------------------------------------------------------------------------\u001b[0m",
      "\u001b[1;31mFileNotFoundError\u001b[0m                         Traceback (most recent call last)",
      "Cell \u001b[1;32mIn[29], line 61\u001b[0m\n\u001b[0;32m     58\u001b[0m     \u001b[38;5;28mprint\u001b[39m(calcAverage(f))\n\u001b[0;32m     59\u001b[0m     \u001b[38;5;28mprint\u001b[39m(calcSum(f))\n\u001b[1;32m---> 61\u001b[0m \u001b[43mmain\u001b[49m\u001b[43m(\u001b[49m\u001b[43m[\u001b[49m\u001b[43mfileName\u001b[49m\u001b[43m,\u001b[49m\u001b[43m \u001b[49m\u001b[43mnonExistFileName\u001b[49m\u001b[43m]\u001b[49m\u001b[43m)\u001b[49m\n",
      "Cell \u001b[1;32mIn[29], line 59\u001b[0m, in \u001b[0;36mmain\u001b[1;34m(fileNameList)\u001b[0m\n\u001b[0;32m     57\u001b[0m \u001b[38;5;28;01mfor\u001b[39;00m f \u001b[38;5;129;01min\u001b[39;00m fileNameList:\n\u001b[0;32m     58\u001b[0m   \u001b[38;5;28mprint\u001b[39m(calcAverage(f))\n\u001b[1;32m---> 59\u001b[0m   \u001b[38;5;28mprint\u001b[39m(\u001b[43mcalcSum\u001b[49m\u001b[43m(\u001b[49m\u001b[43mf\u001b[49m\u001b[43m)\u001b[49m)\n",
      "Cell \u001b[1;32mIn[29], line 44\u001b[0m, in \u001b[0;36mcalcSum\u001b[1;34m(fileName)\u001b[0m\n\u001b[0;32m     42\u001b[0m total, count \u001b[38;5;241m=\u001b[39m \u001b[38;5;241m0\u001b[39m, \u001b[38;5;241m0\u001b[39m\n\u001b[0;32m     43\u001b[0m \u001b[38;5;28;01mtry\u001b[39;00m:\n\u001b[1;32m---> 44\u001b[0m   \u001b[38;5;28;01mwith\u001b[39;00m \u001b[38;5;28;43mopen\u001b[39;49m\u001b[43m(\u001b[49m\u001b[43mfileName\u001b[49m\u001b[43m,\u001b[49m\u001b[43m \u001b[49m\u001b[38;5;124;43m'\u001b[39;49m\u001b[38;5;124;43mr\u001b[39;49m\u001b[38;5;124;43m'\u001b[39;49m\u001b[43m)\u001b[49m \u001b[38;5;28;01mas\u001b[39;00m infile:\n\u001b[0;32m     45\u001b[0m     \u001b[38;5;28;01mfor\u001b[39;00m line \u001b[38;5;129;01min\u001b[39;00m infile:\n\u001b[0;32m     46\u001b[0m       total \u001b[38;5;241m+\u001b[39m\u001b[38;5;241m=\u001b[39m \u001b[38;5;28mfloat\u001b[39m(line)\n",
      "File \u001b[1;32mc:\\python310\\lib\\site-packages\\IPython\\core\\interactiveshell.py:284\u001b[0m, in \u001b[0;36m_modified_open\u001b[1;34m(file, *args, **kwargs)\u001b[0m\n\u001b[0;32m    277\u001b[0m \u001b[38;5;28;01mif\u001b[39;00m file \u001b[38;5;129;01min\u001b[39;00m {\u001b[38;5;241m0\u001b[39m, \u001b[38;5;241m1\u001b[39m, \u001b[38;5;241m2\u001b[39m}:\n\u001b[0;32m    278\u001b[0m     \u001b[38;5;28;01mraise\u001b[39;00m \u001b[38;5;167;01mValueError\u001b[39;00m(\n\u001b[0;32m    279\u001b[0m         \u001b[38;5;124mf\u001b[39m\u001b[38;5;124m\"\u001b[39m\u001b[38;5;124mIPython won\u001b[39m\u001b[38;5;124m'\u001b[39m\u001b[38;5;124mt let you open fd=\u001b[39m\u001b[38;5;132;01m{\u001b[39;00mfile\u001b[38;5;132;01m}\u001b[39;00m\u001b[38;5;124m by default \u001b[39m\u001b[38;5;124m\"\u001b[39m\n\u001b[0;32m    280\u001b[0m         \u001b[38;5;124m\"\u001b[39m\u001b[38;5;124mas it is likely to crash IPython. If you know what you are doing, \u001b[39m\u001b[38;5;124m\"\u001b[39m\n\u001b[0;32m    281\u001b[0m         \u001b[38;5;124m\"\u001b[39m\u001b[38;5;124myou can use builtins\u001b[39m\u001b[38;5;124m'\u001b[39m\u001b[38;5;124m open.\u001b[39m\u001b[38;5;124m\"\u001b[39m\n\u001b[0;32m    282\u001b[0m     )\n\u001b[1;32m--> 284\u001b[0m \u001b[38;5;28;01mreturn\u001b[39;00m io_open(file, \u001b[38;5;241m*\u001b[39margs, \u001b[38;5;241m*\u001b[39m\u001b[38;5;241m*\u001b[39mkwargs)\n",
      "\u001b[1;31mFileNotFoundError\u001b[0m: [Errno 2] No such file or directory: '/content/gdrive/MyDrive/Numbers.txt'"
     ]
    }
   ],
   "source": [
    "from typing import List\n",
    " \n",
    "fileName = '/content/gdrive/MyDrive/Numbers.txt'\n",
    "nonExistFileName = '/content/gdrive/MyDrive/Numbers1.txt'\n",
    "\n",
    "\n",
    "def calcAverage(fileName)->float:\n",
    "  ''' \n",
    "  Calculate the average of the numbers in a file.\n",
    "  '''\n",
    "  total = 0\n",
    "  count = 0\n",
    "  foundFlag = True\n",
    "  try:\n",
    "    infile = open(fileName, 'r')\n",
    "  except FileNotFoundError:\n",
    "    print(\"File not found.\")\n",
    "    foundFlag = False\n",
    "  if foundFlag:\n",
    "    try:\n",
    "      for line in infile:\n",
    "        count += 1\n",
    "        total += float(line)\n",
    "      return total / count\n",
    "    except ValueError:\n",
    "      print(\"Line\", count, \"could not be converted to a float\")\n",
    "      if count > 1:\n",
    "        return total / (count - 1)\n",
    "      else:\n",
    "        print(\"No average can be calculated.\")\n",
    "        return -1\n",
    "    except ZeroDivisionError:\n",
    "      print(\"File was empty.\")\n",
    "      return -1\n",
    "    finally:\n",
    "      infile.close()\n",
    "\n",
    "def calcSum(fileName: str)->float:\n",
    "  ''' \n",
    "  Calculate total of the numbers in a file.\n",
    "  '''\n",
    "  total, count = 0, 0\n",
    "  try:\n",
    "    with open(fileName, 'r') as infile:\n",
    "      for line in infile:\n",
    "        total += float(line)\n",
    "  except FileNotFoundError as e:\n",
    "    print(\"File not found.\")\n",
    "    raise\n",
    "  except ValueError as e:\n",
    "    print(\"Line\", count, \"could not be converted to a float\")\n",
    "    raise\n",
    "\n",
    "  return total\n",
    "\n",
    "def main(fileNameList : List[str]):\n",
    "  for f in fileNameList:\n",
    "    print(calcAverage(f))\n",
    "    print(calcSum(f))\n",
    "\n",
    "main([fileName, nonExistFileName])"
   ]
  },
  {
   "cell_type": "markdown",
   "metadata": {
    "id": "tdJa-fe6Lu_N"
   },
   "source": [
    "## p14. Selecting Random Values"
   ]
  },
  {
   "cell_type": "code",
   "execution_count": null,
   "metadata": {
    "colab": {
     "base_uri": "https://localhost:8080/"
    },
    "id": "4CuQ-rftL-3y",
    "outputId": "b513ecce-0a28-4239-ebf4-e641eff5cf2e"
   },
   "outputs": [
    {
     "name": "stdout",
     "output_type": "stream",
     "text": [
      "air\n",
      "['earth', 'water']\n",
      "['fire', 'water', 'air', 'earth']\n",
      "4\n"
     ]
    }
   ],
   "source": [
    "import random\n",
    "\n",
    "elements = [\"earth\", \"air\", \"fire\", \"water\"]\n",
    "\n",
    "print(random.choice(elements)) # with equal probability\n",
    "print(random.sample(elements, 2))\n",
    "random.shuffle(elements)\n",
    "print(elements)\n",
    "print(random.randint(1, 5)) # random integer from 1 to 5"
   ]
  },
  {
   "cell_type": "code",
   "execution_count": null,
   "metadata": {
    "colab": {
     "base_uri": "https://localhost:8080/",
     "height": 1000
    },
    "id": "M-br_ljz6_r9",
    "outputId": "82968dc7-6fb9-41db-f40c-7b1811851f41"
   },
   "outputs": [
    {
     "data": {
      "image/png": "[encoded data removed]",
      "text/plain": [
       "<Figure size 640x480 with 1 Axes>"
      ]
     },
     "metadata": {},
     "output_type": "display_data"
    },
    {
     "data": {
      "image/png": "[encoded data removed]",
      "text/plain": [
       "<Figure size 640x480 with 1 Axes>"
      ]
     },
     "metadata": {},
     "output_type": "display_data"
    },
    {
     "data": {
      "image/png": "[encoded data removed]",
      "text/plain": [
       "<Figure size 640x480 with 1 Axes>"
      ]
     },
     "metadata": {},
     "output_type": "display_data"
    },
    {
     "data": {
      "image/png": "[encoded data removed]",
      "text/plain": [
       "<Figure size 640x480 with 1 Axes>"
      ]
     },
     "metadata": {},
     "output_type": "display_data"
    },
    {
     "data": {
      "image/png": "[encoded data removed]",
      "text/plain": [
       "<Figure size 640x480 with 1 Axes>"
      ]
     },
     "metadata": {},
     "output_type": "display_data"
    }
   ],
   "source": [
    "import random\n",
    "import numpy as np\n",
    "\n",
    "import matplotlib.pyplot as plt\n",
    "from typing import Any\n",
    "\n",
    "#random.seed(0)\n",
    "\n",
    "def showProbabilityAsHistogram(lst : List[Any], title: str='')->None:\n",
    "  counts, edges, bars = plt.hist(lst)\n",
    "  plt.bar_label(bars)\n",
    "  plt.title(title)\n",
    "  plt.show()\n",
    "\n",
    "elements = [\"earth\", \"air\", \"fire\", \"water\"]\n",
    "numbers = list(range(100))\n",
    "\n",
    "# generate numbers with equal probability for each number \n",
    "showProbabilityAsHistogram(random.choices(elements, k=1000), 'random.choices')\n",
    "\n",
    "# generate numbers with equal probability for each number \n",
    "showProbabilityAsHistogram(random.choices(numbers, k=1000), 'random.choices')\n",
    "\n",
    "# generate numbers with equal probability for each number \n",
    "showProbabilityAsHistogram([random.randint(1, 100) for _ in range(100)], 'random.randint')\n",
    "\n",
    "# generate numbers with equal probability for each number \n",
    "showProbabilityAsHistogram([random.random() for _ in range(100)], 'random.random')\n",
    "\n",
    "# random samples from a normal (Gaussian) distribution\n",
    "showProbabilityAsHistogram(np.random.normal(500, 100, 1000), 'np.random.normal')"
   ]
  },
  {
   "cell_type": "markdown",
   "metadata": {
    "id": "j7bVqexB4RnI"
   },
   "source": [
    "## p15. Selecting Random Values"
   ]
  },
  {
   "cell_type": "code",
   "execution_count": null,
   "metadata": {
    "colab": {
     "base_uri": "https://localhost:8080/"
    },
    "id": "J9KY58U75VKl",
    "outputId": "947347ed-bf7d-460e-cd44-ae0a0da062b0"
   },
   "outputs": [
    {
     "name": "stdout",
     "output_type": "stream",
     "text": [
      "�\u0003]q\u0000(X\u0004\u0000\u0000\u00002♠q\u0001X\u0004\u0000\u0000\u00003♠q\u0002X\u0004\u0000\u0000\u00004♠q\u0003X\u0004\u0000\u0000\u00005♠q\u0004X\u0004\u0000\u0000\u00006♠q\u0005X\u0004\u0000\u0000\u00007♠q\u0006X\u0004\u0000\u0000\u00008♠q\u0007X\u0004\u0000\u0000\u00009♠X\u0005\u0000\u0000\u000010♠q\tX\u0004\u0000\u0000\u0000J♠q\n",
      "X\u0004\u0000\u0000\u00002♥q\u000eX\u0004\u0000\u0000\u00003♥q\u000fX\u0004\u0000\u0000\u00004♥q\u0010X\u0004\u0000\u0000\u00005♥q\u0011X\u0004\u0000\u0000\u00006♥q\u0012X\u0004\u0000\u0000\u00007♥q\u0013X\u0004\u0000\u0000\u00008♥q\u0014X\u0004\u0000\u0000\u00009♥q\u0015X\u0005\u0000\u0000\u000010♥q\u0016X\u0004\u0000\u0000\u0000J♥q\u0017X\u0004\u0000\u0000\u0000K♥q\u0018X\u0004\u0000\u0000\u0000Q♥q\u0019X\u0004\u0000\u0000\u0000A♥q\u001aX\u0004\u0000\u0000\u00002♣q\u001bX\u0004\u0000\u0000\u00003♣q\u001c",
      "X\u0004\u0000\u0000\u00004♣q\u001d",
      "X\u0004\u0000\u0000\u00005♣q\u001e",
      "X\u0004\u0000\u0000\u00006♣q\u001fX\u0004\u0000\u0000\u00007♣q X\u0004\u0000\u0000\u00008♣q!X\u0004\u0000\u0000\u00009♣q\"X\u0005\u0000\u0000\u000010♣q#X\u0004\u0000\u0000\u0000J♣q$X\u0004\u0000\u0000\u0000K♣q%X\u0004\u0000\u0000\u0000Q♣q&X\u0004\u0000\u0000\u0000A♣q'X\u0004\u0000\u0000\u00002♦q(X\u0004\u0000\u0000\u00003♦q)X\u0004\u0000\u0000\u00004♦q*X\u0004\u0000\u0000\u00005♦q+X\u0004\u0000\u0000\u00006♦q,X\u0004\u0000\u0000\u00007♦q-X\u0004\u0000\u0000\u00008♦q.X\u0004\u0000\u0000\u00009♦q/X\u0005\u0000\u0000\u000010♦q0X\u0004\u0000\u0000\u0000J♦q1X\u0004\u0000\u0000\u0000K♦q2X\u0004\u0000\u0000\u0000Q♦q3X\u0004\u0000\u0000\u0000A♦q4e."
     ]
    }
   ],
   "source": [
    "!cat /content/gdrive/MyDrive/DeckOfCardsList.dat"
   ]
  },
  {
   "cell_type": "code",
   "execution_count": null,
   "metadata": {
    "colab": {
     "base_uri": "https://localhost:8080/"
    },
    "id": "CuZAsrTb4RBT",
    "outputId": "84207348-8b34-483b-8113-6334fb1b21f4"
   },
   "outputs": [
    {
     "name": "stdout",
     "output_type": "stream",
     "text": [
      "['2♠', '3♠', '4♠', '5♠', '6♠', '7♠', '8♠', '9♠', '10♠', 'J♠', 'K♠', 'Q♠', 'A♠', '2♥', '3♥', '4♥', '5♥', '6♥', '7♥', '8♥', '9♥', '10♥', 'J♥', 'K♥', 'Q♥', 'A♥', '2♣', '3♣', '4♣', '5♣', '6♣', '7♣', '8♣', '9♣', '10♣', 'J♣', 'K♣', 'Q♣', 'A♣', '2♦', '3♦', '4♦', '5♦', '6♦', '7♦', '8♦', '9♦', '10♦', 'J♦', 'K♦', 'Q♦', 'A♦']\n",
      "\n",
      "['5♦', '9♥', '3♦', 'Q♥', 'K♠']\n"
     ]
    }
   ],
   "source": [
    "import random\n",
    "import pickle\n",
    "\n",
    "fileName = '/content/gdrive/MyDrive/DeckOfCardsList.dat'\n",
    "\n",
    "with open(fileName, 'rb') as infile:\n",
    "  deckOfCards = pickle.load(infile)\n",
    "\n",
    "print(deckOfCards)\n",
    "print()\n",
    "pokerHand = random.sample(deckOfCards, 5)\n",
    "print(pokerHand)"
   ]
  },
  {
   "cell_type": "markdown",
   "metadata": {
    "id": "9fgcLU2reahl"
   },
   "source": [
    "## p18. Recursion"
   ]
  },
  {
   "cell_type": "code",
   "execution_count": null,
   "metadata": {
    "colab": {
     "base_uri": "https://localhost:8080/"
    },
    "id": "DoKo3wWr_whP",
    "outputId": "5b1eced7-d11f-4b06-b5fa-2fced4cbf624"
   },
   "outputs": [
    {
     "name": "stdout",
     "output_type": "stream",
     "text": [
      "2 2\n",
      "5 5\n",
      "5 5\n",
      "10 10\n",
      "1 1\n"
     ]
    }
   ],
   "source": [
    "def gcd(a, b):\n",
    "  if b == 0:\n",
    "    return a\n",
    "  return gcd(b, a%b)\n",
    "\n",
    "def gcd2(a, b):\n",
    "  while b!=0:\n",
    "    a, b = b, a % b\n",
    "  return a\n",
    "\n",
    "\n",
    "for a, b in [ (4, 6), (10, 15), (10, 35), (20, 30), (2, 31) ]:\n",
    "  print(gcd(a, b), gcd2(a, b))"
   ]
  },
  {
   "cell_type": "markdown",
   "metadata": {
    "id": "cI42-WTiDKZQ"
   },
   "source": [
    "## p22. Recursion"
   ]
  },
  {
   "cell_type": "code",
   "execution_count": null,
   "metadata": {
    "colab": {
     "base_uri": "https://localhost:8080/"
    },
    "id": "Ch5ZVOAsDKA5",
    "outputId": "1d748c02-e07c-4260-928b-161ff9c2d833"
   },
   "outputs": [
    {
     "name": "stdout",
     "output_type": "stream",
     "text": [
      "True True True\n",
      "True True True\n",
      "True True True\n",
      "True True True\n",
      "False False False\n",
      "True True True\n",
      "False False False\n",
      "True True True\n",
      "False False False\n"
     ]
    }
   ],
   "source": [
    "def isPalindrome(word :str) -> bool:\n",
    "  '''\n",
    "  Convert all letters to lowercase.\n",
    "  '''\n",
    "  word = word.lower()\n",
    "  # Words of zero or one letters are palindromes.\n",
    "  if len(word) <= 1:\n",
    "    return True\n",
    "  elif word[0] == word[-1]: # First and last letters match.\n",
    "    # Remove first and last letters.\n",
    "    word = word[1:-1]\n",
    "    return isPalindrome(word)\n",
    "  else:\n",
    "    return False\n",
    "\n",
    "def isPalindrome2(s: str):\n",
    "    # Implement your code \n",
    "    # Return true if s is palladium, false otherwise.\n",
    "    middle = len(s)//2\n",
    "    if len(s) % 2 == 0:\n",
    "      return s[:middle] == s[:middle-1:-1]\n",
    "    else:\n",
    "      return s[:middle] == s[:middle:-1]\n",
    "\n",
    "def isPalindrome3(word):\n",
    "    return word.lower() == word.lower()[::-1]\n",
    "\n",
    "input_strings = ['', 'a', 'abccba', 'racecar', 'hello', 'madam', 'python', 'level', 'world']  \n",
    "\n",
    "for s in input_strings:\n",
    "  print(isPalindrome(s), isPalindrome2(s), isPalindrome3(s))\n"
   ]
  }
 ],
 "metadata": {
  "colab": {
   "provenance": []
  },
  "kernelspec": {
   "display_name": "Python 3 (ipykernel)",
   "language": "python",
   "name": "python3"
  },
  "language_info": {
   "codemirror_mode": {
    "name": "ipython",
    "version": 3
   },
   "file_extension": ".py",
   "mimetype": "text/x-python",
   "name": "python",
   "nbconvert_exporter": "python",
   "pygments_lexer": "ipython3",
   "version": "3.10.10"
  }
 },
 "nbformat": 4,
 "nbformat_minor": 4
}
