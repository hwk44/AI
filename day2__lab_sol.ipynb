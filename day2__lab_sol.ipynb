{
 "cells": [
  {
   "cell_type": "markdown",
   "metadata": {
    "id": "ZYJeA4fpcGNk"
   },
   "source": [
    "# Lab3"
   ]
  },
  {
   "cell_type": "markdown",
   "metadata": {
    "id": "0AZqhmeccW7p"
   },
   "source": [
    "1. Write a program that takes a number from the user and determines whether it's even or odd.\n",
    "\n",
    "\toutput: odd or even\n",
    "\n",
    "\n"
   ]
  },
  {
   "cell_type": "code",
   "execution_count": null,
   "metadata": {
    "colab": {
     "base_uri": "https://localhost:8080/"
    },
    "id": "SBUQ1WRTc1Nz",
    "outputId": "8d9072c0-4116-4ad0-ab16-853471a8cd53"
   },
   "outputs": [
    {
     "name": "stdout",
     "output_type": "stream",
     "text": [
      "6\n",
      "even\n"
     ]
    }
   ],
   "source": [
    "num = int(input())\n",
    "if (num % 2) == 0:\n",
    "  print('even')\n",
    "else:\n",
    "  print('odd')"
   ]
  },
  {
   "cell_type": "markdown",
   "metadata": {
    "id": "mGbPfQJEc5pl"
   },
   "source": [
    "2. Write a program that takes three numbers from the user and determines the largest of the three.\n",
    "\n",
    "\n"
   ]
  },
  {
   "cell_type": "code",
   "execution_count": null,
   "metadata": {
    "colab": {
     "base_uri": "https://localhost:8080/"
    },
    "id": "mGAC-9rSc7Qd",
    "outputId": "49679840-2c19-48cc-baac-31b037e795c8"
   },
   "outputs": [
    {
     "name": "stdout",
     "output_type": "stream",
     "text": [
      "7\n",
      "5\n",
      "9\n",
      "largest 9\n"
     ]
    }
   ],
   "source": [
    "a = int(input())\n",
    "b = int(input())\n",
    "c = int(input())\n",
    "\n",
    "largest = a\n",
    "\n",
    "if largest < b:\n",
    "  largest = b\n",
    "if largest < c:\n",
    "  largest = c\n",
    "print('largest', largest)"
   ]
  },
  {
   "cell_type": "markdown",
   "metadata": {
    "id": "INqFk2K5c7ks"
   },
   "source": [
    "5\n",
    "3. Write a program that reads an integer as input and determines if it is a multiple of both 3 and 5.\n",
    "\n",
    "\toutput: multiple or not multiple\n",
    "\n"
   ]
  },
  {
   "cell_type": "code",
   "execution_count": null,
   "metadata": {
    "colab": {
     "base_uri": "https://localhost:8080/"
    },
    "id": "B2c46qWfc8z0",
    "outputId": "1a1d2357-6c06-4333-c95b-10c0998d84de"
   },
   "outputs": [
    {
     "name": "stdout",
     "output_type": "stream",
     "text": [
      "15\n",
      "multiple\n"
     ]
    }
   ],
   "source": [
    "num = int(input())\n",
    "if (num % 3==0) and (num % 5 == 0):\n",
    "  print('multiple')\n",
    "else:\n",
    "  print('not multiple')"
   ]
  },
  {
   "cell_type": "markdown",
   "metadata": {
    "id": "jAEoPcBXc9kM"
   },
   "source": [
    "\n",
    "4. Write a Python program that takes three numbers as input and determines whether they form a Pythagorean triple.\n",
    "\n",
    "\toutput: pythagorean or not pythagorean"
   ]
  },
  {
   "cell_type": "code",
   "execution_count": null,
   "metadata": {
    "colab": {
     "base_uri": "https://localhost:8080/"
    },
    "id": "nJN7nZ1Nc-ad",
    "outputId": "c3db1a20-32a8-41a8-8592-d5d60983be91"
   },
   "outputs": [
    {
     "name": "stdout",
     "output_type": "stream",
     "text": [
      "3\n",
      "4\n",
      "5\n",
      "pythagorean\n"
     ]
    }
   ],
   "source": [
    "a = int(input())\n",
    "b = int(input())\n",
    "c = int(input())\n",
    "\n",
    "if (a**2 + b**2) == c**2:\n",
    "  print('pythagorean')\n",
    "else:\n",
    "  print('not pythagorean')"
   ]
  },
  {
   "cell_type": "markdown",
   "metadata": {
    "id": "EkRNBCyLctUY"
   },
   "source": [
    "5. Write a Python program that takes a user's weight and height as input and calculates their body mass index (BMI). \n",
    "\n",
    "\toutput: < 18.5 : underweight, 18.5 - 24.9 normal weight, <= 25.0 overweight\n",
    "\n",
    "\n",
    "\n",
    "\n"
   ]
  },
  {
   "cell_type": "code",
   "execution_count": null,
   "metadata": {
    "colab": {
     "base_uri": "https://localhost:8080/"
    },
    "id": "BxdeHEF_cB3C",
    "outputId": "81738cf2-ffb7-43ad-d5db-c2270829f307"
   },
   "outputs": [
    {
     "name": "stdout",
     "output_type": "stream",
     "text": [
      "1.8\n",
      "75\n",
      "normal weight\n"
     ]
    }
   ],
   "source": [
    "height = float(input())\n",
    "kg = float(input())\n",
    "\n",
    "bmi = kg / (height**2)\n",
    "\n",
    "if bmi < 18.5:\n",
    "  print('underweight')\n",
    "elif 18.5 <= bmi < 25:\n",
    "  print('normal weight')\n",
    "else:\n",
    "  print('overweight')"
   ]
  },
  {
   "cell_type": "markdown",
   "metadata": {
    "id": "tdJa-fe6Lu_N"
   },
   "source": [
    "6. Write a Python program that takes two strings as input and determines whether they are anagrams. If the two strings are anagrams (i.e., they have the same letters in a different order)\n",
    "\n",
    "  output: anagrams or not anagrams"
   ]
  },
  {
   "cell_type": "code",
   "execution_count": null,
   "metadata": {
    "colab": {
     "base_uri": "https://localhost:8080/"
    },
    "id": "4CuQ-rftL-3y",
    "outputId": "de76f780-902d-415b-f111-6ca79a6da07e"
   },
   "outputs": [
    {
     "name": "stdout",
     "output_type": "stream",
     "text": [
      "bored\n",
      "robed\n",
      "bdeor\n",
      "bdeor\n",
      "anagrams\n"
     ]
    }
   ],
   "source": [
    "# bored = robed\n",
    "str1 = input()\n",
    "str2 = input()\n",
    "\n",
    "str1 = ''.join(sorted(str1))\n",
    "str2 = ''.join(sorted(str2))\n",
    "\n",
    "print(str1)\n",
    "print(str2)\n",
    "if str1 == str2:\n",
    "  print('anagrams')\n",
    "else:\n",
    "  print('not anagrams')"
   ]
  },
  {
   "cell_type": "markdown",
   "metadata": {
    "id": "9fgcLU2reahl"
   },
   "source": [
    "# Lab4"
   ]
  },
  {
   "cell_type": "markdown",
   "metadata": {
    "id": "dI9p5_rNec8G"
   },
   "source": [
    "1. Write a program to find the sum of all numbers between 1 and 100 that are divisible by 7 using a while loop."
   ]
  },
  {
   "cell_type": "code",
   "execution_count": null,
   "metadata": {
    "colab": {
     "base_uri": "https://localhost:8080/"
    },
    "id": "nvheaxJOedT9",
    "outputId": "4d03d654-ee61-4252-d7c9-1afda96a95e9"
   },
   "outputs": [
    {
     "name": "stdout",
     "output_type": "stream",
     "text": [
      "735\n"
     ]
    }
   ],
   "source": [
    "s = 0\n",
    "for i in range(1, 101):\n",
    "  if i % 7 == 0:\n",
    "    s += i\n",
    "print(s)"
   ]
  },
  {
   "cell_type": "markdown",
   "metadata": {
    "id": "wDOVnwLTee8p"
   },
   "source": [
    "2. Write a program that prints the multiplication table for a given number using a for loop."
   ]
  },
  {
   "cell_type": "code",
   "execution_count": null,
   "metadata": {
    "colab": {
     "base_uri": "https://localhost:8080/"
    },
    "id": "YeC_cgT3ee8q",
    "outputId": "2dc254eb-5dc4-430e-e4ee-1ff6e3da29a7"
   },
   "outputs": [
    {
     "name": "stdout",
     "output_type": "stream",
     "text": [
      "5\n",
      "5 x 1 = 5\n",
      "5 x 2 = 10\n",
      "5 x 3 = 15\n",
      "5 x 4 = 20\n",
      "5 x 5 = 25\n",
      "5 x 6 = 30\n",
      "5 x 7 = 35\n",
      "5 x 8 = 40\n",
      "5 x 9 = 45\n"
     ]
    }
   ],
   "source": [
    "N = int(input())\n",
    "for i in range(1, 10):\n",
    "  print('{} x {} = {}'.format(N, i , N*i))"
   ]
  },
  {
   "cell_type": "markdown",
   "metadata": {
    "id": "J5zjEzX3efP0"
   },
   "source": [
    "3. Write a program that reads a positive integer and checks if it's a prime number using a for loop."
   ]
  },
  {
   "cell_type": "code",
   "execution_count": null,
   "metadata": {
    "colab": {
     "base_uri": "https://localhost:8080/"
    },
    "id": "Q7DxZNeGefP0",
    "outputId": "084dc2fb-ff08-44c9-c00f-c8b02b113f48"
   },
   "outputs": [
    {
     "name": "stdout",
     "output_type": "stream",
     "text": [
      "13\n",
      "True\n"
     ]
    }
   ],
   "source": [
    "num = int(input())\n",
    "\n",
    "isPrime = True\n",
    "for i in range(2, num):\n",
    "  if num % i == 0:\n",
    "    isPrime = False\n",
    "    break\n",
    "print(isPrime)"
   ]
  },
  {
   "cell_type": "markdown",
   "metadata": {
    "id": "P5k8YQd9dmUT"
   },
   "source": [
    "4. Write a program that reads a string and reverses it using a loop. The program should also count and display the number of vowels in the string.\n"
   ]
  },
  {
   "cell_type": "code",
   "execution_count": null,
   "metadata": {
    "colab": {
     "base_uri": "https://localhost:8080/"
    },
    "id": "EBIwt03Kdnpp",
    "outputId": "44b01a57-2b33-4ac1-85f9-27800f467f22"
   },
   "outputs": [
    {
     "name": "stdout",
     "output_type": "stream",
     "text": [
      "hello\n",
      "olleh 2\n"
     ]
    }
   ],
   "source": [
    "s = input()\n",
    "vowel = 'aeiou'\n",
    "s_reverse=[]\n",
    "vowel_cnt=0\n",
    "for i in range(1, len(s)+1):\n",
    "  #print(s[-i])\n",
    "  s_reverse.append(s[-i])\n",
    "  if s[-i] in vowel:\n",
    "    vowel_cnt += 1\n",
    "s_reverse = ''.join(s_reverse)\n",
    "print(s_reverse, vowel_cnt)"
   ]
  },
  {
   "cell_type": "markdown",
   "metadata": {
    "id": "mPv8F8IDdsNB"
   },
   "source": [
    "5. Write a program that prints the following patterns using loops:\n",
    "\n",
    "```\n",
    "*****\n",
    " ****\n",
    "  ***\n",
    "   **\n",
    "    *\n",
    "```"
   ]
  },
  {
   "cell_type": "code",
   "execution_count": null,
   "metadata": {
    "colab": {
     "base_uri": "https://localhost:8080/"
    },
    "id": "tXDgAKGadyDx",
    "outputId": "7b3f1224-a017-4d89-bbea-20ac7ef2b4bf"
   },
   "outputs": [
    {
     "name": "stdout",
     "output_type": "stream",
     "text": [
      "*****\n",
      " ****\n",
      "  ***\n",
      "   **\n",
      "    *\n"
     ]
    }
   ],
   "source": [
    "N = 5\n",
    "for i in range(N):\n",
    "  print(' '*(i) + '*'*(N-i) )"
   ]
  },
  {
   "cell_type": "markdown",
   "metadata": {
    "id": "aTfwJbtWeNxR"
   },
   "source": [
    "6. Create a shopping list program that allows the user to add item names to the list, remove items, and display the list using loops. The program should continuously ask the user for input until they choose to exit.\n",
    "\n",
    "\n",
    "```\n",
    "Choose an option:\n",
    "1. Add item name\n",
    "2. Remove item by name\n",
    "3. Display list\n",
    "4. Exit\n",
    "```\n"
   ]
  },
  {
   "cell_type": "code",
   "execution_count": null,
   "metadata": {
    "colab": {
     "base_uri": "https://localhost:8080/"
    },
    "id": "APNy8a6ZeO6l",
    "outputId": "55357d21-db7f-4e24-d764-4a03dc89037d"
   },
   "outputs": [
    {
     "name": "stdout",
     "output_type": "stream",
     "text": [
      "Choose an option:\n",
      "  1. Add item name\n",
      "  2. Remove item by name\n",
      "  3. Display list\n",
      "  4. Exit\n",
      "1\n",
      "apple\n",
      "Choose an option:\n",
      "  1. Add item name\n",
      "  2. Remove item by name\n",
      "  3. Display list\n",
      "  4. Exit\n",
      "1\n",
      "banana\n",
      "Choose an option:\n",
      "  1. Add item name\n",
      "  2. Remove item by name\n",
      "  3. Display list\n",
      "  4. Exit\n",
      "3\n",
      "apple banana\n",
      "Choose an option:\n",
      "  1. Add item name\n",
      "  2. Remove item by name\n",
      "  3. Display list\n",
      "  4. Exit\n",
      "2\n",
      "banana\n",
      "Choose an option:\n",
      "  1. Add item name\n",
      "  2. Remove item by name\n",
      "  3. Display list\n",
      "  4. Exit\n",
      "3\n",
      "apple\n",
      "Choose an option:\n",
      "  1. Add item name\n",
      "  2. Remove item by name\n",
      "  3. Display list\n",
      "  4. Exit\n",
      "4\n"
     ]
    }
   ],
   "source": [
    "items = []\n",
    "while True:\n",
    "  print('''Choose an option:\n",
    "  1. Add item name\n",
    "  2. Remove item by name\n",
    "  3. Display list\n",
    "  4. Exit''')\n",
    "  N = int(input())\n",
    "  if N == 1:\n",
    "    name = input()\n",
    "    items.append(name)\n",
    "  elif N == 2:\n",
    "    name = input()\n",
    "    if name in items:\n",
    "      items.remove(name)\n",
    "  elif N == 3:\n",
    "    print(*items)\n",
    "  elif N == 4:\n",
    "    break;\n",
    "    \n",
    "\n",
    "  "
   ]
  },
  {
   "cell_type": "code",
   "execution_count": null,
   "metadata": {
    "id": "jDIjBUjQU4jq"
   },
   "outputs": [],
   "source": []
  }
 ],
 "metadata": {
  "colab": {
   "provenance": [],
   "toc_visible": true
  },
  "kernelspec": {
   "display_name": "Python 3 (ipykernel)",
   "language": "python",
   "name": "python3"
  },
  "language_info": {
   "codemirror_mode": {
    "name": "ipython",
    "version": 3
   },
   "file_extension": ".py",
   "mimetype": "text/x-python",
   "name": "python",
   "nbconvert_exporter": "python",
   "pygments_lexer": "ipython3",
   "version": "3.10.10"
  }
 },
 "nbformat": 4,
 "nbformat_minor": 4
}
