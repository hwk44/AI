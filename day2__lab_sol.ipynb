{
  "nbformat": 4,
  "nbformat_minor": 0,
  "metadata": {
    "colab": {
      "provenance": [],
      "toc_visible": true
    },
    "kernelspec": {
      "name": "python3",
      "display_name": "Python 3"
    },
    "language_info": {
      "name": "python"
    }
  },
  "cells": [
    {
      "cell_type": "markdown",
      "source": [
        "# Lab3"
      ],
      "metadata": {
        "id": "ZYJeA4fpcGNk"
      }
    },
    {
      "cell_type": "markdown",
      "source": [
        "1. Write a program that takes a number from the user and determines whether it's even or odd.\n",
        "\n",
        "\toutput: odd or even\n",
        "\n",
        "\n"
      ],
      "metadata": {
        "id": "0AZqhmeccW7p"
      }
    },
    {
      "cell_type": "code",
      "source": [
        "num = int(input())\n",
        "if (num % 2) == 0:\n",
        "  print('even')\n",
        "else:\n",
        "  print('odd')"
      ],
      "metadata": {
        "id": "SBUQ1WRTc1Nz",
        "colab": {
          "base_uri": "https://localhost:8080/"
        },
        "outputId": "8d9072c0-4116-4ad0-ab16-853471a8cd53"
      },
      "execution_count": null,
      "outputs": [
        {
          "output_type": "stream",
          "name": "stdout",
          "text": [
            "6\n",
            "even\n"
          ]
        }
      ]
    },
    {
      "cell_type": "markdown",
      "source": [
        "2. Write a program that takes three numbers from the user and determines the largest of the three.\n",
        "\n",
        "\n"
      ],
      "metadata": {
        "id": "mGbPfQJEc5pl"
      }
    },
    {
      "cell_type": "code",
      "source": [
        "a = int(input())\n",
        "b = int(input())\n",
        "c = int(input())\n",
        "\n",
        "largest = a\n",
        "\n",
        "if largest < b:\n",
        "  largest = b\n",
        "if largest < c:\n",
        "  largest = c\n",
        "print('largest', largest)"
      ],
      "metadata": {
        "id": "mGAC-9rSc7Qd",
        "colab": {
          "base_uri": "https://localhost:8080/"
        },
        "outputId": "49679840-2c19-48cc-baac-31b037e795c8"
      },
      "execution_count": null,
      "outputs": [
        {
          "output_type": "stream",
          "name": "stdout",
          "text": [
            "7\n",
            "5\n",
            "9\n",
            "largest 9\n"
          ]
        }
      ]
    },
    {
      "cell_type": "markdown",
      "source": [
        "5\n",
        "3. Write a program that reads an integer as input and determines if it is a multiple of both 3 and 5.\n",
        "\n",
        "\toutput: multiple or not multiple\n",
        "\n"
      ],
      "metadata": {
        "id": "INqFk2K5c7ks"
      }
    },
    {
      "cell_type": "code",
      "source": [
        "num = int(input())\n",
        "if (num % 3==0) and (num % 5 == 0):\n",
        "  print('multiple')\n",
        "else:\n",
        "  print('not multiple')"
      ],
      "metadata": {
        "id": "B2c46qWfc8z0",
        "colab": {
          "base_uri": "https://localhost:8080/"
        },
        "outputId": "1a1d2357-6c06-4333-c95b-10c0998d84de"
      },
      "execution_count": null,
      "outputs": [
        {
          "output_type": "stream",
          "name": "stdout",
          "text": [
            "15\n",
            "multiple\n"
          ]
        }
      ]
    },
    {
      "cell_type": "markdown",
      "source": [
        "\n",
        "4. Write a Python program that takes three numbers as input and determines whether they form a Pythagorean triple.\n",
        "\n",
        "\toutput: pythagorean or not pythagorean"
      ],
      "metadata": {
        "id": "jAEoPcBXc9kM"
      }
    },
    {
      "cell_type": "code",
      "source": [
        "a = int(input())\n",
        "b = int(input())\n",
        "c = int(input())\n",
        "\n",
        "if (a**2 + b**2) == c**2:\n",
        "  print('pythagorean')\n",
        "else:\n",
        "  print('not pythagorean')"
      ],
      "metadata": {
        "id": "nJN7nZ1Nc-ad",
        "colab": {
          "base_uri": "https://localhost:8080/"
        },
        "outputId": "c3db1a20-32a8-41a8-8592-d5d60983be91"
      },
      "execution_count": null,
      "outputs": [
        {
          "output_type": "stream",
          "name": "stdout",
          "text": [
            "3\n",
            "4\n",
            "5\n",
            "pythagorean\n"
          ]
        }
      ]
    },
    {
      "cell_type": "markdown",
      "source": [
        "5. Write a Python program that takes a user's weight and height as input and calculates their body mass index (BMI). \n",
        "\n",
        "\toutput: < 18.5 : underweight, 18.5 - 24.9 normal weight, <= 25.0 overweight\n",
        "\n",
        "\n",
        "\n",
        "\n"
      ],
      "metadata": {
        "id": "EkRNBCyLctUY"
      }
    },
    {
      "cell_type": "code",
      "source": [
        "height = float(input())\n",
        "kg = float(input())\n",
        "\n",
        "bmi = kg / (height**2)\n",
        "\n",
        "if bmi < 18.5:\n",
        "  print('underweight')\n",
        "elif 18.5 <= bmi < 25:\n",
        "  print('normal weight')\n",
        "else:\n",
        "  print('overweight')"
      ],
      "metadata": {
        "id": "BxdeHEF_cB3C",
        "colab": {
          "base_uri": "https://localhost:8080/"
        },
        "outputId": "81738cf2-ffb7-43ad-d5db-c2270829f307"
      },
      "execution_count": null,
      "outputs": [
        {
          "output_type": "stream",
          "name": "stdout",
          "text": [
            "1.8\n",
            "75\n",
            "normal weight\n"
          ]
        }
      ]
    },
    {
      "cell_type": "markdown",
      "source": [
        "6. Write a Python program that takes two strings as input and determines whether they are anagrams. If the two strings are anagrams (i.e., they have the same letters in a different order)\n",
        "\n",
        "  output: anagrams or not anagrams"
      ],
      "metadata": {
        "id": "tdJa-fe6Lu_N"
      }
    },
    {
      "cell_type": "code",
      "source": [
        "# bored = robed\n",
        "str1 = input()\n",
        "str2 = input()\n",
        "\n",
        "str1 = ''.join(sorted(str1))\n",
        "str2 = ''.join(sorted(str2))\n",
        "\n",
        "print(str1)\n",
        "print(str2)\n",
        "if str1 == str2:\n",
        "  print('anagrams')\n",
        "else:\n",
        "  print('not anagrams')"
      ],
      "metadata": {
        "id": "4CuQ-rftL-3y",
        "colab": {
          "base_uri": "https://localhost:8080/"
        },
        "outputId": "de76f780-902d-415b-f111-6ca79a6da07e"
      },
      "execution_count": null,
      "outputs": [
        {
          "output_type": "stream",
          "name": "stdout",
          "text": [
            "bored\n",
            "robed\n",
            "bdeor\n",
            "bdeor\n",
            "anagrams\n"
          ]
        }
      ]
    },
    {
      "cell_type": "markdown",
      "source": [
        "# Lab4"
      ],
      "metadata": {
        "id": "9fgcLU2reahl"
      }
    },
    {
      "cell_type": "markdown",
      "source": [
        "1. Write a program to find the sum of all numbers between 1 and 100 that are divisible by 7 using a while loop."
      ],
      "metadata": {
        "id": "dI9p5_rNec8G"
      }
    },
    {
      "cell_type": "code",
      "source": [
        "s = 0\n",
        "for i in range(1, 101):\n",
        "  if i % 7 == 0:\n",
        "    s += i\n",
        "print(s)"
      ],
      "metadata": {
        "id": "nvheaxJOedT9",
        "colab": {
          "base_uri": "https://localhost:8080/"
        },
        "outputId": "4d03d654-ee61-4252-d7c9-1afda96a95e9"
      },
      "execution_count": null,
      "outputs": [
        {
          "output_type": "stream",
          "name": "stdout",
          "text": [
            "735\n"
          ]
        }
      ]
    },
    {
      "cell_type": "markdown",
      "source": [
        "2. Write a program that prints the multiplication table for a given number using a for loop."
      ],
      "metadata": {
        "id": "wDOVnwLTee8p"
      }
    },
    {
      "cell_type": "code",
      "source": [
        "N = int(input())\n",
        "for i in range(1, 10):\n",
        "  print('{} x {} = {}'.format(N, i , N*i))"
      ],
      "metadata": {
        "id": "YeC_cgT3ee8q",
        "colab": {
          "base_uri": "https://localhost:8080/"
        },
        "outputId": "2dc254eb-5dc4-430e-e4ee-1ff6e3da29a7"
      },
      "execution_count": null,
      "outputs": [
        {
          "output_type": "stream",
          "name": "stdout",
          "text": [
            "5\n",
            "5 x 1 = 5\n",
            "5 x 2 = 10\n",
            "5 x 3 = 15\n",
            "5 x 4 = 20\n",
            "5 x 5 = 25\n",
            "5 x 6 = 30\n",
            "5 x 7 = 35\n",
            "5 x 8 = 40\n",
            "5 x 9 = 45\n"
          ]
        }
      ]
    },
    {
      "cell_type": "markdown",
      "source": [
        "3. Write a program that reads a positive integer and checks if it's a prime number using a for loop."
      ],
      "metadata": {
        "id": "J5zjEzX3efP0"
      }
    },
    {
      "cell_type": "code",
      "source": [
        "num = int(input())\n",
        "\n",
        "isPrime = True\n",
        "for i in range(2, num):\n",
        "  if num % i == 0:\n",
        "    isPrime = False\n",
        "    break\n",
        "print(isPrime)"
      ],
      "metadata": {
        "id": "Q7DxZNeGefP0",
        "colab": {
          "base_uri": "https://localhost:8080/"
        },
        "outputId": "084dc2fb-ff08-44c9-c00f-c8b02b113f48"
      },
      "execution_count": null,
      "outputs": [
        {
          "output_type": "stream",
          "name": "stdout",
          "text": [
            "13\n",
            "True\n"
          ]
        }
      ]
    },
    {
      "cell_type": "markdown",
      "source": [
        "4. Write a program that reads a string and reverses it using a loop. The program should also count and display the number of vowels in the string.\n"
      ],
      "metadata": {
        "id": "P5k8YQd9dmUT"
      }
    },
    {
      "cell_type": "code",
      "source": [
        "s = input()\n",
        "vowel = 'aeiou'\n",
        "s_reverse=[]\n",
        "vowel_cnt=0\n",
        "for i in range(1, len(s)+1):\n",
        "  #print(s[-i])\n",
        "  s_reverse.append(s[-i])\n",
        "  if s[-i] in vowel:\n",
        "    vowel_cnt += 1\n",
        "s_reverse = ''.join(s_reverse)\n",
        "print(s_reverse, vowel_cnt)"
      ],
      "metadata": {
        "id": "EBIwt03Kdnpp",
        "colab": {
          "base_uri": "https://localhost:8080/"
        },
        "outputId": "44b01a57-2b33-4ac1-85f9-27800f467f22"
      },
      "execution_count": null,
      "outputs": [
        {
          "output_type": "stream",
          "name": "stdout",
          "text": [
            "hello\n",
            "olleh 2\n"
          ]
        }
      ]
    },
    {
      "cell_type": "markdown",
      "source": [
        "5. Write a program that prints the following patterns using loops:\n",
        "\n",
        "```\n",
        "*****\n",
        " ****\n",
        "  ***\n",
        "   **\n",
        "    *\n",
        "```"
      ],
      "metadata": {
        "id": "mPv8F8IDdsNB"
      }
    },
    {
      "cell_type": "code",
      "source": [
        "N = 5\n",
        "for i in range(N):\n",
        "  print(' '*(i) + '*'*(N-i) )"
      ],
      "metadata": {
        "id": "tXDgAKGadyDx",
        "colab": {
          "base_uri": "https://localhost:8080/"
        },
        "outputId": "7b3f1224-a017-4d89-bbea-20ac7ef2b4bf"
      },
      "execution_count": null,
      "outputs": [
        {
          "output_type": "stream",
          "name": "stdout",
          "text": [
            "*****\n",
            " ****\n",
            "  ***\n",
            "   **\n",
            "    *\n"
          ]
        }
      ]
    },
    {
      "cell_type": "markdown",
      "source": [
        "6. Create a shopping list program that allows the user to add item names to the list, remove items, and display the list using loops. The program should continuously ask the user for input until they choose to exit.\n",
        "\n",
        "\n",
        "```\n",
        "Choose an option:\n",
        "1. Add item name\n",
        "2. Remove item by name\n",
        "3. Display list\n",
        "4. Exit\n",
        "```\n"
      ],
      "metadata": {
        "id": "aTfwJbtWeNxR"
      }
    },
    {
      "cell_type": "code",
      "source": [
        "items = []\n",
        "while True:\n",
        "  print('''Choose an option:\n",
        "  1. Add item name\n",
        "  2. Remove item by name\n",
        "  3. Display list\n",
        "  4. Exit''')\n",
        "  N = int(input())\n",
        "  if N == 1:\n",
        "    name = input()\n",
        "    items.append(name)\n",
        "  elif N == 2:\n",
        "    name = input()\n",
        "    if name in items:\n",
        "      items.remove(name)\n",
        "  elif N == 3:\n",
        "    print(*items)\n",
        "  elif N == 4:\n",
        "    break;\n",
        "    \n",
        "\n",
        "  "
      ],
      "metadata": {
        "id": "APNy8a6ZeO6l",
        "colab": {
          "base_uri": "https://localhost:8080/"
        },
        "outputId": "55357d21-db7f-4e24-d764-4a03dc89037d"
      },
      "execution_count": null,
      "outputs": [
        {
          "name": "stdout",
          "output_type": "stream",
          "text": [
            "Choose an option:\n",
            "  1. Add item name\n",
            "  2. Remove item by name\n",
            "  3. Display list\n",
            "  4. Exit\n",
            "1\n",
            "apple\n",
            "Choose an option:\n",
            "  1. Add item name\n",
            "  2. Remove item by name\n",
            "  3. Display list\n",
            "  4. Exit\n",
            "1\n",
            "banana\n",
            "Choose an option:\n",
            "  1. Add item name\n",
            "  2. Remove item by name\n",
            "  3. Display list\n",
            "  4. Exit\n",
            "3\n",
            "apple banana\n",
            "Choose an option:\n",
            "  1. Add item name\n",
            "  2. Remove item by name\n",
            "  3. Display list\n",
            "  4. Exit\n",
            "2\n",
            "banana\n",
            "Choose an option:\n",
            "  1. Add item name\n",
            "  2. Remove item by name\n",
            "  3. Display list\n",
            "  4. Exit\n",
            "3\n",
            "apple\n",
            "Choose an option:\n",
            "  1. Add item name\n",
            "  2. Remove item by name\n",
            "  3. Display list\n",
            "  4. Exit\n",
            "4\n"
          ]
        }
      ]
    },
    {
      "cell_type": "code",
      "source": [],
      "metadata": {
        "id": "jDIjBUjQU4jq"
      },
      "execution_count": null,
      "outputs": []
    }
  ]
}