{
 "cells": [
  {
   "cell_type": "markdown",
   "metadata": {
    "id": "ZYJeA4fpcGNk"
   },
   "source": [
    "# Lab5"
   ]
  },
  {
   "cell_type": "markdown",
   "metadata": {
    "id": "0AZqhmeccW7p"
   },
   "source": [
    "\n",
    "\n",
    "## 1. Write your code according to the following instructions:\n",
    "\n",
    "* Create a list of integers and find the sum of all even numbers.\n",
    "* Add a new element to the end of the list.\n",
    "* Remove the first element from the list.\n",
    "* Sort the list in ascending order.\n",
    "\n",
    "\n",
    "\n",
    "\n",
    "\n",
    "\n"
   ]
  },
  {
   "cell_type": "code",
   "execution_count": 6,
   "metadata": {
    "id": "SBUQ1WRTc1Nz",
    "tags": []
   },
   "outputs": [
    {
     "name": "stdout",
     "output_type": "stream",
     "text": [
      "4950\n"
     ]
    },
    {
     "data": {
      "text/plain": [
       "[2,\n",
       " 3,\n",
       " 4,\n",
       " 5,\n",
       " 6,\n",
       " 7,\n",
       " 8,\n",
       " 9,\n",
       " 10,\n",
       " 11,\n",
       " 12,\n",
       " 13,\n",
       " 14,\n",
       " 15,\n",
       " 16,\n",
       " 17,\n",
       " 18,\n",
       " 19,\n",
       " 20,\n",
       " 21,\n",
       " 22,\n",
       " 23,\n",
       " 24,\n",
       " 25,\n",
       " 26,\n",
       " 27,\n",
       " 28,\n",
       " 29,\n",
       " 30,\n",
       " 31,\n",
       " 32,\n",
       " 33,\n",
       " 34,\n",
       " 35,\n",
       " 36,\n",
       " 37,\n",
       " 38,\n",
       " 39,\n",
       " 40,\n",
       " 41,\n",
       " 42,\n",
       " 43,\n",
       " 44,\n",
       " 45,\n",
       " 46,\n",
       " 47,\n",
       " 48,\n",
       " 49,\n",
       " 50,\n",
       " 51,\n",
       " 52,\n",
       " 53,\n",
       " 54,\n",
       " 55,\n",
       " 56,\n",
       " 57,\n",
       " 58,\n",
       " 59,\n",
       " 60,\n",
       " 61,\n",
       " 62,\n",
       " 63,\n",
       " 64,\n",
       " 65,\n",
       " 66,\n",
       " 67,\n",
       " 68,\n",
       " 69,\n",
       " 70,\n",
       " 71,\n",
       " 72,\n",
       " 73,\n",
       " 74,\n",
       " 75,\n",
       " 76,\n",
       " 77,\n",
       " 78,\n",
       " 79,\n",
       " 80,\n",
       " 81,\n",
       " 82,\n",
       " 83,\n",
       " 84,\n",
       " 85,\n",
       " 86,\n",
       " 87,\n",
       " 88,\n",
       " 89,\n",
       " 90,\n",
       " 91,\n",
       " 92,\n",
       " 93,\n",
       " 94,\n",
       " 95,\n",
       " 96,\n",
       " 97,\n",
       " 98,\n",
       " 99,\n",
       " 100]"
      ]
     },
     "execution_count": 6,
     "metadata": {},
     "output_type": "execute_result"
    }
   ],
   "source": [
    "# Create a list of integers\n",
    "lst = list(range(1, 100))\n",
    "sum = 0\n",
    "for i in lst:\n",
    "    sum += i\n",
    "print(sum)\n",
    "# sum\n",
    "\n",
    "lst.append(100)\n",
    "lst.remove(lst[0])\n",
    "lst\n"
   ]
  },
  {
   "cell_type": "markdown",
   "metadata": {
    "id": "mGbPfQJEc5pl",
    "tags": []
   },
   "source": [
    "## 2. Write your code according to the following instructions:\n",
    "\n",
    "* Create a tuple containing names of your three favorite fruits.\n",
    "* Use tuple unpacking to assign each fruit to a separate variable.\n",
    "* Create a new tuple by concatenating your favorite fruits with a tuple of your favorite vegetables.\n",
    "\n",
    "\n"
   ]
  },
  {
   "cell_type": "code",
   "execution_count": 19,
   "metadata": {
    "id": "mGAC-9rSc7Qd",
    "tags": []
   },
   "outputs": [
    {
     "name": "stdout",
     "output_type": "stream",
     "text": [
      "{'apple': 'carrot', 'banana': 'spinach', 'cherry': 'cabbage'}\n"
     ]
    }
   ],
   "source": [
    "# Create a tuple containing names of your three favorite fruits.\n",
    "fruits = (\"apple\", \"banana\", \"cherry\")\n",
    "vegetables = (\"carrot\", \"spinach\", \"cabbage\")\n",
    "\n",
    "fruits = list(fruits)\n",
    "vegetables = list(vegetables)\n",
    "dicti = {}\n",
    "for index, fruit in enumerate(fruits):\n",
    "    dicti.setdefault(fruit , vegetables[index] )\n",
    "    # print( index, fruit)\n",
    "print(dicti)\n",
    "\n"
   ]
  },
  {
   "cell_type": "markdown",
   "metadata": {
    "id": "INqFk2K5c7ks"
   },
   "source": [
    "## 3. Write your code according to the following instructions:\n",
    "\n",
    "* Create a list of strings and find the longest string.\n",
    "* Calculate the sum of a range of numbers from 1 to 100.\n",
    "* Using a list comprehension, create a list containing the squares of the numbers from 1 to 10.\n",
    "\n"
   ]
  },
  {
   "cell_type": "code",
   "execution_count": 25,
   "metadata": {
    "id": "B2c46qWfc8z0",
    "tags": []
   },
   "outputs": [
    {
     "name": "stdout",
     "output_type": "stream",
     "text": [
      "14\n",
      "5050\n"
     ]
    },
    {
     "data": {
      "text/plain": [
       "[1, 4, 9, 16, 25, 36, 49, 64, 81, 100]"
      ]
     },
     "execution_count": 25,
     "metadata": {},
     "output_type": "execute_result"
    }
   ],
   "source": [
    "# Create a list of strings\n",
    "strings = [\"apple\", \"banana\", \"A\", \"Hello\", \"Python is fun!\", \"pineapple\", \"blueberry\", ]\n",
    "\n",
    "max = 0\n",
    "for s in strings:\n",
    "    if max < len(s):\n",
    "        max = len(s)\n",
    "print(max)\n",
    "\n",
    "sum =0\n",
    "for i in range(1, 101):\n",
    "    sum+=i\n",
    "print(sum)\n",
    "      \n",
    "[i**2 for i in range(1, 11)]"
   ]
  },
  {
   "cell_type": "markdown",
   "metadata": {
    "id": "jAEoPcBXc9kM"
   },
   "source": [
    "\n",
    "## 4. Write your code according to the following instructions:\n",
    "\n",
    "* Create two lists, a and b, where b is a shallow copy of a.\n",
    "* Modify an element in a and observe the effect on b.\n",
    "* Repeat the process using a deep copy instead of a shallow copy."
   ]
  },
  {
   "cell_type": "code",
   "execution_count": 29,
   "metadata": {
    "id": "nJN7nZ1Nc-ad",
    "tags": []
   },
   "outputs": [
    {
     "name": "stdout",
     "output_type": "stream",
     "text": [
      "[1, 0, [3, 4]]\n",
      "[1, 2, [3, 4]]\n",
      "[1, 2, [3, 4]]\n"
     ]
    }
   ],
   "source": [
    "import copy\n",
    "# Create a list with variable name a\n",
    "a = [1, 2, [3, 4]]\n",
    "b= copy.copy(a)\n",
    "c= copy.deepcopy(a)\n",
    "a[1] = 0\n",
    "print(a)\n",
    "print(b)\n",
    "print(c)\n",
    "\n",
    "\n",
    "\n"
   ]
  },
  {
   "cell_type": "markdown",
   "metadata": {
    "id": "EkRNBCyLctUY"
   },
   "source": [
    "## 5 Write your code according to the following instructions:\n",
    "\n",
    "* Create a string containing a sentence.\n",
    "* Reverse the order of the words in the sentence.\n",
    "* Convert the sentence to uppercase.\n",
    "Replace a word in the sentence with another word.\n",
    "\n",
    "\n",
    "\n"
   ]
  },
  {
   "cell_type": "code",
   "execution_count": 32,
   "metadata": {
    "id": "BxdeHEF_cB3C",
    "tags": []
   },
   "outputs": [
    {
     "data": {
      "text/plain": [
       "'SENTENCE SAMPLE A IS THIS '"
      ]
     },
     "execution_count": 32,
     "metadata": {},
     "output_type": "execute_result"
    }
   ],
   "source": [
    "# Create a string containing a sentence.\n",
    "sentence = \"This is a sample sentence\"\n",
    "sen = sentence.split(\" \")\n",
    "sen.reverse()\n",
    "st= \"\"\n",
    "for s in sen:\n",
    "    st += s + \" \"\n",
    "st.upper()\n"
   ]
  },
  {
   "cell_type": "markdown",
   "metadata": {
    "id": "tdJa-fe6Lu_N"
   },
   "source": [
    "# 6. Palindrome Check\n",
    "\n",
    "A palindrome is a word, phrase, number, or other sequences of characters that reads the same forward and backward, ignoring spaces, punctuation, and capitalization. Write a function that checks if a given string is a palindrome."
   ]
  },
  {
   "cell_type": "code",
   "execution_count": null,
   "metadata": {
    "id": "rBaG-0MTRktW"
   },
   "outputs": [],
   "source": [
    "def is_palindrome(s: str):\n",
    "    # Implement your code \n",
    "    # Return true if s is palladium, false otherwise.\n",
    "\n",
    "\n",
    "input_strings = ['racecar', 'hello', 'madam', 'python', 'level', 'world']  \n",
    "\n"
   ]
  },
  {
   "cell_type": "markdown",
   "metadata": {
    "id": "9fgcLU2reahl"
   },
   "source": [
    "# Lab6"
   ]
  },
  {
   "cell_type": "markdown",
   "metadata": {
    "id": "dI9p5_rNec8G"
   },
   "source": [
    "## 1. Write your code according to the following instructions:\n",
    "\n",
    "* Create a list of numbers from 1 to 50.\n",
    "* Filter out all the numbers that are divisible by 3 and store them in a new list.\n",
    "* Calculate the sum of the remaining numbers in the original list.\n",
    "* Reverse the order of the elements in the original list."
   ]
  },
  {
   "cell_type": "code",
   "execution_count": 16,
   "metadata": {
    "id": "nvheaxJOedT9",
    "tags": []
   },
   "outputs": [
    {
     "name": "stdout",
     "output_type": "stream",
     "text": [
      "[3, 6, 9, 12, 15, 18, 21, 24, 27, 30, 33, 36, 39, 42, 45, 48]\n",
      "867\n",
      "[50, 49, 48, 47, 46, 45, 44, 43, 42, 41, 40, 39, 38, 37, 36, 35, 34, 33, 32, 31, 30, 29, 28, 27, 26, 25, 24, 23, 22, 21, 20, 19, 18, 17, 16, 15, 14, 13, 12, 11, 10, 9, 8, 7, 6, 5, 4, 3, 2, 1]\n",
      "[1, 2, 3, 4, 5, 6, 7, 8, 9, 10, 11, 12, 13, 14, 15, 16, 17, 18, 19, 20, 21, 22, 23, 24, 25, 26, 27, 28, 29, 30, 31, 32, 33, 34, 35, 36, 37, 38, 39, 40, 41, 42, 43, 44, 45, 46, 47, 48, 49, 50]\n"
     ]
    }
   ],
   "source": [
    "# Create a list of numbers from 1 to 50\n",
    "numbers = list(range(1, 51))\n",
    "# list_divided_3 = list(filter(lambda x : x % 3 == 0 , numbers))\n",
    "list_divided_3 = [n for n in numbers if n%3 == 0]\n",
    "remaining_numbers = [n for n in numbers if n not in list_divided_3]\n",
    "\n",
    "print(list_divided_3)\n",
    "\n",
    "s=[i for i in numbers if i not in list_divided_3]\n",
    "# for i in s:\n",
    "#     sum += i\n",
    "print(sum(s))\n",
    "print(list(reversed(numbers)))\n",
    "print(numbers)\n"
   ]
  },
  {
   "cell_type": "markdown",
   "metadata": {
    "id": "wDOVnwLTee8p"
   },
   "source": [
    "## 2. Write your code according to the following instructions:\n",
    "\n",
    "* Create a tuple containing 5 numbers.\n",
    "* Calculate the minimum, maximum, and average of the numbers in the tuple.\n",
    "* Create a new tuple by appending the calculated minimum, maximum, and average to the original tuple.\n",
    "* Use tuple unpacking to store the first three elements of the new tuple in separate variables."
   ]
  },
  {
   "cell_type": "code",
   "execution_count": 19,
   "metadata": {
    "id": "YeC_cgT3ee8q"
   },
   "outputs": [
    {
     "name": "stdout",
     "output_type": "stream",
     "text": [
      "9\n",
      "[]\n"
     ]
    },
    {
     "data": {
      "text/plain": [
       "[9, 2, 5.2]"
      ]
     },
     "execution_count": 19,
     "metadata": {},
     "output_type": "execute_result"
    }
   ],
   "source": [
    "# Create a tuple containing 5 numbers\n",
    "import statistics\n",
    "numbers = (3, 7, 2, 9, 5)\n",
    "num_list = list(numbers)\n",
    "# print(max(numbers))\n",
    "# print(min(numbers))\n",
    "# print(avg(numbers))\n",
    "new_tuple = (max(numbers), min(numbers), statistics.mean(numbers))\n",
    "a, b, c, *rest = new_tuple\n",
    "print(a)\n",
    "print(rest)\n",
    "\n",
    "[i for i in new_tuple]\n",
    "\n"
   ]
  },
  {
   "cell_type": "markdown",
   "metadata": {
    "id": "P5k8YQd9dmUT"
   },
   "source": [
    "## 3. Write your code according to the following instructions:\n",
    "\n",
    "* Write a function that takes a string as input and returns the string with all vowels removed.\n",
    "* Create a list of strings and use the function to filter the vowels from each string.\n",
    "* Sort the filtered strings based on the number of consonants.\n",
    "* Write a function that takes a string as input and returns the string with words in reverse order. Use this function on each string in the list of filtered strings."
   ]
  },
  {
   "cell_type": "code",
   "execution_count": 8,
   "metadata": {
    "id": "EBIwt03Kdnpp"
   },
   "outputs": [
    {
     "data": {
      "text/plain": [
       "['apple',\n",
       " 'banana',\n",
       " 'cherry',\n",
       " 'kiwi',\n",
       " 'mango',\n",
       " 'orange',\n",
       " 'strawberry',\n",
       " 'avocado',\n",
       " 'zcchini',\n",
       " 'grape',\n",
       " 'bleberry']"
      ]
     },
     "execution_count": 8,
     "metadata": {},
     "output_type": "execute_result"
    }
   ],
   "source": [
    "def remove_vowels(s):\n",
    "  # implement your code\n",
    "    vowels = ['a', 'e' , 'i', 'o' , 'u']\n",
    "    str_temp = \"\"\n",
    "    for ch in vowels:\n",
    "        str_temp = s.replace(ch, \"\")\n",
    "    return str_temp\n",
    "\n",
    "# Create a list of strings\n",
    "strings = [\"apple\", \"banana\", \"cherry\",\n",
    "           \"kiwi\", \"mango\", \"orange\", \"strawberry\",\n",
    "           \"avocado\", \"zucchini\", \"grape\", \"blueberry\"]\n",
    "\n",
    "[remove_vowels(i) for i in strings ]"
   ]
  },
  {
   "cell_type": "markdown",
   "metadata": {
    "id": "mPv8F8IDdsNB"
   },
   "source": [
    "## 4. Two Sum\n",
    "\n",
    "Given a list of integers and a target integer, find two integers in the list that sum up to the target. Return their indices as a tuple. Assume there is exactly one solution and you may not use the same element twice.\n",
    "\n",
    "\n",
    "```\n",
    "# input data 1\n",
    "numbers = [3, 2, 4]\n",
    "target = 6\n",
    "\n",
    "# output data 1\n",
    "(1, 2)\n",
    "\n",
    "# input data 2\n",
    "numbers = [8, 5, 6, 1, 2, 9]\n",
    "target = 9\n",
    "\n",
    "# output data 2\n",
    "(0, 3)\n",
    "\n",
    "# input data 3\n",
    "numbers = [1, 3, 6, 9, 2, 4, 8]\n",
    "target = 14\n",
    "\n",
    "# output data 3\n",
    "(2, 6)\n",
    "```"
   ]
  },
  {
   "cell_type": "code",
   "execution_count": null,
   "metadata": {
    "id": "tXDgAKGadyDx"
   },
   "outputs": [],
   "source": [
    "def two_sum(nums, target):\n",
    "    # Implement your code\n",
    "    # Return two integers in the list that sum up to the target\n",
    "\n",
    "\n"
   ]
  }
 ],
 "metadata": {
  "colab": {
   "provenance": [],
   "toc_visible": true
  },
  "kernelspec": {
   "display_name": "Python 3 (ipykernel)",
   "language": "python",
   "name": "python3"
  },
  "language_info": {
   "codemirror_mode": {
    "name": "ipython",
    "version": 3
   },
   "file_extension": ".py",
   "mimetype": "text/x-python",
   "name": "python",
   "nbconvert_exporter": "python",
   "pygments_lexer": "ipython3",
   "version": "3.10.10"
  }
 },
 "nbformat": 4,
 "nbformat_minor": 4
}
