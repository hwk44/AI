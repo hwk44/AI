{
 "cells": [
  {
   "cell_type": "markdown",
   "metadata": {
    "id": "ZYJeA4fpcGNk"
   },
   "source": [
    "# Lab11"
   ]
  },
  {
   "cell_type": "markdown",
   "metadata": {
    "id": "0AZqhmeccW7p"
   },
   "source": [
    "## 0. Prerequisite"
   ]
  },
  {
   "cell_type": "code",
   "execution_count": 2,
   "metadata": {
    "colab": {
     "base_uri": "https://localhost:8080/"
    },
    "id": "gyxzozzA4prN",
    "outputId": "fe149f03-ba42-4644-fe8f-ab43036d49ea",
    "tags": []
   },
   "outputs": [
    {
     "name": "stdout",
     "output_type": "stream",
     "text": [
      "Requirement already satisfied: mypy in d:\\ai\\venv\\lib\\site-packages (1.2.0)\n",
      "Requirement already satisfied: tomli>=1.1.0 in d:\\ai\\venv\\lib\\site-packages (from mypy) (2.0.1)\n",
      "Requirement already satisfied: mypy-extensions>=1.0.0 in d:\\ai\\venv\\lib\\site-packages (from mypy) (1.0.0)\n",
      "Requirement already satisfied: typing-extensions>=3.10 in d:\\ai\\venv\\lib\\site-packages (from mypy) (4.5.0)\n"
     ]
    },
    {
     "ename": "ModuleNotFoundError",
     "evalue": "No module named 'mypy'",
     "output_type": "error",
     "traceback": [
      "\u001b[1;31m---------------------------------------------------------------------------\u001b[0m",
      "\u001b[1;31mModuleNotFoundError\u001b[0m                       Traceback (most recent call last)",
      "Cell \u001b[1;32mIn[2], line 4\u001b[0m\n\u001b[0;32m      2\u001b[0m \u001b[38;5;28;01mfrom\u001b[39;00m \u001b[38;5;21;01mIPython\u001b[39;00m\u001b[38;5;21;01m.\u001b[39;00m\u001b[38;5;21;01mcore\u001b[39;00m\u001b[38;5;21;01m.\u001b[39;00m\u001b[38;5;21;01mmagic\u001b[39;00m \u001b[38;5;28;01mimport\u001b[39;00m register_cell_magic\n\u001b[0;32m      3\u001b[0m \u001b[38;5;28;01mfrom\u001b[39;00m \u001b[38;5;21;01mIPython\u001b[39;00m \u001b[38;5;28;01mimport\u001b[39;00m get_ipython\n\u001b[1;32m----> 4\u001b[0m \u001b[38;5;28;01mfrom\u001b[39;00m \u001b[38;5;21;01mmypy\u001b[39;00m \u001b[38;5;28;01mimport\u001b[39;00m api\n\u001b[0;32m      6\u001b[0m \u001b[38;5;129m@register_cell_magic\u001b[39m\n\u001b[0;32m      7\u001b[0m \u001b[38;5;28;01mdef\u001b[39;00m \u001b[38;5;21mmypy\u001b[39m(line, cell):\n\u001b[0;32m      8\u001b[0m   \u001b[38;5;28;01mfor\u001b[39;00m output \u001b[38;5;129;01min\u001b[39;00m api\u001b[38;5;241m.\u001b[39mrun([\u001b[38;5;124m'\u001b[39m\u001b[38;5;124m-c\u001b[39m\u001b[38;5;124m'\u001b[39m, \u001b[38;5;124m'\u001b[39m\u001b[38;5;130;01m\\n\u001b[39;00m\u001b[38;5;124m'\u001b[39m \u001b[38;5;241m+\u001b[39m cell] \u001b[38;5;241m+\u001b[39m line\u001b[38;5;241m.\u001b[39msplit()):\n",
      "\u001b[1;31mModuleNotFoundError\u001b[0m: No module named 'mypy'"
     ]
    }
   ],
   "source": [
    "!pip install mypy\n",
    "from IPython.core.magic import register_cell_magic\n",
    "from IPython import get_ipython\n",
    "from mypy import api\n",
    "\n",
    "@register_cell_magic\n",
    "def mypy(line, cell):\n",
    "  for output in api.run(['-c', '\\n' + cell] + line.split()):\n",
    "    if output and not output.startswith('Success'):\n",
    "      raise TypeError(output)\n",
    "  get_ipython().run_cell(cell)"
   ]
  },
  {
   "cell_type": "code",
   "execution_count": 3,
   "metadata": {
    "colab": {
     "base_uri": "https://localhost:8080/"
    },
    "id": "ZDeM7aGRQfp2",
    "outputId": "baf1b3ed-180e-4298-fe7d-2cdc04fe3333",
    "tags": []
   },
   "outputs": [
    {
     "ename": "ModuleNotFoundError",
     "evalue": "No module named 'google'",
     "output_type": "error",
     "traceback": [
      "\u001b[1;31m---------------------------------------------------------------------------\u001b[0m",
      "\u001b[1;31mModuleNotFoundError\u001b[0m                       Traceback (most recent call last)",
      "Cell \u001b[1;32mIn[3], line 1\u001b[0m\n\u001b[1;32m----> 1\u001b[0m \u001b[38;5;28;01mfrom\u001b[39;00m \u001b[38;5;21;01mgoogle\u001b[39;00m\u001b[38;5;21;01m.\u001b[39;00m\u001b[38;5;21;01mcolab\u001b[39;00m \u001b[38;5;28;01mimport\u001b[39;00m drive\n\u001b[0;32m      3\u001b[0m drive\u001b[38;5;241m.\u001b[39mmount(\u001b[38;5;124m'\u001b[39m\u001b[38;5;124m/content/gdrive/\u001b[39m\u001b[38;5;124m'\u001b[39m, force_remount\u001b[38;5;241m=\u001b[39m\u001b[38;5;28;01mTrue\u001b[39;00m)\n",
      "\u001b[1;31mModuleNotFoundError\u001b[0m: No module named 'google'"
     ]
    }
   ],
   "source": [
    "from google.colab import drive\n",
    "\n",
    "drive.mount('/content/gdrive/', force_remount=True)\n"
   ]
  },
  {
   "cell_type": "markdown",
   "metadata": {
    "id": "AL3MoBZO5NpL"
   },
   "source": [
    "## User-Defined Classes\n",
    "\n",
    "\n"
   ]
  },
  {
   "cell_type": "code",
   "execution_count": 4,
   "metadata": {
    "id": "M3ABCUJiIqOC",
    "tags": []
   },
   "outputs": [],
   "source": [
    "class Rectangle:\n",
    "  def __init__(self, width=1, height=1):\n",
    "    self._width = width\n",
    "    self._height = height\n",
    "    self.__width = width\n",
    "    self.__height = height\n",
    "\n",
    "  def setWidth(self, width):\n",
    "    self._width = width\n",
    "\n",
    "  def setHeight(self, height):\n",
    "    self._height = height\n",
    "\n",
    "  def getWidth(self):\n",
    "    return self._width\n",
    "\n",
    "  def getHeight(self):\n",
    "    return self._height\n",
    "\n",
    "  def area(self):\n",
    "    return self._width * self._height\n",
    "\n",
    "  def perimeter(self):\n",
    "    return 2 * (self._width + self._height)    \n",
    "\n",
    "  def __area(self):\n",
    "      return self.__width * self.__height\n",
    "\n",
    "  def __perimeter(self):\n",
    "      return 2 * (self.__width + self.__height)\n",
    "\n",
    "  def __str__(self):\n",
    "    return (\"Width: \" + str(self._width) + \"\\nHeight: \" + str(self._height))    \n"
   ]
  },
  {
   "cell_type": "code",
   "execution_count": 7,
   "metadata": {
    "colab": {
     "base_uri": "https://localhost:8080/"
    },
    "id": "ywmEZzMyLzZk",
    "outputId": "3fbe0228-de84-4313-ad16-921d19e2c676",
    "tags": []
   },
   "outputs": [
    {
     "name": "stdout",
     "output_type": "stream",
     "text": [
      "Width: 4\n",
      "Height: 5\n",
      "Width: 1\n",
      "Height: 1\n",
      "Width: 4\n",
      "Height: 1\n",
      "The rectangle has the following measurements:\n",
      "Width is 4\n",
      "Height is 5\n",
      "Area is 20\n",
      "Perimeter is 18\n"
     ]
    },
    {
     "data": {
      "text/plain": [
       "dict_keys(['_width', '_height', '_Rectangle__width', '_Rectangle__height'])"
      ]
     },
     "execution_count": 7,
     "metadata": {},
     "output_type": "execute_result"
    }
   ],
   "source": [
    "# Create a rectangle of width 4 and height 5\n",
    "r = Rectangle(4, 5)\n",
    "print(r) # Uses the __str__ method to report the state\n",
    "# Create a rectangle with the default values for width and\n",
    "# height\n",
    "r = Rectangle()\n",
    "print(r)\n",
    "# Create a rectangle of width 4 and default height 1\n",
    "r = Rectangle(4)\n",
    "print(r)\n",
    "r = Rectangle()\n",
    "# Use the mutator methods.\n",
    "r.setWidth(4)\n",
    "r.setHeight(5)\n",
    "print(\"The rectangle has the following measurements:\")\n",
    "# Use the accessor methods.\n",
    "print(\"Width is\", r.getWidth())\n",
    "print(\"Height is\", r.getHeight())\n",
    "# Use other methods.\n",
    "print(\"Area is\", r.area())\n",
    "print(\"Perimeter is\", r.perimeter())\n",
    "r.__dict__.keys()"
   ]
  },
  {
   "cell_type": "code",
   "execution_count": null,
   "metadata": {
    "colab": {
     "base_uri": "https://localhost:8080/"
    },
    "id": "RpcSVieaL_nb",
    "outputId": "d908190c-8bcb-4567-d3df-86d2490b7569"
   },
   "outputs": [
    {
     "name": "stdout",
     "output_type": "stream",
     "text": [
      "Width is 4\n",
      "Height is 5\n",
      "Area is 20\n",
      "Perimeter is 18\n"
     ]
    },
    {
     "data": {
      "text/plain": [
       "dict_keys(['_width', '_height', '_Rectangle__width', '_Rectangle__height'])"
      ]
     },
     "execution_count": 16,
     "metadata": {},
     "output_type": "execute_result"
    }
   ],
   "source": [
    "print(\"Width is\", r._width)\n",
    "print(\"Height is\", r._height)\n",
    "print(\"Area is\", r.area())\n",
    "print(\"Perimeter is\", r.perimeter())\n",
    "r.__dict__.keys()"
   ]
  },
  {
   "cell_type": "code",
   "execution_count": 10,
   "metadata": {
    "colab": {
     "base_uri": "https://localhost:8080/",
     "height": 223
    },
    "id": "SBUQ1WRTc1Nz",
    "outputId": "4c8526b5-a294-4921-ab76-11e76cc6a23c",
    "tags": []
   },
   "outputs": [
    {
     "ename": "AttributeError",
     "evalue": "'Rectangle' object has no attribute '__perimeter'",
     "output_type": "error",
     "traceback": [
      "\u001b[1;31m---------------------------------------------------------------------------\u001b[0m",
      "\u001b[1;31mAttributeError\u001b[0m                            Traceback (most recent call last)",
      "Cell \u001b[1;32mIn[10], line 4\u001b[0m\n\u001b[0;32m      1\u001b[0m \u001b[38;5;66;03m# print(\"__Width is\", r.__width)\u001b[39;00m\n\u001b[0;32m      2\u001b[0m \u001b[38;5;66;03m# print(\"__Height is\", r.__height)\u001b[39;00m\n\u001b[0;32m      3\u001b[0m \u001b[38;5;66;03m# print(\"__Area is\", r.__area())\u001b[39;00m\n\u001b[1;32m----> 4\u001b[0m \u001b[38;5;28mprint\u001b[39m(\u001b[38;5;124m\"\u001b[39m\u001b[38;5;124m__Perimeter is\u001b[39m\u001b[38;5;124m\"\u001b[39m, \u001b[43mr\u001b[49m\u001b[38;5;241;43m.\u001b[39;49m\u001b[43m__perimeter\u001b[49m())\n",
      "\u001b[1;31mAttributeError\u001b[0m: 'Rectangle' object has no attribute '__perimeter'"
     ]
    }
   ],
   "source": [
    "print(\"__Width is\", r.__width)\n",
    "print(\"__Height is\", r.__height)\n",
    "print(\"__Area is\", r.__area())\n",
    "print(\"__Perimeter is\", r.__perimeter())"
   ]
  },
  {
   "cell_type": "markdown",
   "metadata": {
    "id": "qHeiIk6Pdh9y"
   },
   "source": [
    "## LGstudent Class"
   ]
  },
  {
   "cell_type": "code",
   "execution_count": null,
   "metadata": {
    "id": "xMQLNosZeBz3"
   },
   "outputs": [],
   "source": [
    "class LGstudent:\n",
    "  def __init__(self, name=\"\", midterm=0, final=0):\n",
    "    self.__name = name\n",
    "    self.__midterm = midterm\n",
    "    self.__final = final\n",
    "\n",
    "  def setName(self, name):\n",
    "    self.__name = name\n",
    "\n",
    "  def setMidterm(self, midterm):\n",
    "    self.__midterm = midterm\n",
    "\n",
    "  def setFinal(self, final):\n",
    "    self.__final = final\n",
    "\n",
    "  def calcSemGrade(self):\n",
    "    grade = (self.__midterm + self.__final) / 2\n",
    "    grade = round(grade)\n",
    "    if grade >= 90: return \"A\"\n",
    "    elif grade >= 80: return \"B\"\n",
    "    elif grade >= 70: return \"C\"\n",
    "    elif grade >= 60: return \"D\"\n",
    "    else: return \"F\"\n",
    "\n",
    "  def __str__(self):\n",
    "    return self.__name + \"\\t\" + self.calcSemGrade()    "
   ]
  },
  {
   "cell_type": "code",
   "execution_count": null,
   "metadata": {
    "colab": {
     "base_uri": "https://localhost:8080/"
    },
    "id": "9SdhMfnjIOXN",
    "outputId": "f7947036-fe13-40c7-d3bb-0d7ff72dee90"
   },
   "outputs": [
    {
     "name": "stdout",
     "output_type": "stream",
     "text": [
      "Enter student's name: Kim\n",
      "Enter grade on midterm exam: 87\n",
      "Enter grade on final exam: 92\n",
      "\n",
      "NAME\tGRADE\n",
      "Kim\tA\n"
     ]
    }
   ],
   "source": [
    "def main():\n",
    "  ## Calculate and display a student's semester letter grade.\n",
    "  name = input(\"Enter student's name: \")\n",
    "  midterm = float(input(\"Enter grade on midterm exam: \"))\n",
    "  final = float(input(\"Enter grade on final exam: \"))\n",
    "  # Create an instance of an LGstudent object.\n",
    "  st = LGstudent(name, midterm, final)\n",
    "  print(\"\\nNAME\\tGRADE\")\n",
    "  # Display student's name and semester letter grade.\n",
    "  print(st)\n",
    "\n",
    "main()"
   ]
  },
  {
   "cell_type": "code",
   "execution_count": null,
   "metadata": {},
   "outputs": [],
   "source": []
  },
  {
   "cell_type": "code",
   "execution_count": null,
   "metadata": {},
   "outputs": [],
   "source": []
  },
  {
   "cell_type": "markdown",
   "metadata": {
    "id": "jez5PEIbfiMt"
   },
   "source": [
    "## Lists of Objects"
   ]
  },
  {
   "cell_type": "code",
   "execution_count": null,
   "metadata": {
    "colab": {
     "base_uri": "https://localhost:8080/"
    },
    "id": "YhrsG-RVHpfI",
    "outputId": "6909c020-a798-44bd-b678-830362060893"
   },
   "outputs": [
    {
     "name": "stdout",
     "output_type": "stream",
     "text": [
      "Enter student's name: Kim\n",
      "Enter student's grade on midterm exam: 70\n",
      "Enter student's grade on final exam: 60\n",
      "Do you want to continue (Y/N)? Y\n",
      "Enter student's name: Lee\n",
      "Enter student's grade on midterm exam: 50\n",
      "Enter student's grade on final exam: 30\n",
      "Do you want to continue (Y/N)? N\n",
      "\n",
      "NAME\tGRADE\n",
      "Kim\tD\n",
      "Lee\tF\n"
     ]
    }
   ],
   "source": [
    "def main():\n",
    "  ## Calculate and display students' semester letter grades.\n",
    "  listOfStudents = [] # To holds objects each for a student\n",
    "  carryOn = 'Y'\n",
    "  while carryOn == 'Y': # Repeat until user says 'N'\n",
    "    st = LGstudent()\n",
    "    # Obtain student's name and grades.\n",
    "    name = input(\"Enter student's name: \")\n",
    "    midterm = float(input(\"Enter student's grade on midterm exam: \"))\n",
    "    final = float(input(\"Enter student's grade on final exam: \"))\n",
    "    # Create an instance of an LGstudent object.\n",
    "    st = LGstudent(name, midterm, final)\n",
    "    listOfStudents.append(st)\n",
    "    # Insert object into list.\n",
    "    carryOn = input(\"Do you want to continue (Y/N)? \")\n",
    "    carryOn = carryOn.upper()\n",
    "  print(\"\\nNAME\\tGRADE\")\n",
    "  # Display students, names and semester letter grades.\n",
    "  for pupil in listOfStudents:\n",
    "    print(pupil)\n",
    "\n",
    "main()"
   ]
  },
  {
   "cell_type": "markdown",
   "metadata": {
    "id": "hslGpsG-gll4"
   },
   "source": [
    "## Inheritance"
   ]
  },
  {
   "cell_type": "code",
   "execution_count": null,
   "metadata": {
    "colab": {
     "base_uri": "https://localhost:8080/"
    },
    "id": "e2egenn1ISmS",
    "outputId": "826cbc40-171e-42fe-9911-17895ecb9954"
   },
   "outputs": [
    {
     "name": "stdout",
     "output_type": "stream",
     "text": [
      "None\n"
     ]
    }
   ],
   "source": [
    "class Student: # Superclass\n",
    "  def __init__(self, name=\"\", midterm=0, final=0):\n",
    "    self._name = name\n",
    "    self._midterm = midterm\n",
    "    self._final = final\n",
    "\n",
    "  def setName(self, name):\n",
    "    self.__name = name\n",
    "\n",
    "  def setMidterm(self, midterm):\n",
    "    self._midterm = midterm\n",
    "\n",
    "  def setFinal(self, final):\n",
    "    self._final = final\n",
    "\n",
    "  def getName(self):\n",
    "    return self.__name\n",
    "\n",
    "  def calcSemGrade(self):\n",
    "    pass\n",
    "\n",
    "  def __str__(self):\n",
    "    return self.__name + \"\\t\" + self.calcSemGrade()\n",
    "\n",
    "s = Student()\n",
    "s.__dict__.keys()\n",
    "print(s.calcSemGrade())"
   ]
  },
  {
   "cell_type": "code",
   "execution_count": null,
   "metadata": {
    "colab": {
     "base_uri": "https://localhost:8080/"
    },
    "id": "biRIzRNoMd44",
    "outputId": "1fb9f017-1e2d-4ba5-fbf5-42aa123529d4"
   },
   "outputs": [
    {
     "name": "stdout",
     "output_type": "stream",
     "text": [
      "dict_keys(['_Student__name', '_midterm', '_final'])\n",
      "dict_keys(['_Student__name', '_midterm', '_final'])\n",
      "F\n",
      "Fail\n"
     ]
    }
   ],
   "source": [
    "# letter-grade students\n",
    "class LGstudent(Student): # Subclass of Student\n",
    "  def calcSemGrade(self):\n",
    "    average = round((self._midterm + self._final) / 2)\n",
    "    if average >= 90: return \"A\"\n",
    "    elif average >= 80: return \"B\"\n",
    "    elif average >= 70: return \"C\"\n",
    "    elif average >= 60: return \"D\"\n",
    "    else: return \"F\"\n",
    "\n",
    "# pass-fail students\n",
    "class PFstudent(Student): # Subclass of Student\n",
    "  def calcSemGrade(self):\n",
    "    average = round((self._midterm + self._final) / 2)\n",
    "    if average >= 60: return \"Pass\"\n",
    "    else: return \"Fail\"\n",
    "\n",
    "\n",
    "lg = LGstudent()\n",
    "pf = PFstudent()\n",
    "\n",
    "print(lg.__dict__.keys())\n",
    "print(pf.__dict__.keys())\n",
    "print(lg.calcSemGrade())\n",
    "print(pf.calcSemGrade())"
   ]
  },
  {
   "cell_type": "code",
   "execution_count": null,
   "metadata": {
    "colab": {
     "base_uri": "https://localhost:8080/"
    },
    "id": "GtR4wC0NMgpy",
    "outputId": "ec6d409b-27f0-4a68-e93d-0d2e7d6dab90"
   },
   "outputs": [
    {
     "name": "stdout",
     "output_type": "stream",
     "text": [
      "Enter student's name: Kim\n",
      "Enter grade on midterm: 87\n",
      "Enter grade on final: 92\n",
      "Enter category (LG or PF): LG\n",
      "Do you want to continue (Y/N)? Y\n",
      "Enter student's name: Lee\n",
      "Enter grade on midterm: 92\n",
      "Enter grade on final: 70\n",
      "Enter category (LG or PF): PF\n",
      "Do you want to continue (Y/N)? N\n",
      "\n",
      "NAME\tGRADE\n",
      "Kim\tA\n",
      "Lee\tPass\n"
     ]
    }
   ],
   "source": [
    "def main():\n",
    "  # students and grades\n",
    "  listOfStudents = obtainListOfStudents()\n",
    "  displayResults(listOfStudents)\n",
    "\n",
    "def obtainListOfStudents():\n",
    "  listOfStudents = []\n",
    "  carryOn = 'Y'\n",
    "  while carryOn == 'Y':\n",
    "    name = input(\"Enter student's name: \")\n",
    "    midterm = float(input(\"Enter grade on midterm: \"))\n",
    "    final = float(input(\"Enter grade on final: \"))\n",
    "    category = input(\"Enter category (LG or PF): \")\n",
    "    if category.upper() == \"LG\":\n",
    "      st = LGstudent(name, midterm, final)\n",
    "    else:\n",
    "      st = PFstudent(name, midterm, final)\n",
    "    listOfStudents.append(st)\n",
    "    carryOn = input(\"Do you want to continue (Y/N)? \")\n",
    "    carryOn = carryOn.upper()\n",
    "  return listOfStudents    \n",
    "\n",
    "def displayResults(listOfStudents):\n",
    "  print(\"\\nNAME\\tGRADE\")\n",
    "  # Sort students by name.\n",
    "  listOfStudents.sort(key = lambda x: x.getName())\n",
    "  for pupil in listOfStudents:\n",
    "    print(pupil)\n",
    "\n",
    "\n",
    "main()"
   ]
  },
  {
   "cell_type": "code",
   "execution_count": null,
   "metadata": {
    "colab": {
     "base_uri": "https://localhost:8080/"
    },
    "id": "q14HlQIdHcHt",
    "outputId": "cae82a5c-8199-4b7c-b951-b6076b4fd9c7"
   },
   "outputs": [
    {
     "name": "stdout",
     "output_type": "stream",
     "text": [
      "Enter student's name: Kim\n",
      "Enter grade on midterm: 87\n",
      "Enter grade on final: 92\n",
      "Enter category (LG or PF): LG\n",
      "Do you want to continue (Y/N)? Y\n",
      "Enter student's name: Lee\n",
      "Enter grade on midterm: 92\n",
      "Enter grade on final: 70\n",
      "Enter category (LG or PF): PF\n",
      "Do you want to continue (Y/N)? N\n",
      "\n",
      "NAME\tGRADE\n",
      "Kim\tA\n",
      "Lee\tPass\n",
      "Number of letter-grade students: 1\n",
      "Number of pass-fail students: 1\n"
     ]
    }
   ],
   "source": [
    "def displayResults(listOfStudents):\n",
    "  print(\"\\nNAME\\tGRADE\")\n",
    "  numberOfLGstudents = 0\n",
    "  listOfStudents.sort(key = lambda x: x.getName())\n",
    "  for pupil in listOfStudents:\n",
    "    print(pupil)\n",
    "    # Keep track of number of letter-grade students.\n",
    "    if isinstance(pupil, LGstudent):\n",
    "      numberOfLGstudents += 1\n",
    "  # Display number of students in each category.\n",
    "  print(\"Number of letter-grade students:\", numberOfLGstudents)\n",
    "  print(\"Number of pass-fail students:\", len(listOfStudents) - numberOfLGstudents)\n",
    "\n",
    "main()"
   ]
  },
  {
   "cell_type": "markdown",
   "metadata": {
    "id": "McMsVb4Iq40K"
   },
   "source": [
    "## Adding New Instance Variables to a Subclass"
   ]
  },
  {
   "cell_type": "code",
   "execution_count": null,
   "metadata": {
    "id": "enDvASizGj4y"
   },
   "outputs": [],
   "source": [
    "class PFstudent(Student):\n",
    "  # A new Boolean parameter fullTime is added\n",
    "  def __init__(self, name=\"\", midterm=0, final=0, fullTime=True):\n",
    "    super().__init__(name, midterm, final)\n",
    "    self._fullTime = fullTime\n",
    "\n",
    "  def setFullTime(self, fullTime):\n",
    "    self._fullTime = fullTime\n",
    "\n",
    "  def getFullTime(self):\n",
    "    return self._fullTime\n",
    "\n",
    "  def calcSemGrade(self):\n",
    "    average = round((self._midterm + self._final) / 2)\n",
    "    if average >= 60: return \"Pass\"\n",
    "    else: return \"Fail\"\n",
    "\n",
    "  def __str__(self):\n",
    "    if self._fullTime:\n",
    "      status = \"Full-time student\"\n",
    "    else:\n",
    "      status = \"Part-time student\"\n",
    "    return (self._name + \"\\t\" + self.calcSemGrade() + \"\\t\" + status)\n"
   ]
  },
  {
   "cell_type": "code",
   "execution_count": null,
   "metadata": {
    "colab": {
     "base_uri": "https://localhost:8080/"
    },
    "id": "YWJHyp8PGIXS",
    "outputId": "a291d307-f299-498c-d770-9a44a7b451ff"
   },
   "outputs": [
    {
     "name": "stdout",
     "output_type": "stream",
     "text": [
      "Enter student's name: Park\n",
      "Enter grade on midterm: 60\n",
      "Enter grade on final: 70\n",
      "Enter category (LG or PF): PF\n",
      "Is Park a full time student (Y/N)? Y\n",
      "\n",
      "NAME\tGRADE\tSTATUS\n",
      "Park\tPass\tFull-time student\n"
     ]
    }
   ],
   "source": [
    "def main():\n",
    "  ## Calculate and display a student's semester letter grade\n",
    "  ## and status. Obtain student's name, grade on midterm\n",
    "  ## exam, and grade on final.\n",
    "  name = input(\"Enter student's name: \")\n",
    "  midterm = float(input(\"Enter grade on midterm: \"))\n",
    "  final = float(input(\"Enter grade on final: \"))\n",
    "  category = input(\"Enter category (LG or PF): \")\n",
    "  if category.upper() == \"LG\":\n",
    "    st = LGstudent(name, midterm, final)\n",
    "  else:\n",
    "    question = input(\"Is \" + name + \" a full time student (Y/N)? \")\n",
    "    if question.upper() == 'Y': fullTime = True\n",
    "    else: fullTime = False\n",
    "\n",
    "    st = PFstudent(name, midterm, final, fullTime)\n",
    "    # Display student's name, semester letter grade, and status.\n",
    "  print(\"\\nNAME\\tGRADE\\tSTATUS\")\n",
    "  print(st)\n",
    "\n",
    "main()"
   ]
  },
  {
   "cell_type": "markdown",
   "metadata": {
    "id": "trpfqkpuq8VX"
   },
   "source": [
    "## Overriding a Method"
   ]
  },
  {
   "cell_type": "code",
   "execution_count": null,
   "metadata": {
    "id": "jb13r8SPrnHQ"
   },
   "outputs": [],
   "source": [
    "class LGstudent:\n",
    "  def __init__(self, name=\"\", midterm=0, final=0):\n",
    "    self._name = name\n",
    "    self._midterm = midterm\n",
    "    self._final = final\n",
    "\n",
    "  def setName(self, name):\n",
    "    self._name = name\n",
    "\n",
    "  def setMidterm(self, midterm):\n",
    "    self._midterm = midterm\n",
    "\n",
    "  def setFinal(self, final):\n",
    "    self._final = final\n",
    "\n",
    "  def getName(self):\n",
    "    return self._name\n",
    "\n",
    "  def calcSemGrade(self):\n",
    "    average = round((self._midterm + self._final) / 2)\n",
    "    if average >= 90: return \"A\"\n",
    "    elif average >= 80: return \"B\"\n",
    "    elif average >= 70: return \"C\"\n",
    "    elif average >= 60: return \"D\"\n",
    "    else: return \"F\"\n",
    "\n",
    "  def __str__(self):\n",
    "    return self._name + \"\\t\" + self.calcSemGrade()\n",
    "\n",
    "\n",
    "class PFstudent(LGstudent):\n",
    "  def calcSemGrade(self):\n",
    "    average = round((self._midterm + self._final) / 2)\n",
    "    if average >= 60: return \"Pass\"\n",
    "    else: return \"Fail\"\n"
   ]
  },
  {
   "cell_type": "code",
   "execution_count": null,
   "metadata": {
    "colab": {
     "base_uri": "https://localhost:8080/"
    },
    "id": "Ldsc9TuDrA_B",
    "outputId": "87fa19fc-1974-4630-9db3-87219f7e0025"
   },
   "outputs": [
    {
     "name": "stdout",
     "output_type": "stream",
     "text": [
      "Enter student's name: Kim\n",
      "Enter grade on midterm: 80\n",
      "Enter grade on final: 70\n",
      "Enter category (LG or PF): LG\n",
      "Do you want to continue (Y/N)? Y\n",
      "Enter student's name: Lee\n",
      "Enter grade on midterm: 50\n",
      "Enter grade on final: 40\n",
      "Enter category (LG or PF): PF\n",
      "Do you want to continue (Y/N)? N\n",
      "\n",
      "NAME\tGRADE\n",
      "Kim\tC\n",
      "Lee\tFail\n"
     ]
    }
   ],
   "source": [
    "def main():\n",
    "  # Students and grades\n",
    "  listOfStudents = obtainListOfStudents()\n",
    "  displayResults(listOfStudents)\n",
    "\n",
    "def obtainListOfStudents():\n",
    "  listOfStudents = []\n",
    "  carryOn = 'Y'\n",
    "  while carryOn == 'Y':\n",
    "    name = input(\"Enter student's name: \")\n",
    "    midterm = float(input(\"Enter grade on midterm: \"))\n",
    "    final = float(input(\"Enter grade on final: \"))\n",
    "    category = input(\"Enter category (LG or PF): \")\n",
    "    if category.upper() == \"LG\":\n",
    "      st = LGstudent(name, midterm, final)\n",
    "    else:\n",
    "      st = PFstudent(name, midterm, final)\n",
    "    listOfStudents.append(st)\n",
    "    carryOn = input(\"Do you want to continue (Y/N)? \")\n",
    "    carryOn = carryOn.upper()\n",
    "  return listOfStudents\n",
    "\n",
    "def displayResults(listOfStudents):\n",
    "  print(\"\\nNAME\\tGRADE\")\n",
    "  listOfStudents.sort(key = lambda x: x.getName())\n",
    "  for pupil in listOfStudents:\n",
    "    print(pupil)\n",
    "\n",
    "\n",
    "main()\n"
   ]
  },
  {
   "cell_type": "markdown",
   "metadata": {
    "id": "hto5wpofviTw"
   },
   "source": [
    "## Decorators  for Class"
   ]
  },
  {
   "cell_type": "code",
   "execution_count": null,
   "metadata": {
    "colab": {
     "base_uri": "https://localhost:8080/",
     "height": 348
    },
    "id": "uCVvfxGQvkr_",
    "outputId": "7a7142c4-5049-4530-d471-672460451686"
   },
   "outputs": [
    {
     "name": "stdout",
     "output_type": "stream",
     "text": [
      "Pusan National University\n",
      "Pusan National University\n",
      "dict_keys(['_name', '_major'])\n",
      "Kim\n",
      "CS\n",
      "name: hello, major: math\n"
     ]
    },
    {
     "ename": "AttributeError",
     "evalue": "ignored",
     "output_type": "error",
     "traceback": [
      "\u001b[0;31m---------------------------------------------------------------------------\u001b[0m",
      "\u001b[0;31mAttributeError\u001b[0m                            Traceback (most recent call last)",
      "\u001b[0;32m<ipython-input-94-6ec7584ff208>\u001b[0m in \u001b[0;36m<cell line: 47>\u001b[0;34m()\u001b[0m\n\u001b[1;32m     45\u001b[0m \u001b[0mprint\u001b[0m\u001b[0;34m(\u001b[0m\u001b[0mstr\u001b[0m\u001b[0;34m(\u001b[0m\u001b[0mps\u001b[0m\u001b[0;34m)\u001b[0m\u001b[0;34m)\u001b[0m\u001b[0;34m\u001b[0m\u001b[0;34m\u001b[0m\u001b[0m\n\u001b[1;32m     46\u001b[0m \u001b[0;34m\u001b[0m\u001b[0m\n\u001b[0;32m---> 47\u001b[0;31m \u001b[0mps\u001b[0m\u001b[0;34m.\u001b[0m\u001b[0mname\u001b[0m \u001b[0;34m=\u001b[0m \u001b[0;34m'hello'\u001b[0m\u001b[0;34m\u001b[0m\u001b[0;34m\u001b[0m\u001b[0m\n\u001b[0m\u001b[1;32m     48\u001b[0m \u001b[0mps\u001b[0m\u001b[0;34m.\u001b[0m\u001b[0mmajor\u001b[0m \u001b[0;34m=\u001b[0m \u001b[0;34m'math'\u001b[0m\u001b[0;34m\u001b[0m\u001b[0;34m\u001b[0m\u001b[0m\n\u001b[1;32m     49\u001b[0m \u001b[0;34m\u001b[0m\u001b[0m\n",
      "\u001b[0;31mAttributeError\u001b[0m: can't set attribute"
     ]
    }
   ],
   "source": [
    "# Immutable Object\n",
    "class PNUStudent():\n",
    "  def __init__(self, name, major):\n",
    "    self._name = name\n",
    "    self._major = major\n",
    "\n",
    "  @staticmethod\n",
    "  def university():\n",
    "    return \"Pusan National University\"\n",
    "  \n",
    "  @property\n",
    "  def name(self):\n",
    "    return self._name\n",
    "  \n",
    "  # Validating Input Values\n",
    "  # @name.setter\n",
    "  # def name(self, name):\n",
    "  #   self._name = name.upper();\n",
    "  \n",
    "  @property\n",
    "  def major(self):\n",
    "    return self._major\n",
    "  \n",
    "  # Validating Input Values\n",
    "  # @major.setter\n",
    "  # def major(self, major):\n",
    "  #   self._major = major.upper()\n",
    "  \n",
    "  def __str__(self):\n",
    "    return f\"name: {self._name}, major: {self._major}\"\n",
    "\n",
    "\n",
    "print(PNUStudent.university())\n",
    "\n",
    "ps = PNUStudent('Kim', 'CS')\n",
    "print(ps.university())\n",
    "print(ps.__dict__.keys())\n",
    "print(ps.name)\n",
    "print(ps.major)\n",
    "\n",
    "# the leading underscore (_) in names\n",
    "# non-public attributes and shouldn’t be accessed using dot notation\n",
    "ps._name = 'hello'\n",
    "ps._major = 'math'\n",
    "print(str(ps))\n",
    "\n",
    "ps.name = 'hello'\n",
    "ps.major = 'math'\n"
   ]
  },
  {
   "cell_type": "code",
   "execution_count": null,
   "metadata": {
    "colab": {
     "base_uri": "https://localhost:8080/"
    },
    "id": "_2GcAV3a2oMR",
    "outputId": "0b34c5a8-df72-4c1a-ab6a-a4abf6bc0fa4"
   },
   "outputs": [
    {
     "name": "stdout",
     "output_type": "stream",
     "text": [
      "dict_keys(['_PNUStudent__name', '_PNUStudent__major'])\n",
      "dict_keys(['_PNUStudent__name', '_PNUStudent__major', '__name', '__major'])\n",
      "name: Kim, major: CS\n"
     ]
    }
   ],
   "source": [
    "# some student\n",
    "class PNUStudent():\n",
    "  def __init__(self, name, major):\n",
    "    self.__name = name\n",
    "    self.__major = major\n",
    "\n",
    "  def __str__(self):\n",
    "    return f\"name: {self.__name}, major: {self.__major}\"\n",
    "\n",
    "ps = PNUStudent('Kim', 'CS')\n",
    "print(ps.__dict__.keys())\n",
    "#print(ps.__name)\n",
    "#print(ps.__major)\n",
    "\n",
    "ps.__name = 'hello'  # ??\n",
    "ps.__major = 'math'  # ??\n",
    "\n",
    "print(ps.__dict__.keys())\n",
    "print(str(ps))\n"
   ]
  },
  {
   "cell_type": "markdown",
   "metadata": {
    "id": "Q8GmLMjqs3Ek"
   },
   "source": [
    "# Lab12"
   ]
  },
  {
   "cell_type": "markdown",
   "metadata": {
    "id": "UlT2GU_N6Tl0"
   },
   "source": [
    "## 1. Create a class named \"ShoppingCart\" with the following methods and attributes:\n",
    "\n",
    "* add_item(item_name, price, quantity)\n",
    "* remove_item(item_name, quantity)\n",
    "* get_total_price()\n",
    "* items (dictionary, keys are item names and values are item price and quantities)"
   ]
  },
  {
   "cell_type": "code",
   "execution_count": 11,
   "metadata": {
    "id": "iqIe1ijPrx0z",
    "tags": []
   },
   "outputs": [
    {
     "name": "stdout",
     "output_type": "stream",
     "text": [
      "8.40\n"
     ]
    }
   ],
   "source": [
    "class ShoppingCart:\n",
    "    def __init__(self):\n",
    "        # self.cartlist = cartlist\n",
    "        self.__cartlist = dict()\n",
    "\n",
    "    def getItem(self, item_name):\n",
    "        return self.__cartlist.get(item_name)  # key == item_name 인 value 반환\n",
    "\n",
    "    def add_item(self, item_name, price, quantity):\n",
    "        if item_name in self.__cartlist : # 있으면\n",
    "            self.__cartlist[item_name][1] += quantity\n",
    "        else : # 없으면\n",
    "            self.__cartlist[item_name] =[price, quantity]\n",
    "    def remove_item(self, item_name, quantity):\n",
    "    \n",
    "        if(self.__cartlist[item_name][1] >= quantity):\n",
    "            self.__cartlist[item_name][1] -= quantity\n",
    "    def get_total_price(self):\n",
    "        totalprice = 0\n",
    "        for _ ,v  in self.__cartlist.items():\n",
    "            totalprice +=  float(v[0]*v[1])\n",
    "        return totalprice\n",
    "\n",
    "    def print_list(self):\n",
    "       for k, v in self.__cartlist.items():\n",
    "           print(k,v)\n",
    "        # pass\n",
    "\n",
    "def main():\n",
    "  cart = ShoppingCart()\n",
    "  cart.add_item(\"Apple\", 1.9, 5)\n",
    "  cart.add_item(\"Banana\", 0.9, 3)\n",
    "  cart.add_item(\"Orange\", 2.9, 2)\n",
    "  cart.remove_item(\"Apple\", 2)\n",
    "  cart.remove_item(\"Orange\", 2)\n",
    "\n",
    "  print('{:.2f}'.format(cart.get_total_price()))\n",
    "\n",
    "\n",
    "main()"
   ]
  },
  {
   "cell_type": "markdown",
   "metadata": {
    "id": "mKgtxNrn8m_a"
   },
   "source": [
    "## 2. Create a class named \"TimeSeriesData\" with the following methods and attributes:\n",
    "\n",
    "* get_max_value()\n",
    "* get_min_value()\n",
    "* get_average_value()\n",
    "* data (list of tuples, each tuple contains a timestamp and a value)"
   ]
  },
  {
   "cell_type": "code",
   "execution_count": 12,
   "metadata": {
    "tags": []
   },
   "outputs": [],
   "source": [
    "import pandas as pd"
   ]
  },
  {
   "cell_type": "code",
   "execution_count": 23,
   "metadata": {
    "id": "ioqrxwWI8nbq",
    "tags": []
   },
   "outputs": [
    {
     "name": "stdout",
     "output_type": "stream",
     "text": [
      "3.0\n",
      "1.0\n",
      "2.125\n"
     ]
    }
   ],
   "source": [
    "class TimeSeriesData():\n",
    "    def __init__(self, data):\n",
    "        self.__data = data\n",
    "\n",
    "    def get_max_value(self):\n",
    "        temp = []\n",
    "        for tuple_ in self.__data:\n",
    "            temp.append(tuple_[1])\n",
    "        return max(temp)\n",
    "\n",
    "    def get_min_value(self):\n",
    "        temp = []\n",
    "        for tuple_ in self.__data:\n",
    "            temp.append(tuple_[1])\n",
    "        return min(temp)\n",
    "\n",
    "    def get_average_value(self):\n",
    "        temp = []\n",
    "        for tuple_ in self.__data:\n",
    "            temp.append(tuple_[1])\n",
    "        return sum(temp) / len(self.__data)\n",
    "    \n",
    "\n",
    "def main():\n",
    "  data = [(\"2023-01-01\", 1.0), (\"2023-01-02\", 2.0), (\"2023-01-03\", 3.0), (\"2023-01-04\", 2.5)]\n",
    "\n",
    "  time_series = TimeSeriesData(data)\n",
    "  print(time_series.get_max_value())\n",
    "  print(time_series.get_min_value())\n",
    "  print(time_series.get_average_value())\n",
    "\n",
    "main()"
   ]
  },
  {
   "cell_type": "markdown",
   "metadata": {
    "id": "o205__Y09RrY"
   },
   "source": [
    "## 3. Create a class named \"SimpleLinearRegression\" with the following methods and attributes:\n",
    "\n",
    "* get_slope()\n",
    "* get_intercept()\n",
    "* predict(x)\n",
    "* x (list of floats)\n",
    "* y (list of floats)"
   ]
  },
  {
   "cell_type": "code",
   "execution_count": 21,
   "metadata": {
    "id": "_GMyehYz9Qv-",
    "tags": []
   },
   "outputs": [
    {
     "ename": "TypeError",
     "evalue": "SimpleLinearRegression() takes no arguments",
     "output_type": "error",
     "traceback": [
      "\u001b[1;31m---------------------------------------------------------------------------\u001b[0m",
      "\u001b[1;31mTypeError\u001b[0m                                 Traceback (most recent call last)",
      "Cell \u001b[1;32mIn[21], line 39\u001b[0m\n\u001b[0;32m     30\u001b[0m   regression\u001b[38;5;241m.\u001b[39mshow_plot()\n\u001b[0;32m     32\u001b[0m   \u001b[38;5;66;03m# regression2 = SimpleLinearRegression2(x, y)\u001b[39;00m\n\u001b[0;32m     33\u001b[0m   \u001b[38;5;66;03m# print('{:.2f}'.format(regression2.get_slope()))          # a\u001b[39;00m\n\u001b[0;32m     34\u001b[0m   \u001b[38;5;66;03m# print('{:.2f}'.format(regression2.get_intercept()))      # b\u001b[39;00m\n\u001b[0;32m     35\u001b[0m   \u001b[38;5;66;03m# print('{:.2f}'.format(regression2.predict(6)))           \u001b[39;00m\n\u001b[0;32m     36\u001b[0m \n\u001b[0;32m     37\u001b[0m   \u001b[38;5;66;03m# regression2.show_plot()\u001b[39;00m\n\u001b[1;32m---> 39\u001b[0m \u001b[43mmain\u001b[49m\u001b[43m(\u001b[49m\u001b[43m)\u001b[49m\n",
      "Cell \u001b[1;32mIn[21], line 25\u001b[0m, in \u001b[0;36mmain\u001b[1;34m()\u001b[0m\n\u001b[0;32m     22\u001b[0m x \u001b[38;5;241m=\u001b[39m [\u001b[38;5;241m1\u001b[39m, \u001b[38;5;241m2\u001b[39m, \u001b[38;5;241m3\u001b[39m, \u001b[38;5;241m4\u001b[39m, \u001b[38;5;241m5\u001b[39m, \u001b[38;5;241m6\u001b[39m, \u001b[38;5;241m7\u001b[39m, \u001b[38;5;241m8\u001b[39m]\n\u001b[0;32m     23\u001b[0m y \u001b[38;5;241m=\u001b[39m [\u001b[38;5;241m2\u001b[39m, \u001b[38;5;241m4\u001b[39m, \u001b[38;5;241m5\u001b[39m, \u001b[38;5;241m4\u001b[39m, \u001b[38;5;241m5\u001b[39m, \u001b[38;5;241m5\u001b[39m, \u001b[38;5;241m8\u001b[39m, \u001b[38;5;241m6\u001b[39m]\n\u001b[1;32m---> 25\u001b[0m regression \u001b[38;5;241m=\u001b[39m \u001b[43mSimpleLinearRegression\u001b[49m\u001b[43m(\u001b[49m\u001b[43mx\u001b[49m\u001b[43m,\u001b[49m\u001b[43m \u001b[49m\u001b[43my\u001b[49m\u001b[43m)\u001b[49m\n\u001b[0;32m     26\u001b[0m \u001b[38;5;28mprint\u001b[39m(\u001b[38;5;124m'\u001b[39m\u001b[38;5;132;01m{:.2f}\u001b[39;00m\u001b[38;5;124m'\u001b[39m\u001b[38;5;241m.\u001b[39mformat(regression\u001b[38;5;241m.\u001b[39mget_slope()))          \u001b[38;5;66;03m# a\u001b[39;00m\n\u001b[0;32m     27\u001b[0m \u001b[38;5;28mprint\u001b[39m(\u001b[38;5;124m'\u001b[39m\u001b[38;5;132;01m{:.2f}\u001b[39;00m\u001b[38;5;124m'\u001b[39m\u001b[38;5;241m.\u001b[39mformat(regression\u001b[38;5;241m.\u001b[39mget_intercept()))      \u001b[38;5;66;03m# b\u001b[39;00m\n",
      "\u001b[1;31mTypeError\u001b[0m: SimpleLinearRegression() takes no arguments"
     ]
    }
   ],
   "source": [
    "# First, you can use the matplotlib, numpy, and sklearn modules\n",
    "import matplotlib.pyplot as plt\n",
    "import numpy as np\n",
    "from sklearn.linear_model import LinearRegression\n",
    "\n",
    "class SimpleLinearRegression():  # ax + b = 0\n",
    "    \n",
    "    def get_slope(slef)\n",
    "  pass\n",
    "\n",
    "\n",
    "# secondly, you can use the least-squares estimation method, \n",
    "# you can find the best-fitting line by calculating \n",
    "# the slope (a) and intercept (b) using these formulas:\n",
    "\n",
    "# Slope (a):\n",
    "# a = (Σ(x*y) - n * mean(x) * mean(y)) / (Σ(x^2) - n * mean(x)^2)\n",
    "\n",
    "# Intercept (b):\n",
    "# b = mean(y) - a * mean(x)\n",
    "\n",
    "\n",
    "def main():\n",
    "  x = [1, 2, 3, 4, 5, 6, 7, 8]\n",
    "  y = [2, 4, 5, 4, 5, 5, 8, 6]\n",
    "\n",
    "  regression = SimpleLinearRegression(x, y)\n",
    "  print('{:.2f}'.format(regression.get_slope()))          # a\n",
    "  print('{:.2f}'.format(regression.get_intercept()))      # b\n",
    "  print('{:.2f}'.format(regression.predict(6)))           \n",
    "\n",
    "  regression.show_plot()\n",
    "\n",
    "  # regression2 = SimpleLinearRegression2(x, y)\n",
    "  # print('{:.2f}'.format(regression2.get_slope()))          # a\n",
    "  # print('{:.2f}'.format(regression2.get_intercept()))      # b\n",
    "  # print('{:.2f}'.format(regression2.predict(6)))           \n",
    "\n",
    "  # regression2.show_plot()\n",
    "\n",
    "main()"
   ]
  }
 ],
 "metadata": {
  "colab": {
   "provenance": []
  },
  "kernelspec": {
   "display_name": "Python 3 (ipykernel)",
   "language": "python",
   "name": "python3"
  },
  "language_info": {
   "codemirror_mode": {
    "name": "ipython",
    "version": 3
   },
   "file_extension": ".py",
   "mimetype": "text/x-python",
   "name": "python",
   "nbconvert_exporter": "python",
   "pygments_lexer": "ipython3",
   "version": "3.10.10"
  }
 },
 "nbformat": 4,
 "nbformat_minor": 4
}
