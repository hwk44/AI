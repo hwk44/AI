{
  "nbformat": 4,
  "nbformat_minor": 0,
  "metadata": {
    "colab": {
      "provenance": []
    },
    "kernelspec": {
      "name": "python3",
      "display_name": "Python 3"
    },
    "language_info": {
      "name": "python"
    }
  },
  "cells": [
    {
      "cell_type": "markdown",
      "source": [
        "# Homework 3"
      ],
      "metadata": {
        "id": "Lcr-JDY0EXVV"
      }
    },
    {
      "cell_type": "markdown",
      "source": [
        "Note: For the following exercises, write a program to solve the problem and\n",
        "display the answer. A possible output is shown in a shaded box and responses\n",
        "to input statements appear underlined."
      ],
      "metadata": {
        "id": "1EhEQC6IClgZ"
      }
    },
    {
      "cell_type": "markdown",
      "source": [
        "# 0. Prerequisite"
      ],
      "metadata": {
        "id": "9Q7lHrYgs0Sa"
      }
    },
    {
      "cell_type": "code",
      "source": [
        "!pip install mypy\n",
        "from IPython.core.magic import register_cell_magic\n",
        "from IPython import get_ipython\n",
        "from mypy import api\n",
        "\n",
        "@register_cell_magic\n",
        "def mypy(line, cell):\n",
        "  for output in api.run(['-c', '\\n' + cell] + line.split()):\n",
        "    if output and not output.startswith('Success'):\n",
        "      raise TypeError(output)\n",
        "  get_ipython().run_cell(cell)"
      ],
      "metadata": {
        "id": "hZQ2WhH-szzj"
      },
      "execution_count": null,
      "outputs": []
    },
    {
      "cell_type": "markdown",
      "source": [
        "## 1. Mortgage Calculations\n",
        "\n",
        "Write a program to calculate three monthly values associated with a mortgage. \n",
        "\n",
        "* The interest paid each month is the monthly rate of interest (annual rate of interest / 12) applied to the balance at the beginning of the month. \n",
        "\n",
        "* Each month the reduction of principal(원금 감소액) equals the monthly payment minus the interest paid. At any time, the balance of the mortgage is the amount still owed—that is, the amount required to pay off the mortgage. \n",
        "\n",
        "* The end of month balance is calculated as [beginning of month balance] - [reduction of principal]. \n",
        "\n",
        "The main function should call three functions—one (multi-valued) for input, one (multi-valued) to calculate the values, and one for output.\n",
        "\n",
        "Output:\n",
        "```\n",
        "Enter annual rate of interest: 5\n",
        "Enter monthly payment: 1932.56\n",
        "Enter beginning of month balance: 357819.11\n",
        "Interest paid for the month: $1,490.91\n",
        "Reduction of principal: $441.65\n",
        "End of month balance: $357,377.46\n",
        "```"
      ],
      "metadata": {
        "id": "A4Ks_D_PCrrI"
      }
    },
    {
      "cell_type": "code",
      "execution_count": null,
      "metadata": {
        "id": "3w453RjhCh5y"
      },
      "outputs": [],
      "source": [
        "%%mypy\n",
        "\n",
        "from typing import Tuple\n",
        "\n",
        "def inputFromKeyboard() -> Tuple[float, float, float]:\n",
        "  #implement your code\n",
        "  pass\n",
        "\n",
        "def calcBalance(rate: float, monthly_payment: float, beginning_month_balance: float) -> Tuple[float, float, float]:\n",
        "  #implement your code\n",
        "  pass\n",
        "\n",
        "def printAll(interest: float, reduction_principal: float, end_month_balance: float) -> None:\n",
        "  #implement your code\n",
        "  pass\n",
        "\n",
        "printAll(*calcBalance(*inputFromKeyboard()))"
      ]
    },
    {
      "cell_type": "markdown",
      "source": [
        "## 2. Wilson’s Theorem\n",
        "\n",
        "A number is prime if its only factors are 1 and itself. \n",
        "\n",
        "Write a program that determines whether a number is prime by using the theorem \"The number n is a prime number if and only if n divides (n – 1)! + 1.\" \n",
        "\n",
        "The program should define a Boolean-valued function named isPrime that calls a function named factorial.\n",
        "\n",
        "```\n",
        "Enter an integer greater than 1: 37\n",
        "37 is a prime number.\n",
        "```\n",
        " "
      ],
      "metadata": {
        "id": "VZ_vsZP6C-Xk"
      }
    },
    {
      "cell_type": "code",
      "source": [
        "%%mypy\n",
        "\n",
        "def factorial(n: int) -> int:\n",
        "  #implement your code\n",
        "  pass\n",
        "\n",
        "def isPrime(n: int) -> bool:\n",
        "  #implement your code\n",
        "  pass\n",
        "\n",
        "#integer = int(input('Enter an integer greater than 1:'))\n",
        "#print('factorial of {} is {}:'.format(integer, factorial(integer)))\n",
        "#if isPrime(integer):\n",
        "#  print('{} is a prime number.'.format(integer))\n",
        "\n",
        "answer = [2, 3, 5, 7, 11, 13, 17, 19, 23, 29, 31, 37, 41, 43, 47, 53, 59, 61, 67, 71, 73, 79, 83, 89, 97]\n",
        "my_solution = []\n",
        "for i in range(-2, 101):\n",
        "  if isPrime(i):\n",
        "    print('{} is a prime number.'.format(i))\n",
        "    my_solution.append(i)\n",
        "assert my_solution == answer"
      ],
      "metadata": {
        "id": "iorxrNcFDCUt"
      },
      "execution_count": null,
      "outputs": []
    },
    {
      "cell_type": "markdown",
      "source": [
        "## 3. Alphabetical Order\n",
        "\n",
        "The following words have three consecutive letters that are also consecutive letters in the alphabet: THIRSTY, NOPE, AFGHANISTAN, STUDENT. Write a program that accepts a word as input and determines whether or not it has three consecutive letters that are consecutive letters in the alphabet. \n",
        "\n",
        "The program should use a Boolean-valued function named isTripleConsecutive that accepts an entire word as input. \n",
        "\n",
        "Hint:\n",
        "Use the ord function.\n",
        "\n",
        "```\n",
        "Enter a word: HIJACK\n",
        "HIJACK contains three successive letters in consecutive alphabetical order.\n",
        "```"
      ],
      "metadata": {
        "id": "V-bzj3X5DBzN"
      }
    },
    {
      "cell_type": "code",
      "source": [
        "%%mypy\n",
        "\n",
        "def isTripleConsecutive(s: str) -> bool:\n",
        "  #implement your code\n",
        "  pass\n",
        "\n",
        "#text = input('Enter a word:')\n",
        "#if isTripleConsecutive(text):\n",
        "#  print('{} contains three successive letters in consecutive alphabetical order.'.format(text))\n",
        "\n",
        "for w in ['THIRSTY', 'NOPE', 'AFGHANISTAN', 'STUDENT', 'HIJACK', 'TEST', 'CAT', 'DOG']:\n",
        "  if isTripleConsecutive(w):\n",
        "    print('{} contains three successive letters in consecutive alphabetical order.'.format(w))\n",
        "  else:\n",
        "    print('{} does not contains'.format(w))"
      ],
      "metadata": {
        "id": "pLTYxtZKEnP4",
        "colab": {
          "base_uri": "https://localhost:8080/"
        },
        "outputId": "b3200272-9755-4df2-bc1b-1a42e7e8b463"
      },
      "execution_count": null,
      "outputs": [
        {
          "output_type": "stream",
          "name": "stdout",
          "text": [
            "THIRSTY contains three successive letters in consecutive alphabetical order.\n",
            "NOPE contains three successive letters in consecutive alphabetical order.\n",
            "AFGHANISTAN contains three successive letters in consecutive alphabetical order.\n",
            "STUDENT contains three successive letters in consecutive alphabetical order.\n",
            "HIJACK contains three successive letters in consecutive alphabetical order.\n",
            "TEST contains three successive letters in consecutive alphabetical order.\n",
            "CAT does not contains\n",
            "DOG does not contains\n"
          ]
        }
      ]
    },
    {
      "cell_type": "markdown",
      "source": [
        "# 4. Months\n",
        "\n",
        "The file SomeMonths.txt initially contains the names of the 12 months, one per line. \n",
        "\n",
        "Write a program that deletes all months from the file that do not contain the letter r.\n",
        "\n",
        "\n",
        "```\n",
        "from google.colab import drive\n",
        "drive.mount('/content/gdrive/', force_remount=True)\n",
        "```\n"
      ],
      "metadata": {
        "id": "JeTmpMPeFivF"
      }
    },
    {
      "cell_type": "code",
      "source": [
        "from google.colab import drive\n",
        "\n",
        "drive.mount('/content/gdrive/', force_remount=True)\n",
        "\n",
        "!ls /content/gdrive/MyDrive/SomeMonths.txt"
      ],
      "metadata": {
        "id": "gqi8rgstFx3l"
      },
      "execution_count": null,
      "outputs": []
    },
    {
      "cell_type": "code",
      "source": [
        "%%mypy\n",
        "\n",
        "def remove_months_without_r(file_name: str, new_file_name: str) -> None:\n",
        "  #implement your code\n",
        "  pass\n",
        "\n",
        "def read_file(file_name: str)->None:\n",
        "  #implement your code\n",
        "  pass\n",
        "\n",
        "remove_months_without_r('/content/gdrive/MyDrive/SomeMonths.txt', '/content/gdrive/MyDrive/NewSomeMonths.txt')\n",
        "read_file('/content/gdrive/MyDrive/NewSomeMonths.txt')\n"
      ],
      "metadata": {
        "id": "QKKlhTzRG6-U"
      },
      "execution_count": null,
      "outputs": []
    },
    {
      "cell_type": "code",
      "source": [
        "!cat /content/gdrive/MyDrive/NewSomeMonths.txt"
      ],
      "metadata": {
        "id": "gGo5PZgcz1sB"
      },
      "execution_count": null,
      "outputs": []
    },
    {
      "cell_type": "markdown",
      "source": [
        "## 5. File of Names\n",
        "\n",
        "The file Names.txt contains a list of first names in alphabetical order. Write a program that requests a name from the user and inserts the name into the file in its proper location. If the name is already in the file, it should not be inserted. You should use set operations in your program.\n",
        "\n"
      ],
      "metadata": {
        "id": "0EcXiSICGkXm"
      }
    },
    {
      "cell_type": "code",
      "source": [
        "!ls /content/gdrive/MyDrive/Names.txt\n",
        "!cat /content/gdrive/MyDrive/Names.txt"
      ],
      "metadata": {
        "id": "pt6o6Gp4xw-x"
      },
      "execution_count": null,
      "outputs": []
    },
    {
      "cell_type": "code",
      "source": [
        "%%mypy\n",
        "\n",
        "def insert_name(file_name: str, new_file_name: str, name: str) -> None:\n",
        "  #implement your code\n",
        "  pass\n",
        "\n",
        "def read_file(file_name: str)->None:\n",
        "  #implement your code\n",
        "  pass\n",
        "      \n",
        "insert_name('/content/gdrive/MyDrive/Names.txt', '/content/gdrive/MyDrive/NewNames.txt', 'Bob2')\n",
        "read_file('/content/gdrive/MyDrive/NewNames.txt')"
      ],
      "metadata": {
        "id": "xLWCYhQzSEfJ"
      },
      "execution_count": null,
      "outputs": []
    },
    {
      "cell_type": "code",
      "source": [
        "!cat /content/gdrive/MyDrive/NewNames.txt"
      ],
      "metadata": {
        "id": "WCRfawcSz_AK"
      },
      "execution_count": null,
      "outputs": []
    },
    {
      "cell_type": "markdown",
      "source": [
        "## 6. Unit Conversions\n",
        "\n",
        "The following table contains some lengths in terms of feet. \n",
        "\n",
        "Write a program that displays the nine different units of measure; requests the unit to convert from, the unit to convert to, and the quantity to be converted; and then displays the converted quantity. \n",
        "\n",
        "A typical outcome is shown in the shaded box below. \n",
        "\n",
        "Use the file Units.txt to create a dictionary that provides the number of feet for a given unit of length. \n",
        "\n",
        "The first two lines of the file are inches, .083333; furlongs,660.\n",
        "<br><br>\n",
        "\n",
        "Equivalent lengths.\n",
        "\n",
        "|   |   |\n",
        "|---|---|\n",
        "|  1 inch = .083333 foot |  1 rod = 16.5 feet |\n",
        "|  1 yard = 3 feet |  1 furlong = 660 feet |\n",
        "|  1 meter = 3.28155 feet |  1 kilometer = 3281.5 feet |\n",
        "|  1 fathom = 6 feet |  1 mile = 5280 feet |\n",
        "\n",
        "```\n",
        "UNITS OF LENGTH\n",
        "inches\n",
        "feet\n",
        "meters\n",
        "fathoms\n",
        "kilometers furlongs\n",
        "miles\n",
        "yards\n",
        "rods\n",
        "Unit to convert from: yards\n",
        "Unit to convert to: miles\n",
        "Enter length in yards: 555\n",
        "Length in miles: 0.3153\n",
        "```\n"
      ],
      "metadata": {
        "id": "0Hrmx03Kwwp9"
      }
    },
    {
      "cell_type": "code",
      "source": [
        "%%mypy\n",
        "\n",
        "from typing import Dict\n",
        "\n",
        "def create_units_dict(file_name: str) -> Dict:\n",
        "  #implement your code\n",
        "  pass\n",
        "\n",
        "def convert(units: Dict, quantity: float, from_unit: str, to_unit: str) -> float:\n",
        "  #implement your code\n",
        "  pass\n",
        "\n",
        "\n",
        "print('''UNITS OF LENGTH\n",
        "inches feet miles\n",
        "meters fathoms yards\n",
        "kilometers furlongs rods\n",
        "''')\n",
        "\n",
        "from_unit = input('Unit to convert from: ')\n",
        "to_unit = input('Unit to convert to: ')\n",
        "quantity = float(input('Enter length in {}: '.format(from_unit)))\n",
        "#from_unit = 'yards'\n",
        "#to_unit = 'miles'\n",
        "#quantity = 555\n",
        "units = create_units_dict('/content/gdrive/MyDrive/Units.txt')\n",
        "#print(units)\n",
        "print('Length in miles: {:.4f}'.format(convert(units, quantity, from_unit, to_unit)))"
      ],
      "metadata": {
        "id": "-b93hFvVw2ko"
      },
      "execution_count": null,
      "outputs": []
    }
  ]
}