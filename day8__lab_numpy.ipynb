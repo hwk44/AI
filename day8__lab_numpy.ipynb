{
 "cells": [
  {
   "cell_type": "markdown",
   "metadata": {
    "id": "ZYJeA4fpcGNk"
   },
   "source": [
    "# Lab14"
   ]
  },
  {
   "cell_type": "markdown",
   "metadata": {
    "id": "0AZqhmeccW7p"
   },
   "source": [
    "## 0. Prerequisite"
   ]
  },
  {
   "cell_type": "code",
   "execution_count": null,
   "metadata": {
    "colab": {
     "base_uri": "https://localhost:8080/"
    },
    "id": "gyxzozzA4prN",
    "outputId": "fe149f03-ba42-4644-fe8f-ab43036d49ea"
   },
   "outputs": [
    {
     "name": "stdout",
     "output_type": "stream",
     "text": [
      "Looking in indexes: https://pypi.org/simple, https://us-python.pkg.dev/colab-wheels/public/simple/\n",
      "Collecting mypy\n",
      "  Downloading mypy-1.2.0-cp39-cp39-manylinux_2_17_x86_64.manylinux2014_x86_64.whl (12.2 MB)\n",
      "\u001b[2K     \u001b[90m━━━━━━━━━━━━━━━━━━━━━━━━━━━━━━━━━━━━━━━━\u001b[0m \u001b[32m12.2/12.2 MB\u001b[0m \u001b[31m9.8 MB/s\u001b[0m eta \u001b[36m0:00:00\u001b[0m\n",
      "\u001b[?25hRequirement already satisfied: typing-extensions>=3.10 in /usr/local/lib/python3.9/dist-packages (from mypy) (4.5.0)\n",
      "Collecting mypy-extensions>=1.0.0\n",
      "  Downloading mypy_extensions-1.0.0-py3-none-any.whl (4.7 kB)\n",
      "Requirement already satisfied: tomli>=1.1.0 in /usr/local/lib/python3.9/dist-packages (from mypy) (2.0.1)\n",
      "Installing collected packages: mypy-extensions, mypy\n",
      "Successfully installed mypy-1.2.0 mypy-extensions-1.0.0\n"
     ]
    }
   ],
   "source": [
    "!pip install mypy\n",
    "from IPython.core.magic import register_cell_magic\n",
    "from IPython import get_ipython\n",
    "from mypy import api\n",
    "\n",
    "@register_cell_magic\n",
    "def mypy(line, cell):\n",
    "  for output in api.run(['-c', '\\n' + cell] + line.split()):\n",
    "    if output and not output.startswith('Success'):\n",
    "      raise TypeError(output)\n",
    "  get_ipython().run_cell(cell)"
   ]
  },
  {
   "cell_type": "code",
   "execution_count": null,
   "metadata": {
    "colab": {
     "base_uri": "https://localhost:8080/"
    },
    "id": "ZDeM7aGRQfp2",
    "outputId": "baf1b3ed-180e-4298-fe7d-2cdc04fe3333"
   },
   "outputs": [
    {
     "name": "stdout",
     "output_type": "stream",
     "text": [
      "Mounted at /content/gdrive/\n"
     ]
    }
   ],
   "source": [
    "from google.colab import drive\n",
    "\n",
    "drive.mount('/content/gdrive/', force_remount=True)\n"
   ]
  },
  {
   "cell_type": "code",
   "execution_count": null,
   "metadata": {
    "id": "eXP40QA32qqJ"
   },
   "outputs": [],
   "source": [
    "import numpy as np"
   ]
  },
  {
   "cell_type": "markdown",
   "metadata": {
    "id": "AL3MoBZO5NpL"
   },
   "source": [
    "## Array Creation\n",
    "\n",
    "\n"
   ]
  },
  {
   "cell_type": "code",
   "execution_count": null,
   "metadata": {
    "id": "M3ABCUJiIqOC"
   },
   "outputs": [],
   "source": [
    "arr1 = np.array([1, 2, 3, 4, 5, 6])\n",
    "arr2 = np.array([[1, 2, 3],\n",
    "                 [4, 5, 6]])\n",
    "arr3 = np.arange(4)\n",
    "arr4 = np.linspace(0, 10, 20)\n",
    "arr5 = np.zeros((3, 2))     # int or tuple of ints  \n",
    "arr6 = np.ones((2, 3))\n",
    "arr7 = np.ones_like(arr4)   # array_like\n",
    "arr8 = np.eye(3, dtype=int) # int\n",
    "arr9 = np.empty((4, 5))     # int or tuple of int"
   ]
  },
  {
   "cell_type": "code",
   "execution_count": null,
   "metadata": {
    "colab": {
     "base_uri": "https://localhost:8080/"
    },
    "id": "8STPmxZ13pr-",
    "outputId": "fa66c38c-9011-48ff-9a66-40c13f7b6859"
   },
   "outputs": [
    {
     "name": "stdout",
     "output_type": "stream",
     "text": [
      "shape: (6,), ndim: 1, size: 6, type: <class 'numpy.ndarray'>, dtype: int64, \n",
      "[1 2 3 4 5 6]\n",
      "shape: (2, 3), ndim: 2, size: 6, type: <class 'numpy.ndarray'>, dtype: int64, \n",
      "[[1 2 3]\n",
      " [4 5 6]]\n",
      "shape: (4,), ndim: 1, size: 4, type: <class 'numpy.ndarray'>, dtype: int64, \n",
      "[0 1 2 3]\n",
      "shape: (20,), ndim: 1, size: 20, type: <class 'numpy.ndarray'>, dtype: float64, \n",
      "[ 0.          0.52631579  1.05263158  1.57894737  2.10526316  2.63157895\n",
      "  3.15789474  3.68421053  4.21052632  4.73684211  5.26315789  5.78947368\n",
      "  6.31578947  6.84210526  7.36842105  7.89473684  8.42105263  8.94736842\n",
      "  9.47368421 10.        ]\n",
      "shape: (3, 2), ndim: 2, size: 6, type: <class 'numpy.ndarray'>, dtype: float64, \n",
      "[[0. 0.]\n",
      " [0. 0.]\n",
      " [0. 0.]]\n",
      "shape: (2, 3), ndim: 2, size: 6, type: <class 'numpy.ndarray'>, dtype: float64, \n",
      "[[1. 1. 1.]\n",
      " [1. 1. 1.]]\n",
      "shape: (20,), ndim: 1, size: 20, type: <class 'numpy.ndarray'>, dtype: float64, \n",
      "[1. 1. 1. 1. 1. 1. 1. 1. 1. 1. 1. 1. 1. 1. 1. 1. 1. 1. 1. 1.]\n",
      "shape: (3, 3), ndim: 2, size: 9, type: <class 'numpy.ndarray'>, dtype: int64, \n",
      "[[1 0 0]\n",
      " [0 1 0]\n",
      " [0 0 1]]\n",
      "shape: (4, 5), ndim: 2, size: 20, type: <class 'numpy.ndarray'>, dtype: float64, \n",
      "[[1. 1. 1. 1. 1.]\n",
      " [1. 1. 1. 1. 1.]\n",
      " [1. 1. 1. 1. 1.]\n",
      " [1. 1. 1. 1. 1.]]\n"
     ]
    }
   ],
   "source": [
    "for arr in [arr1, arr2, arr3, arr4, arr5, arr6, arr7, arr8, arr9]:\n",
    "  print('shape: {}, ndim: {}, size: {}, type: {}, dtype: {}, \\n{}'\\\n",
    "        .format(arr.shape, arr.ndim, arr.size, type(arr), arr.dtype, arr))"
   ]
  },
  {
   "cell_type": "markdown",
   "metadata": {
    "id": "7m1RkGbo6FfI"
   },
   "source": [
    "## Shape Manipulation"
   ]
  },
  {
   "cell_type": "code",
   "execution_count": null,
   "metadata": {
    "id": "ywmEZzMyLzZk"
   },
   "outputs": [],
   "source": [
    "reshaped_23_arr1 = np.reshape(arr1, (2, 3))   # array_like, int or tuple of ints\n",
    "reshaped_32_arr1 = np.reshape(arr1, (3, 2))\n",
    "cp_arr2 = arr2.copy()\n",
    "raveled_cp_arr2 = np.ravel(cp_arr2)        # array_like\n",
    "c_arr2 = arr2.copy()\n",
    "flatten_arr2 = c_arr2.flatten()            # array_like"
   ]
  },
  {
   "cell_type": "markdown",
   "metadata": {
    "id": "ONIabHRPA5TF"
   },
   "source": [
    "<a href=\"https://numpy.org/doc/stable/user/absolute_beginners.html#transposing-and-reshaping-a-matrix\">Reshaping Array</a>\n",
    "\n",
    "<img src=\"https://numpy.org/doc/stable/_images/np_reshape.png\"/>"
   ]
  },
  {
   "cell_type": "code",
   "execution_count": null,
   "metadata": {
    "colab": {
     "base_uri": "https://localhost:8080/"
    },
    "id": "hepp4I4c7iNK",
    "outputId": "8e24d852-66e3-4389-fa1c-9aaca614c2a5"
   },
   "outputs": [
    {
     "name": "stdout",
     "output_type": "stream",
     "text": [
      "shape: (6,), ndim: 1, size: 6, base: None, \n",
      "[1 2 3 4 5 6]\n",
      "shape: (2, 3), ndim: 2, size: 6, base: [1 2 3 4 5 6], \n",
      "[[1 2 3]\n",
      " [4 5 6]]\n",
      "shape: (3, 2), ndim: 2, size: 6, base: [1 2 3 4 5 6], \n",
      "[[1 2]\n",
      " [3 4]\n",
      " [5 6]]\n",
      "shape: (2, 3), ndim: 2, size: 6, base: None, \n",
      "[[1 2 3]\n",
      " [4 5 6]]\n",
      "shape: (6,), ndim: 1, size: 6, base: [[1 2 3]\n",
      " [4 5 6]], \n",
      "[1 2 3 4 5 6]\n",
      "shape: (2, 3), ndim: 2, size: 6, base: None, \n",
      "[[1 2 3]\n",
      " [4 5 6]]\n",
      "shape: (6,), ndim: 1, size: 6, base: None, \n",
      "[1 2 3 4 5 6]\n"
     ]
    }
   ],
   "source": [
    "for arr in [arr1, reshaped_23_arr1, reshaped_32_arr1, cp_arr2, raveled_cp_arr2, arr2, flatten_arr2]:\n",
    "  print('shape: {}, ndim: {}, size: {}, base: {}, \\n{}'\\\n",
    "        .format(arr.shape, arr.ndim, arr.size, arr.base, arr))"
   ]
  },
  {
   "cell_type": "markdown",
   "metadata": {
    "id": "GzKHw3hO9NW7"
   },
   "source": [
    "##  Slicing and Indexing\n",
    "\n",
    "<a href=\"https://numpy.org/doc/stable/user/absolute_beginners.html#indexing-and-slicing\">1D Array</a>\n",
    "<img src=\"https://numpy.org/doc/stable/_images/np_indexing.png\"/>"
   ]
  },
  {
   "cell_type": "code",
   "execution_count": null,
   "metadata": {
    "colab": {
     "base_uri": "https://localhost:8080/"
    },
    "id": "ngKbMshd-a0O",
    "outputId": "984f5055-661d-4960-e54e-32c72f2d37e1"
   },
   "outputs": [
    {
     "name": "stdout",
     "output_type": "stream",
     "text": [
      "1\n",
      "2\n",
      "[1 2]\n",
      "[2 3]\n",
      "[2 3]\n"
     ]
    }
   ],
   "source": [
    "data = np.array([1, 2, 3])\n",
    "for d in [data[0], data[1], data[0:2], data[1:], data[-2:]]:\n",
    "  print(d)"
   ]
  },
  {
   "cell_type": "markdown",
   "metadata": {
    "id": "lakqyQnb_Qin"
   },
   "source": [
    "<a href=\"https://numpy.org/doc/stable/user/absolute_beginners.html#indexing-and-slicing\">2D Array</a>\n",
    "\n",
    "<img src=\"https://numpy.org/doc/stable/_images/np_create_matrix.png\"/>\n",
    "\n",
    "<img src=\"https://numpy.org/doc/stable/_images/np_matrix_indexing.png\"/>"
   ]
  },
  {
   "cell_type": "code",
   "execution_count": null,
   "metadata": {
    "colab": {
     "base_uri": "https://localhost:8080/"
    },
    "id": "RpcSVieaL_nb",
    "outputId": "7ba87afa-0ad8-4148-f9e8-da8326e57e63"
   },
   "outputs": [
    {
     "name": "stdout",
     "output_type": "stream",
     "text": [
      "[[1 2]\n",
      " [3 4]\n",
      " [5 6]]\n",
      "2\n",
      "[[3 4]\n",
      " [5 6]]\n",
      "[1 3]\n"
     ]
    }
   ],
   "source": [
    "data = np.array([[1, 2], [3, 4], [5, 6]])\n",
    "for d in [data, data[0, 1], data[1:3, :], data[0:2, 0]]:\n",
    "  print(d)"
   ]
  },
  {
   "cell_type": "markdown",
   "metadata": {
    "id": "HhoNjOOFCdhZ"
   },
   "source": [
    "## Mathematical Functions\n",
    "\n",
    "\n"
   ]
  },
  {
   "cell_type": "markdown",
   "metadata": {
    "id": "FH1pmPeHDR8x"
   },
   "source": [
    "<img src=\"https://numpy.org/doc/stable/_images/np_data_plus_ones.png\"/>"
   ]
  },
  {
   "cell_type": "code",
   "execution_count": null,
   "metadata": {
    "colab": {
     "base_uri": "https://localhost:8080/"
    },
    "id": "LntWhTlvDRrg",
    "outputId": "c6f82785-c3f1-455a-a741-1f42999ac6a9"
   },
   "outputs": [
    {
     "data": {
      "text/plain": [
       "array([2, 3])"
      ]
     },
     "execution_count": 70,
     "metadata": {},
     "output_type": "execute_result"
    }
   ],
   "source": [
    "data = np.array([1, 2])\n",
    "ones = np.ones(2, dtype=int)\n",
    "data + ones"
   ]
  },
  {
   "cell_type": "markdown",
   "metadata": {
    "id": "mrL2sGt9DhOe"
   },
   "source": [
    "<img src=\"https://numpy.org/doc/stable/_images/np_sub_mult_divide.png\"/>"
   ]
  },
  {
   "cell_type": "code",
   "execution_count": null,
   "metadata": {
    "colab": {
     "base_uri": "https://localhost:8080/"
    },
    "id": "sf6QIpzFDgse",
    "outputId": "6a126955-417c-4f0a-f4d1-d72297cf8b15"
   },
   "outputs": [
    {
     "name": "stdout",
     "output_type": "stream",
     "text": [
      "[0 1]\n",
      "[1 4]\n",
      "[1. 1.]\n"
     ]
    }
   ],
   "source": [
    "for d in [data - ones, data * data, data / data]:\n",
    "  print(d)"
   ]
  },
  {
   "cell_type": "markdown",
   "metadata": {
    "id": "ixLbHTYdDPi9"
   },
   "source": [
    "<img src=\"https://numpy.org/doc/stable/_images/np_matrix_arithmetic.png\"/>"
   ]
  },
  {
   "cell_type": "code",
   "execution_count": null,
   "metadata": {
    "colab": {
     "base_uri": "https://localhost:8080/"
    },
    "id": "SBUQ1WRTc1Nz",
    "outputId": "8e0ad3f7-3008-4918-953f-4147a2227de5"
   },
   "outputs": [
    {
     "data": {
      "text/plain": [
       "array([[2., 3.],\n",
       "       [4., 5.]])"
      ]
     },
     "execution_count": 68,
     "metadata": {},
     "output_type": "execute_result"
    }
   ],
   "source": [
    "data = np.array([[1, 2], [3, 4]])\n",
    "ones = np.ones((2, 2))\n",
    "data + ones              "
   ]
  },
  {
   "cell_type": "markdown",
   "metadata": {
    "id": "HwlsCM7GEAzE"
   },
   "source": [
    "<img src=\"https://numpy.org/doc/stable/_images/np_multiply_broadcasting.png\"/>"
   ]
  },
  {
   "cell_type": "code",
   "execution_count": null,
   "metadata": {
    "colab": {
     "base_uri": "https://localhost:8080/"
    },
    "id": "ChS7sxXXEAcm",
    "outputId": "f0ed6525-00f9-4e12-d2f7-6ef28156822b"
   },
   "outputs": [
    {
     "name": "stdout",
     "output_type": "stream",
     "text": [
      "[1.6 3.2]\n",
      "[1.6 3.2]\n",
      "[1.6 3.2]\n"
     ]
    }
   ],
   "source": [
    "# Broadcasting is a mechanism that allows NumPy to perform operations on arrays of different shapes. \n",
    "# The dimensions of your array must be compatible, \n",
    "# for example, when the dimensions of both arrays are equal or when one of them is 1\n",
    "data = np.array([1.0, 2.0])\n",
    "for d in [data * 1.6, data * np.array(1.6), data * np.array([1.6])]:\n",
    "  print(d)"
   ]
  },
  {
   "cell_type": "markdown",
   "metadata": {
    "id": "QwZWtSHNC6Ty"
   },
   "source": [
    "<img src=\"https://numpy.org/doc/stable/_images/np_matrix_broadcasting.png\"/>"
   ]
  },
  {
   "cell_type": "code",
   "execution_count": null,
   "metadata": {
    "colab": {
     "base_uri": "https://localhost:8080/"
    },
    "id": "UQBBE89kC3vi",
    "outputId": "391cedaa-61bc-4580-f465-4c071a243b1a"
   },
   "outputs": [
    {
     "data": {
      "text/plain": [
       "array([[2, 3],\n",
       "       [4, 5],\n",
       "       [6, 7]])"
      ]
     },
     "execution_count": 66,
     "metadata": {},
     "output_type": "execute_result"
    }
   ],
   "source": [
    "data = np.array([[1, 2], [3, 4], [5, 6]])\n",
    "ones_row = np.array([[1, 1]])\n",
    "data + ones_row    # broadcast "
   ]
  },
  {
   "cell_type": "markdown",
   "metadata": {
    "id": "xtoOMQHsGoZm"
   },
   "source": [
    "## Aggregation Operations"
   ]
  },
  {
   "cell_type": "markdown",
   "metadata": {
    "id": "1gBceeKoGzVM"
   },
   "source": [
    "<img src=\"https://numpy.org/doc/stable/_images/np_aggregation.png\"/>"
   ]
  },
  {
   "cell_type": "code",
   "execution_count": null,
   "metadata": {
    "colab": {
     "base_uri": "https://localhost:8080/"
    },
    "id": "abCi7BS7GrAJ",
    "outputId": "ac4d66a4-bd9d-4563-d58c-6afdd5b94bd8"
   },
   "outputs": [
    {
     "name": "stdout",
     "output_type": "stream",
     "text": [
      "3\n",
      "1\n",
      "6\n"
     ]
    }
   ],
   "source": [
    "data = np.array([1, 2, 3])\n",
    "for agg in [data.max(), data.min(), data.sum()]:\n",
    "  print(agg)"
   ]
  },
  {
   "cell_type": "markdown",
   "metadata": {
    "id": "LpQQrR9_ioTU"
   },
   "source": [
    "<img src=\"https://numpy.org/doc/stable/_images/np_matrix_aggregation.png\"/>"
   ]
  },
  {
   "cell_type": "code",
   "execution_count": null,
   "metadata": {
    "colab": {
     "base_uri": "https://localhost:8080/"
    },
    "id": "YEICiFawioFA",
    "outputId": "9db7271d-a545-48ea-b310-87e4ce59a3bb"
   },
   "outputs": [
    {
     "name": "stdout",
     "output_type": "stream",
     "text": [
      "[[1 2 3]\n",
      " [4 5 6]]\n",
      "6\n",
      "1\n",
      "21\n"
     ]
    }
   ],
   "source": [
    "data = np.array([i for i in range(1, 7)]).reshape((2, 3))\n",
    "for d in [data, data.max(), data.min(), data.sum()]:\n",
    "  print(d)"
   ]
  },
  {
   "cell_type": "code",
   "execution_count": null,
   "metadata": {
    "colab": {
     "base_uri": "https://localhost:8080/"
    },
    "id": "jvvMlsfbj5yw",
    "outputId": "7f5cbd26-02c9-4d28-cc26-2f2842e99ce4"
   },
   "outputs": [
    {
     "name": "stdout",
     "output_type": "stream",
     "text": [
      "3.50\n",
      "1.71\n",
      "2.92\n"
     ]
    }
   ],
   "source": [
    "for d in [data.mean(), data.std(), data.var()]:\n",
    "  print('{:.2f}'.format(d))"
   ]
  },
  {
   "cell_type": "code",
   "execution_count": null,
   "metadata": {
    "colab": {
     "base_uri": "https://localhost:8080/"
    },
    "id": "t6q4N4EFk7Me",
    "outputId": "b750ee0d-7c46-470d-f732-f302d7d92a2f"
   },
   "outputs": [
    {
     "name": "stdout",
     "output_type": "stream",
     "text": [
      "[[1 2 3]\n",
      " [4 5 6]]\n",
      "1\n",
      "6\n",
      "[1 4]\n",
      "[3 6]\n",
      "0\n",
      "5\n"
     ]
    }
   ],
   "source": [
    "for d in [data, np.amin(data), np.amax(data), np.amin(data, axis=1), np.amax(data, axis=1), data.argmin(), data.argmax()]:\n",
    "  print(d)"
   ]
  },
  {
   "cell_type": "markdown",
   "metadata": {
    "id": "3gnX5yrYLrNM"
   },
   "source": [
    "<img src=\"https://numpy.org/doc/stable/_images/np_matrix_aggregation_row.png\"/>"
   ]
  },
  {
   "cell_type": "code",
   "execution_count": null,
   "metadata": {
    "colab": {
     "base_uri": "https://localhost:8080/"
    },
    "id": "3JfwvUBqLq5N",
    "outputId": "4faf4340-f424-4186-8b66-07c817e1e1e1"
   },
   "outputs": [
    {
     "name": "stdout",
     "output_type": "stream",
     "text": [
      "[5 6]\n",
      "[2 5 6]\n"
     ]
    }
   ],
   "source": [
    "data = np.array([[1, 2], [5, 3], [4, 6]])\n",
    "for d in [data.max(axis=0), data.max(axis=1)]:\n",
    "  print(d)"
   ]
  },
  {
   "cell_type": "markdown",
   "metadata": {
    "id": "aKGeMRfmlv4e"
   },
   "source": [
    "## Random"
   ]
  },
  {
   "cell_type": "code",
   "execution_count": null,
   "metadata": {
    "colab": {
     "base_uri": "https://localhost:8080/"
    },
    "id": "U4U5QJL7I1Ed",
    "outputId": "41085837-cb68-4bb6-e2d1-1cf419126a96"
   },
   "outputs": [
    {
     "name": "stdout",
     "output_type": "stream",
     "text": [
      "Generator(PCG64)\n",
      "[0.26444416 0.57378482 0.47240276]\n",
      "[5 4 9]\n"
     ]
    }
   ],
   "source": [
    "rng = np.random.default_rng() # random number generation\n",
    "print(rng)\n",
    "for r in [rng.random(3), rng.integers(low=0, high=10, size=3)]:\n",
    "  print(r)"
   ]
  },
  {
   "cell_type": "code",
   "execution_count": null,
   "metadata": {
    "colab": {
     "base_uri": "https://localhost:8080/"
    },
    "id": "vImVUZSwmsL8",
    "outputId": "5b690d86-559b-438e-dc89-cd6ccf10c552"
   },
   "outputs": [
    {
     "name": "stdout",
     "output_type": "stream",
     "text": [
      "Generator(PCG64)\n",
      "[0.77395605 0.43887844 0.85859792]\n",
      "[[0 6]\n",
      " [2 0]\n",
      " [5 9]]\n"
     ]
    }
   ],
   "source": [
    "rng_seed = np.random.default_rng(seed=42)  # reproducible results\n",
    "print(rng_seed)\n",
    "for r in [rng_seed.random(3), rng_seed.integers(low=0, high=10, size=(3, 2))]:\n",
    "  print(r)"
   ]
  },
  {
   "cell_type": "markdown",
   "metadata": {
    "id": "MhJv9Qx6oM0F"
   },
   "source": [
    "\n",
    "## Normal distribution\n",
    "\n",
    "$$f(x) = \\frac{1}{\\sigma\\sqrt{2\\pi}} \n",
    "  \\exp\\left( -\\frac{1}{2}\\left(\\frac{x-\\mu}{\\sigma}\\right)^{\\!2}\\,\\right)$$\n"
   ]
  },
  {
   "cell_type": "code",
   "execution_count": null,
   "metadata": {
    "colab": {
     "base_uri": "https://localhost:8080/"
    },
    "id": "WrxuvQ0snKO4",
    "outputId": "c99cd3d7-72d1-4eb0-dcd8-bd7f71e79bea"
   },
   "outputs": [
    {
     "data": {
      "text/plain": [
       "array([-0.74819614, -0.37458005,  1.04859796,  0.42310557,  0.83694488,\n",
       "        0.19877031,  1.76193929, -0.29192027,  0.64238677, -0.26200104])"
      ]
     },
     "execution_count": 55,
     "metadata": {},
     "output_type": "execute_result"
    }
   ],
   "source": [
    "mu, sigma = 0, 1\n",
    "rng = np.random.default_rng()\n",
    "s = rng.normal(mu, sigma, 10)\n",
    "s"
   ]
  },
  {
   "cell_type": "code",
   "execution_count": null,
   "metadata": {
    "colab": {
     "base_uri": "https://localhost:8080/",
     "height": 430
    },
    "id": "fD2qXbMGnTtq",
    "outputId": "23a0eb27-7322-4a1d-d307-a9dab012cfb4"
   },
   "outputs": [
    {
     "data": {
      "image/png": "[encoded data removed]",
      "text/plain": [
       "<Figure size 640x480 with 1 Axes>"
      ]
     },
     "metadata": {},
     "output_type": "display_data"
    }
   ],
   "source": [
    "import matplotlib.pyplot as plt\n",
    "\n",
    "s = np.random.default_rng().normal(mu, sigma, 1000)\n",
    "count, bins, ignored = plt.hist(s, bins=50, density=True)\n",
    "plt.plot(bins, 1/(sigma * np.sqrt(2 * np.pi)) *\n",
    "               np.exp( - (bins - mu)**2 / (2 * sigma**2) ))\n",
    "plt.show()"
   ]
  },
  {
   "cell_type": "code",
   "execution_count": null,
   "metadata": {
    "colab": {
     "base_uri": "https://localhost:8080/"
    },
    "id": "XERK-1JG7LTn",
    "outputId": "25c8d60e-d299-42e8-d0e0-fa4b782e48ef"
   },
   "outputs": [
    {
     "data": {
      "text/plain": [
       "array([[ 0.59379979,  0.64470284],\n",
       "       [ 1.84563768,  2.08036404],\n",
       "       [-1.13595792, -0.07277549],\n",
       "       [ 2.66528613, -0.93791309],\n",
       "       [-0.70077917,  0.15421179]])"
      ]
     },
     "execution_count": 4,
     "metadata": {},
     "output_type": "execute_result"
    }
   ],
   "source": [
    "# Return a sample (or samples) from the “standard normal” distribution.\n",
    "np.random.randn(5, 2)"
   ]
  },
  {
   "cell_type": "markdown",
   "metadata": {
    "id": "Z3XIrh3fGiTv"
   },
   "source": [
    "## Dot Product"
   ]
  },
  {
   "cell_type": "markdown",
   "metadata": {
    "id": "qHeiIk6Pdh9y"
   },
   "source": [
    "<img src=\"https://jalammar.github.io/images/numpy/numpy-matrix-dot-product-1.png\"/>"
   ]
  },
  {
   "cell_type": "code",
   "execution_count": null,
   "metadata": {
    "colab": {
     "base_uri": "https://localhost:8080/"
    },
    "id": "xMQLNosZeBz3",
    "outputId": "cf5ef157-cc87-4047-da16-b6a388f20c8a"
   },
   "outputs": [
    {
     "name": "stdout",
     "output_type": "stream",
     "text": [
      "[[ 30201 302010]]\n",
      "[[ 30201 302010]]\n",
      "[[ 30201 302010]]\n"
     ]
    }
   ],
   "source": [
    "data = np.array([1, 2, 3]).reshape((1, 3))\n",
    "powers_of_ten = np.reshape([pow(10, i) for i in range(0, 6)], (3,2))\n",
    "# For 2-D arrays it is equivalent to matrix multiplication\n",
    "for d in [data.dot(powers_of_ten), np.matmul(data, powers_of_ten), data @ powers_of_ten]:\n",
    "  print(d)\n"
   ]
  },
  {
   "cell_type": "code",
   "execution_count": null,
   "metadata": {
    "colab": {
     "base_uri": "https://localhost:8080/"
    },
    "id": "9pMUdxfwHx-R",
    "outputId": "a84cd404-d2e2-414c-e262-0c5edd79e977"
   },
   "outputs": [
    {
     "name": "stdout",
     "output_type": "stream",
     "text": [
      "[[16  0]\n",
      " [ 0 12]]\n",
      "[[18  8]\n",
      " [ 3 12]]\n",
      "[[18  8]\n",
      " [ 3 12]]\n"
     ]
    }
   ],
   "source": [
    "A = np.array([[4, 2],\n",
    "             [0, 3]])\n",
    "B = np.array([[4, 0],\n",
    "             [1, 4]])\n",
    "\n",
    "print(A * B)            # element-wise multiplication\n",
    "print(A.dot(B))         # dot product\n",
    "print(np.matmul(A, B))  # matrix multiplication"
   ]
  },
  {
   "cell_type": "markdown",
   "metadata": {
    "id": "Qaldw9gAibsX"
   },
   "source": [
    "## Working with mathematical formulas"
   ]
  },
  {
   "cell_type": "markdown",
   "metadata": {
    "id": "GEg6jhikwdMR"
   },
   "source": [
    "<img src=\"https://numpy.org/doc/stable/_images/np_MSE_formula.png\"/>\n",
    "\n",
    "<img src=\"https://numpy.org/doc/stable/_images/np_mse_viz2.png\"/>\n",
    "\n",
    "<img src=\"https://numpy.org/doc/stable/_images/np_mse_viz2.png\"/>\n",
    "\n",
    "<img src=\"https://numpy.org/doc/stable/_images/np_MSE_explanation2.png\"/>\n"
   ]
  },
  {
   "cell_type": "code",
   "execution_count": null,
   "metadata": {
    "colab": {
     "base_uri": "https://localhost:8080/"
    },
    "id": "9SdhMfnjIOXN",
    "outputId": "2d83a1c1-3757-476e-d1fd-58c16a17eef5"
   },
   "outputs": [
    {
     "data": {
      "text/plain": [
       "1.6666666666666665"
      ]
     },
     "execution_count": 61,
     "metadata": {},
     "output_type": "execute_result"
    }
   ],
   "source": [
    "y_prediction = np.array([1, 1, 1])\n",
    "label = np.array([1, 2, 3]) \n",
    "\n",
    "mse = (1/3) * np.sum(np.square(y_prediction - label))\n",
    "mse"
   ]
  },
  {
   "cell_type": "code",
   "execution_count": null,
   "metadata": {
    "colab": {
     "base_uri": "https://localhost:8080/"
    },
    "id": "DFVdm0iQxno-",
    "outputId": "b74f7104-b9c5-4f42-d52e-fc009d562dc9"
   },
   "outputs": [
    {
     "data": {
      "text/plain": [
       "array([ 0, -1, -2])"
      ]
     },
     "execution_count": 62,
     "metadata": {},
     "output_type": "execute_result"
    }
   ],
   "source": [
    "y_prediction - label"
   ]
  },
  {
   "cell_type": "code",
   "execution_count": null,
   "metadata": {
    "colab": {
     "base_uri": "https://localhost:8080/"
    },
    "id": "51ne52qYx0Eq",
    "outputId": "7c5d74c9-e5c3-4efb-ce43-f737b0174b68"
   },
   "outputs": [
    {
     "data": {
      "text/plain": [
       "array([0, 1, 4])"
      ]
     },
     "execution_count": 63,
     "metadata": {},
     "output_type": "execute_result"
    }
   ],
   "source": [
    "np.square(y_prediction - label)"
   ]
  },
  {
   "cell_type": "code",
   "execution_count": null,
   "metadata": {
    "colab": {
     "base_uri": "https://localhost:8080/"
    },
    "id": "AYNN49mex3Ti",
    "outputId": "7353d3b3-2e93-4689-b650-e793f9f3602d"
   },
   "outputs": [
    {
     "data": {
      "text/plain": [
       "5"
      ]
     },
     "execution_count": 64,
     "metadata": {},
     "output_type": "execute_result"
    }
   ],
   "source": [
    "np.sum(np.square(y_prediction - label))"
   ]
  },
  {
   "cell_type": "code",
   "execution_count": null,
   "metadata": {
    "id": "hJ5lzwGoxngK"
   },
   "outputs": [],
   "source": [
    "y_pred = np.arra([0.58, 1.56, 2.54, 3.52, 4.50])\n",
    "y_pred = np.arra([1, 2, 2, 4, 4])"
   ]
  },
  {
   "cell_type": "markdown",
   "metadata": {
    "id": "ryX7ktjUyIf9"
   },
   "source": []
  },
  {
   "cell_type": "code",
   "execution_count": null,
   "metadata": {
    "colab": {
     "base_uri": "https://localhost:8080/"
    },
    "id": "InBYRizmzix_",
    "outputId": "0f7d0ae0-de88-414c-8c05-160067ab7cea"
   },
   "outputs": [
    {
     "name": "stdout",
     "output_type": "stream",
     "text": [
      "[[0 1 2]\n",
      " [3 4 5]\n",
      " [6 7 8]]\n",
      "12\n",
      "[0 4 8]\n"
     ]
    }
   ],
   "source": [
    "A = np.arange(9).reshape((3,3))\n",
    "for a in [A, np.trace(A), np.diagonal(A)]:\n",
    "  print(a)"
   ]
  },
  {
   "cell_type": "code",
   "execution_count": null,
   "metadata": {
    "colab": {
     "base_uri": "https://localhost:8080/"
    },
    "id": "XKApQVe2zjEy",
    "outputId": "42131936-0987-4a82-ac92-c85dc60c789d"
   },
   "outputs": [
    {
     "name": "stdout",
     "output_type": "stream",
     "text": [
      "[[[0 1]\n",
      "  [2 3]]\n",
      "\n",
      " [[4 5]\n",
      "  [6 7]]]\n",
      "[6 8]\n",
      "[[0 6]\n",
      " [1 7]]\n"
     ]
    }
   ],
   "source": [
    "A = np.arange(8).reshape((2,2,2))\n",
    "for a in [A, np.trace(A), np.diagonal(A)]:\n",
    "  print(a)"
   ]
  },
  {
   "cell_type": "code",
   "execution_count": null,
   "metadata": {
    "id": "rKo4Y5MUz1qT"
   },
   "outputs": [],
   "source": []
  }
 ],
 "metadata": {
  "colab": {
   "provenance": [],
   "toc_visible": true
  },
  "kernelspec": {
   "display_name": "Python 3 (ipykernel)",
   "language": "python",
   "name": "python3"
  },
  "language_info": {
   "codemirror_mode": {
    "name": "ipython",
    "version": 3
   },
   "file_extension": ".py",
   "mimetype": "text/x-python",
   "name": "python",
   "nbconvert_exporter": "python",
   "pygments_lexer": "ipython3",
   "version": "3.10.10"
  }
 },
 "nbformat": 4,
 "nbformat_minor": 4
}
