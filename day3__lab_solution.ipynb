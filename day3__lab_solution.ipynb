{
  "nbformat": 4,
  "nbformat_minor": 0,
  "metadata": {
    "colab": {
      "provenance": []
    },
    "kernelspec": {
      "name": "python3",
      "display_name": "Python 3"
    },
    "language_info": {
      "name": "python"
    }
  },
  "cells": [
    {
      "cell_type": "markdown",
      "source": [
        "# Lab5"
      ],
      "metadata": {
        "id": "ZYJeA4fpcGNk"
      }
    },
    {
      "cell_type": "markdown",
      "source": [
        "\n",
        "\n",
        "## 1. Write your code according to the following instructions:\n",
        "\n",
        "* Create a list of integers and find the sum of all even numbers.\n",
        "* Add a new element to the end of the list.\n",
        "* Remove the first element from the list.\n",
        "* Sort the list in ascending order.\n",
        "\n",
        "\n",
        "\n",
        "\n",
        "\n",
        "\n"
      ],
      "metadata": {
        "id": "0AZqhmeccW7p"
      }
    },
    {
      "cell_type": "code",
      "source": [
        "l = range(1, 1001)\n",
        "s = 0\n",
        "for i in l:\n",
        "  if i % 2 == 0:\n",
        "    s += i\n",
        "sum(s)"
      ],
      "metadata": {
        "colab": {
          "base_uri": "https://localhost:8080/"
        },
        "id": "HDPqqQ4V4sG2",
        "outputId": "76ded042-622e-42b6-e8f5-3a760313672b"
      },
      "execution_count": 23,
      "outputs": [
        {
          "output_type": "execute_result",
          "data": {
            "text/plain": [
              "500500"
            ]
          },
          "metadata": {},
          "execution_count": 23
        }
      ]
    },
    {
      "cell_type": "code",
      "source": [
        "# Create a list of integers\n",
        "int_list = list(range(1, 100))\n",
        "\n",
        "even_sum = sum([x for x in int_list if x % 2 == 0])\n",
        "print(even_sum)\n",
        "\n",
        "int_list.append(6)\n",
        "int_list.pop(0)\n",
        "print(int_list)\n",
        "\n",
        "#int_list.sort()\n",
        "import random\n",
        "int_list = (random.randint(1,100) for _ in range(100))\n",
        "#print(int_list.sort())\n",
        "#print(int_list)\n",
        "print(sorted(int_list))\n"
      ],
      "metadata": {
        "id": "SBUQ1WRTc1Nz",
        "colab": {
          "base_uri": "https://localhost:8080/"
        },
        "outputId": "bd949fc8-2f0d-4bb8-cad7-189feb46dda5"
      },
      "execution_count": 27,
      "outputs": [
        {
          "output_type": "stream",
          "name": "stdout",
          "text": [
            "2450\n",
            "[2, 3, 4, 5, 6, 7, 8, 9, 10, 11, 12, 13, 14, 15, 16, 17, 18, 19, 20, 21, 22, 23, 24, 25, 26, 27, 28, 29, 30, 31, 32, 33, 34, 35, 36, 37, 38, 39, 40, 41, 42, 43, 44, 45, 46, 47, 48, 49, 50, 51, 52, 53, 54, 55, 56, 57, 58, 59, 60, 61, 62, 63, 64, 65, 66, 67, 68, 69, 70, 71, 72, 73, 74, 75, 76, 77, 78, 79, 80, 81, 82, 83, 84, 85, 86, 87, 88, 89, 90, 91, 92, 93, 94, 95, 96, 97, 98, 99, 6]\n",
            "[1, 2, 3, 5, 5, 6, 6, 6, 7, 7, 9, 9, 10, 12, 14, 16, 17, 18, 19, 21, 22, 23, 23, 24, 26, 28, 28, 29, 30, 32, 32, 33, 33, 34, 34, 35, 35, 35, 36, 36, 39, 39, 40, 41, 44, 47, 48, 48, 50, 51, 52, 52, 54, 55, 56, 56, 58, 60, 62, 62, 64, 66, 68, 68, 68, 68, 69, 70, 71, 71, 72, 72, 73, 74, 76, 77, 77, 80, 80, 82, 82, 83, 83, 84, 87, 89, 90, 92, 93, 94, 94, 95, 96, 96, 97, 98, 98, 98, 99, 99]\n"
          ]
        }
      ]
    },
    {
      "cell_type": "markdown",
      "source": [
        "## 2. Write your code according to the following instructions:\n",
        "\n",
        "* Create a tuple containing names of your three favorite fruits.\n",
        "* Use tuple unpacking to assign each fruit to a separate variable.\n",
        "* Create a new tuple by concatenating your favorite fruits with a tuple of your favorite vegetables.\n",
        "\n",
        "\n"
      ],
      "metadata": {
        "id": "mGbPfQJEc5pl"
      }
    },
    {
      "cell_type": "code",
      "source": [
        "# Create a tuple containing names of your three favorite fruits.\n",
        "fruits = (\"apple\", \"banana\", \"cherry\")\n",
        "vegetables = (\"carrot\", \"spinach\", \"cabbage\")\n",
        "\n",
        "a, b, c = fruits\n",
        "favorite_foods = fruits + vegetables\n",
        "print(favorite_foods)"
      ],
      "metadata": {
        "id": "mGAC-9rSc7Qd",
        "colab": {
          "base_uri": "https://localhost:8080/"
        },
        "outputId": "a4a6fbdb-161b-420d-bff4-8edcbb63057b"
      },
      "execution_count": null,
      "outputs": [
        {
          "output_type": "stream",
          "name": "stdout",
          "text": [
            "('apple', 'banana', 'cherry', 'carrot', 'spinach', 'cabbage')\n"
          ]
        }
      ]
    },
    {
      "cell_type": "markdown",
      "source": [
        "## 3. Write your code according to the following instructions:\n",
        "\n",
        "* Create a list of strings and find the longest string.\n",
        "* Calculate the sum of a range of numbers from 1 to 100.\n",
        "* Using a list comprehension, create a list containing the squares of the numbers from 1 to 10.\n",
        "\n"
      ],
      "metadata": {
        "id": "INqFk2K5c7ks"
      }
    },
    {
      "cell_type": "code",
      "source": [],
      "metadata": {
        "colab": {
          "base_uri": "https://localhost:8080/"
        },
        "id": "VTBgAWJZ6VBO",
        "outputId": "cc0d8cbe-614b-4c3c-8e0f-0b1b64bd8e33"
      },
      "execution_count": 30,
      "outputs": [
        {
          "output_type": "execute_result",
          "data": {
            "text/plain": [
              "5"
            ]
          },
          "metadata": {},
          "execution_count": 30
        }
      ]
    },
    {
      "cell_type": "code",
      "source": [
        "def add(a, b):\n",
        "  return a+b\n",
        "\n",
        "\n",
        "# Create a list of strings\n",
        "strings = [\"apple\", \"banana\", \"A\", \"Hello\", \"Python is fun!\", \"pineapple\", \"blueberry\", ]\n",
        "longest = max(strings, key=len)  # https://docs.python.org/3/library/functions.html#max\n",
        "\n",
        "\n",
        "num_sum = sum(range(1, 101))     # https://docs.python.org/3/library/functions.html#sum\n",
        "squares = [x ** 2 for x in range(1, 11)]\n",
        "print(longest)\n",
        "print(num_sum)\n",
        "print(squares)"
      ],
      "metadata": {
        "id": "B2c46qWfc8z0",
        "colab": {
          "base_uri": "https://localhost:8080/"
        },
        "outputId": "10825535-78ca-4320-9b42-da58f505527e"
      },
      "execution_count": null,
      "outputs": [
        {
          "output_type": "stream",
          "name": "stdout",
          "text": [
            "Python is fun!\n",
            "5050\n",
            "[1, 4, 9, 16, 25, 36, 49, 64, 81, 100]\n"
          ]
        }
      ]
    },
    {
      "cell_type": "markdown",
      "source": [
        "\n",
        "## 4. Write your code according to the following instructions:\n",
        "\n",
        "* Create two lists, a and b, where b is a shallow copy of a.\n",
        "* Modify an element in a and observe the effect on b.\n",
        "* Repeat the process using a deep copy instead of a shallow copy."
      ],
      "metadata": {
        "id": "jAEoPcBXc9kM"
      }
    },
    {
      "cell_type": "code",
      "source": [
        "import copy\n",
        "# Create a list with variable name a\n",
        "a = [1, 2, [3, 4]]\n",
        "\n",
        "b = a.copy()\n",
        "a[2].append(5)\n",
        "\n",
        "c = copy.deepcopy(a)\n",
        "a[2].append(6)\n",
        "\n",
        "print(a)\n",
        "print(b)\n",
        "print(c)"
      ],
      "metadata": {
        "id": "nJN7nZ1Nc-ad",
        "colab": {
          "base_uri": "https://localhost:8080/"
        },
        "outputId": "443e7647-8999-42af-b2e3-be6be69b7fc4"
      },
      "execution_count": null,
      "outputs": [
        {
          "output_type": "stream",
          "name": "stdout",
          "text": [
            "[1, 2, [3, 4, 5, 6]]\n",
            "[1, 2, [3, 4, 5, 6]]\n",
            "[1, 2, [3, 4, 5]]\n"
          ]
        }
      ]
    },
    {
      "cell_type": "markdown",
      "source": [
        "## 5 Write your code according to the following instructions:\n",
        "\n",
        "* Create a string containing a sentence.\n",
        "* Reverse the order of the words in the sentence.\n",
        "* Convert the sentence to uppercase.\n",
        "Replace a word in the sentence with another word.\n",
        "\n",
        "\n",
        "\n"
      ],
      "metadata": {
        "id": "EkRNBCyLctUY"
      }
    },
    {
      "cell_type": "code",
      "source": [
        "# Create a string containing a sentence.\n",
        "sentence = \"This is a sample sentence\"\n",
        "\n",
        "reversed_words = \" \".join(sentence.split()[::-1])\n",
        "uppercase = sentence.upper()\n",
        "replaced = sentence.replace(\"sample\", \"new\")\n",
        "\n",
        "print(reversed_words)\n",
        "print(uppercase)\n",
        "print(replaced)"
      ],
      "metadata": {
        "id": "BxdeHEF_cB3C",
        "colab": {
          "base_uri": "https://localhost:8080/"
        },
        "outputId": "79a6c4f7-2878-4ecd-d7f0-9f88115f1116"
      },
      "execution_count": 17,
      "outputs": [
        {
          "output_type": "stream",
          "name": "stdout",
          "text": [
            "sentence sample a is This\n",
            "THIS IS A SAMPLE SENTENCE\n",
            "This is a new sentence\n"
          ]
        }
      ]
    },
    {
      "cell_type": "markdown",
      "source": [
        "# 6. Palindrome Check\n",
        "\n",
        "A palindrome is a word, phrase, number, or other sequences of characters that reads the same forward and backward, ignoring spaces, punctuation, and capitalization. Write a function that checks if a given string is a palindrome."
      ],
      "metadata": {
        "id": "tdJa-fe6Lu_N"
      }
    },
    {
      "cell_type": "code",
      "source": [
        "def is_palindrome(s: str):\n",
        "    # Implement your code \n",
        "    # Return true if s is palladium, false otherwise.\n",
        "    middle = len(s)//2\n",
        "    if len(s) % 2 == 0:\n",
        "      return s[:middle] == s[:middle-1:-1]\n",
        "    else:\n",
        "      return s[:middle] == s[:middle:-1]\n",
        "\n",
        "input_strings = ['', 'a', 'abccba', 'racecar', 'hello', 'madam', 'python', 'level', 'world']  \n",
        "\n",
        "for s in input_strings:\n",
        "  print(is_palindrome(s))"
      ],
      "metadata": {
        "id": "rBaG-0MTRktW",
        "colab": {
          "base_uri": "https://localhost:8080/"
        },
        "outputId": "8ff484d7-4fa3-4d1b-ce2a-34f353ecaac3"
      },
      "execution_count": 31,
      "outputs": [
        {
          "output_type": "stream",
          "name": "stdout",
          "text": [
            "True\n",
            "True\n",
            "True\n",
            "True\n",
            "False\n",
            "True\n",
            "False\n",
            "True\n",
            "False\n"
          ]
        }
      ]
    },
    {
      "cell_type": "markdown",
      "source": [
        "# Lab6"
      ],
      "metadata": {
        "id": "9fgcLU2reahl"
      }
    },
    {
      "cell_type": "markdown",
      "source": [
        "## 1. Write your code according to the following instructions:\n",
        "\n",
        "* Create a list of numbers from 1 to 50.\n",
        "* Filter out all the numbers that are divisible by 3 and store them in a new list.\n",
        "* Calculate the sum of the remaining numbers in the original list.\n",
        "* Reverse the order of the elements in the original list."
      ],
      "metadata": {
        "id": "dI9p5_rNec8G"
      }
    },
    {
      "cell_type": "code",
      "source": [
        "# Create a list of numbers from 1 to 50\n",
        "numbers = list(range(1, 51))\n",
        "\n",
        "divisible_by_3 = [n for n in numbers if n % 3 == 0]\n",
        "remaining_numbers = [n for n in numbers if n not in divisible_by_3]\n",
        "remaining_sum = sum(remaining_numbers)\n",
        "\n",
        "print(divisible_by_3)\n",
        "print(remaining_numbers)\n",
        "print(remaining_sum)\n",
        "\n",
        "#numbers.reversed()\n",
        "#print(numbers)\n",
        "#print(reversed(numbers))\n",
        "print(list(reversed(numbers)))\n",
        "\n",
        "# How about set?"
      ],
      "metadata": {
        "id": "nvheaxJOedT9",
        "colab": {
          "base_uri": "https://localhost:8080/"
        },
        "outputId": "7a073500-1629-4aca-9dd5-06c0e1403232"
      },
      "execution_count": 36,
      "outputs": [
        {
          "output_type": "stream",
          "name": "stdout",
          "text": [
            "[3, 6, 9, 12, 15, 18, 21, 24, 27, 30, 33, 36, 39, 42, 45, 48]\n",
            "[1, 2, 4, 5, 7, 8, 10, 11, 13, 14, 16, 17, 19, 20, 22, 23, 25, 26, 28, 29, 31, 32, 34, 35, 37, 38, 40, 41, 43, 44, 46, 47, 49, 50]\n",
            "867\n",
            "[50, 49, 48, 47, 46, 45, 44, 43, 42, 41, 40, 39, 38, 37, 36, 35, 34, 33, 32, 31, 30, 29, 28, 27, 26, 25, 24, 23, 22, 21, 20, 19, 18, 17, 16, 15, 14, 13, 12, 11, 10, 9, 8, 7, 6, 5, 4, 3, 2, 1]\n"
          ]
        }
      ]
    },
    {
      "cell_type": "markdown",
      "source": [
        "## 2. Write your code according to the following instructions:\n",
        "\n",
        "* Create a tuple containing 5 numbers.\n",
        "* Calculate the minimum, maximum, and average of the numbers in the tuple.\n",
        "* Create a new tuple by appending the calculated minimum, maximum, and average to the original tuple.\n",
        "* Use tuple unpacking to store the first three elements of the new tuple in separate variables."
      ],
      "metadata": {
        "id": "wDOVnwLTee8p"
      }
    },
    {
      "cell_type": "code",
      "source": [
        "# Create a tuple containing 5 numbers\n",
        "numbers = (3, 7, 2, 9, 5)\n",
        "\n",
        "minimum = min(numbers)\n",
        "maximum = max(numbers)\n",
        "average = sum(numbers) / len(numbers)\n",
        "\n",
        "new_tuple = numbers + (minimum, maximum, average)\n",
        "a, b, c, *rest = new_tuple\n",
        "\n",
        "print(minimum)\n",
        "print(maximum)\n",
        "print(average)\n",
        "print(a, b, c)\n",
        "print(rest)"
      ],
      "metadata": {
        "id": "YeC_cgT3ee8q",
        "colab": {
          "base_uri": "https://localhost:8080/"
        },
        "outputId": "e814f2de-2cd8-423d-e0c1-235ed0281f06"
      },
      "execution_count": null,
      "outputs": [
        {
          "output_type": "stream",
          "name": "stdout",
          "text": [
            "2\n",
            "9\n",
            "5.2\n",
            "3 7 2\n",
            "[9, 5, 2, 9, 5.2]\n"
          ]
        }
      ]
    },
    {
      "cell_type": "markdown",
      "source": [
        "## 3. Write your code according to the following instructions:\n",
        "\n",
        "* Write a function that takes a string as input and returns the string with all vowels removed.\n",
        "* Create a list of strings and use the function to filter the vowels from each string.\n",
        "* Sort the filtered strings based on the number of consonants.\n",
        "* Write a function that takes a string as input and returns the string with words in reverse order. Use this function on each string in the list of filtered strings."
      ],
      "metadata": {
        "id": "P5k8YQd9dmUT"
      }
    },
    {
      "cell_type": "code",
      "source": [
        "def remove_vowels(s):\n",
        "  # implement your code\n",
        "  vowels = \"aeiou\"\n",
        "  return \"\".join(c for c in s.lower() if c not in vowels)\n",
        "\n",
        "# Create a list of strings\n",
        "strings = [\"apple\", \"banana\", \"cherry\", \"kiwi\", \"mango\", \"orange\", \"strawberry\", \"avocado\", \"zucchini\", \"grape\", \"blueberry\"]\n",
        "\n",
        "for s in strings:\n",
        "  print(remove_vowels(s))"
      ],
      "metadata": {
        "id": "EBIwt03Kdnpp",
        "colab": {
          "base_uri": "https://localhost:8080/"
        },
        "outputId": "a9de8fe4-f9ac-40b4-fa10-750cdce7339c"
      },
      "execution_count": null,
      "outputs": [
        {
          "output_type": "stream",
          "name": "stdout",
          "text": [
            "ppl\n",
            "bnn\n",
            "chrry\n",
            "kw\n",
            "mng\n",
            "rng\n",
            "strwbrry\n",
            "vcd\n",
            "zcchn\n",
            "grp\n",
            "blbrry\n"
          ]
        }
      ]
    },
    {
      "cell_type": "markdown",
      "source": [
        "## 4. Two Sum\n",
        "\n",
        "Given a list of integers and a target integer, find two integers in the list that sum up to the target. Return their indices as a tuple. Assume there is exactly one solution and you may not use the same element twice.\n",
        "\n",
        "\n",
        "```\n",
        "# input data 1\n",
        "numbers = [3, 2, 4]\n",
        "target = 6\n",
        "\n",
        "# output data 1\n",
        "(1, 2)\n",
        "\n",
        "# input data 2\n",
        "numbers = [8, 5, 6, 1, 2, 9]\n",
        "target = 9\n",
        "\n",
        "# output data 2\n",
        "(0, 3)\n",
        "\n",
        "# input data 3\n",
        "numbers = [1, 3, 6, 9, 2, 4, 8]\n",
        "target = 14\n",
        "\n",
        "# output data 3\n",
        "(2, 6)\n",
        "```"
      ],
      "metadata": {
        "id": "mPv8F8IDdsNB"
      }
    },
    {
      "cell_type": "code",
      "source": [
        "def two_sum(nums, target):\n",
        "  # Implement your code\n",
        "  # Return two integers in the list that sum up to the target\n",
        "  seen = {}\n",
        "  for i, num in enumerate(nums):\n",
        "    d = target - num\n",
        "    if d in seen:\n",
        "      return (seen[d], i)\n",
        "    seen[num] = i\n",
        "  return None\n",
        "\n",
        "input_data = [([3, 2, 4], 6), ([8, 5, 6, 1, 2, 9], 9), ([1, 3, 6, 9, 2, 4, 8], 14)]\n",
        "output_data = [(1, 2), (0, 3), (2, 6)]\n",
        "\n",
        "for (i, t), o in zip(input_data, output_data):\n",
        "  print(two_sum(i, t) == o)\n",
        "\n"
      ],
      "metadata": {
        "id": "tXDgAKGadyDx",
        "colab": {
          "base_uri": "https://localhost:8080/"
        },
        "outputId": "7b41fd22-7fc6-4ec1-f974-42b589dae09d"
      },
      "execution_count": null,
      "outputs": [
        {
          "output_type": "stream",
          "name": "stdout",
          "text": [
            "True\n",
            "True\n",
            "True\n"
          ]
        }
      ]
    }
  ]
}