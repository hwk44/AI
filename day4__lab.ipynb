{
 "cells": [
  {
   "cell_type": "markdown",
   "metadata": {
    "id": "ZYJeA4fpcGNk"
   },
   "source": [
    "# Lab7"
   ]
  },
  {
   "cell_type": "markdown",
   "metadata": {
    "id": "0AZqhmeccW7p"
   },
   "source": [
    "## 0. Prerequisite"
   ]
  },
  {
   "cell_type": "code",
   "execution_count": 72,
   "metadata": {
    "colab": {
     "base_uri": "https://localhost:8080/"
    },
    "id": "gyxzozzA4prN",
    "outputId": "a7492a66-3295-4314-ef72-8dd9d870ebcb",
    "tags": []
   },
   "outputs": [
    {
     "name": "stdout",
     "output_type": "stream",
     "text": [
      "Requirement already satisfied: mypy in d:\\ai\\venv\\lib\\site-packages (1.2.0)\n",
      "Requirement already satisfied: typing-extensions>=3.10 in d:\\ai\\venv\\lib\\site-packages (from mypy) (4.5.0)\n",
      "Requirement already satisfied: mypy-extensions>=1.0.0 in d:\\ai\\venv\\lib\\site-packages (from mypy) (1.0.0)\n",
      "Requirement already satisfied: tomli>=1.1.0 in d:\\ai\\venv\\lib\\site-packages (from mypy) (2.0.1)\n"
     ]
    },
    {
     "ename": "ModuleNotFoundError",
     "evalue": "No module named 'mypy'",
     "output_type": "error",
     "traceback": [
      "\u001b[1;31m---------------------------------------------------------------------------\u001b[0m",
      "\u001b[1;31mModuleNotFoundError\u001b[0m                       Traceback (most recent call last)",
      "Cell \u001b[1;32mIn[72], line 4\u001b[0m\n\u001b[0;32m      2\u001b[0m \u001b[38;5;28;01mfrom\u001b[39;00m \u001b[38;5;21;01mIPython\u001b[39;00m\u001b[38;5;21;01m.\u001b[39;00m\u001b[38;5;21;01mcore\u001b[39;00m\u001b[38;5;21;01m.\u001b[39;00m\u001b[38;5;21;01mmagic\u001b[39;00m \u001b[38;5;28;01mimport\u001b[39;00m register_cell_magic\n\u001b[0;32m      3\u001b[0m \u001b[38;5;28;01mfrom\u001b[39;00m \u001b[38;5;21;01mIPython\u001b[39;00m \u001b[38;5;28;01mimport\u001b[39;00m get_ipython\n\u001b[1;32m----> 4\u001b[0m \u001b[38;5;28;01mfrom\u001b[39;00m \u001b[38;5;21;01mmypy\u001b[39;00m \u001b[38;5;28;01mimport\u001b[39;00m api\n\u001b[0;32m      6\u001b[0m \u001b[38;5;129m@register_cell_magic\u001b[39m\n\u001b[0;32m      7\u001b[0m \u001b[38;5;28;01mdef\u001b[39;00m \u001b[38;5;21mmypy\u001b[39m(line, cell):\n\u001b[0;32m      8\u001b[0m   \u001b[38;5;28;01mfor\u001b[39;00m output \u001b[38;5;129;01min\u001b[39;00m api\u001b[38;5;241m.\u001b[39mrun([\u001b[38;5;124m'\u001b[39m\u001b[38;5;124m-c\u001b[39m\u001b[38;5;124m'\u001b[39m, \u001b[38;5;124m'\u001b[39m\u001b[38;5;130;01m\\n\u001b[39;00m\u001b[38;5;124m'\u001b[39m \u001b[38;5;241m+\u001b[39m cell] \u001b[38;5;241m+\u001b[39m line\u001b[38;5;241m.\u001b[39msplit()):\n",
      "\u001b[1;31mModuleNotFoundError\u001b[0m: No module named 'mypy'"
     ]
    }
   ],
   "source": [
    "!pip install mypy\n",
    "from IPython.core.magic import register_cell_magic\n",
    "from IPython import get_ipython\n",
    "from mypy import api\n",
    "\n",
    "@register_cell_magic\n",
    "def mypy(line, cell):\n",
    "  for output in api.run(['-c', '\\n' + cell] + line.split()):\n",
    "    if output and not output.startswith('Success'):\n",
    "      raise TypeError(output)\n",
    "  get_ipython().run_cell(cell)"
   ]
  },
  {
   "cell_type": "code",
   "execution_count": null,
   "metadata": {},
   "outputs": [],
   "source": []
  },
  {
   "cell_type": "markdown",
   "metadata": {
    "id": "AL3MoBZO5NpL"
   },
   "source": [
    "## 1. Write a function is_even_or_odd(n: int) -> str that takes an integer as input and determines whether it's even or odd.\n",
    "\n",
    "\n"
   ]
  },
  {
   "cell_type": "code",
   "execution_count": 91,
   "metadata": {
    "id": "SBUQ1WRTc1Nz",
    "tags": []
   },
   "outputs": [
    {
     "name": "stdout",
     "output_type": "stream",
     "text": [
      "5 Odd\n",
      "2 Even\n",
      "-3 Odd\n",
      "-4 Even\n",
      "0 Even\n"
     ]
    }
   ],
   "source": [
    "# %%mypy\n",
    "\n",
    "def is_even_or_odd(n: int) -> str:\n",
    "  #implement your code\n",
    "    if n % 2 == 0:\n",
    "        return \"Even\"\n",
    "    elif n % 2 == 1 or n % 2 == -1:\n",
    "        return \"Odd\"\n",
    "\n",
    "input_data_even_odd = [5, 2, -3, -4, 0]\n",
    "output_data_even_odd = [\"Odd\", \"Even\", \"Odd\", \"Even\", \"Even\"]\n",
    "for i, o in zip(input_data_even_odd, output_data_even_odd):\n",
    "    print(i,o)\n",
    "    assert is_even_or_odd(i) == o"
   ]
  },
  {
   "cell_type": "markdown",
   "metadata": {
    "id": "mGbPfQJEc5pl"
   },
   "source": [
    "## 2. Write a function largest_of_three(a: int, b: int, c: int) -> int that takes three numbers as input and determines the largest of the three."
   ]
  },
  {
   "cell_type": "code",
   "execution_count": 38,
   "metadata": {
    "id": "mGAC-9rSc7Qd",
    "tags": []
   },
   "outputs": [
    {
     "name": "stdout",
     "output_type": "stream",
     "text": [
      "(2, 4, 1) 4\n",
      "(1, 1, 1) 1\n",
      "(2, 2, 5) 5\n",
      "(-1, 0, -2) 0\n"
     ]
    }
   ],
   "source": [
    "# %%mypy\n",
    "\n",
    "def largest_of_three(a: int, b: int, c: int) -> int:\n",
    "    max = a\n",
    "    if b > max:\n",
    "        max = b\n",
    "    if c > max:\n",
    "        max = c\n",
    "    return max\n",
    "\n",
    "input_data_largest_of_three = [(2, 4, 1), (1, 1, 1), (2, 2, 5), (-1, 0, -2)]\n",
    "output_data_largest_of_three = [4, 1, 5, 0]\n",
    "\n",
    "for i, o in zip(input_data_largest_of_three, output_data_largest_of_three):\n",
    "    print(i,o)\n",
    "    assert largest_of_three(*i) == o"
   ]
  },
  {
   "cell_type": "markdown",
   "metadata": {
    "id": "INqFk2K5c7ks"
   },
   "source": [
    "## 3. Write a function is_multiple_of_3_and_5(n: int) -> bool that reads an integer as input and determines if it is a multiple of both 3 and 5.\n",
    "\n"
   ]
  },
  {
   "cell_type": "code",
   "execution_count": 92,
   "metadata": {
    "id": "B2c46qWfc8z0"
   },
   "outputs": [
    {
     "name": "stdout",
     "output_type": "stream",
     "text": [
      "15 True\n",
      "3 False\n",
      "5 False\n",
      "30 True\n",
      "0 True\n",
      "-15 True\n"
     ]
    }
   ],
   "source": [
    "# %%mypy\n",
    "\n",
    "def is_multiple_of_3_and_5(n: int) -> bool:\n",
    "    if n%5 == 0 and n%3 == 0:\n",
    "        return True\n",
    "    else:\n",
    "        return False\n",
    "\n",
    "input_data_multiple_3_5 = [15, 3, 5, 30, 0, -15]\n",
    "output_data_multiple_3_5 = [True, False, False, True, True, True]\n",
    "\n",
    "for input_value, output_value in zip(input_data_multiple_3_5, output_data_multiple_3_5):\n",
    "    print(input_value, output_value)\n",
    "    assert is_multiple_of_3_and_5(input_value) == output_value\n"
   ]
  },
  {
   "cell_type": "markdown",
   "metadata": {
    "id": "jAEoPcBXc9kM"
   },
   "source": [
    "## 4. Write a function is_pythagorean_triple(a: int, b: int, c: int) -> bool that takes three numbers as input and determines whether they form a Pythagorean triple."
   ]
  },
  {
   "cell_type": "code",
   "execution_count": 49,
   "metadata": {
    "id": "nJN7nZ1Nc-ad"
   },
   "outputs": [
    {
     "name": "stdout",
     "output_type": "stream",
     "text": [
      "(3, 4, 5) True\n",
      "(5, 12, 13) True\n",
      "(6, 8, 10) True\n",
      "(7, 24, 25) True\n",
      "(2, 3, 4) False\n",
      "(0, 4, 4) False\n"
     ]
    },
    {
     "ename": "AssertionError",
     "evalue": "",
     "output_type": "error",
     "traceback": [
      "\u001b[1;31m---------------------------------------------------------------------------\u001b[0m",
      "\u001b[1;31mAssertionError\u001b[0m                            Traceback (most recent call last)",
      "Cell \u001b[1;32mIn[49], line 14\u001b[0m\n\u001b[0;32m     12\u001b[0m \u001b[38;5;28;01mfor\u001b[39;00m input_values, output_value \u001b[38;5;129;01min\u001b[39;00m \u001b[38;5;28mzip\u001b[39m(input_data_pythagorean_triple, output_data_pythagorean_triple):\n\u001b[0;32m     13\u001b[0m     \u001b[38;5;28mprint\u001b[39m(input_values, output_value)\n\u001b[1;32m---> 14\u001b[0m     \u001b[38;5;28;01massert\u001b[39;00m is_pythagorean_triple(\u001b[38;5;241m*\u001b[39minput_values) \u001b[38;5;241m==\u001b[39m output_value\n",
      "\u001b[1;31mAssertionError\u001b[0m: "
     ]
    }
   ],
   "source": [
    "# %%mypy\n",
    "\n",
    "def is_pythagorean_triple(a: int, b: int, c: int) -> bool:\n",
    "    if c**2 == a**2 +b**2:\n",
    "        return True\n",
    "    else:\n",
    "        return False\n",
    "\n",
    "input_data_pythagorean_triple = [(3, 4, 5), (5, 12, 13), (6, 8, 10), (7, 24, 25), (2, 3, 4), (0, 4, 4)]\n",
    "output_data_pythagorean_triple = [True, True, True, True, False, False]\n",
    "\n",
    "for input_values, output_value in zip(input_data_pythagorean_triple, output_data_pythagorean_triple):\n",
    "    print(input_values, output_value)\n",
    "    assert is_pythagorean_triple(*input_values) == output_value"
   ]
  },
  {
   "cell_type": "markdown",
   "metadata": {
    "id": "EkRNBCyLctUY"
   },
   "source": [
    "## 5. Write a function calculate_bmi(weight: float, height: float) -> str that takes a user's weight (in kg) and height (in meters) as input and calculates their body mass index (BMI). The function should return the BMI category based on the calculated value. \n",
    "\n",
    "\toutput: BMI < 18.5 : underweight, 18.5 <= BMI < 24.9 normal weight, 25.0 <= BMI overweight\n",
    "<!-- BMI를 이용한 비만도 계산은 자신의 몸무게를 키의 제곱으로 나누는 것으로 공식은 kg/㎡.\n",
    " BMI가 18.5 이하면 저체중 ／ 18.5 ~ 22.9 사이면 정상 ／ 23.0 ~ 24.9 사이면 과체중 ／ 25.0 이상부터는 비만으로 판정. -->\n",
    "\n",
    "\n",
    "\n"
   ]
  },
  {
   "cell_type": "code",
   "execution_count": 54,
   "metadata": {
    "id": "BxdeHEF_cB3C"
   },
   "outputs": [
    {
     "name": "stdout",
     "output_type": "stream",
     "text": [
      "(60, 1.7) Normal weight\n",
      "(45, 1.6) Underweight\n",
      "(85, 1.8) Overweight\n",
      "(100, 2) Overweight\n",
      "(0, 1.5) Underweight\n",
      "(60, 0) Invalid input\n"
     ]
    }
   ],
   "source": [
    "# %%mypy\n",
    "\n",
    "def calculate_bmi(weight: float, height: float) -> str:\n",
    "    if height ==0:\n",
    "        return \"Invalid input\"\n",
    "    bmi = weight / (height**2) \n",
    "    if bmi < 18.5:\n",
    "        return \"Underweight\"\n",
    "    elif 18.5 <= bmi < 25:\n",
    "        return \"Normal weight\"\n",
    "    elif 25.0 <= bmi :\n",
    "        return \"Overweight\"\n",
    "\n",
    "input_data_bmi_calculator = [(60, 1.7), (45, 1.6), (85, 1.8), (100, 2), (0, 1.5), (60, 0)]\n",
    "output_data_bmi_calculator = [\"Normal weight\", \"Underweight\", \"Overweight\", \"Overweight\", \"Underweight\", \"Invalid input\"]\n",
    "\n",
    "for input_values, output_value in zip(input_data_bmi_calculator, output_data_bmi_calculator):\n",
    "    print(input_values, output_value)\n",
    "    assert calculate_bmi(*input_values) == output_value"
   ]
  },
  {
   "cell_type": "markdown",
   "metadata": {
    "id": "tdJa-fe6Lu_N"
   },
   "source": [
    "## 6. Write a function are_anagrams(s1: str, s2: str) -> bool that takes two strings as input and determines whether they are anagrams."
   ]
  },
  {
   "cell_type": "code",
   "execution_count": 73,
   "metadata": {
    "id": "4CuQ-rftL-3y"
   },
   "outputs": [
    {
     "name": "stdout",
     "output_type": "stream",
     "text": [
      "('bored', 'robed') True\n",
      "('listen', 'silent') True\n",
      "('anagram', 'nagaram') True\n",
      "('hello', 'world') False\n",
      "('apple', 'leppa') True\n",
      "('night', 'thing') True\n",
      "('abc', 'def') False\n"
     ]
    }
   ],
   "source": [
    "# %%mypy\n",
    "\n",
    "def are_anagrams(s1: str, s2: str) -> bool:\n",
    "    flage = False\n",
    "    if len(s1) == len(s2):\n",
    "        for s in s1:\n",
    "            if s2.__contains__(s):\n",
    "                flage = True\n",
    "            else : \n",
    "                return False\n",
    "    else:\n",
    "        return False\n",
    "    return flage\n",
    "    \n",
    "input_data_anagram_checker = [(\"bored\", \"robed\"), (\"listen\", \"silent\"), (\"anagram\", \"nagaram\"), (\"hello\", \"world\"), (\"apple\", \"leppa\"), (\"night\", \"thing\"), (\"abc\", \"def\")]\n",
    "output_data_anagram_checker = [True, True, True, False, True, True, False]\n",
    "\n",
    "for input_values, output_value in zip(input_data_anagram_checker, output_data_anagram_checker):\n",
    "    print(input_values, output_value)\n",
    "    assert are_anagrams(*input_values) == output_value"
   ]
  },
  {
   "cell_type": "code",
   "execution_count": null,
   "metadata": {},
   "outputs": [],
   "source": []
  },
  {
   "cell_type": "markdown",
   "metadata": {
    "id": "9fgcLU2reahl"
   },
   "source": [
    "# Lab8"
   ]
  },
  {
   "cell_type": "markdown",
   "metadata": {
    "id": "dI9p5_rNec8G"
   },
   "source": [
    "## 7. Write a function sum_of_multiples(limit: int, divisor: int) -> int that finds the sum of all numbers between 1 and limit that are divisible by divisor using a while loop.\n"
   ]
  },
  {
   "cell_type": "code",
   "execution_count": 79,
   "metadata": {
    "id": "nvheaxJOedT9"
   },
   "outputs": [
    {
     "name": "stdout",
     "output_type": "stream",
     "text": [
      "(100, 7) 735\n",
      "(50, 5) 275\n",
      "(20, 3) 63\n"
     ]
    }
   ],
   "source": [
    "# %%mypy\n",
    "\n",
    "def sum_of_multiples(limit: int, divisor: int) -> int:\n",
    "    result = 0\n",
    "    for i in range(0, limit+1):\n",
    "        if i % divisor == 0:\n",
    "            result +=i\n",
    "        \n",
    "    return result\n",
    "\n",
    "input_data_sum_of_multiples = [(100, 7), (50, 5), (20, 3)]\n",
    "output_data_sum_of_multiples = [735, 275, 63]\n",
    "\n",
    "for input_values, output_value in zip(input_data_sum_of_multiples, output_data_sum_of_multiples):\n",
    "    print(input_values, output_value)\n",
    "    assert sum_of_multiples(*input_values) == output_value\n"
   ]
  },
  {
   "cell_type": "markdown",
   "metadata": {
    "id": "wDOVnwLTee8p"
   },
   "source": [
    "##8. Write a function multiplication_table(n: int) -> str that takes an integer as input and returns the multiplication table for the given number using a for loop."
   ]
  },
  {
   "cell_type": "code",
   "execution_count": 85,
   "metadata": {
    "id": "YeC_cgT3ee8q"
   },
   "outputs": [
    {
     "name": "stdout",
     "output_type": "stream",
     "text": [
      "5 5 x 1 = 5\n",
      "5 x 2 = 10\n",
      "5 x 3 = 15\n",
      "5 x 4 = 20\n",
      "5 x 5 = 25\n",
      "5 x 6 = 30\n",
      "5 x 7 = 35\n",
      "5 x 8 = 40\n",
      "5 x 9 = 45\n",
      "7 7 x 1 = 7\n",
      "7 x 2 = 14\n",
      "7 x 3 = 21\n",
      "7 x 4 = 28\n",
      "7 x 5 = 35\n",
      "7 x 6 = 42\n",
      "7 x 7 = 49\n",
      "7 x 8 = 56\n",
      "7 x 9 = 63\n",
      "3 3 x 1 = 3\n",
      "3 x 2 = 6\n",
      "3 x 3 = 9\n",
      "3 x 4 = 12\n",
      "3 x 5 = 15\n",
      "3 x 6 = 18\n",
      "3 x 7 = 21\n",
      "3 x 8 = 24\n",
      "3 x 9 = 27\n",
      "10 10 x 1 = 10\n",
      "10 x 2 = 20\n",
      "10 x 3 = 30\n",
      "10 x 4 = 40\n",
      "10 x 5 = 50\n",
      "10 x 6 = 60\n",
      "10 x 7 = 70\n",
      "10 x 8 = 80\n",
      "10 x 9 = 90\n",
      "0 0 x 1 = 0\n",
      "0 x 2 = 0\n",
      "0 x 3 = 0\n",
      "0 x 4 = 0\n",
      "0 x 5 = 0\n",
      "0 x 6 = 0\n",
      "0 x 7 = 0\n",
      "0 x 8 = 0\n",
      "0 x 9 = 0\n",
      "-2 -2 x 1 = -2\n",
      "-2 x 2 = -4\n",
      "-2 x 3 = -6\n",
      "-2 x 4 = -8\n",
      "-2 x 5 = -10\n",
      "-2 x 6 = -12\n",
      "-2 x 7 = -14\n",
      "-2 x 8 = -16\n",
      "-2 x 9 = -18\n"
     ]
    }
   ],
   "source": [
    "# %%mypy\n",
    "\n",
    "def multiplication_table(n: int) -> str:\n",
    "    s =\"\"\n",
    "    for i in range(1,10):\n",
    "        if i == 9:\n",
    "            s+=f\"{n} x {i} = {n*i}\"\n",
    "            continue\n",
    "            \n",
    "        s+=f\"{n} x {i} = {n*i}\\n\"\n",
    "        \n",
    "        # print(f\"%d x %d = %d\".format{n, i, n*i})\n",
    "    return s\n",
    " \n",
    "input_data_multiplication_table = [5, 7, 3, 10, 0, -2]\n",
    "output_data_multiplication_table = [\n",
    "    \"5 x 1 = 5\\n5 x 2 = 10\\n5 x 3 = 15\\n5 x 4 = 20\\n5 x 5 = 25\\n5 x 6 = 30\\n5 x 7 = 35\\n5 x 8 = 40\\n5 x 9 = 45\",\n",
    "    \"7 x 1 = 7\\n7 x 2 = 14\\n7 x 3 = 21\\n7 x 4 = 28\\n7 x 5 = 35\\n7 x 6 = 42\\n7 x 7 = 49\\n7 x 8 = 56\\n7 x 9 = 63\",\n",
    "    \"3 x 1 = 3\\n3 x 2 = 6\\n3 x 3 = 9\\n3 x 4 = 12\\n3 x 5 = 15\\n3 x 6 = 18\\n3 x 7 = 21\\n3 x 8 = 24\\n3 x 9 = 27\",\n",
    "    \"10 x 1 = 10\\n10 x 2 = 20\\n10 x 3 = 30\\n10 x 4 = 40\\n10 x 5 = 50\\n10 x 6 = 60\\n10 x 7 = 70\\n10 x 8 = 80\\n10 x 9 = 90\",\n",
    "    \"0 x 1 = 0\\n0 x 2 = 0\\n0 x 3 = 0\\n0 x 4 = 0\\n0 x 5 = 0\\n0 x 6 = 0\\n0 x 7 = 0\\n0 x 8 = 0\\n0 x 9 = 0\",\n",
    "    \"-2 x 1 = -2\\n-2 x 2 = -4\\n-2 x 3 = -6\\n-2 x 4 = -8\\n-2 x 5 = -10\\n-2 x 6 = -12\\n-2 x 7 = -14\\n-2 x 8 = -16\\n-2 x 9 = -18\",\n",
    "]  \n",
    "\n",
    "for input_value, output_value in zip(input_data_multiplication_table, output_data_multiplication_table):\n",
    "    print(input_value, output_value)\n",
    "    assert multiplication_table(input_value) == output_value"
   ]
  },
  {
   "cell_type": "markdown",
   "metadata": {
    "id": "J5zjEzX3efP0"
   },
   "source": [
    "## 9. Write a function is_prime(n: int) -> bool that reads a positive integer and checks if it's a prime number using a for loop."
   ]
  },
  {
   "cell_type": "code",
   "execution_count": 90,
   "metadata": {
    "id": "Q7DxZNeGefP0"
   },
   "outputs": [
    {
     "name": "stdout",
     "output_type": "stream",
     "text": [
      "7 True\n",
      "12 False\n",
      "19 True\n",
      "2 True\n",
      "1 False\n"
     ]
    },
    {
     "ename": "AssertionError",
     "evalue": "",
     "output_type": "error",
     "traceback": [
      "\u001b[1;31m---------------------------------------------------------------------------\u001b[0m",
      "\u001b[1;31mAssertionError\u001b[0m                            Traceback (most recent call last)",
      "Cell \u001b[1;32mIn[90], line 18\u001b[0m\n\u001b[0;32m     16\u001b[0m \u001b[38;5;28;01mfor\u001b[39;00m input_value, output_value \u001b[38;5;129;01min\u001b[39;00m \u001b[38;5;28mzip\u001b[39m(input_data_prime_checker, output_data_prime_checker):\n\u001b[0;32m     17\u001b[0m     \u001b[38;5;28mprint\u001b[39m(input_value, output_value)\n\u001b[1;32m---> 18\u001b[0m     \u001b[38;5;28;01massert\u001b[39;00m is_prime(input_value) \u001b[38;5;241m==\u001b[39m output_value\n",
      "\u001b[1;31mAssertionError\u001b[0m: "
     ]
    }
   ],
   "source": [
    "# %%mypy\n",
    "\n",
    "def is_prime(n: int) -> bool:\n",
    "    if n <= 0:\n",
    "        return False\n",
    "    flag = True\n",
    "    for i in range(2, n):\n",
    "        if n % i == 0:\n",
    "            return False\n",
    "        else:\n",
    "            flag = True\n",
    "    return flag\n",
    "input_data_prime_checker = [7, 12, 19, 2, 1, 0, -3, 20]\n",
    "output_data_prime_checker = [True, False, True, True, False, False, False, False]\n",
    "\n",
    "for input_value, output_value in zip(input_data_prime_checker, output_data_prime_checker):\n",
    "    print(input_value, output_value)\n",
    "    assert is_prime(input_value) == output_value"
   ]
  },
  {
   "cell_type": "markdown",
   "metadata": {
    "id": "P5k8YQd9dmUT"
   },
   "source": [
    "## 10. Write a function reverse(s: str) -> str and count_vowels(s :str) -> int that reads a string, reverses it using a loop, and returns the reversed string and the number of vowels in the string, respectively."
   ]
  },
  {
   "cell_type": "code",
   "execution_count": null,
   "metadata": {
    "id": "EBIwt03Kdnpp"
   },
   "outputs": [],
   "source": [
    "%%mypy\n",
    "\n",
    "def reverse(s: str) -> str:\n",
    "  #implement your code in one line\n",
    "  pass\n",
    "\n",
    "def count_vowels(s :str) -> int:\n",
    "  #how can we implement the code in one line?\n",
    "  pass\n",
    "\n",
    "input_data_string_reversal_vowel_count = [\"hello\", \"world\", \"python\", \"aeiou\", \"empty\", \"hElLo\"]\n",
    "output_data_string_reversal_vowel_count = [(\"olleh\", 2), (\"dlrow\", 1), (\"nohtyp\", 1), (\"uoiea\", 5), (\"ytpme\", 1), (\"oLlEh\", 2)]\n",
    "\n",
    "for input_value, output_value in zip(input_data_string_reversal_vowel_count, output_data_string_reversal_vowel_count):\n",
    "    assert (reverse(input_value), count_vowels(input_value)) == output_value\n"
   ]
  },
  {
   "cell_type": "markdown",
   "metadata": {
    "id": "mPv8F8IDdsNB"
   },
   "source": [
    "## 11. Write a function gen_pattern(n: int) -> str that return the following pattern using loops with n rows:\n",
    "\n",
    "n = 5\n",
    "```\n",
    "*****\n",
    " ****\n",
    "  ***\n",
    "   **\n",
    "    *\n",
    "```"
   ]
  },
  {
   "cell_type": "code",
   "execution_count": null,
   "metadata": {
    "id": "tXDgAKGadyDx"
   },
   "outputs": [],
   "source": [
    "%%mypy\n",
    "\n",
    "def gen_pattern(n: int) -> str:\n",
    "  #implement your code in one line\n",
    "  pass\n",
    "\n",
    "input_data_gen_pattern = [5, 3, 6, 1]\n",
    "output_data_gen_pattern = [\"*****\\n ****\\n  ***\\n   **\\n    *\",\n",
    "                           \"***\\n **\\n  *\",\n",
    "                           \"******\\n *****\\n  ****\\n   ***\\n    **\\n     *\",\n",
    "                           \"*\"]\n",
    "\n",
    "for input_value, output_value in zip(input_data_gen_pattern, output_data_gen_pattern):\n",
    "    assert gen_pattern(input_value) == output_value"
   ]
  },
  {
   "cell_type": "markdown",
   "metadata": {
    "id": "aTfwJbtWeNxR"
   },
   "source": [
    "## 12. Implement the following methods \n",
    "\n",
    "* add_item(item: str) -> None: Add an item to the shopping list.\n",
    "* remove_item(item: str) -> None: Remove an item from the shopping list.\n",
    "* display_list() -> List[str]: Return the current shopping list.\n",
    "* quit() -> None: Exit the shopping list.\n"
   ]
  },
  {
   "cell_type": "code",
   "execution_count": null,
   "metadata": {
    "id": "APNy8a6ZeO6l"
   },
   "outputs": [],
   "source": [
    "%%mypy\n",
    "\n",
    "from typing import List, Dict, Callable, Any\n",
    "\n",
    "items = []\n",
    "\n",
    "def add_item(item: str) -> None:\n",
    "  #implement your code in one line\n",
    "  pass\n",
    "\n",
    "def remove_item(item: str) -> None:\n",
    "  #implement your code in one line\n",
    "  pass\n",
    "\n",
    "def display_list(item: str) -> List[str]:\n",
    "  #implement your code in one line\n",
    "  pass\n",
    "\n",
    "def quit(item: str) -> None:\n",
    "  #implement your code in one line\n",
    "  pass\n",
    "\n",
    "commands = {'add': add_item,\n",
    "            'remove': remove_item,\n",
    "            'display': display_list,\n",
    "            'exit': quit}\n",
    "\n",
    "input_data_shopping_list = [(\"add\", \"apple\"), (\"add\", \"banana\"),\n",
    "                            (\"add\", \"orange\"), (\"display\", ''),\n",
    "                            (\"remove\", \"banana\"), (\"display\", ''), \n",
    "                            (\"exit\", '')]\n",
    "\n",
    "output_data_shopping_list = [None, None,None,[\"apple\", \"banana\", \"orange\"], None,[\"apple\", \"orange\"],None]\n",
    "\n",
    "for (action, item), expected_output in zip(input_data_shopping_list, output_data_shopping_list):\n",
    "  assert commands[action](item) == expected_output\n"
   ]
  }
 ],
 "metadata": {
  "colab": {
   "provenance": []
  },
  "kernelspec": {
   "display_name": "Python 3 (ipykernel)",
   "language": "python",
   "name": "python3"
  },
  "language_info": {
   "codemirror_mode": {
    "name": "ipython",
    "version": 3
   },
   "file_extension": ".py",
   "mimetype": "text/x-python",
   "name": "python",
   "nbconvert_exporter": "python",
   "pygments_lexer": "ipython3",
   "version": "3.10.10"
  }
 },
 "nbformat": 4,
 "nbformat_minor": 4
}
