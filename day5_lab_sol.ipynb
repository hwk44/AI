{
  "nbformat": 4,
  "nbformat_minor": 0,
  "metadata": {
    "colab": {
      "provenance": []
    },
    "kernelspec": {
      "name": "python3",
      "display_name": "Python 3"
    },
    "language_info": {
      "name": "python"
    }
  },
  "cells": [
    {
      "cell_type": "markdown",
      "source": [
        "# Lab9"
      ],
      "metadata": {
        "id": "W6ojh1FntMX1"
      }
    },
    {
      "cell_type": "markdown",
      "source": [
        "## 0. Prerequisite"
      ],
      "metadata": {
        "id": "tRRCegBQtwri"
      }
    },
    {
      "cell_type": "code",
      "source": [
        "from google.colab import drive\n",
        "\n",
        "drive.mount('/content/gdrive/', force_remount=True)\n"
      ],
      "metadata": {
        "colab": {
          "base_uri": "https://localhost:8080/"
        },
        "id": "EJwZpmxStwGz",
        "outputId": "70d13486-961d-4820-ccf4-09aef643ef2f"
      },
      "execution_count": 1,
      "outputs": [
        {
          "output_type": "stream",
          "name": "stdout",
          "text": [
            "Mounted at /content/gdrive/\n"
          ]
        }
      ]
    },
    {
      "cell_type": "markdown",
      "source": [
        "## p4. Reading Text Files"
      ],
      "metadata": {
        "id": "QfhPmqKAvB_A"
      }
    },
    {
      "cell_type": "code",
      "source": [
        "!cat /content/gdrive/MyDrive/FirstPresidents.txt"
      ],
      "metadata": {
        "colab": {
          "base_uri": "https://localhost:8080/"
        },
        "id": "hI_ujRWqtL7N",
        "outputId": "d0dd7732-9020-47c4-f012-c362cbe19c59"
      },
      "execution_count": 2,
      "outputs": [
        {
          "output_type": "stream",
          "name": "stdout",
          "text": [
            "George Washington\r\n",
            "John Adams\r\n",
            "Thomas Jefferson\r\n"
          ]
        }
      ]
    },
    {
      "cell_type": "code",
      "source": [
        "#r = iter(range(5))\n",
        "r = iter([1,2,3])\n",
        "print(next(r))\n",
        "print(next(r))\n",
        "print(next(r))"
      ],
      "metadata": {
        "colab": {
          "base_uri": "https://localhost:8080/"
        },
        "id": "1VOYP_bO6fcB",
        "outputId": "56adacd8-fa3d-422e-fee8-c56906d430a5"
      },
      "execution_count": 16,
      "outputs": [
        {
          "output_type": "stream",
          "name": "stdout",
          "text": [
            "1\n",
            "2\n",
            "3\n"
          ]
        }
      ]
    },
    {
      "cell_type": "code",
      "source": [
        "def main():\n",
        "  '''\n",
        "  Display the names of the first three presidents.\n",
        "  '''\n",
        "  file = '/content/gdrive/MyDrive/FirstPresidents.txt'\n",
        "  displayWithForLoop(file)\n",
        "  # print()\n",
        "  # displayWithListComprehension(file)\n",
        "  # print()\n",
        "  # displayWithReadline(file)\n",
        "\n",
        "def displayWithForLoop(file):\n",
        "  # infile = open(file, 'r')\n",
        "  # for line in infile:\n",
        "  #   print(line.rstrip())\n",
        "  # infile.close()\n",
        "  with open(file, 'r') as f_read:\n",
        "    print('header:', next(f_read))\n",
        "    for line in f_read:\n",
        "     print(line.rstrip())\n",
        "\n",
        "    #print(f_read.readlines())\n",
        "    #print(f_read.read())\n",
        "\n",
        "def displayWithListComprehension(file):\n",
        "  infile = open(file, 'r')\n",
        "  listPres = [line.rstrip() for line in infile]\n",
        "  infile.close()\n",
        "  print(listPres)\n",
        "\n",
        "def displayWithReadline(file):\n",
        "  infile = open(file, 'r')\n",
        "  line = infile.readline()\n",
        "  while line != \"\":\n",
        "    print(line.rstrip())\n",
        "    line = infile.readline()\n",
        "  infile.close()\n",
        "\n",
        "main()"
      ],
      "metadata": {
        "colab": {
          "base_uri": "https://localhost:8080/"
        },
        "id": "RK8sYPN6t95O",
        "outputId": "acc29670-afe5-4358-c0e8-e19fae0f0182"
      },
      "execution_count": 18,
      "outputs": [
        {
          "output_type": "stream",
          "name": "stdout",
          "text": [
            "header: George Washington\n",
            "\n",
            "John Adams\n",
            "Thomas Jefferson\n"
          ]
        }
      ]
    },
    {
      "cell_type": "code",
      "source": [
        "L = [\"George Washington\", \"John Adams\", \"Thomas Jefferson\"]\n",
        "\n",
        "\n",
        "for i in L:\n",
        "  print(i)"
      ],
      "metadata": {
        "colab": {
          "base_uri": "https://localhost:8080/"
        },
        "id": "_i8Rp5dS8nWY",
        "outputId": "6ed3b2e2-6a32-4116-beb0-a52964a4e3f3"
      },
      "execution_count": 20,
      "outputs": [
        {
          "output_type": "stream",
          "name": "stdout",
          "text": [
            "George Washington\n",
            "John Adams\n",
            "Thomas Jefferson\n"
          ]
        }
      ]
    },
    {
      "cell_type": "markdown",
      "source": [
        "## p9. Creating Text Files"
      ],
      "metadata": {
        "id": "tTPoVCbGvJGJ"
      }
    },
    {
      "cell_type": "code",
      "source": [
        "!cat /content/gdrive/MyDrive/States.txt"
      ],
      "metadata": {
        "colab": {
          "base_uri": "https://localhost:8080/"
        },
        "id": "28pEGWJ8vh5A",
        "outputId": "3092e9a2-faa9-4e35-b176-5605946004f9"
      },
      "execution_count": 21,
      "outputs": [
        {
          "output_type": "stream",
          "name": "stdout",
          "text": [
            "Delaware\r\n",
            "Pennsylvania\r\n",
            "New Jersey\r\n",
            "Georgia\r\n",
            "Connecticut\r\n",
            "Massachusetts\r\n",
            "Maryland\r\n",
            "South Carolina\r\n",
            "New Hampshire\r\n",
            "Virginia\r\n",
            "New York\r\n",
            "North Carolina\r\n",
            "Rhode Island\r\n",
            "Vermont\r\n",
            "Kentucky\r\n",
            "Tennessee\r\n",
            "Ohio\r\n",
            "Louisiana\r\n",
            "Indiana\r\n",
            "Mississippi\r\n",
            "Illinois\r\n",
            "Alabama\r\n",
            "Maine\r\n",
            "Missouri\r\n",
            "Arkansas\r\n",
            "Michigan\r\n",
            "Florida\r\n",
            "Texas\r\n",
            "Iowa\r\n",
            "Wisconsin\r\n",
            "California\r\n",
            "Minnesota\r\n",
            "Oregon\r\n",
            "Kansas\r\n",
            "West Virginia\r\n",
            "Nevada\r\n",
            "Nebraska\r\n",
            "Colorado\r\n",
            "North Dakota\r\n",
            "South Dakota\r\n",
            "Montana\r\n",
            "Washington\r\n",
            "Idaho\r\n",
            "Wyoming\r\n",
            "Utah\r\n",
            "Oklahoma\r\n",
            "New Mexico\r\n",
            "Arizona\r\n",
            "Alaska\r\n",
            "Hawaii\r\n"
          ]
        }
      ]
    },
    {
      "cell_type": "code",
      "source": [
        "def main():\n",
        "  '''\n",
        "  Create a text file containing the 50 states in alphabetical order.\n",
        "  '''\n",
        "  fileName = '/content/gdrive/MyDrive/States.txt'\n",
        "  sortedFileName = '/content/gdrive/MyDrive/StatesAlpha.txt'\n",
        "  statesList = createListFromFile(fileName)\n",
        "  print('statesList', statesList)\n",
        "  createSortedFile(statesList, sortedFileName)\n",
        "  sortedStatesList = createListFromFile(sortedFileName)\n",
        "  print('sortedStatesList', sortedStatesList)\n",
        "\n",
        "def createListFromFile(fileName):\n",
        "  infile = open(fileName, 'r')\n",
        "  desiredList = [line.rstrip() for line in infile]\n",
        "  infile.close()\n",
        "  return desiredList\n",
        "\n",
        "def createSortedFile(listName, fileName):\n",
        "  listName.sort()\n",
        "  for i in range(len(listName)):\n",
        "    listName[i] = listName[i] + \"\\n\"\n",
        "  outfile = open(fileName, 'w')\n",
        "  outfile.writelines(listName)\n",
        "  outfile.close()\n",
        "\n",
        "main()"
      ],
      "metadata": {
        "colab": {
          "base_uri": "https://localhost:8080/"
        },
        "id": "XcgTfbBEvJmf",
        "outputId": "96e266e5-dbbe-4cf6-e58b-7a47abb8b5d8"
      },
      "execution_count": 22,
      "outputs": [
        {
          "output_type": "stream",
          "name": "stdout",
          "text": [
            "statesList ['Delaware', 'Pennsylvania', 'New Jersey', 'Georgia', 'Connecticut', 'Massachusetts', 'Maryland', 'South Carolina', 'New Hampshire', 'Virginia', 'New York', 'North Carolina', 'Rhode Island', 'Vermont', 'Kentucky', 'Tennessee', 'Ohio', 'Louisiana', 'Indiana', 'Mississippi', 'Illinois', 'Alabama', 'Maine', 'Missouri', 'Arkansas', 'Michigan', 'Florida', 'Texas', 'Iowa', 'Wisconsin', 'California', 'Minnesota', 'Oregon', 'Kansas', 'West Virginia', 'Nevada', 'Nebraska', 'Colorado', 'North Dakota', 'South Dakota', 'Montana', 'Washington', 'Idaho', 'Wyoming', 'Utah', 'Oklahoma', 'New Mexico', 'Arizona', 'Alaska', 'Hawaii']\n",
            "sortedStatesList ['Alabama', 'Alaska', 'Arizona', 'Arkansas', 'California', 'Colorado', 'Connecticut', 'Delaware', 'Florida', 'Georgia', 'Hawaii', 'Idaho', 'Illinois', 'Indiana', 'Iowa', 'Kansas', 'Kentucky', 'Louisiana', 'Maine', 'Maryland', 'Massachusetts', 'Michigan', 'Minnesota', 'Mississippi', 'Missouri', 'Montana', 'Nebraska', 'Nevada', 'New Hampshire', 'New Jersey', 'New Mexico', 'New York', 'North Carolina', 'North Dakota', 'Ohio', 'Oklahoma', 'Oregon', 'Pennsylvania', 'Rhode Island', 'South Carolina', 'South Dakota', 'Tennessee', 'Texas', 'Utah', 'Vermont', 'Virginia', 'Washington', 'West Virginia', 'Wisconsin', 'Wyoming']\n"
          ]
        }
      ]
    },
    {
      "cell_type": "code",
      "source": [
        "!cat /content/gdrive/MyDrive/StatesAlpha.txt"
      ],
      "metadata": {
        "colab": {
          "base_uri": "https://localhost:8080/"
        },
        "id": "0YbigORj-UY-",
        "outputId": "800549cf-17a1-4c84-ab8c-b40047faaa26"
      },
      "execution_count": 23,
      "outputs": [
        {
          "output_type": "stream",
          "name": "stdout",
          "text": [
            "Alabama\n",
            "Alaska\n",
            "Arizona\n",
            "Arkansas\n",
            "California\n",
            "Colorado\n",
            "Connecticut\n",
            "Delaware\n",
            "Florida\n",
            "Georgia\n",
            "Hawaii\n",
            "Idaho\n",
            "Illinois\n",
            "Indiana\n",
            "Iowa\n",
            "Kansas\n",
            "Kentucky\n",
            "Louisiana\n",
            "Maine\n",
            "Maryland\n",
            "Massachusetts\n",
            "Michigan\n",
            "Minnesota\n",
            "Mississippi\n",
            "Missouri\n",
            "Montana\n",
            "Nebraska\n",
            "Nevada\n",
            "New Hampshire\n",
            "New Jersey\n",
            "New Mexico\n",
            "New York\n",
            "North Carolina\n",
            "North Dakota\n",
            "Ohio\n",
            "Oklahoma\n",
            "Oregon\n",
            "Pennsylvania\n",
            "Rhode Island\n",
            "South Carolina\n",
            "South Dakota\n",
            "Tennessee\n",
            "Texas\n",
            "Utah\n",
            "Vermont\n",
            "Virginia\n",
            "Washington\n",
            "West Virginia\n",
            "Wisconsin\n",
            "Wyoming\n"
          ]
        }
      ]
    },
    {
      "cell_type": "code",
      "source": [],
      "metadata": {
        "id": "D2QlIlxJ_GOn"
      },
      "execution_count": null,
      "outputs": []
    },
    {
      "cell_type": "markdown",
      "source": [
        "## p26. Accessing the Data in a CSV File"
      ],
      "metadata": {
        "id": "xqPOSvt5wRmY"
      }
    },
    {
      "cell_type": "code",
      "source": [
        "!cat /content/gdrive/MyDrive/UN.txt"
      ],
      "metadata": {
        "id": "z5oCSKJSwPzI"
      },
      "execution_count": null,
      "outputs": []
    },
    {
      "cell_type": "code",
      "source": [
        "import csv\n",
        "from itertools import groupby\n",
        "first = lambda x: x[0]\n",
        "fileName = '/content/gdrive/MyDrive/UN.txt'\n",
        "\n",
        "def getContinentList():\n",
        "  contents = list()\n",
        "  with open(fileName, 'r') as f_read:\n",
        "    reader = csv.reader(f_read)\n",
        "    for row in reader:\n",
        "      contents.append(row)\n",
        "\n",
        "  return set(map(first, groupby(contents, lambda x: x[1])))\n",
        "\n"
      ],
      "metadata": {
        "id": "MCu3WswexuK3"
      },
      "execution_count": 25,
      "outputs": []
    },
    {
      "cell_type": "code",
      "source": [
        "def main():\n",
        "  '''\n",
        "  Display the countries in a specified continent.\n",
        "  '''\n",
        "  continent = input(f\"Enter the name of a continent: {*getContinentList(),} \")\n",
        "  continent = continent.title() # Allow for all lower\n",
        "  if continent != \"Antarctica\": # case letters. (남극대륙)\n",
        "    infile = open(fileName, 'r')\n",
        "    for line in infile:\n",
        "      data = line.split(',')\n",
        "      if data[1] == continent:\n",
        "        print(data[0])\n",
        "    infile.close()\n",
        "  else:\n",
        "    print(\"There are no countries in Antarctica.\")\n",
        "\n",
        "main()"
      ],
      "metadata": {
        "colab": {
          "base_uri": "https://localhost:8080/"
        },
        "id": "xyiOdRbKwt2q",
        "outputId": "6a33cf6e-f374-4a3d-bdbe-bffa4d69667e"
      },
      "execution_count": 26,
      "outputs": [
        {
          "output_type": "stream",
          "name": "stdout",
          "text": [
            "Enter the name of a continent: ('South America', 'Australia/Oceania', 'North America', 'Asia', 'Africa', 'Europe') South America\n",
            "Argentina\n",
            "Bolivia\n",
            "Brazil\n",
            "Chile\n",
            "Colombia\n",
            "Ecuador\n",
            "Guyana\n",
            "Paraguay\n",
            "Peru\n",
            "Suriname\n",
            "Uruguay\n",
            "Venezuela\n"
          ]
        }
      ]
    },
    {
      "cell_type": "markdown",
      "source": [
        "## p.28 Analyzing the Data in a CSV File with a List"
      ],
      "metadata": {
        "id": "ReVjqehk0SeG"
      }
    },
    {
      "cell_type": "code",
      "source": [
        "fileName = '/content/gdrive/MyDrive/UN.txt'\n",
        "outputFileName = '/content/gdrive/MyDrive/UNbyArea.txt'\n",
        "\n",
        "from enum import Enum\n",
        "class Column(Enum):\n",
        "  COUNTRY = 0\n",
        "  CONTINENT = 1\n",
        "  POPULATION = 2\n",
        "  AREA = 3\n",
        "\n",
        "def main():\n",
        "  '''\n",
        "  Create a file containing all countries and areas, ordered by area.\n",
        "  Display first five lines of the file.\n",
        "  '''\n",
        "  countries = placeRecordsIntoList(fileName)\n",
        "  countries.sort(key=lambda country: country[Column.AREA.value], reverse=True) # sort by area\n",
        "\n",
        "  displayTopNLargestCountries(countries)\n",
        "  createNewFile(countries) \n",
        "\n",
        "def placeRecordsIntoList(fileName):\n",
        "  listOfRecords = list()\n",
        "  with open(fileName, 'r') as f_read:\n",
        "    c = lambda x: float(x) if x.replace('.','').isnumeric() else x\n",
        "    for i, d in enumerate([line.rstrip() for line in f_read]):\n",
        "      listOfRecords.append(list(map(c, d.split(','))))\n",
        "\n",
        "  return listOfRecords\n",
        "\n",
        "def displayTopNLargestCountries(countries, n=5):\n",
        "  print(\"{0:20}{1:9}\".format(\"Country\", \"Area (sq. mi.)\"))\n",
        "  for i in range(n):\n",
        "    print(\"{0:20}{1:9,.0f}\".format(countries[i][Column.COUNTRY.value], countries[i][Column.AREA.value]))\n",
        "\n",
        "def createNewFile(countries):\n",
        "  '''\n",
        "  Create file of countries and their areas.\n",
        "  '''\n",
        "  outfile = open(outputFileName, 'w')\n",
        "  for country in countries:\n",
        "    outfile.write(country[Column.COUNTRY.value] + ',' + str(country[Column.AREA.value])+ \"\\n\")\n",
        "  outfile.close()\n",
        "\n",
        "main()"
      ],
      "metadata": {
        "colab": {
          "base_uri": "https://localhost:8080/"
        },
        "id": "FhigR3i40SBU",
        "outputId": "7f34b0fe-fef9-4eec-dea8-a0ea85864888"
      },
      "execution_count": 69,
      "outputs": [
        {
          "output_type": "stream",
          "name": "stdout",
          "text": [
            "Country             Area (sq. mi.)\n",
            "Russian Federation  6,592,800\n",
            "Canada              3,855,000\n",
            "United States       3,794,066\n",
            "China               3,696,100\n",
            "Brazil              3,287,597\n"
          ]
        }
      ]
    },
    {
      "cell_type": "code",
      "source": [
        "!cat /content/gdrive/MyDrive/UNbyArea.txt"
      ],
      "metadata": {
        "colab": {
          "base_uri": "https://localhost:8080/"
        },
        "id": "8u7BNgjD3rO9",
        "outputId": "f326dec2-7a1e-4728-dbcf-8dd39816e3ec"
      },
      "execution_count": 33,
      "outputs": [
        {
          "output_type": "stream",
          "name": "stdout",
          "text": [
            "Russian Federation,6592800\n",
            "Canada,3855000\n",
            "United States,3794066\n",
            "China,3696100\n",
            "Brazil,3287597\n",
            "Australia,2967909\n",
            "India,1269210\n",
            "Argentina,1068302\n",
            "Kazakhstan,1052085\n",
            "Sudan,967495\n",
            "Algeria,919595\n",
            "Democratic Republic of the Congo,905355\n",
            "Saudi Arabia,829996\n",
            "Mexico,761606\n",
            "Indonesia,735355\n",
            "Libyan Arab Jamahiriya,679359\n",
            "Iran,636372\n",
            "Mongolia,603909\n",
            "Peru,496226\n",
            "Chad,495753\n",
            "Niger,489678\n",
            "Angola,481354\n",
            "Mali,478839\n",
            "South Africa,471443\n",
            "Colombia,440839\n",
            "Ethiopia,426371\n",
            "Bolivia,424163\n",
            "Mauritania,397954\n",
            "Egypt,387048\n",
            "United Republic of Tanzania,364898\n",
            "Nigeria,356669\n",
            "Venezuela,353841\n",
            "Namibia,318696\n",
            "Pakistan,310403\n",
            "Mozambique,309496\n",
            "Turkey,302535\n",
            "Chile,292183\n",
            "Zambia,290587\n",
            "Myanmar,261227\n",
            "Afghanistan,251772\n",
            "Somalia,246201\n",
            "Central African Republic,240534\n",
            "South Sudan,239285\n",
            "Ukraine,233090\n",
            "Madagascar,226597\n",
            "Botswana,224606\n",
            "Kenya,224080\n",
            "France,211209\n",
            "Yemen,203849\n",
            "Thailand,198115\n",
            "Spain,195364\n",
            "Turkmenistan,188456\n",
            "Cameroon,183568\n",
            "Papua New Guinea,178703\n",
            "Sweden,173732\n",
            "Uzbekistan,172742\n",
            "Morocco,172414\n",
            "Iraq,169234\n",
            "Paraguay,157048\n",
            "Zimbabwe,150871\n",
            "Norway,148746\n",
            "Japan,145883\n",
            "Germany,137847\n",
            "Republic of the Congo,132047\n",
            "Finland,130596\n",
            "Vietnam,128527\n",
            "Malaysia,127355\n",
            "Cote D'Ivoire,124502\n",
            "Poland,120726\n",
            "Oman,119498\n",
            "Italy,116346\n",
            "Philippines,115831\n",
            "Burkina Faso,105792\n",
            "New Zealand,103738\n",
            "Gabon,103347\n",
            "Ecuador,98985\n",
            "Guinea,94926\n",
            "United Kingdom,94526\n",
            "Ghana,92098\n",
            "Romania,92043\n",
            "Lao People's Democratic Republic,91429\n",
            "Uganda,91136\n",
            "Guyana,83000\n",
            "Belarus,80155\n",
            "Kyrgyzstan,77181\n",
            "Senegal,76000\n",
            "Syrian Arab Republic,71479\n",
            "Cambodia,69898\n",
            "Uruguay,68037\n",
            "Suriname,63251\n",
            "Tunisia,63170\n",
            "Nepal,56827\n",
            "Bangladesh,55599\n",
            "Tajikistan,55251\n",
            "Greece,50944\n",
            "Nicaragua,50193\n",
            "Democratic People's Republic of Korea,46528\n",
            "Malawi,45747\n",
            "Jordan,45495\n",
            "Eritrea,45405\n",
            "Benin,43484\n",
            "Honduras,43278\n",
            "Liberia,43000\n",
            "Bulgaria,42823\n",
            "Cuba,42803\n",
            "Guatemala,42042\n",
            "Iceland,39770\n",
            "Republic of Korea,38622\n",
            "Hungary,35919\n",
            "Portugal,35645\n",
            "Serbia,34116\n",
            "Azerbaijan,33436\n",
            "Austria,32383\n",
            "United Arab Emirates,32278\n",
            "Ireland,31520\n",
            "Czech Republic,30450\n",
            "Panama,29157\n",
            "Sierra Leone,27699\n",
            "Georgia,26916\n",
            "Sri Lanka,25332\n",
            "Lithuania,25173\n",
            "Latvia,24938\n",
            "Togo,21925\n",
            "Croatia,21831\n",
            "Bosnia and Herzegovina,19767\n",
            "Costa Rica,19730\n",
            "Slovakia,18932\n",
            "Dominican Republic,18704\n",
            "Estonia,17413\n",
            "Denmark,16640\n",
            "Netherlands,16033\n",
            "Switzerland,15940\n",
            "Bhutan,14824\n",
            "Guinea Bissau,13948\n",
            "Republic of Moldova,13067\n",
            "Lesotho,12727\n",
            "Belgium,11787\n",
            "Armenia,11506\n",
            "Albania,11100\n",
            "Equatorial Guinea,10828\n",
            "Burundi,10745\n",
            "Haiti,10714\n",
            "Rwanda,10169\n",
            "Djibouti,8958\n",
            "Belize,8867\n",
            "El Salvador,8124\n",
            "Israel,8019\n",
            "Slovenia,7827\n",
            "Fiji,7056\n",
            "Kuwait,6880\n",
            "Swaziland,6704\n",
            "Timor-Leste,5743\n",
            "Bahamas,5358\n",
            "Montenegro,5019\n",
            "Vanuatu,4706\n",
            "Jamaica,4444\n",
            "Qatar,4416\n",
            "Lebanon,4035\n",
            "Gambia,4007\n",
            "Cyprus,3572\n",
            "Brunei Darussalam,2226\n",
            "Trinidad and Tobago,1978\n",
            "Cape Verde,1557\n",
            "Samoa,1093\n",
            "Luxembourg,998\n",
            "Comoros,863\n",
            "Mauritius,787\n",
            "Sao Tome and Principe,372\n",
            "Dominica,290\n",
            "Tonga,289\n",
            "Kiribati,280\n",
            "Singapore,274.2\n",
            "Micronesia,271\n",
            "Bahrain,253\n",
            "Saint Lucia,239\n",
            "The former Yugoslav Republic of Macedonia,205\n",
            "Andorra,181\n",
            "Palau,177\n",
            "Seychelles,174\n",
            "Barbados,167\n",
            "Saint Vincent and the Grenadines,150\n",
            "Grenada,132\n",
            "Malta,121\n",
            "Maldives,115\n",
            "Antigua and Barbuda,108\n",
            "Saint Kitts and Nevis,101\n",
            "Marshall Islands,69\n",
            "Liechtenstein,62\n",
            "Solomon Islands,43\n",
            "San Marino,23.5\n",
            "Tuvalu,10\n",
            "Nauru,8\n",
            "Monaco,0.76\n"
          ]
        }
      ]
    },
    {
      "cell_type": "markdown",
      "source": [
        "## p.39 Using a Dictionary as a Frequency Table"
      ],
      "metadata": {
        "id": "hKpE5CNtMYmB"
      }
    },
    {
      "cell_type": "code",
      "source": [
        "!cat /content/gdrive/MyDrive/Gettysburg.txt"
      ],
      "metadata": {
        "colab": {
          "base_uri": "https://localhost:8080/"
        },
        "id": "S5TBe37bMYDD",
        "outputId": "96372c14-c1be-4907-af81-1ab5aa147f15"
      },
      "execution_count": 34,
      "outputs": [
        {
          "output_type": "stream",
          "name": "stdout",
          "text": [
            "Four score and seven years ago, our fathers brought forth on this continent a new nation: conceived in liberty, and dedicated to the proposition that all men are created equal. Now we are engaged in a great civil war testing whether that nation, or any nation so conceived and so dedicated can long endure. We are met on a great battlefield of that war. We have come to dedicate a portion of that field as a final resting place for those who here gave their lives that that nation might live. It is altogether fitting and proper that we should do this. But, in a larger sense, we cannot dedicate we cannot consecrate we cannot hallow this ground. The brave men, living and dead, who struggled here have consecrated it, far above our poor power to add or detract. The world will little note, nor long remember, what we say here, but it can never forget what they did here. It is for us the living, rather, to be dedicated here to the unfinished work which they who fought here have thus far so nobly advanced. It is rather for us to be here dedicated to the great task remaining before us that from these honored dead we take increased devotion to that cause for which they gave the last full measure of devotion that we here highly resolve that these dead shall not have died in vain that this nation, under God, shall have a new birth of freedom and that government of the people by the people for the people shall not perish from the earth.\r\n"
          ]
        }
      ]
    },
    {
      "cell_type": "code",
      "source": [
        "fileName = '/content/gdrive/MyDrive/Gettysburg.txt'\n",
        "\n",
        "def main():\n",
        "  '''\n",
        "  Analyze word frequencies in the Gettysburg Address,\n",
        "  which is written in a single line.\n",
        "  '''\n",
        "  listOfWords = formListOfWords(fileName)\n",
        "  freq = createFrequencyDictionary(listOfWords)\n",
        "  displayWordCount(listOfWords, freq)\n",
        "  displayMostCommonWords(freq)\n",
        "\n",
        "def formListOfWords(fileName):\n",
        "  infile = open(fileName)\n",
        "  originalLine = infile.read().lower()\n",
        "  infile.close()\n",
        "  # Remove punctuation marks from the line.\n",
        "  line = \"\"\n",
        "  for ch in originalLine:\n",
        "    if ('a' <= ch <= 'z') or (ch == \" \"):\n",
        "      line += ch\n",
        "  # Place the individual words into a list.\n",
        "  listOfWords = line.split()\n",
        "  return listOfWords\n",
        "\n",
        "def createFrequencyDictionary(listOfWords):\n",
        "  '''\n",
        "  Create dictionary with each item having the form word:word frequency.\n",
        "  '''\n",
        "  freq = {}\n",
        "  # an empty dictionary\n",
        "  for word in listOfWords:\n",
        "    freq[word] = 0\n",
        "  for word in listOfWords:\n",
        "    freq[word] = freq[word] + 1\n",
        "  return freq\n",
        "\n",
        "def displayWordCount(listOfWords, freq):\n",
        "  print(\"The Gettysburg Address contains\", len(listOfWords), \"words.\")\n",
        "  print(\"The Gettysburg Address contains\", len(freq), \"different words.\")\n",
        "  print()  \n",
        "\n",
        "\n",
        "def displayMostCommonWords(freq):\n",
        "  '''\n",
        "  Common words are those with frequency > 5.\n",
        "  '''\n",
        "  print(\"The most common words and their frequencies are:\")\n",
        "  listOfMostCommonWords = []\n",
        "  for word in freq.keys():\n",
        "    if freq[word] >= 6:\n",
        "      listOfMostCommonWords.append((word, freq[word]))\n",
        "  listOfMostCommonWords.sort(key=lambda x: x[1], reverse=True)\n",
        "  for item in listOfMostCommonWords:\n",
        "    print(\"    \", item[0] + ':', item[1])\n",
        "\n",
        "main()"
      ],
      "metadata": {
        "colab": {
          "base_uri": "https://localhost:8080/"
        },
        "id": "ry5V2sVrNL7V",
        "outputId": "9be9e3d5-bb63-453e-f899-824fefb0b219"
      },
      "execution_count": 35,
      "outputs": [
        {
          "output_type": "stream",
          "name": "stdout",
          "text": [
            "The Gettysburg Address contains 268 words.\n",
            "The Gettysburg Address contains 139 different words.\n",
            "\n",
            "The most common words and their frequencies are:\n",
            "     that: 13\n",
            "     the: 11\n",
            "     we: 10\n",
            "     to: 8\n",
            "     here: 8\n",
            "     a: 7\n",
            "     and: 6\n"
          ]
        }
      ]
    },
    {
      "cell_type": "markdown",
      "source": [
        "## p.45 Dictionary-Valued Dictionaries"
      ],
      "metadata": {
        "id": "6p4rrnSGRkF-"
      }
    },
    {
      "cell_type": "code",
      "source": [
        "!cat /content/gdrive/MyDrive/UNDict.dat"
      ],
      "metadata": {
        "colab": {
          "base_uri": "https://localhost:8080/"
        },
        "id": "Zt6rtGz3R0R3",
        "outputId": "c3480163-93e0-474d-eac3-cb58aea53dbc"
      },
      "execution_count": null,
      "outputs": [
        {
          "output_type": "stream",
          "name": "stdout",
          "text": [
            "�\u0003}q\u0000(X\u0004\u0000\u0000\u0000Peruq\u0001}q\u0002(X\u0004\u0000\u0000\u0000poplq\u0003G@>\u0019�����X\u0004\u0000\u0000\u0000contq\u0004X\r\u0000\u0000\u0000South Americaq\u0005X\u0004\u0000\u0000\u0000areaq\u0006Jb�\u0007\u0000uX\u000e\u0000\u0000\u0000Czech Republicq\u0007}q\b(h\u0003G@%333333h\u0004X\u0006\u0000\u0000\u0000Europeq\th\u0006M�vuX\u0006\u0000\u0000\u0000Panamaq\n",
            "}q\u000b(h\u0003G@\f������h\u0004X\r\u0000\u0000\u0000North Americaq\fh\u0006M�quX\u0007\u0000\u0000\u0000Namibiaq\r}q\u000e(h\u0003G@\u0001������h\u0004X\u0006\u0000\u0000\u0000Africaq\u000fh\u0006J��\u0004\u0000uX\u0005\u0000\u0000\u0000Qatarq\u0010}q\u0011(h\u0003G@\u0000������h\u0004X\u0004\u0000\u0000\u0000Asiaq\u0012h\u0006M@\u0011uX\b\u0000\u0000\u0000Sloveniaq\u0013}q\u0014(h\u0003G@\u0000\u0000\u0000\u0000\u0000\u0000\u0000h\u0004X\u0006\u0000\u0000\u0000Europeq\u0015h\u0006M�\u001euX\u0006\u0000\u0000\u0000Franceq\u0016}q\u0017(h\u0003G@P�33333h\u0004X\u0006\u0000\u0000\u0000Europeq\u0018h\u0006J\t9\u0003\u0000uX\u0004\u0000\u0000\u0000Fijiq\u0019}q\u001a(h\u0003G?�������h\u0004X\u0011\u0000\u0000\u0000Australia/Oceaniaq\u001bh\u0006M�\u001buX\n",
            "\u0000\u0000\u0000Azerbaijanq\u001c}q\u001d(h\u0003G@#ffffffh\u0004X\u0004\u0000\u0000\u0000Asiaq\u001eh\u0006M��uX\u0006\u0000\u0000\u0000Swedenq\u001f}q (h\u0003G@#ffffffh\u0004X\u0006\u0000\u0000\u0000Europeq!h\u0006J��\u0002\u0000uX\u0006\u0000\u0000\u0000Jordanq\"}q#(h\u0003G@\u001f������h\u0004X\u0004\u0000\u0000\u0000Asiaq$h\u0006M��uX\b\u0000\u0000\u0000Paraguayq%}q&(h\u0003G@\u001a������h\u0004X\r\u0000\u0000\u0000South Americaq'h\u0006Jxe\u0002\u0000uX\u0007\u0000\u0000\u0000Algeriaq(}q)(h\u0003G@C&fffffh\u0004X\u0006\u0000\u0000\u0000Africaq*h\u0006J+\b\u000e\u0000uX\u001b\u0000\u0000\u0000United Republic of Tanzaniaq+}q,(h\u0003G@I\u0000\u0000\u0000\u0000\u0000\u0000h\u0004X\u0006\u0000\u0000\u0000Africaq-h\u0006Jb�\u0005\u0000uX\u0005\u0000\u0000\u0000Sudanq.}q/(h\u0003G@A�\u0000\u0000\u0000\u0000\u0000h\u0004X\u0006\u0000\u0000\u0000Africaq0h\u0006JG�\u000e\u0000uX\t\u0000\u0000\u0000Argentinaq1}q2(h\u0003G@F\u0000\u0000\u0000\u0000\u0000\u0000h\u0004X\r\u0000\u0000\u0000South Americaq3h\u0006J\u000eM\u0010\u0000uX\n",
            "\u0000\u0000\u0000Mauritaniaq4}q5(h\u0003G@\f\u0000\u0000\u0000\u0000\u0000\u0000h\u0004X\u0006\u0000\u0000\u0000Africaq6h\u0006J�\u0012\u0006\u0000uX\u0007\u0000\u0000\u0000Vietnamq7}q8(h\u0003G@WY�����h\u0004X\u0004\u0000\u0000\u0000Asiaq9h\u0006J\u000f�\u0001\u0000uX\u0006\u0000\u0000\u0000Kuwaitq:}q;(h\u0003G@\u0005������h\u0004X\u0004\u0000\u0000\u0000Asiaq<h\u0006M�\u001auX\u0010\u0000\u0000\u0000Papua New Guineaq=}q>(h\u0003G@\u001affffffh\u0004X\u0011\u0000\u0000\u0000Australia/Oceaniaq?h\u0006J\u000f�\u0002\u0000uX\t\u0000\u0000\u0000Nicaraguaq@}qA(h\u0003G@\u0018ffffffh\u0004X\r\u0000\u0000\u0000North AmericaqBh\u0006M\u0011�uX\u0007\u0000\u0000\u0000ComorosqC}qD(h\u0003G?��\n",
            "=p�h\u0004X\u0006\u0000\u0000\u0000AfricaqEh\u0006M_\u0003uX\u0007\u0000\u0000\u0000JamaicaqF}qG(h\u0003G@\u0007333333h\u0004X\r\u0000\u0000\u0000North AmericaqHh\u0006M\\\u0011uX\u0005\u0000\u0000\u0000PalauqI}qJ(h\u0003G?��\u0006$�/\u001bh\u0004X\u0011\u0000\u0000\u0000Australia/OceaniaqKh\u0006K�uX\u0006\u0000\u0000\u0000NorwayqL}qM(h\u0003G@\u0014ffffffh\u0004X\u0006\u0000\u0000\u0000EuropeqNh\u0006J\n",
            "E\u0002\u0000uX\t\u0000\u0000\u0000AustraliaqO}qP(h\u0003G@6�\u0000\u0000\u0000\u0000\u0000h\u0004X\u0011\u0000\u0000\u0000Australia/OceaniaqQh\u0006JeI-\u0000uX\u0006\u0000\u0000\u0000BrazilqR}qS(h\u0003G@iVfffffh\u0004X\r\u0000\u0000\u0000South AmericaqTh\u0006J-*2\u0000uX\b\u0000\u0000\u0000CambodiaqU}qV(h\u0003G@/\u0000\u0000\u0000\u0000\u0000\u0000h\u0004X\u0004\u0000\u0000\u0000AsiaqWh\u0006J\n",
            "\u0011\u0001\u0000uX\u0007\u0000\u0000\u0000SenegalqX}qY(h\u0003G@+333333h\u0004X\u0006\u0000\u0000\u0000AfricaqZh\u0006J�(\u0001\u0000uX\b\u0000\u0000\u0000Hondurasq[}q\\(h\u0003G@!333333h\u0004X\r\u0000\u0000\u0000North Americaq]h\u0006M\u000e�uX\u0007\u0000\u0000\u0000Moroccoq^}q_(h\u0003G@@�\u0000\u0000\u0000\u0000\u0000h\u0004X\u0006\u0000\u0000\u0000Africaq`h\u0006J~�\u0002\u0000uX\b\u0000\u0000\u0000Maldivesqa}qb(h\u0003G?��\\(�h\u0004X\u0004\u0000\u0000\u0000Asiaqch\u0006KsuX\u0004\u0000\u0000\u0000Togoqd}qe(h\u0003G@\u001d������h\u0004X\u0006\u0000\u0000\u0000Africaqfh\u0006M�UuX\u0007\u0000\u0000\u0000Boliviaqg}qh(h\u0003G@%333333h\u0004X\r\u0000\u0000\u0000South Americaqih\u0006J�x\u0006\u0000uX\u0014\u0000\u0000\u0000Syrian Arab Republicqj}qk(h\u0003G@2\u0000\u0000\u0000\u0000\u0000\u0000h\u0004X\u0004\u0000\u0000\u0000Asiaqlh\u0006J7\u0017\u0001\u0000uX\u0007\u0000\u0000\u0000Eritreaqm}qn(h\u0003G@\u0019333333h\u0004X\u0006\u0000\u0000\u0000Africaqoh\u0006M]�uX\t\u0000\u0000\u0000Swazilandqp}qq(h\u0003G?�ffffffh\u0004X\u0006\u0000\u0000\u0000Africaqrh\u0006M0\u001auX\b\u0000\u0000\u0000Djiboutiqs}qt(h\u0003G?��\u001e�Q�h\u0004X\u0006\u0000\u0000\u0000Africaquh\u0006M�\"uX\u0012\u0000\u0000\u0000Russian Federationqv}qw(h\u0003G@a�\u0000\u0000\u0000\u0000\u0000h\u0004X\u0006\u0000\u0000\u0000Europeqxh\u0006J �d\u0000uX\f\u0000\u0000\u0000South Africaqy}qz(h\u0003G@H333333h\u0004X\u0006\u0000\u0000\u0000Africaq{h\u0006J�1\u0007\u0000uX\u0005\u0000\u0000\u0000Spainq|}q}(h\u0003G@Gٙ����h\u0004X\u0006\u0000\u0000\u0000Europeq~h\u0006J$�\u0002\u0000uX\u0015\u0000\u0000\u0000Saint Kitts and Nevisq}q�(h\u0003G?���vȴ9h\u0004X\r\u0000\u0000\u0000North Americaq�h\u0006KeuX\u0007\u0000\u0000\u0000Romaniaq�}q�(h\u0003G@5�33333h\u0004X\u0006\u0000\u0000\u0000Europeq�h\u0006J�g\u0001\u0000uX\u0005\u0000\u0000\u0000Chileq�}q�(h\u0003G@1ffffffh\u0004X\r\u0000\u0000\u0000South Americaq�h\u0006JWu\u0004\u0000uX\u0007\u0000\u0000\u0000Albaniaq�}q�(h\u0003G@\b\u0000\u0000\u0000\u0000\u0000\u0000h\u0004X\u0006\u0000\u0000\u0000Europeq�h\u0006M\\+uX\u0007\u0000\u0000\u0000Croatiaq�}q�(h\u0003G@\u0012\u0000\u0000\u0000\u0000\u0000\u0000h\u0004X\u0006\u0000\u0000\u0000Europeq�h\u0006MGUuX\u0015\u0000\u0000\u0000Republic of the Congoq�}q�(h\u0003G@\u0012������h\u0004X\u0006\u0000\u0000\u0000Africaq�h\u0006J�\u0003\u0002\u0000uX\u0006\u0000\u0000\u0000Belizeq�}q�(h\u0003G?�\\(��h\u0004X\r\u0000\u0000\u0000North Americaq�h\u0006M�\"uX\n",
            "\u0000\u0000\u0000Micronesiaq�}q�(h\u0003G?�(�\\)h\u0004X\u0011\u0000\u0000\u0000Australia/Oceaniaq�h\u0006M\u000f\u0001uX\u0007\u0000\u0000\u0000Somaliaq�}q�(h\u0003G@$������h\u0004X\u0006\u0000\u0000\u0000Africaq�h\u0006J��\u0003\u0000uX\u0007\u0000\u0000\u0000Finlandq�}q�(h\u0003G@\u0015333333h\u0004X\u0006\u0000\u0000\u0000Europeq�h\u0006J$�\u0001\u0000uX\b\u0000\u0000\u0000Kiribatiq�}q�(h\u0003G?�������h\u0004X\u0011\u0000\u0000\u0000Australia/Oceaniaq�h\u0006M\u0018\u0001uX\u0012\u0000\u0000\u0000Dominican Republicq�}q�(h\u0003G@$������h\u0004X\r\u0000\u0000\u0000North Americaq�h\u0006M\u0010IuX\n",
            "\u0000\u0000\u0000Cape Verdeq�}q�(h\u0003G?�G�\u0014z�Hh\u0004X\u0006\u0000\u0000\u0000Africaq�h\u0006M\u0015\u0006uX\n",
            "\u0000\u0000\u0000Madagascarq�}q�(h\u0003G@7333333h\u0004X\u0006\u0000\u0000\u0000Africaq�h\u0006J%u\u0003\u0000uX\u0007\u0000\u0000\u0000Andorraq�}q�(h\u0003G?�\\(��h\u0004X\u0006\u0000\u0000\u0000Europeq�h\u0006K�uX \u0000\u0000\u0000Saint Vincent and the Grenadinesq�}q�(h\u0003G?�������h\u0004X\r\u0000\u0000\u0000North Americaq�h\u0006K�uX\u0005\u0000\u0000\u0000Beninq�}q�(h\u0003G@$ffffffh\u0004X\u0006\u0000\u0000\u0000Africaq�h\u0006MܩuX\n",
            "\u0000\u0000\u0000Tajikistanq�}q�(h\u0003G@ 333333h\u0004X\u0004\u0000\u0000\u0000Asiaq�h\u0006M��uX\u0005\u0000\u0000\u0000Samoaq�}q�(h\u0003G?ə�����h\u0004X\u0011\u0000\u0000\u0000Australia/Oceaniaq�h\u0006ME\u0004uX\u0006\u0000\u0000\u0000Greeceq�}q�(h\u0003G@'������h\u0004X\u0006\u0000\u0000\u0000Europeq�h\u0006M\u0000�uX\u0005\u0000\u0000\u0000Gabonq�}q�(h\u0003G?�333333h\u0004X\u0006\u0000\u0000\u0000Africaq�h\u0006J��\u0001\u0000uX)\u0000\u0000\u0000The former Yugoslav Republic of Macedoniaq�}q�(h\u0003G@\u0000������h\u0004X\u0006\u0000\u0000\u0000Europeq�h\u0006K�uX\n",
            "\u0000\u0000\u0000Luxembourgq�}q�(h\u0003G?��\n",
            "=p�h\u0004X\u0006\u0000\u0000\u0000Europeq�h\u0006M�\u0003uX\u0007\u0000\u0000\u0000Lebanonq�}q�(h\u0003G@\u0017������h\u0004X\u0004\u0000\u0000\u0000Asiaq�h\u0006M�\u000fuX\u000b\u0000\u0000\u0000Philippinesq�}q�(h\u0003G@Z������h\u0004X\u0004\u0000\u0000\u0000Asiaq�h\u0006Jw�\u0001\u0000uX\t\u0000\u0000\u0000Venezuelaq�}q�(h\u0003G@<�fffffh\u0004X\r\u0000\u0000\u0000South Americaq�h\u0006J1f\u0005\u0000uX\u0007\u0000\u0000\u0000Armeniaq�}q�(h\u0003G@\b������h\u0004X\u0004\u0000\u0000\u0000Asiaq�h\u0006M�,uX \u0000\u0000\u0000Lao People's Democratic Republicq�}q�(h\u0003G@\u001b333333h\u0004X\u0004\u0000\u0000\u0000Asiaq�h\u0006J%e\u0001\u0000uX\u000b\u0000\u0000\u0000Netherlandsq�}q�(h\u0003G@0�\n",
            "=p��h\u0004X\u0006\u0000\u0000\u0000Europeq�h\u0006M�>uX\u0007\u0000\u0000\u0000Liberiaq�}q�(h\u0003G@\u0010ffffffh\u0004X\u0006\u0000\u0000\u0000Africaq�h\u0006M��uX\b\u0000\u0000\u0000Surinameq�}q�(h\u0003G?�=p��\n",
            "=h\u0004X\r\u0000\u0000\u0000South Americaq�h\u0006M\u0013�uX\u0005\u0000\u0000\u0000Italyq�}q�(h\u0003G@Nٙ����h\u0004X\u0006\u0000\u0000\u0000Europeq�h\u0006Jz�\u0001\u0000uX\t\u0000\u0000\u0000Mauritiusq�}q�(h\u0003G?�������h\u0004X\u0006\u0000\u0000\u0000Africaq�h\u0006M\u0013\u0003uX\u0006\u0000\u0000\u0000Tuvaluq�}q�(h\u0003G?��+\u0002\fI�h\u0004X\u0011\u0000\u0000\u0000Australia/Oceaniaq�h\u0006K\n",
            "uX\u000b\u0000\u0000\u0000El Salvadorq�}q�(h\u0003G@\u0018������h\u0004X\r\u0000\u0000\u0000North Americaq�h\u0006M�\u001fuX\u0007\u0000\u0000\u0000Vanuatuq�}q�(h\u0003G?�G�\u0014z�Hh\u0004X\u0011\u0000\u0000\u0000Australia/Oceaniaq�h\u0006Mb\u0012uX\u0006\u0000\u0000\u0000Bhutanq�}q�(h\u0003G?�\\(�\\h\u0004X\u0004\u0000\u0000\u0000Asiaq�h\u0006M�9uX\u0007\u0000\u0000\u0000Ukraineq�}q�(h\u0003G@F&fffffh\u0004X\u0006\u0000\u0000\u0000Europeq�h\u0006J��\u0003\u0000uX\u0007\u0000\u0000\u0000Ecuadorq�}q�(h\u0003G@,\u0000\u0000\u0000\u0000\u0000\u0000h\u0004X\r\u0000\u0000\u0000South Americaq�h\u0006J��\u0001\u0000uX\t\u0000\u0000\u0000Singaporeq�}q�(h\u0003G@\u0016ffffffh\u0004X\u0004\u0000\u0000\u0000Asiaq�h\u0006G@q#33333uX\u000b\u0000\u0000\u0000Timor-Lesteq�}q�(h\u0003G?�333333h\u0004X\u0004\u0000\u0000\u0000Asiaq�h\u0006Mo\u0016uX\u0005\u0000\u0000\u0000Tongaq�}q�(h\u0003G?�(�\\)h\u0004X\u0011\u0000\u0000\u0000Australia/Oceaniaq�h\u0006M!\u0001uX \u0000\u0000\u0000Democratic Republic of the Congoq�}q�(h\u0003G@SY�����h\u0004X\u0006\u0000\u0000\u0000Africaq�h\u0006J��\r\u0000uX\u0007\u0000\u0000\u0000Irelandr\u0000\u0001\u0000\u0000}r\u0001\u0001\u0000\u0000(h\u0003G@\u0013333333h\u0004X\u0006\u0000\u0000\u0000Europer\u0002\u0001\u0000\u0000h\u0006M {uX\u0006\u0000\u0000\u0000Zambiar\u0003\u0001\u0000\u0000}r\u0004\u0001\u0000\u0000(h\u0003G@-ffffffh\u0004X\u0006\u0000\u0000\u0000Africar\u0005\u0001\u0000\u0000h\u0006J\u001bo\u0004\u0000uX\u0005\u0000\u0000\u0000Yemenr\u0006\u0001\u0000\u0000}r\u0007\u0001\u0000\u0000(h\u0003G@:\u0019�����h\u0004X\u0004\u0000\u0000\u0000Asiar\b\u0001\u0000\u0000h\u0006JI\u001c\u0003\u0000uX\u0005\u0000\u0000\u0000Chinar\t\u0001\u0000\u0000}r\n",
            "\u0001\u0000\u0000(h\u0003G@�.�����h\u0004X\u0004\u0000\u0000\u0000Asiar\u000b\u0001\u0000\u0000h\u0006J�e8\u0000uX\u0006\u0000\u0000\u0000Malawir\f\u0001\u0000\u0000}r\r\u0001\u0000\u0000(h\u0003G@1ffffffh\u0004X\u0006\u0000\u0000\u0000Africar\u000e\u0001\u0000\u0000h\u0006M��uX\u0005\u0000\u0000\u0000Egyptr\u000f\u0001\u0000\u0000}r\u0010\u0001\u0000\u0000(h\u0003G@U������h\u0004X\u0006\u0000\u0000\u0000Africar\u0011\u0001\u0000\u0000h\u0006J��\u0005\u0000uX\u0006\u0000\u0000\u0000Mexicor\u0012\u0001\u0000\u0000}r\u0013\u0001\u0000\u0000(h\u0003G@^\u001333333h\u0004X\r\u0000\u0000\u0000North Americar\u0014\u0001\u0000\u0000h\u0006J\u0006�\u000b\u0000uX\b\u0000\u0000\u0000Cameroonr\u0015\u0001\u0000\u0000}r\u0016\u0001\u0000\u0000(h\u0003G@7\u0019�����h\u0004X\u0006\u0000\u0000\u0000Africar\u0017\u0001\u0000\u0000h\u0006J\u0010�\u0002\u0000uX\f\u0000\u0000\u0000Turkmenistanr\u0018\u0001\u0000\u0000}r\u0019\u0001\u0000\u0000(h\u0003G@\u0014ffffffh\u0004X\u0004\u0000\u0000\u0000Asiar\u001a\u0001\u0000\u0000h\u0006J(�\u0002\u0000uX\n",
            "\u0000\u0000\u0000Mozambiquer\u001b\u0001\u0000\u0000}r\u001c\u0001\u0000\u0000(h\u0003G@8�33333h\u0004X\u0006\u0000\u0000\u0000Africar\u001d\u0001\u0000\u0000h\u0006J��\u0004\u0000uX\b\u0000\u0000\u0000Barbadosr\u001e\u0001\u0000\u0000}r\u001f\u0001\u0000\u0000(h\u0003G?ҏ\\(�h\u0004X\r\u0000\u0000\u0000North Americar \u0001\u0000\u0000h\u0006K�uX\u0005\u0000\u0000\u0000Nigerr!\u0001\u0000\u0000}r\"\u0001\u0000\u0000(h\u0003G@1�\u0000\u0000\u0000\u0000\u0000h\u0004X\u0006\u0000\u0000\u0000Africar#\u0001\u0000\u0000h\u0006J�x\u0007\u0000uX\u0005\u0000\u0000\u0000Ghanar$\u0001\u0000\u0000}r%\u0001\u0000\u0000(h\u0003G@9������h\u0004X\u0006\u0000\u0000\u0000Africar&\u0001\u0000\u0000h\u0006J�g\u0001\u0000uX\b\u0000\u0000\u0000Colombiar'\u0001\u0000\u0000}r(\u0001\u0000\u0000(h\u0003G@G\u0019�����h\u0004X\r\u0000\u0000\u0000South Americar)\u0001\u0000\u0000h\u0006J\u0007�\u0006\u0000uX\u0007\u0000\u0000\u0000Myanmarr*\u0001\u0000\u0000}r+\u0001\u0000\u0000(h\u0003G@Kٙ����h\u0004X\u0004\u0000\u0000\u0000Asiar,\u0001\u0000\u0000h\u0006Jk�\u0003\u0000uX\n",
            "\u0000\u0000\u0000Kyrgyzstanr-\u0001\u0000\u0000}r.\u0001\u0000\u0000(h\u0003G@\u0016ffffffh\u0004X\u0004\u0000\u0000\u0000Asiar/\u0001\u0000\u0000h\u0006J}-\u0001\u0000uX\b\u0000\u0000\u0000Thailandr0\u0001\u0000\u0000}r1\u0001\u0000\u0000(h\u0003G@P������h\u0004X\u0004\u0000\u0000\u0000Asiar2\u0001\u0000\u0000h\u0006J�\u0005\u0003\u0000uX\u0006\u0000\u0000\u0000Monacor3\u0001\u0000\u0000}r4\u0001\u0000\u0000(h\u0003G?��vȴ9Xh\u0004X\u0006\u0000\u0000\u0000Europer5\u0001\u0000\u0000h\u0006G?�Q�\u001e�RuX\u0005\u0000\u0000\u0000Haitir6\u0001\u0000\u0000}r7\u0001\u0000\u0000(h\u0003G@$ffffffh\u0004X\r\u0000\u0000\u0000North Americar8\u0001\u0000\u0000h\u0006M�)uX\u0005\u0000\u0000\u0000Nepalr9\u0001\u0000\u0000}r:\u0001\u0000\u0000(h\u0003G@?\u0000\u0000\u0000\u0000\u0000\u0000h\u0004X\u0004\u0000\u0000\u0000Asiar;\u0001\u0000\u0000h\u0006M��uX\b\u0000\u0000\u0000Malaysiar<\u0001\u0000\u0000}r=\u0001\u0000\u0000(h\u0003G@>\u0019�����h\u0004X\u0004\u0000\u0000\u0000Asiar>\u0001\u0000\u0000h\u0006J{�\u0001\u0000uX\u0005\u0000\u0000\u0000Maltar?\u0001\u0000\u0000}r@\u0001\u0000\u0000(h\u0003G?�=p��\n",
            "=h\u0004X\u0006\u0000\u0000\u0000EuroperA\u0001\u0000\u0000h\u0006KyuX\b\u0000\u0000\u0000BulgariarB\u0001\u0000\u0000}rC\u0001\u0000\u0000(h\u0003G@\u001b������h\u0004X\u0006\u0000\u0000\u0000EuroperD\u0001\u0000\u0000h\u0006MG�uX\n",
            "\u0000\u0000\u0000SeychellesrE\u0001\u0000\u0000}rF\u0001\u0000\u0000(h\u0003G?��O�;dZh\u0004X\u0006\u0000\u0000\u0000AfricarG\u0001\u0000\u0000h\u0006K�uX\u0007\u0000\u0000\u0000LesothorH\u0001\u0000\u0000}rI\u0001\u0000\u0000(h\u0003G?�ffffffh\u0004X\u0006\u0000\u0000\u0000AfricarJ\u0001\u0000\u0000h\u0006M�1uX\u0006\u0000\u0000\u0000PolandrK\u0001\u0000\u0000}rL\u0001\u0000\u0000(h\u0003G@C&fffffh\u0004X\u0006\u0000\u0000\u0000EuroperM\u0001\u0000\u0000h\u0006J��\u0001\u0000uX\u0013\u0000\u0000\u0000Trinidad and TobagorN\u0001\u0000\u0000}rO\u0001\u0000\u0000(h\u0003G?�333333h\u0004X\r\u0000\u0000\u0000North AmericarP\u0001\u0000\u0000h\u0006M�\u0007uX\b\u0000\u0000\u0000PortugalrQ\u0001\u0000\u0000}rR\u0001\u0000\u0000(h\u0003G@%������h\u0004X\u0006\u0000\u0000\u0000EuroperS\u0001\u0000\u0000h\u0006M=�uX\u0016\u0000\u0000\u0000Bosnia and HerzegovinarT\u0001\u0000\u0000}rU\u0001\u0000\u0000(h\u0003G@\u000f333333h\u0004X\u0006\u0000\u0000\u0000EuroperV\u0001\u0000\u0000h\u0006M7MuX\u0006\u0000\u0000\u0000RwandarW\u0001\u0000\u0000}rX\u0001\u0000\u0000(h\u0003G@(������h\u0004X\u0006\u0000\u0000\u0000AfricarY\u0001\u0000\u0000h\u0006M�'uX\u0006\u0000\u0000\u0000GambiarZ\u0001\u0000\u0000}r[\u0001\u0000\u0000(h\u0003G?�ffffffh\u0004X\u0006\u0000\u0000\u0000Africar\\\u0001\u0000\u0000h\u0006M�\u000fuX\n",
            "\u0000\u0000\u0000Montenegror]\u0001\u0000\u0000}r^\u0001\u0000\u0000(h\u0003G?�������h\u0004X\u0006\u0000\u0000\u0000Europer_\u0001\u0000\u0000h\u0006M�\u0013uX\u0011\u0000\u0000\u0000Equatorial Guinear`\u0001\u0000\u0000}ra\u0001\u0000\u0000(h\u0003G?�\n",
            "=p��\n",
            "h\u0004X\u0006\u0000\u0000\u0000Africarb\u0001\u0000\u0000h\u0006ML*uX\f\u0000\u0000\u0000Saudi Arabiarc\u0001\u0000\u0000}rd\u0001\u0000\u0000(h\u0003G@;L�����h\u0004X\u0004\u0000\u0000\u0000Asiare\u0001\u0000\u0000h\u0006J,�\f\u0000uX\u0007\u0000\u0000\u0000Grenadarf\u0001\u0000\u0000}rg\u0001\u0000\u0000(h\u0003G?�(�\\)h\u0004X\r\u0000\u0000\u0000North Americarh\u0001\u0000\u0000h\u0006K�uX\u0006\u0000\u0000\u0000Serbiari\u0001\u0000\u0000}rj\u0001\u0000\u0000(h\u0003G@\u001c������h\u0004X\u0006\u0000\u0000\u0000Europerk\u0001\u0000\u0000h\u0006MD�uX\n",
            "\u0000\u0000\u0000Bangladeshrl\u0001\u0000\u0000}rm\u0001\u0000\u0000(h\u0003G@də����h\u0004X\u0004\u0000\u0000\u0000Asiarn\u0001\u0000\u0000h\u0006M/�uX\u0016\u0000\u0000\u0000Libyan Arab Jamahiriyaro\u0001\u0000\u0000}rp\u0001\u0000\u0000(h\u0003G@\u0018������h\u0004X\u0006\u0000\u0000\u0000Africarq\u0001\u0000\u0000h\u0006J�]\n",
            "\u0000uX\u0004\u0000\u0000\u0000Chadrr\u0001\u0000\u0000}rs\u0001\u0000\u0000(h\u0003G@&������h\u0004X\u0006\u0000\u0000\u0000Africart\u0001\u0000\u0000h\u0006J��\u0007\u0000uX\u0018\u0000\u0000\u0000Central African Republicru\u0001\u0000\u0000}rv\u0001\u0000\u0000(h\u0003G@\u0015333333h\u0004X\u0006\u0000\u0000\u0000Africarw\u0001\u0000\u0000h\u0006J��\u0003\u0000uX\u0006\u0000\u0000\u0000Ugandarx\u0001\u0000\u0000}ry\u0001\u0000\u0000(h\u0003G@A�33333h\u0004X\u0006\u0000\u0000\u0000Africarz\u0001\u0000\u0000h\u0006J\u0000d\u0001\u0000uX\u0006\u0000\u0000\u0000Cyprusr{\u0001\u0000\u0000}r|\u0001\u0000\u0000(h\u0003G?�333333h\u0004X\u0004\u0000\u0000\u0000Asiar}\u0001\u0000\u0000h\u0006M�\ruX\u0007\u0000\u0000\u0000Tunisiar~\u0001\u0000\u0000}r\u0001\u0000\u0000(h\u0003G@%������h\u0004X\u0006\u0000\u0000\u0000Africar�\u0001\u0000\u0000h\u0006M��uX\u0007\u0000\u0000\u0000Hungaryr�\u0001\u0000\u0000}r�\u0001\u0000\u0000(h\u0003G@$\u0000\u0000\u0000\u0000\u0000\u0000h\u0004X\u0006\u0000\u0000\u0000Europer�\u0001\u0000\u0000h\u0006MO�uX\u0006\u0000\u0000\u0000Israelr�\u0001\u0000\u0000}r�\u0001\u0000\u0000(h\u0003G@\u001f333333h\u0004X\u0004\u0000\u0000\u0000Asiar�\u0001\u0000\u0000h\u0006MS\u001fuX\f\u0000\u0000\u0000Burkina Fasor�\u0001\u0000\u0000}r�\u0001\u0000\u0000(h\u0003G@2ffffffh\u0004X\u0006\u0000\u0000\u0000Africar�\u0001\u0000\u0000h\u0006J@�\u0001\u0000uX\b\u0000\u0000\u0000Zimbabwer�\u0001\u0000\u0000}r�\u0001\u0000\u0000(h\u0003G@+������h\u0004X\u0006\u0000\u0000\u0000Africar�\u0001\u0000\u0000h\u0006JWM\u0002\u0000uX\r\u0000\u0000\u0000Liechtensteinr�\u0001\u0000\u0000}r�\u0001\u0000\u0000(h\u0003G?����l�h\u0004X\u0006\u0000\u0000\u0000Europer�\u0001\u0000\u0000h\u0006K>uX\b\u0000\u0000\u0000Botswanar�\u0001\u0000\u0000}r�\u0001\u0000\u0000(h\u0003G@\u0001������h\u0004X\u0006\u0000\u0000\u0000Africar�\u0001\u0000\u0000h\u0006J^m\u0003\u0000uX\u000b\u0000\u0000\u0000Saint Luciar�\u0001\u0000\u0000}r�\u0001\u0000\u0000(h\u0003G?�z�G�\u0014{h\u0004X\r\u0000\u0000\u0000North Americar�\u0001\u0000\u0000h\u0006K�uX\u0007\u0000\u0000\u0000Bahamasr�\u0001\u0000\u0000}r�\u0001\u0000\u0000(h\u0003G?�z�G�\u0014{h\u0004X\r\u0000\u0000\u0000North Americar�\u0001\u0000\u0000h\u0006M�\u0014uX\u0004\u0000\u0000\u0000Omanr�\u0001\u0000\u0000}r�\u0001\u0000\u0000(h\u0003G@\t������h\u0004X\u0004\u0000\u0000\u0000Asiar�\u0001\u0000\u0000h\u0006J��\u0001\u0000uX\u0007\u0000\u0000\u0000Denmarkr�\u0001\u0000\u0000}r�\u0001\u0000\u0000(h\u0003G@\u0016ffffffh\u0004X\u0006\u0000\u0000\u0000Europer�\u0001\u0000\u0000h\u0006M\u0000AuX\r\u0000\u0000\u0000Cote D'Ivoirer�\u0001\u0000\u0000}r�\u0001\u0000\u0000(h\u0003G@6������h\u0004X\u0006\u0000\u0000\u0000Africar�\u0001\u0000\u0000h\u0006JV�\u0001\u0000uX\u0006\u0000\u0000\u0000Latviar�\u0001\u0000\u0000}r�\u0001\u0000\u0000(h\u0003G@\u0001������h\u0004X\u0006\u0000\u0000\u0000Europer�\u0001\u0000\u0000h\u0006MjauX\u0015\u0000\u0000\u0000Sao Tome and Principer�\u0001\u0000\u0000}r�\u0001\u0000\u0000(h\u0003G?�Q�\u001e�Rh\u0004X\u0006\u0000\u0000\u0000Africar�\u0001\u0000\u0000h\u0006Mt\u0001uX\u0013\u0000\u0000\u0000Republic of Moldovar�\u0001\u0000\u0000}r�\u0001\u0000\u0000(h\u0003G@\f������h\u0004X\u0006\u0000\u0000\u0000Europer�\u0001\u0000\u0000h\u0006M\u000b3uX\u0013\u0000\u0000\u0000Antigua and Barbudar�\u0001\u0000\u0000}r�\u0001\u0000\u0000(h\u0003G?�KƧh\u0004X\r\u0000\u0000\u0000North Americar�\u0001\u0000\u0000h\u0006KluX\u0007\u0000\u0000\u0000Nigeriar�\u0001\u0000\u0000}r�\u0001\u0000\u0000(h\u0003G@f&fffffh\u0004X\u0006\u0000\u0000\u0000Africar�\u0001\u0000\u0000h\u0006J=q\u0005\u0000uX\u0005\u0000\u0000\u0000Japanr�\u0001\u0000\u0000}r�\u0001\u0000\u0000(h\u0003G@_�fffffh\u0004X\u0004\u0000\u0000\u0000Asiar�\u0001\u0000\u0000h\u0006J�9\u0002\u0000uX\u0007\u0000\u0000\u0000Estoniar�\u0001\u0000\u0000}r�\u0001\u0000\u0000(h\u0003G?�������h\u0004X\u0006\u0000\u0000\u0000Europer�\u0001\u0000\u0000h\u0006M\u0005DuX\u0006\u0000\u0000\u0000Guinear�\u0001\u0000\u0000}r�\u0001\u0000\u0000(h\u0003G@'\u0000\u0000\u0000\u0000\u0000\u0000h\u0004X\u0006\u0000\u0000\u0000Africar�\u0001\u0000\u0000h\u0006J�r\u0001\u0000uX\u0007\u0000\u0000\u0000Belarusr�\u0001\u0000\u0000}r�\u0001\u0000\u0000(h\u0003G@#333333h\u0004X\u0006\u0000\u0000\u0000Europer�\u0001\u0000\u0000h\u0006J\u001b9\u0001\u0000uX\u000e\u0000\u0000\u0000United Kingdomr�\u0001\u0000\u0000}r�\u0001\u0000\u0000(h\u0003G@P������h\u0004X\u0006\u0000\u0000\u0000Europer�\u0001\u0000\u0000h\u0006J>q\u0001\u0000uX\u000f\u0000\u0000\u0000Solomon Islandsr�\u0001\u0000\u0000}r�\u0001\u0000\u0000(h\u0003G?�\u001e�Q�h\u0004X\u0011\u0000\u0000\u0000Australia/Oceaniar�\u0001\u0000\u0000h\u0006K+uX\u0006\u0000\u0000\u0000Angolar�\u0001\u0000\u0000}r�\u0001\u0000\u0000(h\u0003G@3\u0019�����h\u0004X\u0006\u0000\u0000\u0000Africar�\u0001\u0000\u0000h\u0006JJX\u0007\u0000uX\u0007\u0000\u0000\u0000Bahrainr�\u0001\u0000\u0000}r�\u0001\u0000\u0000(h\u0003G?�������h\u0004X\u0004\u0000\u0000\u0000Asiar�\u0001\u0000\u0000h\u0006K�uX\b\u0000\u0000\u0000Ethiopiar�\u0001\u0000\u0000}r�\u0001\u0000\u0000(h\u0003G@X&fffffh\u0004X\u0006\u0000\u0000\u0000Africar�\u0001\u0000\u0000h\u0006J��\u0006\u0000uX\u0007\u0000\u0000\u0000Austriar�\u0001\u0000\u0000}r�\u0001\u0000\u0000(h\u0003G@ ffffffh\u0004X\u0006\u0000\u0000\u0000Europer�\u0001\u0000\u0000h\u0006M~uX\u000b\u0000\u0000\u0000Switzerlandr�\u0001\u0000\u0000}r�\u0001\u0000\u0000(h\u0003G@ 333333h\u0004X\u0006\u0000\u0000\u0000Europer�\u0001\u0000\u0000h\u0006MD>uX\u0007\u0000\u0000\u0000Uruguayr�\u0001\u0000\u0000}r�\u0001\u0000\u0000(h\u0003G@\n",
            "ffffffh\u0004X\r\u0000\u0000\u0000South Americar�\u0001\u0000\u0000h\u0006J�\t\u0001\u0000uX%\u0000\u0000\u0000Democratic People's Republic of Korear�\u0001\u0000\u0000}r�\u0001\u0000\u0000(h\u0003G@8�fffffh\u0004X\u0004\u0000\u0000\u0000Asiar�\u0001\u0000\u0000h\u0006M��uX\u000b\u0000\u0000\u0000New Zealandr�\u0001\u0000\u0000}r�\u0001\u0000\u0000(h\u0003G@\u0011������h\u0004X\u0011\u0000\u0000\u0000Australia/Oceaniar�\u0001\u0000\u0000h\u0006J:�\u0001\u0000uX\t\u0000\u0000\u0000Lithuaniar�\u0001\u0000\u0000}r�\u0001\u0000\u0000(h\u0003G@\f\u0000\u0000\u0000\u0000\u0000\u0000h\u0004X\u0006\u0000\u0000\u0000Europer�\u0001\u0000\u0000h\u0006MUbuX\u0007\u0000\u0000\u0000Burundir�\u0001\u0000\u0000}r�\u0001\u0000\u0000(h\u0003G@$������h\u0004X\u0006\u0000\u0000\u0000Africar�\u0001\u0000\u0000h\u0006M�)uX\n",
            "\u0000\u0000\u0000San Marinor�\u0001\u0000\u0000}r�\u0001\u0000\u0000(h\u0003G?��`A�7Lh\u0004X\u0006\u0000\u0000\u0000Europer�\u0001\u0000\u0000h\u0006G@7������uX\r\u0000\u0000\u0000Guinea Bissaur�\u0001\u0000\u0000}r�\u0001\u0000\u0000(h\u0003G?�333333h\u0004X\u0006\u0000\u0000\u0000Africar�\u0001\u0000\u0000h\u0006M|6uX\r\u0000\u0000\u0000United Statesr�\u0001\u0000\u0000}r�\u0001\u0000\u0000(h\u0003G@s�fffffh\u0004X\r\u0000\u0000\u0000North Americar�\u0001\u0000\u0000h\u0006J��9\u0000uX\b\u0000\u0000\u0000Pakistanr�\u0001\u0000\u0000}r�\u0001\u0000\u0000(h\u0003G@h�fffffh\u0004X\u0004\u0000\u0000\u0000Asiar�\u0001\u0000\u0000h\u0006J��\u0004\u0000uX\u000b\u0000\u0000\u0000Afghanistanr�\u0001\u0000\u0000}r�\u0001\u0000\u0000(h\u0003G@?������h\u0004X\u0004\u0000\u0000\u0000Asiar�\u0001\u0000\u0000h\u0006J|�\u0003\u0000uX\u0014\u0000\u0000\u0000United Arab Emiratesr�\u0001\u0000\u0000}r�\u0001\u0000\u0000(h\u0003G@\u0016ffffffh\u0004X\u0004\u0000\u0000\u0000Asiar�\u0001\u0000\u0000h\u0006M\u0016~uX\u0011\u0000\u0000\u0000Brunei Darussalamr�\u0001\u0000\u0000}r�\u0001\u0000\u0000(h\u0003G?��G�\u0014z�h\u0004X\u0004\u0000\u0000\u0000Asiar�\u0001\u0000\u0000h\u0006M�\buX\u0007\u0000\u0000\u0000Germanyr�\u0001\u0000\u0000}r�\u0001\u0000\u0000(h\u0003G@T@\u0000\u0000\u0000\u0000\u0000h\u0004X\u0006\u0000\u0000\u0000Europer�\u0001\u0000\u0000h\u0006Jw\u001a\u0002\u0000uX\u0010\u0000\u0000\u0000Marshall Islandsr�\u0001\u0000\u0000}r�\u0001\u0000\u0000(h\u0003G?�-\u000eV\u0004\u0018�h\u0004X\u0011\u0000\u0000\u0000Australia/Oceaniar�\u0001\u0000\u0000h\u0006KEuX\f\u0000\u0000\u0000Sierra Leoner�\u0001\u0000\u0000}r�\u0001\u0000\u0000(h\u0003G@\u0016������h\u0004X\u0006\u0000\u0000\u0000Africar�\u0001\u0000\u0000h\u0006M3luX\u0006\u0000\u0000\u0000Canadar�\u0001\u0000\u0000}r\u0000\u0002\u0000\u0000(h\u0003G@Affffffh\u0004X\r\u0000\u0000\u0000North Americar\u0001\u0002\u0000\u0000h\u0006J��:\u0000uX\b\u0000\u0000\u0000Mongoliar\u0002\u0002\u0000\u0000}r\u0003\u0002\u0000\u0000(h\u0003G@\b\u0000\u0000\u0000\u0000\u0000\u0000h\u0004X\u0004\u0000\u0000\u0000Asiar\u0004\u0002\u0000\u0000h\u0006J\u00057\t\u0000uX\u0005\u0000\u0000\u0000Indiar\u0005\u0002\u0000\u0000}r\u0006\u0002\u0000\u0000(h\u0003G@�Q33333h\u0004X\u0004\u0000\u0000\u0000Asiar\u0007\u0002\u0000\u0000h\u0006J�]\u0013\u0000uX\n",
            "\u0000\u0000\u0000Costa Ricar\b\u0002\u0000\u0000}r\t\u0002\u0000\u0000(h\u0003G@\u0013333333h\u0004X\r\u0000\u0000\u0000North Americar\n",
            "\u0002\u0000\u0000h\u0006M\u0012MuX\u0006\u0000\u0000\u0000Turkeyr\u000b\u0002\u0000\u0000}r\f\u0002\u0000\u0000(h\u0003G@Tffffffh\u0004X\u0004\u0000\u0000\u0000Asiar\r\u0002\u0000\u0000h\u0006Jǝ\u0004\u0000uX\u0004\u0000\u0000\u0000Malir\u000e\u0002\u0000\u0000}r\u000f\u0002\u0000\u0000(h\u0003G@0�\u0000\u0000\u0000\u0000\u0000h\u0004X\u0006\u0000\u0000\u0000Africar\u0010\u0002\u0000\u0000h\u0006JwN\u0007\u0000uX\u0004\u0000\u0000\u0000Cubar\u0011\u0002\u0000\u0000}r\u0012\u0002\u0000\u0000(h\u0003G@&\u0000\u0000\u0000\u0000\u0000\u0000h\u0004X\r\u0000\u0000\u0000North Americar\u0013\u0002\u0000\u0000h\u0006M3�uX\t\u0000\u0000\u0000Indonesiar\u0014\u0002\u0000\u0000}r\u0015\u0002\u0000\u0000(h\u0003G@o�33333h\u0004X\u0004\u0000\u0000\u0000Asiar\u0016\u0002\u0000\u0000h\u0006J{8\u000b\u0000uX\b\u0000\u0000\u0000Dominicar\u0017\u0002\u0000\u0000}r\u0018\u0002\u0000\u0000(h\u0003G?�� ě��h\u0004X\r\u0000\u0000\u0000North Americar\u0019\u0002\u0000\u0000h\u0006M\"\u0001uX\n",
            "\u0000\u0000\u0000Kazakhstanr\u001a\u0002\u0000\u0000}r\u001b\u0002\u0000\u0000(h\u0003G@2\u0000\u0000\u0000\u0000\u0000\u0000h\u0004X\u0004\u0000\u0000\u0000Asiar\u001c\u0002\u0000\u0000h\u0006J�\r\u0010\u0000uX\u000b\u0000\u0000\u0000South Sudanr\u001d\u0002\u0000\u0000}r\u001e\u0002\u0000\u0000(h\u0003G@'333333h\u0004X\u0006\u0000\u0000\u0000Africar\u001f\u0002\u0000\u0000h\u0006J��\u0003\u0000uX\u0007\u0000\u0000\u0000Georgiar \u0002\u0000\u0000}r!\u0002\u0000\u0000(h\u0003G@\u0013������h\u0004X\u0004\u0000\u0000\u0000Asiar\"\u0002\u0000\u0000h\u0006M$iuX\u0007\u0000\u0000\u0000Belgiumr#\u0002\u0000\u0000}r$\u0002\u0000\u0000(h\u0003G@$������h\u0004X\u0006\u0000\u0000\u0000Europer%\u0002\u0000\u0000h\u0006M\u000b.uX\u0006\u0000\u0000\u0000Guyanar&\u0002\u0000\u0000}r'\u0002\u0000\u0000(h\u0003G?�\u0014z�G�h\u0004X\r\u0000\u0000\u0000South Americar(\u0002\u0000\u0000h\u0006J8D\u0001\u0000uX\b\u0000\u0000\u0000Slovakiar)\u0002\u0000\u0000}r*\u0002\u0000\u0000(h\u0003G@\u0015������h\u0004X\u0006\u0000\u0000\u0000Europer+\u0002\u0000\u0000h\u0006M�IuX\u0004\u0000\u0000\u0000Iraqr,\u0002\u0000\u0000}r-\u0002\u0000\u0000(h\u0003G@@L�����h\u0004X\u0004\u0000\u0000\u0000Asiar.\u0002\u0000\u0000h\u0006J\u0012�\u0002\u0000uX\n",
            "\u0000\u0000\u0000Uzbekistanr/\u0002\u0000\u0000}r0\u0002\u0000\u0000(h\u0003G@<�fffffh\u0004X\u0004\u0000\u0000\u0000Asiar1\u0002\u0000\u0000h\u0006JƢ\u0002\u0000uX\u0007\u0000\u0000\u0000Icelandr2\u0002\u0000\u0000}r3\u0002\u0000\u0000(h\u0003G?�z�G�\u0014{h\u0004X\u0006\u0000\u0000\u0000Europer4\u0002\u0000\u0000h\u0006MZ�uX\u0005\u0000\u0000\u0000Naurur5\u0002\u0000\u0000}r6\u0002\u0000\u0000(h\u0003G?�t�j~��h\u0004X\u0011\u0000\u0000\u0000Australia/Oceaniar7\u0002\u0000\u0000h\u0006K\buX\t\u0000\u0000\u0000Sri Lankar8\u0002\u0000\u0000}r9\u0002\u0000\u0000(h\u0003G@6�fffffh\u0004X\u0004\u0000\u0000\u0000Asiar:\u0002\u0000\u0000h\u0006M�buX\u0004\u0000\u0000\u0000Iranr;\u0002\u0000\u0000}r<\u0002\u0000\u0000(h\u0003G@T333333h\u0004X\u0004\u0000\u0000\u0000Asiar=\u0002\u0000\u0000h\u0006JԵ\t\u0000uX\u0005\u0000\u0000\u0000Kenyar>\u0002\u0000\u0000}r?\u0002\u0000\u0000(h\u0003G@F�\u0000\u0000\u0000\u0000\u0000h\u0004X\u0006\u0000\u0000\u0000Africar@\u0002\u0000\u0000h\u0006JPk\u0003\u0000uX\t\u0000\u0000\u0000GuatemalarA\u0002\u0000\u0000}rB\u0002\u0000\u0000(h\u0003G@-ffffffh\u0004X\r\u0000\u0000\u0000North AmericarC\u0002\u0000\u0000h\u0006M:�uX\u0011\u0000\u0000\u0000Republic of KorearD\u0002\u0000\u0000}rE\u0002\u0000\u0000(h\u0003G@H�\u0000\u0000\u0000\u0000\u0000h\u0004X\u0004\u0000\u0000\u0000AsiarF\u0002\u0000\u0000h\u0006Mޖuu."
          ]
        }
      ]
    },
    {
      "cell_type": "code",
      "source": [
        "import pickle\n",
        "\n",
        "fileName = '/content/gdrive/MyDrive/UNDict.dat'\n",
        "\n",
        "def main():\n",
        "  '''\n",
        "  Display countries (and their population) from a specified continent.\n",
        "  '''\n",
        "  nations = getDictionary(fileName)\n",
        "  # print(nations)\n",
        "  print(\"Enter the name of a continent\", end='')\n",
        "  continent = input(\"other than Antarctica: ('Europe', 'Asia', 'North America', 'South America', 'Africa', 'Australia/Oceania') \")\n",
        "  continentDict = constructContinentNations(nations, continent)\n",
        "  displaySortedResults(continentDict)\n",
        "\n",
        "def getDictionary(fileName):\n",
        "  infile = open(fileName, 'rb')\n",
        "  countries = pickle.load(infile)\n",
        "  infile.close()\n",
        "  return countries\n",
        "\n",
        "def constructContinentNations(nations, continent):\n",
        "  '''\n",
        "  Reduce the full 193 item dictionary to a dictionary\n",
        "  consisting solely of the countries in the specified continent.\n",
        "  '''\n",
        "  continentDict = {} # an empty dictionary\n",
        "  for nation in nations: # or nations.keys()\n",
        "    if nations[nation][\"cont\"] == continent:\n",
        "      continentDict[nation] = nations[nation]\n",
        "  return continentDict\n",
        "\n",
        "def displaySortedResults(dictionaryName):\n",
        "  '''\n",
        "  Display countries in descending order by population.\n",
        "  '''\n",
        "  continentList = sorted(dictionaryName.items(), key=lambda k: k[1][\"popl\"], reverse=True)\n",
        "  for k in continentList:\n",
        "    print(\" {0:s}: {1:,.2f}\".format(k[0], k[1][\"popl\"]))\n",
        "\n",
        "main()"
      ],
      "metadata": {
        "colab": {
          "base_uri": "https://localhost:8080/"
        },
        "id": "9sF8b2SRRjzv",
        "outputId": "7ab1e114-d0bf-4090-c288-6f1e49420805"
      },
      "execution_count": 37,
      "outputs": [
        {
          "output_type": "stream",
          "name": "stdout",
          "text": [
            "Enter the name of a continentother than Antarctica: ('Europe', 'Asia', 'North America', 'South America', 'Africa', 'Australia/Oceania') Africa\n",
            " Nigeria: 177.20\n",
            " Ethiopia: 96.60\n",
            " Egypt: 86.90\n",
            " Democratic Republic of the Congo: 77.40\n",
            " United Republic of Tanzania: 50.00\n",
            " South Africa: 48.40\n",
            " Kenya: 45.00\n",
            " Algeria: 38.30\n",
            " Uganda: 35.90\n",
            " Sudan: 35.50\n",
            " Morocco: 33.00\n",
            " Ghana: 25.80\n",
            " Mozambique: 24.70\n",
            " Madagascar: 23.20\n",
            " Cameroon: 23.10\n",
            " Cote D'Ivoire: 22.80\n",
            " Angola: 19.10\n",
            " Burkina Faso: 18.40\n",
            " Niger: 17.50\n",
            " Malawi: 17.40\n",
            " Mali: 16.50\n",
            " Zambia: 14.70\n",
            " Zimbabwe: 13.80\n",
            " Senegal: 13.60\n",
            " Rwanda: 12.30\n",
            " South Sudan: 11.60\n",
            " Guinea: 11.50\n",
            " Chad: 11.40\n",
            " Tunisia: 10.90\n",
            " Somalia: 10.40\n",
            " Burundi: 10.40\n",
            " Benin: 10.20\n",
            " Togo: 7.40\n",
            " Eritrea: 6.30\n",
            " Libyan Arab Jamahiriya: 6.20\n",
            " Sierra Leone: 5.70\n",
            " Central African Republic: 5.30\n",
            " Republic of the Congo: 4.70\n",
            " Liberia: 4.10\n",
            " Mauritania: 3.50\n",
            " Namibia: 2.20\n",
            " Botswana: 2.20\n",
            " Lesotho: 1.90\n",
            " Gambia: 1.90\n",
            " Gabon: 1.70\n",
            " Guinea Bissau: 1.70\n",
            " Swaziland: 1.40\n",
            " Mauritius: 1.30\n",
            " Djibouti: 0.81\n",
            " Comoros: 0.77\n",
            " Equatorial Guinea: 0.72\n",
            " Cape Verde: 0.54\n",
            " Sao Tome and Principe: 0.19\n",
            " Seychelles: 0.09\n"
          ]
        }
      ]
    },
    {
      "cell_type": "markdown",
      "source": [
        "## p.48 Using a Dictionary with Tuples as Keys"
      ],
      "metadata": {
        "id": "d4YKhuyuTd1z"
      }
    },
    {
      "cell_type": "code",
      "source": [
        "!cat /content/gdrive/MyDrive/USpresStatesDict.dat"
      ],
      "metadata": {
        "colab": {
          "base_uri": "https://localhost:8080/"
        },
        "id": "VPe_8BDZTdDC",
        "outputId": "88443ef1-41fa-4434-dada-08573b811476"
      },
      "execution_count": null,
      "outputs": [
        {
          "output_type": "stream",
          "name": "stdout",
          "text": [
            "�\u0003}q\u0000(X\b\u0000\u0000\u0000Buchananq\u0001X\u0005\u0000\u0000\u0000Jamesq\u0002�q\u0003X\r\u0000\u0000\u0000Pennsylvanniaq\u0004X\n",
            "\u0000\u0000\u0000Washingtonq\u0005X\u0006\u0000\u0000\u0000Georgeq\u0006�q\u0007X\b\u0000\u0000\u0000Virginiaq\bX\u0005\u0000\u0000\u0000Burenq\tX\n",
            "\u0000\u0000\u0000Martin Vanq\n",
            "�q\u000bX\b\u0000\u0000\u0000New Yorkq\fX\u0007\u0000\u0000\u0000Hardingq\rX\u0006\u0000\u0000\u0000Warrenq\u000e�q\u000fX\u0004\u0000\u0000\u0000Ohioq\u0010X\u0007\u0000\u0000\u0000Jacksonq\u0011X\u0006\u0000\u0000\u0000Andrewq\u0012�q\u0013X\t\u0000\u0000\u0000Tennesseeq\u0014X\b\u0000\u0000\u0000Harrisonq\u0015X\u0007\u0000\u0000\u0000Williamq\u0016�q\u0017X\u0004\u0000\u0000\u0000Ohioq\u0018X\n",
            "\u0000\u0000\u0000Eisenhowerq\u0019X\u0006\u0000\u0000\u0000Dwightq\u001a�q\u001bX\u0006\u0000\u0000\u0000Kansasq\u001cX\u0005\u0000\u0000\u0000Hayesq\u001dX\n",
            "\u0000\u0000\u0000Rutherfordq\u001e�q\u001fX\u0004\u0000\u0000\u0000Ohioq X\b\u0000\u0000\u0000Garfieldq!X\u0005\u0000\u0000\u0000Jamesq\"�q#X\u0004\u0000\u0000\u0000Ohioq$X\u0005\u0000\u0000\u0000Obamaq%X\u0006\u0000\u0000\u0000Barackq&�q'X\b\u0000\u0000\u0000Illinoisq(X\u0006\u0000\u0000\u0000Arthurq)X\u0007\u0000\u0000\u0000Chesterq*�q+X\b\u0000\u0000\u0000New Yorkq,X\u0006\u0000\u0000\u0000Hooverq-X\u0007\u0000\u0000\u0000Herbertq.�q/X\n",
            "\u0000\u0000\u0000Californiaq0X\u0005\u0000\u0000\u0000Grantq1X\u0007\u0000\u0000\u0000Ulyssesq2�q3X\b\u0000\u0000\u0000Illinoisq4X\u0006\u0000\u0000\u0000Monroeq5X\u0005\u0000\u0000\u0000Jamesq6�q7X\b\u0000\u0000\u0000Virginiaq8X\u0007\u0000\u0000\u0000Johnsonq9X\u0006\u0000\u0000\u0000Lyndonq:�q;X\u0005\u0000\u0000\u0000Texasq<X\t\u0000\u0000\u0000Rooseveltq=X\b\u0000\u0000\u0000Theodoreq>�q?X\b\u0000\u0000\u0000New Yorkq@X\u0005\u0000\u0000\u0000AdamsqAX\u0007\u0000\u0000\u0000John Q.qB�qCX\r\u0000\u0000\u0000MassachusettsqDX\u0005\u0000\u0000\u0000AdamsqEX\u0004\u0000\u0000\u0000JohnqF�qGX\r\u0000\u0000\u0000MassachusettsqHX\b\u0000\u0000\u0000FillmoreqIX\u0007\u0000\u0000\u0000MillardqJ�qKX\b\u0000\u0000\u0000New YorkqLX\u0007\u0000\u0000\u0000MadisonqMX\u0005\u0000\u0000\u0000JamesqN�qOX\b\u0000\u0000\u0000VirginiaqPX\u0005\u0000\u0000\u0000NixonqQX\u0007\u0000\u0000\u0000RichardqR�qSX\n",
            "\u0000\u0000\u0000CaliforniaqTX\u0004\u0000\u0000\u0000BushqUX\t\u0000\u0000\u0000George W.qV�qWX\u0005\u0000\u0000\u0000TexasqXX\b\u0000\u0000\u0000CoolidgeqYX\u0006\u0000\u0000\u0000CalvinqZ�q[X\r\u0000\u0000\u0000Massachusettsq\\X\t\u0000\u0000\u0000Rooseveltq]X\b\u0000\u0000\u0000Franklinq^�q_X\b\u0000\u0000\u0000New Yorkq`X\u0006\u0000\u0000\u0000PierceqaX\b\u0000\u0000\u0000Franklinqb�qcX\r\u0000\u0000\u0000New HampshireqdX\t\u0000\u0000\u0000JeffersonqeX\u0006\u0000\u0000\u0000Thomasqf�qgX\b\u0000\u0000\u0000VirginiaqhX\u0007\u0000\u0000\u0000ClintonqiX\u0004\u0000\u0000\u0000Billqj�qkX\b\u0000\u0000\u0000ArkansasqlX\u0007\u0000\u0000\u0000LincolnqmX\u0007\u0000\u0000\u0000Abrahamqn�qoX\b\u0000\u0000\u0000IllinoisqpX\u0004\u0000\u0000\u0000PolkqqX\u0005\u0000\u0000\u0000Jamesqr�qsX\t\u0000\u0000\u0000TennesseeqtX\u0006\u0000\u0000\u0000ReaganquX\u0006\u0000\u0000\u0000Ronaldqv�qwX\n",
            "\u0000\u0000\u0000CaliforniaqxX\t\u0000\u0000\u0000ClevelandqyX\u0006\u0000\u0000\u0000Groverqz�q{X\b\u0000\u0000\u0000New Yorkq|X\u0005\u0000\u0000\u0000Tylerq}X\u0004\u0000\u0000\u0000Johnq~�qX\b\u0000\u0000\u0000Virginiaq�X\u0004\u0000\u0000\u0000Fordq�X\u0006\u0000\u0000\u0000Geraldq��q�X\b\u0000\u0000\u0000Michiganq�X\u0004\u0000\u0000\u0000Bushq�X\f\u0000\u0000\u0000George H. W.q��q�X\u0005\u0000\u0000\u0000Texasq�X\b\u0000\u0000\u0000McKinleyq�X\u0007\u0000\u0000\u0000Williamq��q�X\u0004\u0000\u0000\u0000Ohioq�X\u0007\u0000\u0000\u0000Kennedyq�X\u0004\u0000\u0000\u0000Johnq��q�X\r\u0000\u0000\u0000Massachusettsq�X\u0007\u0000\u0000\u0000Johnsonq�X\u0006\u0000\u0000\u0000Andrewq��q�X\t\u0000\u0000\u0000Tennesseeq�X\b\u0000\u0000\u0000Harrisonq�X\b\u0000\u0000\u0000Benjaminq��q�X\u0007\u0000\u0000\u0000Indianaq�X\u0004\u0000\u0000\u0000Taftq�X\u0007\u0000\u0000\u0000Williamq��q�X\u0004\u0000\u0000\u0000Ohioq�X\u0006\u0000\u0000\u0000Trumanq�X\u0005\u0000\u0000\u0000Harryq��q�X\b\u0000\u0000\u0000Missouriq�X\u0006\u0000\u0000\u0000Taylorq�X\u0007\u0000\u0000\u0000Zacharyq��q�X\b\u0000\u0000\u0000Lousianaq�X\u0006\u0000\u0000\u0000Wilsonq�X\u0007\u0000\u0000\u0000Woodrowq��q�X\n",
            "\u0000\u0000\u0000New Jerseyq�X\u0006\u0000\u0000\u0000Carterq�X\u0005\u0000\u0000\u0000Jamesq��q�X\u0007\u0000\u0000\u0000Georgiaq�u."
          ]
        }
      ]
    },
    {
      "cell_type": "code",
      "source": [
        "import pickle\n",
        "\n",
        "fileName = '/content/gdrive/MyDrive/USpresStatesDict.dat'\n",
        "\n",
        "def main():\n",
        "  '''\n",
        "  Displays the presidents from the given state ordered alphabetically by their last names.\n",
        "  '''\n",
        "  presDict = createDictFromBinaryFile(fileName)\n",
        "  #print(presDict)\n",
        "  state = getState(presDict)\n",
        "  displayOutput(state, presDict)\n",
        "\n",
        "def createDictFromBinaryFile(fileName):\n",
        "  infile = open(fileName, 'rb')\n",
        "  dictionary = pickle.load(infile)\n",
        "  infile.close()\n",
        "  return dictionary\n",
        "\n",
        "def getState(dictName):\n",
        "  state = input(\"Enter the name of a state: \")\n",
        "  if state in dictName.values():\n",
        "    return state\n",
        "  else:\n",
        "    return \"There are no presidents from \" + state + '.'\n",
        "\n",
        "def displayOutput(state, dictName):\n",
        "  if state.startswith(\"There\"):\n",
        "    print(state)\n",
        "  else:\n",
        "    print(\"Presidents from\", state + ':')\n",
        "    for pres in sorted(dictName):# in sorted list of names\n",
        "      if dictName[pres] == state:\n",
        "        print(\" \" + pres[1] + \" \" + pres[0])  \n",
        "\n",
        "main()\n"
      ],
      "metadata": {
        "colab": {
          "base_uri": "https://localhost:8080/"
        },
        "id": "m9sHYSwaToBH",
        "outputId": "909109e4-6cd8-4058-cca6-4722f7e36098"
      },
      "execution_count": 41,
      "outputs": [
        {
          "output_type": "stream",
          "name": "stdout",
          "text": [
            "Enter the name of a state: Virginia\n",
            "Presidents from Virginia:\n",
            " Thomas Jefferson\n",
            " James Madison\n",
            " James Monroe\n",
            " John Tyler\n",
            " George Washington\n"
          ]
        }
      ]
    },
    {
      "cell_type": "markdown",
      "source": [
        "## p.22 Sets"
      ],
      "metadata": {
        "id": "fEplFR44Uf_l"
      }
    },
    {
      "cell_type": "code",
      "source": [
        "!cat /content/gdrive/MyDrive/VPres.txt"
      ],
      "metadata": {
        "colab": {
          "base_uri": "https://localhost:8080/"
        },
        "id": "ukICo_7ZUfoG",
        "outputId": "4bab88d2-d3a2-4322-d355-27bd58847fba"
      },
      "execution_count": 42,
      "outputs": [
        {
          "output_type": "stream",
          "name": "stdout",
          "text": [
            "John Adams\r\n",
            "Thomas Jefferson\r\n",
            "Aaron Burr\r\n",
            "George Clinton\r\n",
            "Elbridge Gerry\r\n",
            "Daniel Tompkins\r\n",
            "John Calhoun\r\n",
            "Martin Van Buren\r\n",
            "Richard Johnson\r\n",
            "John Tyler\r\n",
            "George Dallas\r\n",
            "Millard Fillmore\r\n",
            "William King\r\n",
            "John Breckinridge\r\n",
            "Hannibal Hamlin\r\n",
            "Andrew Johnson\r\n",
            "Schuyler Colfax\r\n",
            "Henry Wilson\r\n",
            "William Wheeler\r\n",
            "Chester Arthur\r\n",
            "Thomas Hendricks\r\n",
            "Levi Morton\r\n",
            "Adlai Stevenson\r\n",
            "Garret Hobart\r\n",
            "Theodore Roosevelt\r\n",
            "Charles Fairbanks\r\n",
            "James Sherman\r\n",
            "Thomas Marshall\r\n",
            "Calvin Coolidge\r\n",
            "Charles Dawes\r\n",
            "Charles Curtis\r\n",
            "John Garner\r\n",
            "Henry Wallace\r\n",
            "Harry Truman\r\n",
            "Alben Barkley\r\n",
            "Richard Nixon\r\n",
            "Lyndon Johnson\r\n",
            "Hubert Humphrey\r\n",
            "Spiro Agnew\r\n",
            "Gerald Ford\r\n",
            "Nelson Rockefeller\r\n",
            "Walter Mondale\r\n",
            "George H. W. Bush\r\n",
            "Dan Quayle\r\n",
            "Al Gore\r\n",
            "Dick Cheney\r\n",
            "Joe Biden \r\n"
          ]
        }
      ]
    },
    {
      "cell_type": "code",
      "source": [
        "!cat /content/gdrive/MyDrive/USPres.txt"
      ],
      "metadata": {
        "colab": {
          "base_uri": "https://localhost:8080/"
        },
        "id": "tML0dJdkUwAX",
        "outputId": "d9d49b25-9954-4708-d181-61bcecb2d5af"
      },
      "execution_count": 43,
      "outputs": [
        {
          "output_type": "stream",
          "name": "stdout",
          "text": [
            "George Washington\r\n",
            "John Adams\r\n",
            "Thomas Jefferson\r\n",
            "James Madison\r\n",
            "James Monroe\r\n",
            "John Q. Adams\r\n",
            "Andrew Jackson\r\n",
            "Martin Van Buren\r\n",
            "William Harrison\r\n",
            "John Tyler\r\n",
            "James Polk\r\n",
            "Zachary Taylor\r\n",
            "Millard Fillmore\r\n",
            "Franklin Pierce\r\n",
            "James Buchanan\r\n",
            "Abraham Lincoln\r\n",
            "Andrew Johnson\r\n",
            "Ulysses Grant\r\n",
            "Rutherford Hayes\r\n",
            "James Garfield\r\n",
            "Chester Arthur\r\n",
            "Grover Cleveland\r\n",
            "Benjamin Harrison\r\n",
            "Grover Cleveland\r\n",
            "William McKinley\r\n",
            "Theodore Roosevelt\r\n",
            "William Taft\r\n",
            "Woodrow Wilson\r\n",
            "Warren Harding\r\n",
            "Calvin Coolidge\r\n",
            "Herbert Hoover\r\n",
            "Franklin Roosevelt\r\n",
            "Harry Truman\r\n",
            "Dwight Eisenhower\r\n",
            "John Kennedy\r\n",
            "Lyndon Johnson\r\n",
            "Richard Nixon\r\n",
            "Gerald Ford\r\n",
            "James Carter\r\n",
            "Ronald Reagan\r\n",
            "George H. W. Bush\r\n",
            "Bill Clinton\r\n",
            "George W. Bush\r\n",
            "Barack Obama\r\n"
          ]
        }
      ]
    },
    {
      "cell_type": "code",
      "source": [
        "\n",
        "vPresFileName = '/content/gdrive/MyDrive/VPres.txt'\n",
        "usPresFileName = '/content/gdrive/MyDrive/USPres.txt'\n",
        "writtenFileName = '/content/gdrive/MyDrive/PresAndVPres.txt'\n",
        "\n",
        "def main():\n",
        "  '''\n",
        "  Create a file of the presidents who also served as vice-presidents.\n",
        "  '''\n",
        "  vicePresSet = createSetFromFile(vPresFileName)\n",
        "  presSet = createSetFromFile(usPresFileName)\n",
        "  bothPresAndVPresSet = createIntersection(vicePresSet, presSet)\n",
        "  writeNamesToFile(bothPresAndVPresSet, writtenFileName)\n",
        "\n",
        "def createSetFromFile(fileName):\n",
        "  '''\n",
        "  Assume that the last line of the file ends with a newline character.\n",
        "  '''\n",
        "  infile = open(fileName, 'r')\n",
        "  namesSet = {name for name in infile}\n",
        "  infile.close()\n",
        "  return namesSet\n",
        "\n",
        "def createIntersection(set1, set2):\n",
        "  return set1.intersection(set2)\n",
        "\n",
        "def writeNamesToFile(setName, fileName):\n",
        "  outfile = open(fileName, 'w')\n",
        "  outfile.writelines(setName)\n",
        "  outfile.close()\n",
        "\n",
        "main()"
      ],
      "metadata": {
        "id": "94kOsiDEU8aM"
      },
      "execution_count": 44,
      "outputs": []
    },
    {
      "cell_type": "code",
      "source": [
        "!cat /content/gdrive/MyDrive/PresAndVPres.txt"
      ],
      "metadata": {
        "colab": {
          "base_uri": "https://localhost:8080/"
        },
        "id": "lUvRrD-HVgSD",
        "outputId": "7880b4da-9a89-451a-a4a3-7b65afcc2a85"
      },
      "execution_count": 45,
      "outputs": [
        {
          "output_type": "stream",
          "name": "stdout",
          "text": [
            "Harry Truman\n",
            "Richard Nixon\n",
            "Martin Van Buren\n",
            "Millard Fillmore\n",
            "John Adams\n",
            "Theodore Roosevelt\n",
            "Chester Arthur\n",
            "Gerald Ford\n",
            "Calvin Coolidge\n",
            "John Tyler\n",
            "George H. W. Bush\n",
            "Andrew Johnson\n",
            "Lyndon Johnson\n",
            "Thomas Jefferson\n"
          ]
        }
      ]
    },
    {
      "cell_type": "markdown",
      "source": [
        "# Lab10"
      ],
      "metadata": {
        "id": "ZYJeA4fpcGNk"
      }
    },
    {
      "cell_type": "markdown",
      "source": [
        "\n",
        "\n",
        "## 1. Count Unique Words\n",
        "\n",
        "Given a text file, count the unique words present in the file.\n",
        "\n",
        "\n",
        "\n",
        "\n",
        "\n",
        "\n"
      ],
      "metadata": {
        "id": "0AZqhmeccW7p"
      }
    },
    {
      "cell_type": "code",
      "source": [
        "!cat /content/gdrive/MyDrive/input1.txt"
      ],
      "metadata": {
        "colab": {
          "base_uri": "https://localhost:8080/"
        },
        "id": "RNYIQCYnt9ca",
        "outputId": "26019cbc-35bd-4a48-92c9-1b528b809591"
      },
      "execution_count": null,
      "outputs": [
        {
          "output_type": "stream",
          "name": "stdout",
          "text": [
            "Lorem ipsum dolor sit amet, consectetur adipiscing elit.\r\n",
            "Sed sed odio nec massa tempus volutpat.\r\n",
            "Proin laoreet dolor id sapien auctor, eget convallis metus congue.\r\n",
            "Etiam tristique, tortor vel convallis malesuada, justo ligula tincidunt metus, et venenatis risus est vitae tortor.\r\n",
            "Aenean posuere arcu in augue vehicula feugiat.\r\n",
            "Vivamus imperdiet justo nec augue lacinia, id lobortis elit suscipit.\r\n",
            "Curabitur aliquam urna non orci lobortis, ut luctus quam tincidunt.\r\n",
            "Nunc dictum urna id magna aliquam tincidunt.\r\n",
            "Cras et odio cursus, malesuada turpis eget, sagittis nunc.\r\n",
            "Praesent consectetur mauris in quam tempor, in vehicula lorem aliquam."
          ]
        }
      ]
    },
    {
      "cell_type": "code",
      "source": [
        "!pip install pydash"
      ],
      "metadata": {
        "colab": {
          "base_uri": "https://localhost:8080/"
        },
        "id": "M5U4qz_p021S",
        "outputId": "f146b560-e421-4784-c961-f2004c306406"
      },
      "execution_count": null,
      "outputs": [
        {
          "output_type": "stream",
          "name": "stdout",
          "text": [
            "Looking in indexes: https://pypi.org/simple, https://us-python.pkg.dev/colab-wheels/public/simple/\n",
            "Collecting pydash\n",
            "  Downloading pydash-6.0.2-py3-none-any.whl (85 kB)\n",
            "\u001b[2K     \u001b[90m━━━━━━━━━━━━━━━━━━━━━━━━━━━━━━━━━━━━━━━━\u001b[0m \u001b[32m85.4/85.4 kB\u001b[0m \u001b[31m5.0 MB/s\u001b[0m eta \u001b[36m0:00:00\u001b[0m\n",
            "\u001b[?25hInstalling collected packages: pydash\n",
            "Successfully installed pydash-6.0.2\n"
          ]
        }
      ]
    },
    {
      "cell_type": "code",
      "source": [
        "\n",
        "file_path = '/content/gdrive/MyDrive/input1.txt'\n",
        "\n",
        "def count_unique_words(file_path: str) -> int:\n",
        "  from pydash import py_\n",
        "  with open(file_path) as f_read:\n",
        "    return len(set(py_.flatten([w.lower().split() for w in f_read.readlines()])))\n",
        "\n",
        "def count_unique_words2(file_path: str) -> int:\n",
        "    result = dict()\n",
        "    with open(file_path) as f_read:\n",
        "      for line in f_read:\n",
        "        for w in line.lower().split():\n",
        "          result[w] = result.get(w, 0) + 1\n",
        "    return len(result)\n",
        "\n",
        "def count_unique_words3(file_path: str) -> int:\n",
        "  result = set()\n",
        "  with open(file_path) as f_read:\n",
        "    for line in f_read.readlines():\n",
        "      result |= set(line.lower().split())\n",
        "  return len(result)\n",
        "\n",
        "print(count_unique_words(file_path))\n",
        "print(count_unique_words2(file_path))\n",
        "print(count_unique_words3(file_path))"
      ],
      "metadata": {
        "id": "SBUQ1WRTc1Nz",
        "colab": {
          "base_uri": "https://localhost:8080/"
        },
        "outputId": "7044f7df-27c8-4e31-90f0-321ed86b6f46"
      },
      "execution_count": null,
      "outputs": [
        {
          "output_type": "stream",
          "name": "stdout",
          "text": [
            "75\n",
            "75\n",
            "75\n"
          ]
        }
      ]
    },
    {
      "cell_type": "markdown",
      "source": [
        "## 2.  Find the Frequency of Each Word \n",
        "\n",
        "Given a text file, find the frequency of each word present in the file.\n",
        "\n",
        "\n"
      ],
      "metadata": {
        "id": "mGbPfQJEc5pl"
      }
    },
    {
      "cell_type": "code",
      "source": [
        "!cat /content/gdrive/MyDrive/input1.txt"
      ],
      "metadata": {
        "colab": {
          "base_uri": "https://localhost:8080/"
        },
        "id": "S-DJlxyK4FgZ",
        "outputId": "48771702-4283-464a-9c8b-2fd5bcf8dd5b"
      },
      "execution_count": null,
      "outputs": [
        {
          "output_type": "stream",
          "name": "stdout",
          "text": [
            "Lorem ipsum dolor sit amet, consectetur adipiscing elit.\r\n",
            "Sed sed odio nec massa tempus volutpat.\r\n",
            "Proin laoreet dolor id sapien auctor, eget convallis metus congue.\r\n",
            "Etiam tristique, tortor vel convallis malesuada, justo ligula tincidunt metus, et venenatis risus est vitae tortor.\r\n",
            "Aenean posuere arcu in augue vehicula feugiat.\r\n",
            "Vivamus imperdiet justo nec augue lacinia, id lobortis elit suscipit.\r\n",
            "Curabitur aliquam urna non orci lobortis, ut luctus quam tincidunt.\r\n",
            "Nunc dictum urna id magna aliquam tincidunt.\r\n",
            "Cras et odio cursus, malesuada turpis eget, sagittis nunc.\r\n",
            "Praesent consectetur mauris in quam tempor, in vehicula lorem aliquam."
          ]
        }
      ]
    },
    {
      "cell_type": "code",
      "source": [
        "from typing import Dict\n",
        "file_path = '/content/gdrive/MyDrive/input1.txt'\n",
        "\n",
        "def word_frequencies(file_path: str) -> Dict[str, int]:\n",
        "  from collections import Counter\n",
        "  result = dict()\n",
        "  with open(file_path) as f_read:\n",
        "    for line in f_read:\n",
        "      for w in line.lower().split():\n",
        "        result[w] = result.get(w, 0) + 1\n",
        "  return result\n",
        "\n",
        "print(word_frequencies(file_path))"
      ],
      "metadata": {
        "id": "mGAC-9rSc7Qd",
        "colab": {
          "base_uri": "https://localhost:8080/"
        },
        "outputId": "54e2b005-e1a4-4781-a75c-dab371de4c43"
      },
      "execution_count": null,
      "outputs": [
        {
          "output_type": "stream",
          "name": "stdout",
          "text": [
            "{'lorem': 2, 'ipsum': 1, 'dolor': 2, 'sit': 1, 'amet,': 1, 'consectetur': 2, 'adipiscing': 1, 'elit.': 1, 'sed': 2, 'odio': 2, 'nec': 2, 'massa': 1, 'tempus': 1, 'volutpat.': 1, 'proin': 1, 'laoreet': 1, 'id': 3, 'sapien': 1, 'auctor,': 1, 'eget': 1, 'convallis': 2, 'metus': 1, 'congue.': 1, 'etiam': 1, 'tristique,': 1, 'tortor': 1, 'vel': 1, 'malesuada,': 1, 'justo': 2, 'ligula': 1, 'tincidunt': 1, 'metus,': 1, 'et': 2, 'venenatis': 1, 'risus': 1, 'est': 1, 'vitae': 1, 'tortor.': 1, 'aenean': 1, 'posuere': 1, 'arcu': 1, 'in': 3, 'augue': 2, 'vehicula': 2, 'feugiat.': 1, 'vivamus': 1, 'imperdiet': 1, 'lacinia,': 1, 'lobortis': 1, 'elit': 1, 'suscipit.': 1, 'curabitur': 1, 'aliquam': 2, 'urna': 2, 'non': 1, 'orci': 1, 'lobortis,': 1, 'ut': 1, 'luctus': 1, 'quam': 2, 'tincidunt.': 2, 'nunc': 1, 'dictum': 1, 'magna': 1, 'cras': 1, 'cursus,': 1, 'malesuada': 1, 'turpis': 1, 'eget,': 1, 'sagittis': 1, 'nunc.': 1, 'praesent': 1, 'mauris': 1, 'tempor,': 1, 'aliquam.': 1}\n"
          ]
        }
      ]
    },
    {
      "cell_type": "markdown",
      "source": [
        "## 3. Read a CSV File into a List of Dictionaries\n",
        "\n",
        "Given a CSV file, read its content into a list of dictionaries where keys are column names.\n",
        "\n"
      ],
      "metadata": {
        "id": "INqFk2K5c7ks"
      }
    },
    {
      "cell_type": "code",
      "source": [
        "!cat /content/gdrive/MyDrive/input3.txt"
      ],
      "metadata": {
        "colab": {
          "base_uri": "https://localhost:8080/"
        },
        "id": "u-O90MGn4Hmy",
        "outputId": "b9c6bd0e-5316-43b2-c034-2eb28852aa05"
      },
      "execution_count": null,
      "outputs": [
        {
          "output_type": "stream",
          "name": "stdout",
          "text": [
            "id,name,age,city\r\n",
            "1,John,23,New York\r\n",
            "2,Jane,35,Los Angeles\r\n",
            "3,Bob,45,Chicago\r\n",
            "4,Alice,28,San Francisco\r\n",
            "5,Mark,52,Seattle\r\n",
            "6,Rose,30,Austin\r\n",
            "7,David,48,Miami\r\n",
            "8,Lucy,21,Boston\r\n",
            "9,Charles,37,Denver\r\n",
            "10,Emma,26,Atlanta\r\n"
          ]
        }
      ]
    },
    {
      "cell_type": "code",
      "source": [
        "from collections import defaultdict\n",
        "from typing import List, Dict, Any\n",
        "import csv\n",
        "\n",
        "file_path = '/content/gdrive/MyDrive/input3.txt'\n",
        "\n",
        "def read_csv(file_path: str) -> List[Dict[str, Any]]:\n",
        "  result = defaultdict(list)\n",
        "  with open(file_path) as csvfile:\n",
        "    reader = csv.reader(csvfile, delimiter=',')\n",
        "    header = next(reader)\n",
        "    for row in reader:\n",
        "      for i, col in enumerate(row):\n",
        "        result[header[i]].append(col)\n",
        "  return [dict(result)]\n",
        "\n",
        "read_csv(file_path)"
      ],
      "metadata": {
        "colab": {
          "base_uri": "https://localhost:8080/"
        },
        "id": "_MT1OvIuO092",
        "outputId": "c228e68b-cb93-43be-c648-2c4322668f7a"
      },
      "execution_count": null,
      "outputs": [
        {
          "output_type": "execute_result",
          "data": {
            "text/plain": [
              "[{'id': ['1', '2', '3', '4', '5', '6', '7', '8', '9', '10'],\n",
              "  'name': ['John',\n",
              "   'Jane',\n",
              "   'Bob',\n",
              "   'Alice',\n",
              "   'Mark',\n",
              "   'Rose',\n",
              "   'David',\n",
              "   'Lucy',\n",
              "   'Charles',\n",
              "   'Emma'],\n",
              "  'age': ['23', '35', '45', '28', '52', '30', '48', '21', '37', '26'],\n",
              "  'city': ['New York',\n",
              "   'Los Angeles',\n",
              "   'Chicago',\n",
              "   'San Francisco',\n",
              "   'Seattle',\n",
              "   'Austin',\n",
              "   'Miami',\n",
              "   'Boston',\n",
              "   'Denver',\n",
              "   'Atlanta']}]"
            ]
          },
          "metadata": {},
          "execution_count": 10
        }
      ]
    },
    {
      "cell_type": "markdown",
      "source": [
        "## 4. Replace Specific Words\n",
        "\n",
        "Given a text file and a dictionary of words to replace, replace specific words in the file and write new words to 'output5.txt'.\n",
        "\n",
        "\n",
        "\n",
        "\n",
        "\n"
      ],
      "metadata": {
        "id": "EkRNBCyLctUY"
      }
    },
    {
      "cell_type": "code",
      "source": [
        "!cat /content/gdrive/MyDrive/input5.txt"
      ],
      "metadata": {
        "colab": {
          "base_uri": "https://localhost:8080/"
        },
        "id": "0pHKWtb4C56e",
        "outputId": "f670fa33-5fca-4edc-d514-5932401753b6"
      },
      "execution_count": null,
      "outputs": [
        {
          "output_type": "stream",
          "name": "stdout",
          "text": [
            "In computer science, artificial intelligence, sometimes called machine intelligence, is intelligence demonstrated by machines, in contrast to the natural intelligence displayed by humans and animals. The term \"artificial intelligence\" is often used to describe machines or computers that mimic \"cognitive\" functions that humans associate with the human mind, such as \"learning\" and \"problem solving\".\r\n"
          ]
        }
      ]
    },
    {
      "cell_type": "code",
      "source": [
        "file_path = '/content/gdrive/MyDrive/input5.txt'\n",
        "\n",
        "dict_words = {\n",
        "    \"intelligence\": \"Intel\",\n",
        "    \"computer\": \"Computer\",\n",
        "    \"artificial\": \"Artificial\",\n",
        "    \"human\": \"Human\",\n",
        "    \"problem\": \"Issue\",\n",
        "    \"learning\": \"Studying\"\n",
        "}\n",
        "\n",
        "def replace_words(file_path: str, replacements: Dict[str, str]) -> None:\n",
        "  with open(file_path, 'r') as file:\n",
        "    content = file.read()\n",
        "\n",
        "  for old_word, new_word in replacements.items():\n",
        "    content = content.replace(old_word, new_word)\n",
        "\n",
        "  with open(file_path.replace('input5', 'output5'), 'w') as file:\n",
        "    file.write(content)\n",
        "\n",
        "replace_words(file_path, dict_words)\n"
      ],
      "metadata": {
        "id": "BxdeHEF_cB3C"
      },
      "execution_count": null,
      "outputs": []
    }
  ]
}