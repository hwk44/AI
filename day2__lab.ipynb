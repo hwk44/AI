{
 "cells": [
  {
   "cell_type": "markdown",
   "metadata": {
    "id": "ZYJeA4fpcGNk"
   },
   "source": [
    "# Lab3"
   ]
  },
  {
   "cell_type": "markdown",
   "metadata": {
    "id": "0AZqhmeccW7p"
   },
   "source": [
    "1. Write a program that takes a number from the user and determines whether it's even or odd.\n",
    "\n",
    "\toutput: odd or even\n",
    "\n",
    "\n"
   ]
  },
  {
   "cell_type": "code",
   "execution_count": null,
   "metadata": {
    "id": "SBUQ1WRTc1Nz"
   },
   "outputs": [],
   "source": []
  },
  {
   "cell_type": "markdown",
   "metadata": {
    "id": "mGbPfQJEc5pl"
   },
   "source": [
    "2. Write a program that takes three numbers from the user and determines the largest of the three.\n",
    "\n",
    "\n"
   ]
  },
  {
   "cell_type": "code",
   "execution_count": null,
   "metadata": {
    "id": "mGAC-9rSc7Qd"
   },
   "outputs": [],
   "source": []
  },
  {
   "cell_type": "markdown",
   "metadata": {
    "id": "INqFk2K5c7ks"
   },
   "source": [
    "\n",
    "3. Write a program that reads an integer as input and determines if it is a multiple of both 3 and 5.\n",
    "\n",
    "\toutput: multiple or not multiple\n",
    "\n"
   ]
  },
  {
   "cell_type": "code",
   "execution_count": null,
   "metadata": {
    "id": "B2c46qWfc8z0"
   },
   "outputs": [],
   "source": []
  },
  {
   "cell_type": "markdown",
   "metadata": {
    "id": "jAEoPcBXc9kM"
   },
   "source": [
    "\n",
    "4. Write a Python program that takes three numbers as input and determines whether they form a Pythagorean triple.\n",
    "\n",
    "\toutput: pythagorean or not pythagorean"
   ]
  },
  {
   "cell_type": "code",
   "execution_count": null,
   "metadata": {
    "id": "nJN7nZ1Nc-ad"
   },
   "outputs": [],
   "source": []
  },
  {
   "cell_type": "markdown",
   "metadata": {
    "id": "EkRNBCyLctUY"
   },
   "source": [
    "5. Write a Python program that takes a user's weight and height as input and calculates their body mass index (BMI). \n",
    "\n",
    "\toutput: < 18.5 : underweight, 18.5 - 24.9 normal weight, <= 25.0 overweight\n",
    "\n",
    "\n",
    "\n",
    "\n"
   ]
  },
  {
   "cell_type": "code",
   "execution_count": null,
   "metadata": {
    "id": "BxdeHEF_cB3C"
   },
   "outputs": [],
   "source": []
  },
  {
   "cell_type": "markdown",
   "metadata": {
    "id": "tdJa-fe6Lu_N"
   },
   "source": [
    "6. Write a Python program that takes two strings as input and determines whether they are anagrams. If the two strings are anagrams (i.e., they have the same letters in a different order)\n",
    "\n",
    "  output: anagrams or not anagrams"
   ]
  },
  {
   "cell_type": "code",
   "execution_count": null,
   "metadata": {
    "id": "4CuQ-rftL-3y"
   },
   "outputs": [],
   "source": []
  },
  {
   "cell_type": "markdown",
   "metadata": {
    "id": "9fgcLU2reahl"
   },
   "source": [
    "# Lab4"
   ]
  },
  {
   "cell_type": "markdown",
   "metadata": {
    "id": "dI9p5_rNec8G"
   },
   "source": [
    "1. Write a program to find the sum of all numbers between 1 and 100 that are divisible by 7 using a while loop."
   ]
  },
  {
   "cell_type": "code",
   "execution_count": null,
   "metadata": {
    "id": "nvheaxJOedT9"
   },
   "outputs": [],
   "source": []
  },
  {
   "cell_type": "markdown",
   "metadata": {
    "id": "wDOVnwLTee8p"
   },
   "source": [
    "2. Write a program that prints the multiplication table for a given number using a for loop."
   ]
  },
  {
   "cell_type": "code",
   "execution_count": null,
   "metadata": {
    "id": "YeC_cgT3ee8q"
   },
   "outputs": [],
   "source": []
  },
  {
   "cell_type": "markdown",
   "metadata": {
    "id": "J5zjEzX3efP0"
   },
   "source": [
    "3. Write a program that reads a positive integer and checks if it's a prime number using a for loop."
   ]
  },
  {
   "cell_type": "code",
   "execution_count": null,
   "metadata": {
    "id": "Q7DxZNeGefP0"
   },
   "outputs": [],
   "source": []
  },
  {
   "cell_type": "markdown",
   "metadata": {
    "id": "P5k8YQd9dmUT"
   },
   "source": [
    "4. Write a program that reads a string and reverses it using a loop. The program should also count and display the number of vowels in the string.\n"
   ]
  },
  {
   "cell_type": "code",
   "execution_count": null,
   "metadata": {
    "id": "EBIwt03Kdnpp"
   },
   "outputs": [],
   "source": []
  },
  {
   "cell_type": "markdown",
   "metadata": {
    "id": "mPv8F8IDdsNB"
   },
   "source": [
    "5. Write a program that prints the following patterns using loops:\n",
    "\n",
    "```\n",
    "*****\n",
    " ****\n",
    "  ***\n",
    "   **\n",
    "    *\n",
    "```"
   ]
  },
  {
   "cell_type": "code",
   "execution_count": null,
   "metadata": {
    "id": "tXDgAKGadyDx"
   },
   "outputs": [],
   "source": []
  },
  {
   "cell_type": "markdown",
   "metadata": {
    "id": "aTfwJbtWeNxR"
   },
   "source": [
    "6. Create a shopping list program that allows the user to add item names to the list, remove items, and display the list using loops. The program should continuously ask the user for input until they choose to exit.\n",
    "\n",
    "\n",
    "```\n",
    "Choose an option:\n",
    "1. Add item name\n",
    "2. Remove item by name\n",
    "3. Display list\n",
    "4. Exit\n",
    "```\n"
   ]
  },
  {
   "cell_type": "code",
   "execution_count": null,
   "metadata": {
    "id": "APNy8a6ZeO6l"
   },
   "outputs": [],
   "source": []
  }
 ],
 "metadata": {
  "colab": {
   "provenance": [],
   "toc_visible": true
  },
  "kernelspec": {
   "display_name": "Python 3 (ipykernel)",
   "language": "python",
   "name": "python3"
  },
  "language_info": {
   "codemirror_mode": {
    "name": "ipython",
    "version": 3
   },
   "file_extension": ".py",
   "mimetype": "text/x-python",
   "name": "python",
   "nbconvert_exporter": "python",
   "pygments_lexer": "ipython3",
   "version": "3.10.10"
  }
 },
 "nbformat": 4,
 "nbformat_minor": 4
}
