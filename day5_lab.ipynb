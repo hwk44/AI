{
 "cells": [
  {
   "cell_type": "markdown",
   "metadata": {
    "id": "W6ojh1FntMX1"
   },
   "source": [
    "# Lab9"
   ]
  },
  {
   "cell_type": "markdown",
   "metadata": {
    "id": "tRRCegBQtwri"
   },
   "source": [
    "## 0. Prerequisite"
   ]
  },
  {
   "cell_type": "code",
   "execution_count": 1,
   "metadata": {
    "colab": {
     "base_uri": "https://localhost:8080/"
    },
    "id": "EJwZpmxStwGz",
    "outputId": "d7c53a19-4e59-4980-acd4-bfb2c368d609",
    "tags": []
   },
   "outputs": [
    {
     "ename": "ModuleNotFoundError",
     "evalue": "No module named 'google'",
     "output_type": "error",
     "traceback": [
      "\u001b[1;31m---------------------------------------------------------------------------\u001b[0m",
      "\u001b[1;31mModuleNotFoundError\u001b[0m                       Traceback (most recent call last)",
      "Cell \u001b[1;32mIn[1], line 1\u001b[0m\n\u001b[1;32m----> 1\u001b[0m \u001b[38;5;28;01mfrom\u001b[39;00m \u001b[38;5;21;01mgoogle\u001b[39;00m\u001b[38;5;21;01m.\u001b[39;00m\u001b[38;5;21;01mcolab\u001b[39;00m \u001b[38;5;28;01mimport\u001b[39;00m drive\n\u001b[0;32m      3\u001b[0m drive\u001b[38;5;241m.\u001b[39mmount(\u001b[38;5;124m'\u001b[39m\u001b[38;5;124m/content/gdrive/\u001b[39m\u001b[38;5;124m'\u001b[39m, force_remount\u001b[38;5;241m=\u001b[39m\u001b[38;5;28;01mTrue\u001b[39;00m)\n",
      "\u001b[1;31mModuleNotFoundError\u001b[0m: No module named 'google'"
     ]
    }
   ],
   "source": [
    "# from google.colab import drive\n",
    "\n",
    "# drive.mount('/content/gdrive/', force_remount=True)\n"
   ]
  },
  {
   "cell_type": "markdown",
   "metadata": {
    "id": "QfhPmqKAvB_A"
   },
   "source": [
    "## p4. Reading Text Files"
   ]
  },
  {
   "cell_type": "code",
   "execution_count": 1,
   "metadata": {
    "colab": {
     "base_uri": "https://localhost:8080/"
    },
    "id": "hI_ujRWqtL7N",
    "outputId": "a0116bc5-2fff-4f9b-d992-9e75092ba6f3",
    "tags": []
   },
   "outputs": [
    {
     "name": "stderr",
     "output_type": "stream",
     "text": [
      "'cat'은(는) 내부 또는 외부 명령, 실행할 수 있는 프로그램, 또는\n",
      "배치 파일이 아닙니다.\n"
     ]
    }
   ],
   "source": [
    "# !cat /content/gdrive/MyDrive/FirstPresidents.txt\n"
   ]
  },
  {
   "cell_type": "code",
   "execution_count": null,
   "metadata": {
    "colab": {
     "base_uri": "https://localhost:8080/"
    },
    "id": "RK8sYPN6t95O",
    "outputId": "a7fe2691-7bd6-4f56-d504-9bda218bbd62"
   },
   "outputs": [
    {
     "name": "stdout",
     "output_type": "stream",
     "text": [
      "George Washington\n",
      "John Adams\n",
      "Thomas Jefferson\n",
      "\n",
      "['George Washington', 'John Adams', 'Thomas Jefferson']\n",
      "\n",
      "George Washington\n",
      "John Adams\n",
      "Thomas Jefferson\n"
     ]
    }
   ],
   "source": [
    "def main():\n",
    "  '''\n",
    "  Display the names of the first three presidents.\n",
    "  '''\n",
    "  file = '/content/gdrive/MyDrive/FirstPresidents.txt'\n",
    "  displayWithForLoop(file)\n",
    "  print()\n",
    "  displayWithListComprehension(file)\n",
    "  print()\n",
    "  displayWithReadline(file)\n",
    "\n",
    "def displayWithForLoop(file):\n",
    "  infile = open(file, 'r')\n",
    "  for line in infile:\n",
    "    print(line.rstrip())\n",
    "  infile.close()\n",
    "\n",
    "def displayWithListComprehension(file):\n",
    "  infile = open(file, 'r')\n",
    "  listPres = [line.rstrip() for line in infile]\n",
    "  infile.close()\n",
    "  print(listPres)\n",
    "\n",
    "def displayWithReadline(file):\n",
    "  infile = open(file, 'r')\n",
    "  line = infile.readline()\n",
    "  while line != \"\":\n",
    "    print(line.rstrip())\n",
    "    line = infile.readline()\n",
    "  infile.close()\n",
    "\n",
    "main()"
   ]
  },
  {
   "cell_type": "markdown",
   "metadata": {
    "id": "tTPoVCbGvJGJ"
   },
   "source": [
    "## p9. Creating Text Files"
   ]
  },
  {
   "cell_type": "code",
   "execution_count": null,
   "metadata": {
    "colab": {
     "base_uri": "https://localhost:8080/"
    },
    "id": "28pEGWJ8vh5A",
    "outputId": "c5399e06-06f1-4541-ca9c-d4fb787772f1"
   },
   "outputs": [
    {
     "name": "stdout",
     "output_type": "stream",
     "text": [
      "Delaware\n",
      "Pennsylvania\n",
      "New Jersey\n",
      "Georgia\n",
      "Connecticut\n",
      "Massachusetts\n",
      "Maryland\n",
      "South Carolina\n",
      "New Hampshire\n",
      "Virginia\n",
      "New York\n",
      "North Carolina\n",
      "Rhode Island\n",
      "Vermont\n",
      "Kentucky\n",
      "Tennessee\n",
      "Ohio\n",
      "Louisiana\n",
      "Indiana\n",
      "Mississippi\n",
      "Illinois\n",
      "Alabama\n",
      "Maine\n",
      "Missouri\n",
      "Arkansas\n",
      "Michigan\n",
      "Florida\n",
      "Texas\n",
      "Iowa\n",
      "Wisconsin\n",
      "California\n",
      "Minnesota\n",
      "Oregon\n",
      "Kansas\n",
      "West Virginia\n",
      "Nevada\n",
      "Nebraska\n",
      "Colorado\n",
      "North Dakota\n",
      "South Dakota\n",
      "Montana\n",
      "Washington\n",
      "Idaho\n",
      "Wyoming\n",
      "Utah\n",
      "Oklahoma\n",
      "New Mexico\n",
      "Arizona\n",
      "Alaska\n",
      "Hawaii\n"
     ]
    }
   ],
   "source": [
    "!cat /content/gdrive/MyDrive/States.txt"
   ]
  },
  {
   "cell_type": "code",
   "execution_count": null,
   "metadata": {
    "colab": {
     "base_uri": "https://localhost:8080/"
    },
    "id": "XcgTfbBEvJmf",
    "outputId": "6ed0dfa3-1482-454b-82c8-c9829ca34787"
   },
   "outputs": [
    {
     "name": "stdout",
     "output_type": "stream",
     "text": [
      "statesList ['Delaware', 'Pennsylvania', 'New Jersey', 'Georgia', 'Connecticut', 'Massachusetts', 'Maryland', 'South Carolina', 'New Hampshire', 'Virginia', 'New York', 'North Carolina', 'Rhode Island', 'Vermont', 'Kentucky', 'Tennessee', 'Ohio', 'Louisiana', 'Indiana', 'Mississippi', 'Illinois', 'Alabama', 'Maine', 'Missouri', 'Arkansas', 'Michigan', 'Florida', 'Texas', 'Iowa', 'Wisconsin', 'California', 'Minnesota', 'Oregon', 'Kansas', 'West Virginia', 'Nevada', 'Nebraska', 'Colorado', 'North Dakota', 'South Dakota', 'Montana', 'Washington', 'Idaho', 'Wyoming', 'Utah', 'Oklahoma', 'New Mexico', 'Arizona', 'Alaska', 'Hawaii']\n",
      "sortedStatesList ['Alabama', 'Alaska', 'Arizona', 'Arkansas', 'California', 'Colorado', 'Connecticut', 'Delaware', 'Florida', 'Georgia', 'Hawaii', 'Idaho', 'Illinois', 'Indiana', 'Iowa', 'Kansas', 'Kentucky', 'Louisiana', 'Maine', 'Maryland', 'Massachusetts', 'Michigan', 'Minnesota', 'Mississippi', 'Missouri', 'Montana', 'Nebraska', 'Nevada', 'New Hampshire', 'New Jersey', 'New Mexico', 'New York', 'North Carolina', 'North Dakota', 'Ohio', 'Oklahoma', 'Oregon', 'Pennsylvania', 'Rhode Island', 'South Carolina', 'South Dakota', 'Tennessee', 'Texas', 'Utah', 'Vermont', 'Virginia', 'Washington', 'West Virginia', 'Wisconsin', 'Wyoming']\n"
     ]
    }
   ],
   "source": [
    "def main():\n",
    "  '''\n",
    "  Create a text file containing the 50 states in alphabetical order.\n",
    "  '''\n",
    "  fileName = '/content/gdrive/MyDrive/States.txt'\n",
    "  sortedFileName = '/content/gdrive/MyDrive/StatesAlpha.txt'\n",
    "  statesList = createListFromFile(fileName)\n",
    "  print('statesList', statesList)\n",
    "  createSortedFile(statesList, sortedFileName)\n",
    "  sortedStatesList = createListFromFile(sortedFileName)\n",
    "  print('sortedStatesList', sortedStatesList)\n",
    "\n",
    "def createListFromFile(fileName):\n",
    "  infile = open(fileName, 'r')\n",
    "  desiredList = [line.rstrip() for line in infile]\n",
    "  infile.close()\n",
    "  return desiredList\n",
    "\n",
    "def createSortedFile(listName, fileName):\n",
    "  listName.sort()\n",
    "  for i in range(len(listName)):\n",
    "    listName[i] = listName[i] + \"\\n\"\n",
    "  outfile = open(fileName, 'w')\n",
    "  outfile.writelines(listName)\n",
    "  outfile.close()\n",
    "\n",
    "main()"
   ]
  },
  {
   "cell_type": "markdown",
   "metadata": {
    "id": "xqPOSvt5wRmY"
   },
   "source": [
    "## p26. Accessing the Data in a CSV File"
   ]
  },
  {
   "cell_type": "code",
   "execution_count": null,
   "metadata": {
    "colab": {
     "base_uri": "https://localhost:8080/"
    },
    "id": "z5oCSKJSwPzI",
    "outputId": "9951821a-bb11-4329-ea75-601420c42b9c"
   },
   "outputs": [
    {
     "name": "stdout",
     "output_type": "stream",
     "text": [
      "Afghanistan,Asia,31.8,251772\n",
      "Albania,Europe,3.0,11100\n",
      "Algeria,Africa,38.3,919595\n",
      "Andorra,Europe,.085,181\n",
      "Angola,Africa,19.1,481354\n",
      "Antigua and Barbuda,North America,.091,108\n",
      "Argentina,South America,44.0,1068302\n",
      "Armenia,Asia,3.1,11506\n",
      "Australia,Australia/Oceania,22.5,2967909\n",
      "Austria,Europe,8.2,32383\n",
      "Azerbaijan,Asia,9.7,33436\n",
      "Bahamas,North America,.32,5358\n",
      "Bahrain,Asia,1.3,253\n",
      "Bangladesh,Asia,166.3,55599\n",
      "Barbados,North America,.29,167\n",
      "Belarus,Europe,9.6,80155\n",
      "Belgium,Europe,10.4,11787\n",
      "Belize,North America,.34,8867\n",
      "Benin,Africa,10.2,43484\n",
      "Bhutan,Asia,.73,14824\n",
      "Bolivia,South America,10.6,424163\n",
      "Bosnia and Herzegovina,Europe,3.9,19767\n",
      "Botswana,Africa,2.2,224606\n",
      "Brazil,South America,202.7,3287597\n",
      "Brunei Darussalam,Asia,.42,2226\n",
      "Bulgaria,Europe,6.9,42823\n",
      "Burkina Faso,Africa,18.4,105792\n",
      "Burundi,Africa,10.4,10745\n",
      "Cambodia,Asia,15.5,69898\n",
      "Cameroon,Africa,23.1,183568\n",
      "Canada,North America,34.8,3855000\n",
      "Cape Verde,Africa,.54,1557\n",
      "Central African Republic,Africa,5.3,240534\n",
      "Chad,Africa,11.4,495753\n",
      "Chile,South America,17.4,292183\n",
      "China,Asia,1355.7,3696100\n",
      "Colombia,South America,46.2,440839\n",
      "Comoros,Africa,.77,863\n",
      "Costa Rica,North America,4.8,19730\n",
      "Cote D'Ivoire,Africa,22.8,124502\n",
      "Croatia,Europe,4.5,21831\n",
      "Cuba,North America,11.0,42803\n",
      "Cyprus,Asia,1.2,3572\n",
      "Czech Republic,Europe,10.6,30450\n",
      "Democratic People's Republic of Korea,Asia,24.9,46528\n",
      "Democratic Republic of the Congo,Africa,77.4,905355\n",
      "Denmark,Europe,5.6,16640\n",
      "Djibouti,Africa,.81,8958\n",
      "Dominica,North America,.073,290\n",
      "Dominican Republic,North America,10.4,18704\n",
      "Ecuador,South America,14.0,98985\n",
      "Egypt,Africa,86.9,387048\n",
      "El Salvador,North America,6.2,8124\n",
      "Equatorial Guinea,Africa,.72,10828\n",
      "Eritrea,Africa,6.3,45405\n",
      "Estonia,Europe,1.3,17413\n",
      "Ethiopia,Africa,96.6,426371\n",
      "Fiji,Australia/Oceania,.90,7056\n",
      "Finland,Europe,5.3,130596\n",
      "France,Europe,66.3,211209\n",
      "Gabon,Africa,1.7,103347\n",
      "Gambia,Africa,1.9,4007\n",
      "Georgia,Asia,4.9,26916\n",
      "Germany,Europe,81.0,137847\n",
      "Ghana,Africa,25.8,92098\n",
      "Greece,Europe,11.8,50944\n",
      "Grenada,North America,.11,132\n",
      "Guatemala,North America,14.7,42042\n",
      "Guinea,Africa,11.5,94926\n",
      "Guinea Bissau,Africa,1.7,13948\n",
      "Guyana,South America,.74,83000\n",
      "Haiti,North America,10.2,10714\n",
      "Honduras,North America,8.6,43278\n",
      "Hungary,Europe,10.0,35919\n",
      "Iceland,Europe,.32,39770\n",
      "India,Asia,1236.3,1269210\n",
      "Indonesia,Asia,253.6,735355\n",
      "Iran,Asia,80.8,636372\n",
      "Iraq,Asia,32.6,169234\n",
      "Ireland,Europe,4.8,31520\n",
      "Israel,Asia,7.8,8019\n",
      "Italy,Europe,61.7,116346\n",
      "Jamaica,North America,2.9,4444\n",
      "Japan,Asia,127.1,145883\n",
      "Jordan,Asia,7.9,45495\n",
      "Kazakhstan,Asia,18.0,1052085\n",
      "Kenya,Africa,45.0,224080\n",
      "Kiribati,Australia/Oceania,.10,280\n",
      "Kuwait,Asia,2.7,6880\n",
      "Kyrgyzstan,Asia,5.6,77181\n",
      "Lao People's Democratic Republic,Asia,6.8,91429\n",
      "Latvia,Europe,2.2,24938\n",
      "Lebanon,Asia,5.9,4035\n",
      "Lesotho,Africa,1.9,12727\n",
      "Liberia,Africa,4.1,43000\n",
      "Libyan Arab Jamahiriya,Africa,6.2,679359\n",
      "Liechtenstein,Europe,.037,62\n",
      "Lithuania,Europe,3.5,25173\n",
      "Luxembourg,Europe,.52,998\n",
      "Madagascar,Africa,23.2,226597\n",
      "Malawi,Africa,17.4,45747\n",
      "Malaysia,Asia,30.1,127355\n",
      "Maldives,Asia,.39,115\n",
      "Mali,Africa,16.5,478839\n",
      "Malta,Europe,.41,121\n",
      "Marshall Islands,Australia/Oceania,.071,69\n",
      "Mauritania,Africa,3.5,397954\n",
      "Mauritius,Africa,1.3,787\n",
      "Mexico,North America,120.3,761606\n",
      "Micronesia,Australia/Oceania,.11,271\n",
      "Monaco,Europe,.031,0.76\n",
      "Mongolia,Asia,3.0,603909\n",
      "Montenegro,Europe,.65,5019\n",
      "Morocco,Africa,33.0,172414\n",
      "Mozambique,Africa,24.7,309496\n",
      "Myanmar,Asia,55.7,261227\n",
      "Namibia,Africa,2.2,318696\n",
      "Nauru,Australia/Oceania,.0095,8\n",
      "Nepal,Asia,31.0,56827\n",
      "Netherlands,Europe,16.59,16033\n",
      "New Zealand,Australia/Oceania,4.4,103738\n",
      "Nicaragua,North America,6.1,50193\n",
      "Niger,Africa,17.5,489678\n",
      "Nigeria,Africa,177.2,356669\n",
      "Norway,Europe,5.1,148746\n",
      "Oman,Asia,3.2,119498\n",
      "Pakistan,Asia,196.2,310403\n",
      "Palau,Australia/Oceania,.021,177\n",
      "Panama,North America,3.6,29157\n",
      "Papua New Guinea,Australia/Oceania,6.6,178703\n",
      "Paraguay,South America,6.7,157048\n",
      "Peru,South America,30.1,496226\n",
      "Philippines,Asia,107.7,115831\n",
      "Poland,Europe,38.3,120726\n",
      "Portugal,Europe,10.9,35645\n",
      "Qatar,Asia,2.1,4416\n",
      "Republic of Korea,Asia,49.0,38622\n",
      "Republic of Moldova,Europe,3.6,13067\n",
      "Republic of the Congo,Africa,4.7,132047\n",
      "Romania,Europe,21.7,92043\n",
      "Russian Federation,Europe,142.5,6592800\n",
      "Rwanda,Africa,12.3,10169\n",
      "Saint Kitts and Nevis,North America,.052,101\n",
      "Saint Lucia,North America,.16,239\n",
      "Saint Vincent and the Grenadines,North America,.10,150\n",
      "Samoa,Australia/Oceania,.20,1093\n",
      "San Marino,Europe,.033,23.5\n",
      "Sao Tome and Principe,Africa,.19,372\n",
      "Saudi Arabia,Asia,27.3,829996\n",
      "Senegal,Africa,13.6,76000\n",
      "Serbia,Europe,7.2,34116\n",
      "Seychelles,Africa,.092,174\n",
      "Sierra Leone,Africa,5.7,27699\n",
      "Singapore,Asia,5.6,274.2\n",
      "Slovakia,Europe,5.4,18932\n",
      "Slovenia,Europe,2.0,7827\n",
      "Solomon Islands,Australia/Oceania,.61,43\n",
      "Somalia,Africa,10.4,246201\n",
      "South Africa,Africa,48.4,471443\n",
      "South Sudan,Africa,11.6,239285\n",
      "Spain,Europe,47.7,195364\n",
      "Sri Lanka,Asia,22.9,25332\n",
      "Sudan,Africa,35.5,967495\n",
      "Suriname,South America,.57,63251\n",
      "Swaziland,Africa,1.4,6704\n",
      "Sweden,Europe,9.7,173732\n",
      "Switzerland,Europe,8.1,15940\n",
      "Syrian Arab Republic,Asia,18.0,71479\n",
      "Tajikistan,Asia,8.1,55251\n",
      "Thailand,Asia,67.7,198115\n",
      "The former Yugoslav Republic of Macedonia,Europe,2.1,205\n",
      "Timor-Leste,Asia,1.2,5743\n",
      "Togo,Africa,7.4,21925\n",
      "Tonga,Australia/Oceania,.11,289\n",
      "Trinidad and Tobago,North America,1.2,1978\n",
      "Tunisia,Africa,10.9,63170\n",
      "Turkey,Asia,81.6,302535\n",
      "Turkmenistan,Asia,5.1,188456\n",
      "Tuvalu,Australia/Oceania,.011,10\n",
      "Uganda,Africa,35.9,91136\n",
      "Ukraine,Europe,44.3,233090\n",
      "United Arab Emirates,Asia,5.6,32278\n",
      "United Kingdom,Europe,66.7,94526\n",
      "United Republic of Tanzania,Africa,50.0,364898\n",
      "United States,North America,318.9,3794066\n",
      "Uruguay,South America,3.3,68037\n",
      "Uzbekistan,Asia,28.9,172742\n",
      "Vanuatu,Australia/Oceania,.27,4706\n",
      "Venezuela,South America,28.9,353841\n",
      "Vietnam,Asia,93.4,128527\n",
      "Yemen,Asia,26.1,203849\n",
      "Zambia,Africa,14.7,290587\n",
      "Zimbabwe,Africa,13.8,150871\n"
     ]
    }
   ],
   "source": [
    "!cat /content/gdrive/MyDrive/UN.txt"
   ]
  },
  {
   "cell_type": "code",
   "execution_count": null,
   "metadata": {
    "colab": {
     "base_uri": "https://localhost:8080/"
    },
    "id": "MCu3WswexuK3",
    "outputId": "834eb7d3-8418-48e4-dfe6-6fa3674928f2"
   },
   "outputs": [
    {
     "data": {
      "text/plain": [
       "{'Africa',\n",
       " 'Asia',\n",
       " 'Australia/Oceania',\n",
       " 'Europe',\n",
       " 'North America',\n",
       " 'South America'}"
      ]
     },
     "execution_count": 21,
     "metadata": {},
     "output_type": "execute_result"
    }
   ],
   "source": [
    "import csv\n",
    "from itertools import groupby\n",
    "first = lambda x: x[0]\n",
    "fileName = '/content/gdrive/MyDrive/UN.txt'\n",
    "\n",
    "def getContinentList():\n",
    "  contents = list()\n",
    "  with open(fileName, 'r') as f_read:\n",
    "    reader = csv.reader(f_read)\n",
    "    for row in reader:\n",
    "      contents.append(row)\n",
    "\n",
    "  return set(map(first, groupby(contents, lambda x: x[1])))\n",
    "\n"
   ]
  },
  {
   "cell_type": "code",
   "execution_count": null,
   "metadata": {
    "colab": {
     "base_uri": "https://localhost:8080/"
    },
    "id": "xyiOdRbKwt2q",
    "outputId": "da13e27f-6c9f-4f1e-9957-5912ba08b34d"
   },
   "outputs": [
    {
     "name": "stdout",
     "output_type": "stream",
     "text": [
      "Enter the name of a continent: ('Europe', 'Asia', 'North America', 'South America', 'Africa', 'Australia/Oceania')Europe\n",
      "Albania\n",
      "Andorra\n",
      "Austria\n",
      "Belarus\n",
      "Belgium\n",
      "Bosnia and Herzegovina\n",
      "Bulgaria\n",
      "Croatia\n",
      "Czech Republic\n",
      "Denmark\n",
      "Estonia\n",
      "Finland\n",
      "France\n",
      "Germany\n",
      "Greece\n",
      "Hungary\n",
      "Iceland\n",
      "Ireland\n",
      "Italy\n",
      "Latvia\n",
      "Liechtenstein\n",
      "Lithuania\n",
      "Luxembourg\n",
      "Malta\n",
      "Monaco\n",
      "Montenegro\n",
      "Netherlands\n",
      "Norway\n",
      "Poland\n",
      "Portugal\n",
      "Republic of Moldova\n",
      "Romania\n",
      "Russian Federation\n",
      "San Marino\n",
      "Serbia\n",
      "Slovakia\n",
      "Slovenia\n",
      "Spain\n",
      "Sweden\n",
      "Switzerland\n",
      "The former Yugoslav Republic of Macedonia\n",
      "Ukraine\n",
      "United Kingdom\n"
     ]
    }
   ],
   "source": [
    "def main():\n",
    "  '''\n",
    "  Display the countries in a specified continent.\n",
    "  '''\n",
    "  continent = input(f\"Enter the name of a continent: {*getContinentList(),} \")\n",
    "  continent = continent.title() # Allow for all lower\n",
    "  if continent != \"Antarctica\": # case letters. (남극대륙)\n",
    "    infile = open(fileName, 'r')\n",
    "    for line in infile:\n",
    "      data = line.split(',')\n",
    "      if data[1] == continent:\n",
    "        print(data[0])\n",
    "    infile.close()\n",
    "  else:\n",
    "    print(\"There are no countries in Antarctica.\")\n",
    "\n",
    "main()"
   ]
  },
  {
   "cell_type": "markdown",
   "metadata": {
    "id": "ReVjqehk0SeG"
   },
   "source": [
    "## p.28 Analyzing the Data in a CSV File with a List"
   ]
  },
  {
   "cell_type": "code",
   "execution_count": null,
   "metadata": {
    "colab": {
     "base_uri": "https://localhost:8080/"
    },
    "id": "FhigR3i40SBU",
    "outputId": "8aae607e-4076-472e-ef9b-d5ed8e062f56"
   },
   "outputs": [
    {
     "name": "stdout",
     "output_type": "stream",
     "text": [
      "Country             Area (sq. mi.)\n",
      "Russian Federation  6,592,800\n",
      "Canada              3,855,000\n",
      "United States       3,794,066\n",
      "China               3,696,100\n",
      "Brazil              3,287,597\n"
     ]
    }
   ],
   "source": [
    "fileName = '/content/gdrive/MyDrive/UN.txt'\n",
    "outputFileName = '/content/gdrive/MyDrive/UNbyArea.txt'\n",
    "\n",
    "from enum import Enum\n",
    "class Column(Enum):\n",
    "  COUNTRY = 0\n",
    "  CONTINENT = 1\n",
    "  POPULATION = 2\n",
    "  AREA = 3\n",
    "\n",
    "def main():\n",
    "  '''\n",
    "  Create a file containing all countries and areas, ordered by area.\n",
    "  Display first five lines of the file.\n",
    "  '''\n",
    "  countries = placeRecordsIntoList(fileName)\n",
    "  countries.sort(key=lambda country: country[3], reverse=True) # sort by area\n",
    "\n",
    "  displayFiveLargestCountries(countries)\n",
    "  createNewFile(countries) \n",
    "\n",
    "def placeRecordsIntoList(fileName):\n",
    "\n",
    "  infile = open(fileName, 'r')\n",
    "  listOfRecords = [line.rstrip() for line in infile]\n",
    "  infile.close()\n",
    "  for i in range(len(listOfRecords)):\n",
    "    listOfRecords[i] = listOfRecords[i].split(',')\n",
    "    listOfRecords[i][Column.POPULATION.value] = eval(listOfRecords[i][Column.POPULATION.value]) # population\n",
    "    listOfRecords[i][Column.AREA.value] = eval(listOfRecords[i][Column.AREA.value]) # area\n",
    "\n",
    "  return listOfRecords\n",
    "\n",
    "def displayFiveLargestCountries(countries, n=5):\n",
    "  print(\"{0:20}{1:9}\".format(\"Country\", \"Area (sq. mi.)\"))\n",
    "  for i in range(n):\n",
    "    print(\"{0:20}{1:9,d}\".format(countries[i][0], countries[i][3]))\n",
    "\n",
    "def createNewFile(countries):\n",
    "  '''\n",
    "  Create file of countries and their areas.\n",
    "  '''\n",
    "  outfile = open(outputFileName, 'w')\n",
    "  for country in countries:\n",
    "    outfile.write(country[Column.COUNTRY.value] + ',' + str(country[Column.AREA.value])+ \"\\n\")\n",
    "  outfile.close()\n",
    "\n",
    "main()"
   ]
  },
  {
   "cell_type": "code",
   "execution_count": null,
   "metadata": {
    "colab": {
     "base_uri": "https://localhost:8080/"
    },
    "id": "8u7BNgjD3rO9",
    "outputId": "21c0172e-e637-46ba-f836-04434aed81c6"
   },
   "outputs": [
    {
     "name": "stdout",
     "output_type": "stream",
     "text": [
      "Russian Federation,6592800\n",
      "Canada,3855000\n",
      "United States,3794066\n",
      "China,3696100\n",
      "Brazil,3287597\n",
      "Australia,2967909\n",
      "India,1269210\n",
      "Argentina,1068302\n",
      "Kazakhstan,1052085\n",
      "Sudan,967495\n",
      "Algeria,919595\n",
      "Democratic Republic of the Congo,905355\n",
      "Saudi Arabia,829996\n",
      "Mexico,761606\n",
      "Indonesia,735355\n",
      "Libyan Arab Jamahiriya,679359\n",
      "Iran,636372\n",
      "Mongolia,603909\n",
      "Peru,496226\n",
      "Chad,495753\n",
      "Niger,489678\n",
      "Angola,481354\n",
      "Mali,478839\n",
      "South Africa,471443\n",
      "Colombia,440839\n",
      "Ethiopia,426371\n",
      "Bolivia,424163\n",
      "Mauritania,397954\n",
      "Egypt,387048\n",
      "United Republic of Tanzania,364898\n",
      "Nigeria,356669\n",
      "Venezuela,353841\n",
      "Namibia,318696\n",
      "Pakistan,310403\n",
      "Mozambique,309496\n",
      "Turkey,302535\n",
      "Chile,292183\n",
      "Zambia,290587\n",
      "Myanmar,261227\n",
      "Afghanistan,251772\n",
      "Somalia,246201\n",
      "Central African Republic,240534\n",
      "South Sudan,239285\n",
      "Ukraine,233090\n",
      "Madagascar,226597\n",
      "Botswana,224606\n",
      "Kenya,224080\n",
      "France,211209\n",
      "Yemen,203849\n",
      "Thailand,198115\n",
      "Spain,195364\n",
      "Turkmenistan,188456\n",
      "Cameroon,183568\n",
      "Papua New Guinea,178703\n",
      "Sweden,173732\n",
      "Uzbekistan,172742\n",
      "Morocco,172414\n",
      "Iraq,169234\n",
      "Paraguay,157048\n",
      "Zimbabwe,150871\n",
      "Norway,148746\n",
      "Japan,145883\n",
      "Germany,137847\n",
      "Republic of the Congo,132047\n",
      "Finland,130596\n",
      "Vietnam,128527\n",
      "Malaysia,127355\n",
      "Cote D'Ivoire,124502\n",
      "Poland,120726\n",
      "Oman,119498\n",
      "Italy,116346\n",
      "Philippines,115831\n",
      "Burkina Faso,105792\n",
      "New Zealand,103738\n",
      "Gabon,103347\n",
      "Ecuador,98985\n",
      "Guinea,94926\n",
      "United Kingdom,94526\n",
      "Ghana,92098\n",
      "Romania,92043\n",
      "Lao People's Democratic Republic,91429\n",
      "Uganda,91136\n",
      "Guyana,83000\n",
      "Belarus,80155\n",
      "Kyrgyzstan,77181\n",
      "Senegal,76000\n",
      "Syrian Arab Republic,71479\n",
      "Cambodia,69898\n",
      "Uruguay,68037\n",
      "Suriname,63251\n",
      "Tunisia,63170\n",
      "Nepal,56827\n",
      "Bangladesh,55599\n",
      "Tajikistan,55251\n",
      "Greece,50944\n",
      "Nicaragua,50193\n",
      "Democratic People's Republic of Korea,46528\n",
      "Malawi,45747\n",
      "Jordan,45495\n",
      "Eritrea,45405\n",
      "Benin,43484\n",
      "Honduras,43278\n",
      "Liberia,43000\n",
      "Bulgaria,42823\n",
      "Cuba,42803\n",
      "Guatemala,42042\n",
      "Iceland,39770\n",
      "Republic of Korea,38622\n",
      "Hungary,35919\n",
      "Portugal,35645\n",
      "Serbia,34116\n",
      "Azerbaijan,33436\n",
      "Austria,32383\n",
      "United Arab Emirates,32278\n",
      "Ireland,31520\n",
      "Czech Republic,30450\n",
      "Panama,29157\n",
      "Sierra Leone,27699\n",
      "Georgia,26916\n",
      "Sri Lanka,25332\n",
      "Lithuania,25173\n",
      "Latvia,24938\n",
      "Togo,21925\n",
      "Croatia,21831\n",
      "Bosnia and Herzegovina,19767\n",
      "Costa Rica,19730\n",
      "Slovakia,18932\n",
      "Dominican Republic,18704\n",
      "Estonia,17413\n",
      "Denmark,16640\n",
      "Netherlands,16033\n",
      "Switzerland,15940\n",
      "Bhutan,14824\n",
      "Guinea Bissau,13948\n",
      "Republic of Moldova,13067\n",
      "Lesotho,12727\n",
      "Belgium,11787\n",
      "Armenia,11506\n",
      "Albania,11100\n",
      "Equatorial Guinea,10828\n",
      "Burundi,10745\n",
      "Haiti,10714\n",
      "Rwanda,10169\n",
      "Djibouti,8958\n",
      "Belize,8867\n",
      "El Salvador,8124\n",
      "Israel,8019\n",
      "Slovenia,7827\n",
      "Fiji,7056\n",
      "Kuwait,6880\n",
      "Swaziland,6704\n",
      "Timor-Leste,5743\n",
      "Bahamas,5358\n",
      "Montenegro,5019\n",
      "Vanuatu,4706\n",
      "Jamaica,4444\n",
      "Qatar,4416\n",
      "Lebanon,4035\n",
      "Gambia,4007\n",
      "Cyprus,3572\n",
      "Brunei Darussalam,2226\n",
      "Trinidad and Tobago,1978\n",
      "Cape Verde,1557\n",
      "Samoa,1093\n",
      "Luxembourg,998\n",
      "Comoros,863\n",
      "Mauritius,787\n",
      "Sao Tome and Principe,372\n",
      "Dominica,290\n",
      "Tonga,289\n",
      "Kiribati,280\n",
      "Singapore,274.2\n",
      "Micronesia,271\n",
      "Bahrain,253\n",
      "Saint Lucia,239\n",
      "The former Yugoslav Republic of Macedonia,205\n",
      "Andorra,181\n",
      "Palau,177\n",
      "Seychelles,174\n",
      "Barbados,167\n",
      "Saint Vincent and the Grenadines,150\n",
      "Grenada,132\n",
      "Malta,121\n",
      "Maldives,115\n",
      "Antigua and Barbuda,108\n",
      "Saint Kitts and Nevis,101\n",
      "Marshall Islands,69\n",
      "Liechtenstein,62\n",
      "Solomon Islands,43\n",
      "San Marino,23.5\n",
      "Tuvalu,10\n",
      "Nauru,8\n",
      "Monaco,0.76\n"
     ]
    }
   ],
   "source": [
    "!cat /content/gdrive/MyDrive/UNbyArea.txt"
   ]
  },
  {
   "cell_type": "markdown",
   "metadata": {
    "id": "hKpE5CNtMYmB"
   },
   "source": [
    "## p.39 Using a Dictionary as a Frequency Table"
   ]
  },
  {
   "cell_type": "code",
   "execution_count": null,
   "metadata": {
    "colab": {
     "base_uri": "https://localhost:8080/"
    },
    "id": "S5TBe37bMYDD",
    "outputId": "166254b8-f63a-4ec0-c725-6d4d51cf91a6"
   },
   "outputs": [
    {
     "name": "stdout",
     "output_type": "stream",
     "text": [
      "Four score and seven years ago, our fathers brought forth on this continent a new nation: conceived in liberty, and dedicated to the proposition that all men are created equal. Now we are engaged in a great civil war testing whether that nation, or any nation so conceived and so dedicated can long endure. We are met on a great battlefield of that war. We have come to dedicate a portion of that field as a final resting place for those who here gave their lives that that nation might live. It is altogether fitting and proper that we should do this. But, in a larger sense, we cannot dedicate we cannot consecrate we cannot hallow this ground. The brave men, living and dead, who struggled here have consecrated it, far above our poor power to add or detract. The world will little note, nor long remember, what we say here, but it can never forget what they did here. It is for us the living, rather, to be dedicated here to the unfinished work which they who fought here have thus far so nobly advanced. It is rather for us to be here dedicated to the great task remaining before us that from these honored dead we take increased devotion to that cause for which they gave the last full measure of devotion that we here highly resolve that these dead shall not have died in vain that this nation, under God, shall have a new birth of freedom and that government of the people by the people for the people shall not perish from the earth.\n"
     ]
    }
   ],
   "source": [
    "!cat /content/gdrive/MyDrive/Gettysburg.txt"
   ]
  },
  {
   "cell_type": "code",
   "execution_count": null,
   "metadata": {
    "colab": {
     "base_uri": "https://localhost:8080/"
    },
    "id": "ry5V2sVrNL7V",
    "outputId": "473f22b2-1392-4eb8-b959-5f73e9abe90b"
   },
   "outputs": [
    {
     "name": "stdout",
     "output_type": "stream",
     "text": [
      "The Gettysburg Address contains 268 words.\n",
      "The Gettysburg Address contains 139 different words.\n",
      "\n",
      "The most common words and their frequencies are:\n",
      "     that: 13\n",
      "     the: 11\n",
      "     we: 10\n",
      "     to: 8\n",
      "     here: 8\n",
      "     a: 7\n",
      "     and: 6\n"
     ]
    }
   ],
   "source": [
    "fileName = '/content/gdrive/MyDrive/Gettysburg.txt'\n",
    "\n",
    "def main():\n",
    "  '''\n",
    "  Analyze word frequencies in the Gettysburg Address,\n",
    "  which is written in a single line.\n",
    "  '''\n",
    "  listOfWords = formListOfWords(fileName)\n",
    "  freq = createFrequencyDictionary(listOfWords)\n",
    "  displayWordCount(listOfWords, freq)\n",
    "  displayMostCommonWords(freq)\n",
    "\n",
    "def formListOfWords(fileName):\n",
    "  infile = open(fileName)\n",
    "  originalLine = infile.read().lower()\n",
    "  infile.close()\n",
    "  # Remove punctuation marks from the line.\n",
    "  line = \"\"\n",
    "  for ch in originalLine:\n",
    "    if ('a' <= ch <= 'z') or (ch == \" \"):\n",
    "      line += ch\n",
    "  # Place the individual words into a list.\n",
    "  listOfWords = line.split()\n",
    "  return listOfWords\n",
    "\n",
    "def createFrequencyDictionary(listOfWords):\n",
    "  '''\n",
    "  Create dictionary with each item having the form word:word frequency.\n",
    "  '''\n",
    "  freq = {}\n",
    "  # an empty dictionary\n",
    "  for word in listOfWords:\n",
    "    freq[word] = 0\n",
    "  for word in listOfWords:\n",
    "    freq[word] = freq[word] + 1\n",
    "  return freq\n",
    "\n",
    "def displayWordCount(listOfWords, freq):\n",
    "  print(\"The Gettysburg Address contains\", len(listOfWords), \"words.\")\n",
    "  print(\"The Gettysburg Address contains\", len(freq), \"different words.\")\n",
    "  print()  \n",
    "\n",
    "\n",
    "def displayMostCommonWords(freq):\n",
    "  '''\n",
    "  Common words are those with frequency > 5.\n",
    "  '''\n",
    "  print(\"The most common words and their frequencies are:\")\n",
    "  listOfMostCommonWords = []\n",
    "  for word in freq.keys():\n",
    "    if freq[word] >= 6:\n",
    "      listOfMostCommonWords.append((word, freq[word]))\n",
    "  listOfMostCommonWords.sort(key=lambda x: x[1], reverse=True)\n",
    "  for item in listOfMostCommonWords:\n",
    "    print(\"    \", item[0] + ':', item[1])\n",
    "\n",
    "main()"
   ]
  },
  {
   "cell_type": "markdown",
   "metadata": {
    "id": "6p4rrnSGRkF-"
   },
   "source": [
    "## p.45 Dictionary-Valued Dictionaries"
   ]
  },
  {
   "cell_type": "code",
   "execution_count": null,
   "metadata": {
    "colab": {
     "base_uri": "https://localhost:8080/"
    },
    "id": "Zt6rtGz3R0R3",
    "outputId": "c3480163-93e0-474d-eac3-cb58aea53dbc"
   },
   "outputs": [
    {
     "name": "stdout",
     "output_type": "stream",
     "text": [
      "\u0000\u0000\u0000South Americaq\u0005X\u0004\u0000\u0000\u0000areaq\u0006Jb�\u0007\u0000uX\u000e\u0000\u0000\u0000Czech Republicq\u0007}(h\u0003G@%333333h\u0004X\u0006\u0000\u0000\u0000Europeq\th\u0006M�vuX\u0006\u0000\u0000\u0000Panamaq\n",
      "}q\u000e(h\u0003G@\u0001������h\u0004X\u0006\u0000\u0000\u0000Africaq\u000fh\u0006J��\u0004\u0000uX\u0005\u0000\u0000\u0000Qatarq\u0010}q\u0011(h\u0003G@\u0000������h\u0004X\u0004\u0000\u0000\u0000Asiaq\u0012h\u0006M@\u0011u\u0000\u0000\u0000Sloveniaq\u0013}q\u0014(h\u0003G@\u0000\u0000\u0000\u0000\u0000\u0000\u0000h\u0004X\u0006\u0000\u0000\u0000Europeq\u0015h\u0006M�\u001e",
      "uX\u0006\u0000\u0000\u0000Franceq\u0016}q\u0017(h\u0003G@P�33333h\u0004X\u0006\u0000\u0000\u0000Europeq\u0018h\u0006J\t9\u0003\u0000uX\u0004\u0000\u0000\u0000Fijiq\u0019}q\u001a(h\u0003G?�������h\u0004X\u0011\u0000\u0000\u0000Australia/Oceaniaq\u001bh\u0006M�\u001buX\n",
      "\u0000\u0000\u0000South Americaq3h\u0006J\u000eM\u0010\u0000uX\u0007\u0000\u0000\u0000Algeriaq(}q)(h\u0003G@C&fffffh\u0004X\u0006\u0000\u0000\u0000Africaq*h\u0006J\u000e\u0000uX\u001b\u0000\u0000\u0000United Republic of Tanzaniaq+}q,(h\u0003G@I\u0000\u0000\u0000\u0000\u0000\u0000h\u0004X\u0006\u0000\u0000\u0000Africaq-h\u0006Jb�\u0005\u0000uX\u0005\u0000\u0000\u0000Sudanq.}q/(h\u0003G@A�\u0000\u0000\u0000\u0000\u0000h\u0004X\u0006\u0000\u0000\u0000Africaq0h\u0006JG�\u000e\u0000uX\t\u0000\u0000\u0000Argentinaq1}q2(h\u0003G@F\u0000\u0000\u0000\u0000\u0000\u0000h\u0004X\n",
      "\u0000\u0000\u0000North AmericaqBh\u0006M\u0011�uX\u0007\u0000\u0000\u0000ComorosqC}qD(h\u0003G?���\u0012\u0006\u0000uX\u0007\u0000\u0000\u0000Vietnamq7}q8(h\u0003G@WY�����h\u0004X\u0004\u0000\u0000\u0000Asiaq9h\u0006J\u000f�\u0001\u0000uX\u0006\u0000\u0000\u0000Kuwaitq:}q;(h\u0003G@\u0005������h\u0004X\u0004\u0000\u0000\u0000Asiaq<h\u0006M�\u001auX\u0010\u0000\u0000\u0000Papua New Guineaq=}q>(h\u0003G@\u001affffffh\u0004X\u0011\u0000\u0000\u0000Australia/Oceaniaq?h\u0006J\u000f�\u0002\u0000uX\t\u0000\u0000\u0000Nicaraguaq@}qA(h\u0003G@\u0018ffffffh\u0004X\n",
      "\u0000\u0000\u0000North AmericaqHh\u0006M\\\u0011uX\u0005\u0000\u0000\u0000PalauqI}qJ(h\u0003G?��\u0006$�/\u001bh\u0004X\u0011\u0000\u0000\u0000Australia/OceaniaqKh\u0006K�uX\u0006\u0000\u0000\u0000NorwayqL}qM(h\u0003G@\u0014ffffffh\u0004X\u0006\u0000\u0000\u0000EuropeqNh\u0006J\n",
      "\u0000\u0000\u0000South AmericaqTh\u0006J-*2\u0000u\u0000\u0000\u0000CambodiaqU}qV(h\u0003G@/\u0000\u0000\u0000\u0000\u0000\u0000h\u0004X\u0004\u0000\u0000\u0000AsiaqWh\u0006J\u0006\u0000\u0000\u0000BrazilqR}qS(h\u0003G@iVfffffh\u0004X\n",
      "\u0000\u0000\u0000North Americaq�h\u0006M�\"uXuX\u0007\u0000\u0000\u0000Albaniaq�}q�(h\u0003G\u0000\u0000\u0000\u0000\u0000\u0000h\u0004X\u0006\u0000\u0000\u0000Europeq�h\u0006M\\+uX\u0007\u0000\u0000\u0000Croatiaq�}q�(h\u0003G@\u0012\u0000\u0000\u0000\u0000\u0000\u0000h\u0004X\u0006\u0000\u0000\u0000Europeq�h\u0006MGUuX\u0015\u0000\u0000\u0000Republic of the Congoq�}q�(h\u0003G@\u0012������h\u0004X\u0006\u0000\u0000\u0000Africaq�h\u0006J�\u0003\u0002\u0000uX\u0006\u0000\u0000\u0000Belizeq�}q�(h\u0003G?�\\(��h\u0004XX\u0006\u0000\u0000\u0000Africaquh\u0006M�\"uX\u0012\u0000\u0000\u0000Russian Federationqv}qw(h\u0003G@a�\u0000\u0000\u0000\u0000\u0000h\u0004X\u0006\u0000\u0000\u0000Europeqxh\u0006J �d\u0000uX\f",
      "\u0000\u0000\u0000South Africaqy}qz(h\u0003G@H333333h\u0004X\u0006\u0000\u0000\u0000Africaq{h\u0006J�1\u0007\u0000uX\u0005\u0000\u0000\u0000Spainq|}q}(h\u0003G@Gٙ����h\u0004X\u0006\u0000\u0000\u0000Europeq~h\u0006J$�\u0002\u0000uX\u0015\u0000\u0000\u0000Saint Kitts and Nevisq}q�(h\u0003G?���vȴ9h\u0004X\n",
      "\u0000\u0000\u0000North Americaq�h\u0006M\u0010IuX�\\)h\u0004X\u0011\u0000\u0000\u0000Australia/Oceaniaq�h\u0006M\u000f\u0001uX\u0007\u0000\u0000\u0000Somaliaq�}q�(h\u0003G@$������h\u0004X\u0006\u0000\u0000\u0000Africaq�h\u0006J��\u0003\u0000uX\u0007\u0000\u0000\u0000Finlandq�}q�(h\u0003G@\u0015333333h\u0004X\u0006\u0000\u0000\u0000Europeq�h\u0006J$�\u0001\u0000u\u0000\u0000\u0000Kiribatiq�}q�(h\u0003G?�������h\u0004X\u0011\u0000\u0000\u0000Australia/Oceaniaq�h\u0006M\u0018\u0001uX\u0012\u0000\u0000\u0000Dominican Republicq�}q�(h\u0003G@$������h\u0004X\n",
      "\u0000\u0000\u0000Cape Verdeq�}q�(h\u0003G?�G�\u0014z�Hh\u0004X\u0006\u0000\u0000\u0000Africaq�h\u0006M\u0015\u0006uX\n",
      "\u0000\u0000\u0000North Americaq�h\u0006K�uX\u0005\u0000\u0000\u0000Beninq�}q�(h\u0003G@$ffffffh\u0004X\u0006\u0000\u0000\u0000Africaq�h\u0006MܩuXh\u0003G?�\\(��h\u0004X\u0006\u0000\u0000\u0000Europeq�h\u0006K�uX \u0000\u0000\u0000Saint Vincent and the Grenadinesq�}q�(h\u0003G?�������h\u0004X\n",
      "\u0000\u0000\u0000Tajikistanq�}q�(h\u0003G@ 333333h\u0004X\u0004\u0000\u0000\u0000Asiaq�h\u0006M��uX\u0005\u0000\u0000\u0000Samoaq�}q�(h\u0003G?ə�����h\u0004X\u0011\u0000\u0000\u0000Australia/Oceaniaq�h\u0006ME\u0004uX\u0006\u0000\u0000\u0000Greeceq�}q�(h\u0003G@'������h\u0004X\u0006\u0000\u0000\u0000Europeq�h\u0006M\u0000�uX\u0005\u0000\u0000\u0000Gabonq�}q�(h\u0003G?�333333h\u0004X\u0006\u0000\u0000\u0000Africaq�h\u0006J��\u0001\u0000uX)\u0000\u0000\u0000The former Yugoslav Republic of Macedoniaq�}q�(h\u0003G@\u0000������h\u0004X\u0006\u0000\u0000\u0000Europeq�h\u0006K�uX\n",
      "\u0000\u0000\u0000Luxembourgq�}q�(h\u0003G?��\n",
      "\u0000\u0000\u0000South Americaq�h\u0006J1f\u0005\u0000uX\u0007\u0000\u0000\u0000Armeniaq�}q�(h\u0003G������h\u0004X\u0004\u0000\u0000\u0000Asiaq�h\u0006M�,uX \u0000\u0000\u0000Lao People's Democratic Republicq�}q�(h\u0003G@\u001b333333h\u0004X\u0004\u0000\u0000\u0000Asiaq�h\u0006J%e\u0001\u0000uX\u000b",
      "\u0000\u0000\u0000Netherlandsq�}q�(h\u0003G@0�\n",
      "=p��h\u0004X\u0006\u0000\u0000\u0000Europeq�h\u0006M�>uX\u0007\u0000\u0000\u0000Liberiaq�}q�(h\u0003G@\u0010ffffffh\u0004X\u0006\u0000\u0000\u0000Africaq�h\u0006M��u\u0000\u0000\u0000Surinameq�}q�(h\u0003G?�=p��\n",
      "\u0000\u0000\u0000South Americaq�h\u0006M\u0013�uX\u0005\u0000\u0000\u0000Italyq�}q�(h\u0003G@Nٙ����h\u0004X\u0006\u0000\u0000\u0000Europeq�h\u0006Jz�\u0001\u0000uX\t\u0000\u0000\u0000Mauritiusq�}q�(h\u0003G?�������h\u0004X\u0006\u0000\u0000\u0000Africaq�h\u0006M\u0013\u0003uX\u0006\u0000\u0000\u0000Tuvaluq�}q�(h\u0003G?��+\u0002\f",
      "I�h\u0004X\u0011\u0000\u0000\u0000Australia/Oceaniaq�h\u0006K\n",
      "\u0000uX\u0007\u0000\u0000\u0000Irelandr\u0000\u0001\u0000\u0000}r\u0001\u0001\u0000\u0000(h\u0003G@\u0013333333h\u0004X\u0006\u0000\u0000\u0000Europer\u0002\u0001\u0000\u0000h\u0006M {uX\u0006\u0000\u0000\u0000Zambiar\u0003\u0001\u0000\u0000}r\u0004\u0001\u0000\u0000(h\u0003G@-ffffffh\u0004X\u0006\u0000\u0000\u0000Africar\u0005\u0001\u0000\u0000h\u0006J\u001bo\u0004\u0000uX\u0005\u0000\u0000\u0000Yemenr\u0006\u0001\u0000\u0000}r\u0007\u0001\u0000\u0000(h\u0003G@:\u0019�����h\u0004X\u0004\u0000\u0000\u0000Asia\u0001\u0000\u0000h\u0006JI\u001c",
      "\u0003\u0000uX\u0005\u0000\u0000\u0000Chinar\t\u0001\u0000\u0000}r \u0000\u0000\u0000Democratic Republic of the Congoq�}q�(h\u0003G@SY�����h\u0004X\u0006\u0000\u0000\u0000Africaq�h\u0006J��\n",
      "\u0000\u0000\u0000North Americar\u0014\u0001\u0000\u0000h\u0006J\u0006�\u000b",
      "\u0000u\u0000\u0000\u0000Cameroonr\u0015\u0001\u0000\u0000}r\u0016\u0001\u0000\u0000(h\u0003G@7\u0019�����h\u0004X\u0006\u0000\u0000\u0000Africar\u0017\u0001\u0000\u0000h\u0006J\u0010�\u0002\u0000uX\f",
      "\u0000\u0000\u0000Turkmenistanr\u0018\u0001\u0000\u0000}r\u0019\u0001\u0000\u0000(h\u0003G@\u0014ffffffh\u0004X\u0004\u0000\u0000\u0000Asiar\u001a\u0001\u0000\u0000h\u0006J(�\u0002\u0000uX\n",
      "\u0000\u0000\u0000South Americar)\u0001\u0000\u0000h\u0006J\u0007�\u0006\u0000uX\u0007\u0000\u0000\u0000Myanmarr*\u0001\u0000\u0000}r+\u0001\u0000\u0000(h\u0003G@Kٙ����h\u0004X\u0004\u0000\u0000\u0000Asiar,\u0001\u0000\u0000h\u0006Jk�\u0003\u0000uX\u0000\u0000Ghanar$\u0001\u0000\u0000}r%\u0001\u0000\u0000(h\u0003G@9������h\u0004X\u0006\u0000\u0000\u0000Africar&\u0001\u0000\u0000h\u0006J�g\u0001\u0000u\u0000\u0000\u0000Colombiar'\u0001\u0000\u0000}r(\u0001\u0000\u0000(h\u0003G@G\u0019�����h\u0004X\n",
      "\u0000\u0000\u0000North Americar8\u0001\u0000\u0000h\u0006M�)uX\u0005\u0000\u0000\u0000Nepalr9\u0001\u0000\u0000}r:\u0001\u0000\u0000(h\u0003G@?\u0000\u0000\u0000\u0000\u0000\u0000h\u0004X\u0004\u0000\u0000\u0000Asiar;\u0001\u0000\u0000h\u0006M��u\u0000\u0000\u0000Malaysiar<\u0001\u0000\u0000}r=\u0001\u0000\u0000(h\u0003G@>\u0019�����h\u0004X\u0004\u0000\u0000\u0000Asiar>\u0001\u0000\u0000h\u0006J{�\u0001\u0000uX\u0005\u0000\u0000\u0000Maltar?\u0001\u0000\u0000}r@\u0001\u0000\u0000(h\u0003G?�=p��G?�Q�\u001e",
      "�RuX\u0005\u0000\u0000\u0000Haitir6\u0001\u0000\u0000}r7\u0001\u0000\u0000(h\u0003G@$ffffffh\u0004X\n",
      "=h\u0004X\u0006\u0000\u0000\u0000EuroperA\u0001\u0000\u0000h\u0006Kyu\u0000\u0000\u0000BulgariarB\u0001\u0000\u0000}rC\u0001\u0000\u0000(h\u0003G@\u001b������h\u0004X\u0006\u0000\u0000\u0000EuroperD\u0001\u0000\u0000h\u0006MG�uX\n",
      "\u0000\u0000\u0000North AmericarP\u0001\u0000\u0000h\u0006M�\u0007u\u0000\u0000\u0000PortugalrQ\u0001\u0000\u0000}rR\u0001\u0000\u0000(h\u0003G@%������h\u0004X\u0006\u0000\u0000\u0000EuroperS\u0001\u0000\u0000h\u0006M=�uX\u0016\u0000\u0000\u0000Bosnia and HerzegovinarT\u0001\u0000\u0000}rU\u0001\u0000\u0000(h\u0003G@\u000f333333h\u0004X\u0006\u0000\u0000\u0000EuroperV\u0001\u0000\u0000h\u0006M7MuX\u0006\u0000\u0000\u0000RwandarW\u0001\u0000\u0000}rX\u0001\u0000\u0000(h\u0003G@(������h\u0004X\u0006\u0000\u0000\u0000AfricarY\u0001\u0000\u0000h\u0006M�'uX\u0006\u0000\u0000\u0000GambiarZ\u0001\u0000\u0000}r[\u0001\u0000\u0000(h\u0003G?�ffffffh\u0004X\u0006\u0000\u0000\u0000Africar\\\u0001\u0000\u0000h\u0006M�\u000fuX\n",
      "\u0000\u0000\u0000Montenegror]\u0001\u0000\u0000}r^\u0001\u0000\u0000(h\u0003G?�������h\u0004X\u0006\u0000\u0000\u0000Europer_\u0001\u0000\u0000h\u0006M�\u0013uX\u0011\u0000\u0000\u0000Equatorial Guinear`\u0001\u0000\u0000}ra\u0001\u0000\u0000(h\u0003G?�\n",
      "=p��\n",
      "\u0000\u0000\u0000North Americarh\u0001\u0000\u0000h\u0006K�uX\u0006\u0000\u0000\u0000Serbiari\u0001\u0000\u0000}rj\u0001\u0000\u0000(h\u0003G@\u001c",
      "������h\u0004X\u0006\u0000\u0000\u0000Europerk\u0001\u0000\u0000h\u0006MD�uX\f",
      "\u0000uX\u0007\u0000\u0000\u0000Grenadarf\u0001\u0000\u0000}rg\u0001\u0000\u0000(h\u0003G?�(�\\)h\u0004X\n",
      "\u0000\u0000\u0000Bangladeshrl\u0001\u0000\u0000}rm\u0001\u0000\u0000(h\u0003G@də����h\u0004X\u0004\u0000\u0000\u0000Asiarn\u0001\u0000\u0000h\u0006M/�uX\u0016\u0000\u0000\u0000Libyan Arab Jamahiriyaro\u0001\u0000\u0000}rp\u0001\u0000\u0000(h\u0003G@\u0018������h\u0004X\u0006\u0000\u0000\u0000Africarq\u0001\u0000\u0000h\u0006J�]\n",
      "\u0000\u0000\u0000North Americar�\u0001\u0000\u0000h\u0006KluX\u0007\u0000\u0000\u0000Nigeriar�\u0001\u0000\u0000}r�\u0001\u0000\u0000(h\u0003G@f&fffffh\u0004X\u0006\u0000\u0000\u0000Africar�\u0001\u0000\u0000h\u0006J=q\u0005\u0000uX\u0005\u0000\u0000\u0000Japanr�\u0001\u0000\u0000}r�\u0001\u0000\u0000(h\u0003G@_�fffffh\u0004X\u0004\u0000\u0000\u0000Asiar�\u0001\u0000\u0000h\u0006J�9\u0002\u0000uX\u0007\u0000\u0000\u0000Estoniar�\u0001\u0000\u0000}r�\u0001\u0000\u0000(h\u0003G?�������h\u0004X\u0006\u0000\u0000\u0000Europer�\u0001\u0000\u0000h\u0006M\u0005DuX\u0006\u0000\u0000\u0000Guinear�\u0001\u0000\u0000}r�\u0001\u0000\u0000(h\u0003G@'\u0000\u0000\u0000\u0000\u0000\u0000h\u0004X\u0006\u0000\u0000\u0000Africar�\u0001\u0000\u0000h\u0006J�r\u0001\u0000uX\u0007\u0000\u0000\u0000Belarusr�\u0001\u0000\u0000}r�\u0001\u0000\u0000(h\u0003G@#333333h\u0004X\u0006\u0000\u0000\u0000Europer�\u0001\u0000\u0000h\u0006J\u001b9\u0001\u0000uX\u000e\u0000\u0000\u0000United Kingdomr�\u0001\u0000\u0000}r�\u0001\u0000\u0000(h\u0003G@P������h\u0004X\u0006\u0000\u0000\u0000Europer�\u0001\u0000\u0000h\u0006J>q\u0001\u0000uX\u000f\u0000\u0000\u0000Solomon Islandsr�\u0001\u0000\u0000}r�\u0001\u0000\u0000(h\u0003G?�\u001e",
      "�Q�h\u0004X\u0011\u0000\u0000\u0000Australia/Oceaniar�\u0001\u0000\u0000h\u0006K+uX\u0006\u0000\u0000\u0000Angolar�\u0001\u0000\u0000}r�\u0001\u0000\u0000(h\u0003G@3\u0019�����h\u0004X\u0006\u0000\u0000\u0000Africar�\u0001\u0000\u0000h\u0006JJX\u0007\u0000uX\u0007\u0000\u0000\u0000Bahrainr�\u0001\u0000\u0000}r�\u0001\u0000\u0000(h\u0003G?�������h\u0004X\u0004\u0000\u0000\u0000Asiar�\u0001\u0000\u0000h\u0006K�u\u0000\u0000\u0000Ethiopiar�\u0001\u0000\u0000}r�\u0001\u0000\u0000(h\u0003G@X&fffffh\u0004X\u0006\u0000\u0000\u0000Africar�\u0001\u0000\u0000h\u0006J��\u0006\u0000uX\u0007\u0000\u0000\u0000Austriar�\u0001\u0000\u0000}r�\u0001\u0000\u0000(h\u0003G@ ffffffh\u0004X\u0006\u0000\u0000\u0000Europer�\u0001\u0000\u0000h\u0006M~uX\u000b",
      "\u0000\u0000\u0000Switzerlandr�\u0001\u0000\u0000}r�\u0001\u0000\u0000(h\u0003G@ 333333h\u0004X\u0006\u0000\u0000\u0000Europer�\u0001\u0000\u0000h\u0006MD>uX\u0007\u0000\u0000\u0000Uruguayr�\u0001\u0000\u0000}r�\u0001\u0000\u0000(h\u0003G@\n",
      "\u0000\u0000\u0000South Americar�\u0001\u0000\u0000h\u0006J�\t\u0001\u0000uX%\u0000\u0000\u0000Democratic People's Republic of Korear�\u0001\u0000\u0000}r�\u0001\u0000\u0000(h\u0003G@8�fffffh\u0004X\u0004\u0000\u0000\u0000Asiar�\u0001\u0000\u0000h\u0006M��uX\u000b",
      "\u0000\u0000\u0000New Zealandr�\u0001\u0000\u0000}r�\u0001\u0000\u0000(h\u0003G@\u0011������h\u0004X\u0011\u0000\u0000\u0000Australia/Oceaniar�\u0001\u0000\u0000h\u0006J:�\u0001\u0000uX\t\u0000\u0000\u0000Lithuaniar�\u0001\u0000\u0000}r�\u0001\u0000\u0000(h\u0003G@\f",
      "\u0000\u0000\u0000\u0000\u0000\u0000h\u0004X\u0006\u0000\u0000\u0000Europer�\u0001\u0000\u0000h\u0006MUbuX\u0007\u0000\u0000\u0000Burundir�\u0001\u0000\u0000}r�\u0001\u0000\u0000(h\u0003G@$������h\u0004X\u0006\u0000\u0000\u0000Africar�\u0001\u0000\u0000h\u0006M�)uX\n",
      "\u0000\u0000\u0000North Americar\u0001\u0002\u0000\u0000h\u0006J��:\u0000u\u0000\u0000\u0000Mongoliar\u0002\u0002\u0000\u0000}r\u0003\u0002\u0000\u0000(h\u0003G\u0000\u0000\u0000\u0000\u0000\u0000h\u0004X\u0004\u0000\u0000\u0000Asiar\u0004\u0002\u0000\u0000h\u0006J\u00057\t\u0000uX\u0005\u0000\u0000\u0000Indiar\u0005\u0002\u0000\u0000}r\u0006\u0002\u0000\u0000(h\u0003G@�Q33333h\u0004X\u0004\u0000\u0000\u0000Asiar\u0007\u0002\u0000\u0000h\u0006J�]\u0013\u0000uX\u0006J|�\u0003\u0000uX\u0014\u0000\u0000\u0000United Arab Emiratesr�\u0001\u0000\u0000}r�\u0001\u0000\u0000(h\u0003G@\u0016ffffffh\u0004X\u0004\u0000\u0000\u0000Asiar�\u0001\u0000\u0000h\u0006M\u0016~uX\u0011\u0000\u0000\u0000Brunei Darussalamr�\u0001\u0000\u0000}r�\u0001\u0000\u0000(h\u0003G?��G�\u0014z�h\u0004X\u0004\u0000\u0000\u0000Asiar�\u0001\u0000\u0000h\u0006MuX\u0007\u0000\u0000\u0000Germanyr�\u0001\u0000\u0000}r�\u0001\u0000\u0000(h\u0003G@T@\u0000\u0000\u0000\u0000\u0000h\u0004X\u0006\u0000\u0000\u0000Europer�\u0001\u0000\u0000h\u0006Jw\u001a\u0002\u0000uX\u0010\u0000\u0000\u0000Marshall Islandsr�\u0001\u0000\u0000}r�\u0001\u0000\u0000(h\u0003G?�-\u000eV\u0004\u0018�h\u0004X\u0011\u0000\u0000\u0000Australia/Oceaniar�\u0001\u0000\u0000h\u0006KEuX\f",
      "\u0000\u0000\u0000Sierra Leoner�\u0001\u0000\u0000}r�\u0001\u0000\u0000(h\u0003G@\u0016������h\u0004X\u0006\u0000\u0000\u0000Africar�\u0001\u0000\u0000h\u0006M3luX\u0006\u0000\u0000\u0000Canadar�\u0001\u0000\u0000}r\u0000\u0002\u0000\u0000(h\u0003G@Affffffh\u0004X\n",
      "\u0000\u0000\u0000North Americarr\t\u0002\u0000\u0000(h\u0003G@\u0013333333h\u0004X\n",
      "\u0000\u0000\u0000North Americar\u0019\u0002\u0000\u0000h\u0006M\"\u0001uX\t\u0000\u0000\u0000Indonesiar\u0014\u0002\u0000\u0000}r\u0015\u0002\u0000\u0000(h\u0003G@o�33333h\u0004X\u0004\u0000\u0000\u0000Asiar\u0016\u0002\u0000\u0000h\u0006J{8\u000b",
      "\u0000u\u0000\u0000\u0000Dominicar\u0017\u0002\u0000\u0000}r\u0018\u0002\u0000\u0000(h\u0003G?�� ě��h\u0004X\n",
      "\u0000\u0000\u0000South Americar(\u0002\u0000\u0000h\u0006J8D\u0001\u0000u\u0000\u0000\u0000Slovakiar)\u0002\u0000\u0000}r*\u0002\u0000\u0000(h\u0003G@\u0015������h\u0004X\u0006\u0000\u0000\u0000Europer+\u0002\u0000\u0000h\u0006M�IuX\u0004\u0000\u0000\u0000Iraqr,\u0002\u0000\u0000}r-\u0002\u0000\u0000(h\u0003G@@L�����h\u0004X\u0004\u0000\u0000\u0000Asiar.\u0002\u0000\u0000h\u0006J\u0012�\u0002\u0000uX$\u0002\u0000\u0000(h\u0003G@$������h\u0004X\u0006\u0000\u0000\u0000Europer%\u0002\u0000\u0000h\u0006M\u000b",
      ".uX\u0006\u0000\u0000\u0000Guyanar&\u0002\u0000\u0000}r'\u0002\u0000\u0000(h\u0003G?�\u0014z�G�h\u0004X\n",
      "\u0000\u0000\u0000North AmericarC\u0002\u0000\u0000h\u0006M:�uX\u0011\u0000\u0000\u0000Republic of KorearD\u0002\u0000\u0000}rE\u0002\u0000\u0000(h\u0003G@H�\u0000\u0000\u0000\u0000\u0000h\u0004X\u0004\u0000\u0000\u0000AsiarF\u0002\u0000\u0000h\u0006Mޖuu.\u0004X\u0006\u0000\u0000\u0000Europer4\u0002\u0000\u0000h\u0006MZ�uX\u0005\u0000\u0000\u0000Naurur5\u0002\u0000\u0000}r6\u0002\u0000\u0000(h\u0003G?�t�j~��h\u0004X\u0011\u0000\u0000\u0000Australia/Oceaniar7\u0002\u0000\u0000h\u0006uX\t\u0000\u0000\u0000Sri Lankar8\u0002\u0000\u0000}r9\u0002\u0000\u0000(h\u0003G@6�fffffh\u0004X\u0004\u0000\u0000\u0000Asiar:\u0002\u0000\u0000h\u0006M�buX\u0004\u0000\u0000\u0000Iranr;\u0002\u0000\u0000}r<\u0002\u0000\u0000(h\u0003G@T333333h\u0004X\u0004\u0000\u0000\u0000Asiar=\u0002\u0000\u0000h\u0006JԵ\t\u0000uX\u0005\u0000\u0000\u0000Kenyar>\u0002\u0000\u0000}r?\u0002\u0000\u0000(h\u0003G@F�\u0000\u0000\u0000\u0000\u0000h\u0004X\u0006\u0000\u0000\u0000Africar@\u0002\u0000\u0000h\u0006JPk\u0003\u0000uX\t\u0000\u0000\u0000GuatemalarA\u0002\u0000\u0000}rB\u0002\u0000\u0000(h\u0003G@-ffffffh\u0004X"
     ]
    }
   ],
   "source": [
    "!cat /content/gdrive/MyDrive/UNDict.dat"
   ]
  },
  {
   "cell_type": "code",
   "execution_count": null,
   "metadata": {
    "colab": {
     "base_uri": "https://localhost:8080/"
    },
    "id": "9sF8b2SRRjzv",
    "outputId": "62f39954-2e66-442f-fed9-51bcebdccccf"
   },
   "outputs": [
    {
     "name": "stdout",
     "output_type": "stream",
     "text": [
      "Enter the name of a continentother than Antarctica: ('Europe', 'Asia', 'North America', 'South America', 'Africa', 'Australia/Oceania') Africa\n",
      " Nigeria: 177.20\n",
      " Ethiopia: 96.60\n",
      " Egypt: 86.90\n",
      " Democratic Republic of the Congo: 77.40\n",
      " United Republic of Tanzania: 50.00\n",
      " South Africa: 48.40\n",
      " Kenya: 45.00\n",
      " Algeria: 38.30\n",
      " Uganda: 35.90\n",
      " Sudan: 35.50\n",
      " Morocco: 33.00\n",
      " Ghana: 25.80\n",
      " Mozambique: 24.70\n",
      " Madagascar: 23.20\n",
      " Cameroon: 23.10\n",
      " Cote D'Ivoire: 22.80\n",
      " Angola: 19.10\n",
      " Burkina Faso: 18.40\n",
      " Niger: 17.50\n",
      " Malawi: 17.40\n",
      " Mali: 16.50\n",
      " Zambia: 14.70\n",
      " Zimbabwe: 13.80\n",
      " Senegal: 13.60\n",
      " Rwanda: 12.30\n",
      " South Sudan: 11.60\n",
      " Guinea: 11.50\n",
      " Chad: 11.40\n",
      " Tunisia: 10.90\n",
      " Somalia: 10.40\n",
      " Burundi: 10.40\n",
      " Benin: 10.20\n",
      " Togo: 7.40\n",
      " Eritrea: 6.30\n",
      " Libyan Arab Jamahiriya: 6.20\n",
      " Sierra Leone: 5.70\n",
      " Central African Republic: 5.30\n",
      " Republic of the Congo: 4.70\n",
      " Liberia: 4.10\n",
      " Mauritania: 3.50\n",
      " Namibia: 2.20\n",
      " Botswana: 2.20\n",
      " Lesotho: 1.90\n",
      " Gambia: 1.90\n",
      " Gabon: 1.70\n",
      " Guinea Bissau: 1.70\n",
      " Swaziland: 1.40\n",
      " Mauritius: 1.30\n",
      " Djibouti: 0.81\n",
      " Comoros: 0.77\n",
      " Equatorial Guinea: 0.72\n",
      " Cape Verde: 0.54\n",
      " Sao Tome and Principe: 0.19\n",
      " Seychelles: 0.09\n"
     ]
    }
   ],
   "source": [
    "import pickle\n",
    "\n",
    "fileName = '/content/gdrive/MyDrive/UNDict.dat'\n",
    "\n",
    "def main():\n",
    "  '''\n",
    "  Display countries (and their population) from a specified continent.\n",
    "  '''\n",
    "  nations = getDictionary(fileName)\n",
    "  print(\"Enter the name of a continent\", end='')\n",
    "  continent = input(\"other than Antarctica: ('Europe', 'Asia', 'North America', 'South America', 'Africa', 'Australia/Oceania') \")\n",
    "  continentDict = constructContinentNations(nations, continent)\n",
    "  displaySortedResults(continentDict)\n",
    "\n",
    "def getDictionary(fileName):\n",
    "  infile = open(fileName, 'rb')\n",
    "  countries = pickle.load(infile)\n",
    "  infile.close()\n",
    "  return countries\n",
    "\n",
    "def constructContinentNations(nations, continent):\n",
    "  '''\n",
    "  Reduce the full 193 item dictionary to a dictionary\n",
    "  consisting solely of the countries in the specified continent.\n",
    "  '''\n",
    "  continentDict = {} # an empty dictionary\n",
    "  for nation in nations: # or nations.keys()\n",
    "    if nations[nation][\"cont\"] == continent:\n",
    "      continentDict[nation] = nations[nation]\n",
    "  return continentDict\n",
    "\n",
    "def displaySortedResults(dictionaryName):\n",
    "  '''\n",
    "  Display countries in descending order by population.\n",
    "  '''\n",
    "  continentList = sorted(dictionaryName.items(), key=lambda k: k[1][\"popl\"], reverse=True)\n",
    "  for k in continentList:\n",
    "    print(\" {0:s}: {1:,.2f}\".format(k[0], k[1][\"popl\"]))\n",
    "\n",
    "main()"
   ]
  },
  {
   "cell_type": "markdown",
   "metadata": {
    "id": "d4YKhuyuTd1z"
   },
   "source": [
    "## p.48 Using a Dictionary with Tuples as Keys"
   ]
  },
  {
   "cell_type": "code",
   "execution_count": null,
   "metadata": {
    "colab": {
     "base_uri": "https://localhost:8080/"
    },
    "id": "VPe_8BDZTdDC",
    "outputId": "88443ef1-41fa-4434-dada-08573b811476"
   },
   "outputs": [
    {
     "name": "stdout",
     "output_type": "stream",
     "text": [
      "\u0000\u0000\u0000Pennsylvanniaq\u0004XX\u0005\u0000\u0000\u0000Jamesq\u0002�q\u0003X\n",
      "\u0000\u0000\u0000Washingtonq\u0005X\u0006\u0000\u0000\u0000Georgeq\u0006�q\u0007\u0000\u0000\u0000VirginiaX\u0005\u0000\u0000\u0000Burenq\tX\n",
      "\u0000\u0000\u0000Martin Vanq\n",
      "X\u0006\u0000\u0000\u0000Warrenq\u000e�q\u000fX\u0004\u0000\u0000\u0000Ohioq\u0010X\u0007\u0000\u0000\u0000Jacksonq\u0011X\u0006\u0000\u0000\u0000Andrewq\u0012�q\u0013X\t\u0000\u0000\u0000Tennesseeq\u0014\u0000\u0000\u0000Harrisonq\u0015X\u0007\u0000\u0000\u0000Williamq\u0016�q\u0017X\u0004\u0000\u0000\u0000Ohioq\u0018X\n",
      "\u0000\u0000\u0000Eisenhowerq\u0019X\u0006\u0000\u0000\u0000Dwightq\u001a�q\u001bX\u0006\u0000\u0000\u0000Kansasq\u001c",
      "X\u0005\u0000\u0000\u0000Hayesq\u001d",
      "X\n",
      "\u0000\u0000\u0000Rutherfordq\u001e",
      "�q\u001fX\u0004\u0000\u0000\u0000Ohioq \u0000\u0000\u0000Garfieldq!X\u0005\u0000\u0000\u0000Jamesq\"�q#X\u0004\u0000\u0000\u0000Ohioq$X\u0005\u0000\u0000\u0000Obamaq%X\u0006\u0000\u0000\u0000Barackq&�q'\u0000\u0000\u0000Illinoisq(X\u0006\u0000\u0000\u0000Arthurq)X\u0007\u0000\u0000\u0000Chesterq*�q+\u0000\u0000\u0000New Yorkq,X\u0006\u0000\u0000\u0000Hooverq-X\u0007\u0000\u0000\u0000Herbertq.�q/X\n",
      "\u0000\u0000\u0000MassachusettsqH\u0000\u0000\u0000FillmoreqIX\u0007\u0000\u0000\u0000MillardqJ�qK\u0000\u0000\u0000New YorkqLX\u0007\u0000\u0000\u0000MadisonqMX\u0005\u0000\u0000\u0000JamesqN�qO\u0000\u0000\u0000VirginiaqPX\u0005\u0000\u0000\u0000NixonqQX\u0007\u0000\u0000\u0000RichardqR�qSXTexasq<X\t\u0000\u0000\u0000Rooseveltq=\u0000\u0000\u0000Theodoreq>�q?\u0000\u0000\u0000New Yorkq@X\u0005\u0000\u0000\u0000AdamsqAX\u0007\u0000\u0000\u0000John Q.qB�qCX\n",
      "\u0000\u0000\u0000New HampshireqdX\t\u0000\u0000\u0000JeffersonqeX\u0006\u0000\u0000\u0000Thomasqf�qg\u0000\u0000\u0000VirginiaqhX\u0007\u0000\u0000\u0000ClintonqiX\u0004\u0000\u0000\u0000Billqj�qk\u0000\u0000\u0000ArkansasqlX\u0007\u0000\u0000\u0000LincolnqmX\u0007\u0000\u0000\u0000Abrahamqn�qo\u0000\u0000\u0000IllinoisqpX\u0004\u0000\u0000\u0000PolkqqX\u0005\u0000\u0000\u0000Jamesqr�qsX\t\u0000\u0000\u0000TennesseeqtX\u0006\u0000\u0000\u0000ReaganquX\u0006\u0000\u0000\u0000Ronaldqv�qwX\n",
      "\u0000\u0000\u0000Massachusettsq�X\u0007\u0000\u0000\u0000Johnsonq�X\u0006\u0000\u0000\u0000Andrewq��q�X\t\u0000\u0000\u0000Tennesseeq�\u0000\u0000\u0000Harrisonq�\u0000\u0000\u0000Benjaminq��q�X\u0007\u0000\u0000\u0000Indianaq�X\u0004\u0000\u0000\u0000Taftq�X\u0007\u0000\u0000\u0000Williamq��q�X\u0004\u0000\u0000\u0000Ohioq�X\u0006\u0000\u0000\u0000Trumanq�X\u0005\u0000\u0000\u0000Harryq��q�\u0000\u0000\u0000Missouriq�X\u0006\u0000\u0000\u0000Taylorq�X\u0007\u0000\u0000\u0000Zacharyq��q�\u0000\u0000\u0000Lousianaq�X\u0006\u0000\u0000\u0000Wilsonq�X\u0007\u0000\u0000\u0000Woodrowq��q�X\n",
      "\u0000\u0000\u0000New Jerseyq�X\u0006\u0000\u0000\u0000Carterq�X\u0005\u0000\u0000\u0000Jamesq��q�X\u0007\u0000\u0000\u0000Georgiaq�u."
     ]
    }
   ],
   "source": [
    "!cat /content/gdrive/MyDrive/USpresStatesDict.dat"
   ]
  },
  {
   "cell_type": "code",
   "execution_count": null,
   "metadata": {
    "colab": {
     "base_uri": "https://localhost:8080/"
    },
    "id": "m9sHYSwaToBH",
    "outputId": "558e6a4a-d09e-4642-a598-1b1c40f22ad1"
   },
   "outputs": [
    {
     "name": "stdout",
     "output_type": "stream",
     "text": [
      "Enter the name of a state: Virginia\n",
      "Presidents from Virginia:\n",
      " Thomas Jefferson\n",
      " James Madison\n",
      " James Monroe\n",
      " John Tyler\n",
      " George Washington\n"
     ]
    }
   ],
   "source": [
    "import pickle\n",
    "\n",
    "fileName = '/content/gdrive/MyDrive/USpresStatesDict.dat'\n",
    "\n",
    "def main():\n",
    "  '''\n",
    "  Displays the presidents from the given state ordered alphabetically by their last names.\n",
    "  '''\n",
    "  presDict = createDictFromBinaryFile(fileName)\n",
    "  state = getState(presDict)\n",
    "  displayOutput(state, presDict)\n",
    "\n",
    "def createDictFromBinaryFile(fileName):\n",
    "  infile = open(fileName, 'rb')\n",
    "  dictionary = pickle.load(infile)\n",
    "  infile.close()\n",
    "  return dictionary\n",
    "\n",
    "def getState(dictName):\n",
    "  state = input(\"Enter the name of a state: \")\n",
    "  if state in dictName.values():\n",
    "    return state\n",
    "  else:\n",
    "    return \"There are no presidents from \" + state + '.'\n",
    "\n",
    "def displayOutput(state, dictName):\n",
    "  if state.startswith(\"There\"):\n",
    "    print(state)\n",
    "  else:\n",
    "    print(\"Presidents from\", state + ':')\n",
    "    for pres in sorted(dictName):# in sorted list of names\n",
    "      if dictName[pres] == state:\n",
    "        print(\" \" + pres[1] + \" \" + pres[0])  \n",
    "\n",
    "main()\n"
   ]
  },
  {
   "cell_type": "markdown",
   "metadata": {
    "id": "fEplFR44Uf_l"
   },
   "source": [
    "## p.22 Sets"
   ]
  },
  {
   "cell_type": "code",
   "execution_count": null,
   "metadata": {
    "colab": {
     "base_uri": "https://localhost:8080/"
    },
    "id": "ukICo_7ZUfoG",
    "outputId": "5212a3db-79ba-4bcc-e2fb-dbb82174493d"
   },
   "outputs": [
    {
     "name": "stdout",
     "output_type": "stream",
     "text": [
      "John Adams\n",
      "Thomas Jefferson\n",
      "Aaron Burr\n",
      "George Clinton\n",
      "Elbridge Gerry\n",
      "Daniel Tompkins\n",
      "John Calhoun\n",
      "Martin Van Buren\n",
      "Richard Johnson\n",
      "John Tyler\n",
      "George Dallas\n",
      "Millard Fillmore\n",
      "William King\n",
      "John Breckinridge\n",
      "Hannibal Hamlin\n",
      "Andrew Johnson\n",
      "Schuyler Colfax\n",
      "Henry Wilson\n",
      "William Wheeler\n",
      "Chester Arthur\n",
      "Thomas Hendricks\n",
      "Levi Morton\n",
      "Adlai Stevenson\n",
      "Garret Hobart\n",
      "Theodore Roosevelt\n",
      "Charles Fairbanks\n",
      "James Sherman\n",
      "Thomas Marshall\n",
      "Calvin Coolidge\n",
      "Charles Dawes\n",
      "Charles Curtis\n",
      "John Garner\n",
      "Henry Wallace\n",
      "Harry Truman\n",
      "Alben Barkley\n",
      "Richard Nixon\n",
      "Lyndon Johnson\n",
      "Hubert Humphrey\n",
      "Spiro Agnew\n",
      "Gerald Ford\n",
      "Nelson Rockefeller\n",
      "Walter Mondale\n",
      "George H. W. Bush\n",
      "Dan Quayle\n",
      "Al Gore\n",
      "Dick Cheney\n",
      "Joe Biden \n"
     ]
    }
   ],
   "source": [
    "!cat /content/gdrive/MyDrive/VPres.txt"
   ]
  },
  {
   "cell_type": "code",
   "execution_count": null,
   "metadata": {
    "colab": {
     "base_uri": "https://localhost:8080/"
    },
    "id": "tML0dJdkUwAX",
    "outputId": "bc9c256b-8cf8-416d-8276-6acd194e9fdc"
   },
   "outputs": [
    {
     "name": "stdout",
     "output_type": "stream",
     "text": [
      "George Washington\n",
      "John Adams\n",
      "Thomas Jefferson\n",
      "James Madison\n",
      "James Monroe\n",
      "John Q. Adams\n",
      "Andrew Jackson\n",
      "Martin Van Buren\n",
      "William Harrison\n",
      "John Tyler\n",
      "James Polk\n",
      "Zachary Taylor\n",
      "Millard Fillmore\n",
      "Franklin Pierce\n",
      "James Buchanan\n",
      "Abraham Lincoln\n",
      "Andrew Johnson\n",
      "Ulysses Grant\n",
      "Rutherford Hayes\n",
      "James Garfield\n",
      "Chester Arthur\n",
      "Grover Cleveland\n",
      "Benjamin Harrison\n",
      "Grover Cleveland\n",
      "William McKinley\n",
      "Theodore Roosevelt\n",
      "William Taft\n",
      "Woodrow Wilson\n",
      "Warren Harding\n",
      "Calvin Coolidge\n",
      "Herbert Hoover\n",
      "Franklin Roosevelt\n",
      "Harry Truman\n",
      "Dwight Eisenhower\n",
      "John Kennedy\n",
      "Lyndon Johnson\n",
      "Richard Nixon\n",
      "Gerald Ford\n",
      "James Carter\n",
      "Ronald Reagan\n",
      "George H. W. Bush\n",
      "Bill Clinton\n",
      "George W. Bush\n",
      "Barack Obama\n"
     ]
    }
   ],
   "source": [
    "!cat /content/gdrive/MyDrive/USPres.txt"
   ]
  },
  {
   "cell_type": "code",
   "execution_count": null,
   "metadata": {
    "id": "94kOsiDEU8aM"
   },
   "outputs": [],
   "source": [
    "\n",
    "vPresFileName = '/content/gdrive/MyDrive/VPres.txt'\n",
    "usPresFileName = '/content/gdrive/MyDrive/USPres.txt'\n",
    "writtenFileName = '/content/gdrive/MyDrive/PresAndVPres.txt'\n",
    "\n",
    "def main():\n",
    "  '''\n",
    "  Create a file of the presidents who also served as vice-presidents.\n",
    "  '''\n",
    "  vicePresSet = createSetFromFile(vPresFileName)\n",
    "  presSet = createSetFromFile(usPresFileName)\n",
    "  bothPresAndVPresSet = createIntersection(vicePresSet, presSet)\n",
    "  writeNamesToFile(bothPresAndVPresSet, writtenFileName)\n",
    "\n",
    "def createSetFromFile(fileName):\n",
    "  '''\n",
    "  Assume that the last line of the file ends with a newline character.\n",
    "  '''\n",
    "  infile = open(fileName, 'r')\n",
    "  namesSet = {name for name in infile}\n",
    "  infile.close()\n",
    "  return namesSet\n",
    "\n",
    "def createIntersection(set1, set2):\n",
    "  return set1.intersection(set2)\n",
    "\n",
    "def writeNamesToFile(setName, fileName):\n",
    "  outfile = open(fileName, 'w')\n",
    "  outfile.writelines(setName)\n",
    "  outfile.close()\n",
    "\n",
    "main()"
   ]
  },
  {
   "cell_type": "code",
   "execution_count": null,
   "metadata": {
    "colab": {
     "base_uri": "https://localhost:8080/"
    },
    "id": "lUvRrD-HVgSD",
    "outputId": "c52d62d3-2997-4114-baa7-e08581cfb0d8"
   },
   "outputs": [
    {
     "name": "stdout",
     "output_type": "stream",
     "text": [
      "Richard Nixon\n",
      "Andrew Johnson\n",
      "Calvin Coolidge\n",
      "John Tyler\n",
      "Lyndon Johnson\n",
      "Millard Fillmore\n",
      "Chester Arthur\n",
      "Theodore Roosevelt\n",
      "Thomas Jefferson\n",
      "Martin Van Buren\n",
      "Harry Truman\n",
      "Gerald Ford\n",
      "George H. W. Bush\n",
      "John Adams\n"
     ]
    }
   ],
   "source": [
    "!cat /content/gdrive/MyDrive/PresAndVPres.txt"
   ]
  },
  {
   "cell_type": "markdown",
   "metadata": {
    "id": "ZYJeA4fpcGNk"
   },
   "source": [
    "# Lab10"
   ]
  },
  {
   "cell_type": "markdown",
   "metadata": {
    "id": "0AZqhmeccW7p"
   },
   "source": [
    "\n",
    "\n",
    "## 1. Count Unique Words\n",
    "\n",
    "Given a text file, count the unique words present in the file.\n",
    "\n",
    "\n",
    "\n",
    "\n",
    "\n",
    "\n"
   ]
  },
  {
   "cell_type": "code",
   "execution_count": 37,
   "metadata": {
    "colab": {
     "base_uri": "https://localhost:8080/"
    },
    "id": "RNYIQCYnt9ca",
    "outputId": "26019cbc-35bd-4a48-92c9-1b528b809591",
    "tags": []
   },
   "outputs": [
    {
     "name": "stdout",
     "output_type": "stream",
     "text": [
      "lorem 2\n",
      "ipsum 1\n",
      "dolor 2\n",
      "sit 1\n",
      "amet 1\n",
      "consectetur 2\n",
      "adipiscing 1\n",
      "elit 2\n",
      "sed 2\n",
      "odio 2\n",
      "nec 2\n",
      "massa 1\n",
      "tempus 1\n",
      "volutpat 1\n",
      "proin 1\n",
      "laoreet 1\n",
      "sapien 1\n",
      "auctor 1\n",
      "eget 2\n",
      "convallis 2\n",
      "metus 2\n",
      "congue 1\n",
      "etiam 1\n",
      "tristique 1\n",
      "tortor 2\n",
      "vel 1\n",
      "malesuada 2\n",
      "justo 2\n",
      "ligula 1\n",
      "tincidunt 3\n",
      "venenatis 1\n",
      "risus 1\n",
      "est 1\n",
      "vitae 1\n",
      "aenean 1\n",
      "posuere 1\n",
      "arcu 1\n",
      "augue 2\n",
      "vehicula 2\n",
      "feugiat 1\n",
      "vivamus 1\n",
      "imperdiet 1\n",
      "lacinia 1\n",
      "lobortis 2\n",
      "suscipit 1\n",
      "curabitur 1\n",
      "aliquam 3\n",
      "urna 2\n",
      "non 1\n",
      "orci 1\n",
      "luctus 1\n",
      "quam 2\n",
      "nunc 2\n",
      "dictum 1\n",
      "magna 1\n",
      "cras 1\n",
      "cursus 1\n",
      "turpis 1\n",
      "sagittis 1\n",
      "praesent 1\n",
      "mauris 1\n",
      "tempor 1\n"
     ]
    }
   ],
   "source": [
    "# !cat /content/gdrive/MyDrive/input1.txt\n",
    "# file = open(\"./AIP_LAB_5_Data/input1.txt\", 'rt', encoding='euc-kr')\n",
    "# words = []\n",
    "# for i in file.readlines() :\n",
    "#     # print(i, end=\"\")\n",
    "#     words.append(i)\n",
    "# words\n",
    "\n",
    "import re\n",
    "import string\n",
    "frequency = {}\n",
    "document_text = open(\"./AIP_LAB_5_Data/input1.txt\", 'r')\n",
    "text_string = document_text.read().lower()\n",
    "match_pattern = re.findall(r'\\b[a-z]{3,15}\\b', text_string)\n",
    "for word in match_pattern:\n",
    "    count = frequency.get(word,0)\n",
    "    frequency[word] = count + 1\n",
    "    \n",
    "frequency_list = frequency.keys()\n",
    "for words in frequency_list:\n",
    "    print (words, frequency[words])"
   ]
  },
  {
   "cell_type": "markdown",
   "metadata": {
    "id": "mGbPfQJEc5pl"
   },
   "source": [
    "## 2.  Find the Frequency of Each Word \n",
    "\n",
    "Given a text file, find the frequency of each word present in the file.\n",
    "\n",
    "\n"
   ]
  },
  {
   "cell_type": "code",
   "execution_count": 31,
   "metadata": {
    "colab": {
     "base_uri": "https://localhost:8080/"
    },
    "id": "S-DJlxyK4FgZ",
    "outputId": "48771702-4283-464a-9c8b-2fd5bcf8dd5b",
    "tags": []
   },
   "outputs": [
    {
     "name": "stdout",
     "output_type": "stream",
     "text": [
      "['Lorem', 'ipsum', 'dolor', 'sit', 'amet,', 'consectetur', 'adipiscing', 'elit.\\nSed', 'sed', 'odio', 'nec', 'massa', 'tempus', 'volutpat.\\nProin', 'laoreet', 'dolor', 'id', 'sapien', 'auctor,', 'eget', 'convallis', 'metus', 'congue.\\nEtiam', 'tristique,', 'tortor', 'vel', 'convallis', 'malesuada,', 'justo', 'ligula', 'tincidunt', 'metus,', 'et', 'venenatis', 'risus', 'est', 'vitae', 'tortor.\\nAenean', 'posuere', 'arcu', 'in', 'augue', 'vehicula', 'feugiat.\\nVivamus', 'imperdiet', 'justo', 'nec', 'augue', 'lacinia,', 'id', 'lobortis', 'elit', 'suscipit.\\nCurabitur', 'aliquam', 'urna', 'non', 'orci', 'lobortis,', 'ut', 'luctus', 'quam', 'tincidunt.\\nNunc', 'dictum', 'urna', 'id', 'magna', 'aliquam', 'tincidunt.\\nCras', 'et', 'odio', 'cursus,', 'malesuada', 'turpis', 'eget,', 'sagittis', 'nunc.\\nPraesent', 'consectetur', 'mauris', 'in', 'quam', 'tempor,', 'in', 'vehicula', 'lorem', 'aliquam.']\n"
     ]
    }
   ],
   "source": [
    "# !cat /content/gdrive/MyDrive/input1.txt\n",
    "content = file.read()\n",
    "content = content.split(\" \")\n",
    "print(content)\n",
    "\n"
   ]
  },
  {
   "cell_type": "markdown",
   "metadata": {
    "id": "INqFk2K5c7ks"
   },
   "source": [
    "## 3. Read a CSV File into a List of Dictionaries\n",
    "\n",
    "Given a CSV file, read its content into a list of dictionaries where keys are column names.\n",
    "\n"
   ]
  },
  {
   "cell_type": "code",
   "execution_count": 59,
   "metadata": {
    "colab": {
     "base_uri": "https://localhost:8080/"
    },
    "id": "u-O90MGn4Hmy",
    "outputId": "b9c6bd0e-5316-43b2-c034-2eb28852aa05",
    "tags": []
   },
   "outputs": [
    {
     "name": "stdout",
     "output_type": "stream",
     "text": [
      "id,name,age,city\n",
      "1,John,23,New York\n",
      "2,Jane,35,Los Angeles\n",
      "3,Bob,45,Chicago\n",
      "4,Alice,28,San Francisco\n",
      "5,Mark,52,Seattle\n",
      "6,Rose,30,Austin\n",
      "7,David,48,Miami\n",
      "8,Lucy,21,Boston\n",
      "9,Charles,37,Denver\n",
      "10,Emma,26,Atlanta\n",
      "{'id': ['1', '2', '3', '4', '5', '6', '7', '8', '9', '10'], 'name': ['John', 'Jane', 'Bob', 'Alice', 'Mark', 'Rose', 'David', 'Lucy', 'Charles', 'Emma'], 'age': ['23', '35', '45', '28', '52', '30', '48', '21', '37', '26'], 'city': ['New York', 'Los Angeles', 'Chicago', 'San Francisco', 'Seattle', 'Austin', 'Miami', 'Boston', 'Denver', 'Atlanta']}\n"
     ]
    }
   ],
   "source": [
    "# !cat /content/gdrive/MyDrive/input3.txt\n",
    "# file3 = open(\"./AIP_LAB_5_Data/input3.txt\", 'rt', encoding=\"utf-8\")\n",
    "# content3 = file3.read()\n",
    "# print(content3)\n",
    "\n",
    "with open(\"./AIP_LAB_5_Data/input3.txt\",\"r\") as f:\n",
    "    # columns = []\n",
    "    # id = []\n",
    "    # name = []\n",
    "    # age = []\n",
    "    # city = []\n",
    "    dic = {}\n",
    "    for idx, i in enumerate(f.readlines()):\n",
    "        if idx == 0:\n",
    "            columns = i.rstrip(\"\\n\").split(\",\")\n",
    "            dic[columns[0]] = []\n",
    "            dic[columns[1]] = []\n",
    "            dic[columns[2]] = []\n",
    "            dic[columns[3]] = []\n",
    "        else:\n",
    "            temp = i.rstrip(\"\\n\").split(\",\")\n",
    "            dic['id'].append(temp[0])\n",
    "            dic['name'].append(temp[1])\n",
    "            dic['age'].append(temp[2])\n",
    "            dic['city'].append(temp[3])\n",
    "        print (i[:-1])       \n",
    "\n",
    "print(dic)\n",
    "# print(columns)\n",
    "# print(id)\n",
    "# print(name)\n",
    "# print(age)\n",
    "# print(city)"
   ]
  },
  {
   "cell_type": "markdown",
   "metadata": {
    "id": "EkRNBCyLctUY"
   },
   "source": [
    "## 4. Replace Specific Words\n",
    "\n",
    "Given a text file and a dictionary of words to replace, replace specific words in the file and write new words to 'output5.txt'.\n",
    "\n",
    "\n",
    "\n",
    "\n",
    "\n"
   ]
  },
  {
   "cell_type": "code",
   "execution_count": 12,
   "metadata": {
    "colab": {
     "base_uri": "https://localhost:8080/"
    },
    "id": "0pHKWtb4C56e",
    "outputId": "f670fa33-5fca-4edc-d514-5932401753b6",
    "tags": []
   },
   "outputs": [
    {
     "name": "stdout",
     "output_type": "stream",
     "text": [
      "In computer science, artificial intelligence, sometimes called machine intelligence, is intelligence demonstrated by machines, in contrast to the natural intelligence displayed by humans and animals. The term \"artificial intelligence\" is often used to describe machines or computers that mimic \"cognitive\" functions that humans associate with the human mind, such as \"learning\" and \"problem solving\".\n",
      "\n"
     ]
    }
   ],
   "source": [
    "# !cat /content/gdrive/MyDrive/input5.txt\n",
    "# !cat /content/gdrive/MyDrive/input3.txt\n",
    "file5 = open(\"./AIP_LAB_5_Data/input5.txt\", 'rt', encoding=\"utf-8\")\n",
    "content5 = file5.read()\n",
    "print(content5)"
   ]
  }
 ],
 "metadata": {
  "colab": {
   "provenance": [],
   "toc_visible": true
  },
  "kernelspec": {
   "display_name": "Python 3 (ipykernel)",
   "language": "python",
   "name": "python3"
  },
  "language_info": {
   "codemirror_mode": {
    "name": "ipython",
    "version": 3
   },
   "file_extension": ".py",
   "mimetype": "text/x-python",
   "name": "python",
   "nbconvert_exporter": "python",
   "pygments_lexer": "ipython3",
   "version": "3.10.10"
  }
 },
 "nbformat": 4,
 "nbformat_minor": 4
}
