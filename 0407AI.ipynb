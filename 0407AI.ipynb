{
 "cells": [
  {
   "cell_type": "markdown",
   "id": "520e16e0-7a1f-4770-a2fb-72287f250cf0",
   "metadata": {},
   "source": [
    "### 리스트"
   ]
  },
  {
   "cell_type": "code",
   "execution_count": 1,
   "id": "609b947d-06fd-4356-b463-d7b03104053d",
   "metadata": {
    "tags": []
   },
   "outputs": [],
   "source": [
    "numbers = [1,2,3,4,5]\n",
    "names = ['Alice', 'Bob', 'Charlie']"
   ]
  },
  {
   "cell_type": "markdown",
   "id": "b4b98ac0-d716-4e4d-8b3c-39d500a8336e",
   "metadata": {},
   "source": [
    "## 튜플"
   ]
  },
  {
   "cell_type": "code",
   "execution_count": null,
   "id": "ee73c0be-9f92-4a14-bfef-075c279ed442",
   "metadata": {},
   "outputs": [],
   "source": [
    "numbers = (1,2,3,4,5)\n",
    "names = ('Alice', 'Bob', 'Charlie')"
   ]
  },
  {
   "cell_type": "markdown",
   "id": "4b825ffc-762d-4d3e-91a3-dcb6f99ee3fc",
   "metadata": {},
   "source": [
    "### 리스트 컴프리헨션(List Comprehension)\n",
    " - 리스트 내 중첩된 요소들을 단일 리스트로 만드는 예제"
   ]
  },
  {
   "cell_type": "code",
   "execution_count": null,
   "id": "de7f1907-9748-4c2a-a8ff-e0ab36d52450",
   "metadata": {},
   "outputs": [],
   "source": [
    "original_list = [[1, 2], [3, 4], [5, 6]]\n",
    "new_list = [num for sublist in original_list for num in sublist]\n",
    "print(new_list)  # [1, 2, 3, 4, 5, 6]"
   ]
  },
  {
   "cell_type": "markdown",
   "id": "d357b203-b84e-4364-8d9a-ef9aaecca6b9",
   "metadata": {
    "tags": []
   },
   "source": [
    "- 주어진 이차원 리스트에서 짝수만 리스트로 생성하기\n",
    " "
   ]
  },
  {
   "cell_type": "code",
   "execution_count": 6,
   "id": "74f524af-b932-485e-a874-8370e788e86e",
   "metadata": {
    "tags": []
   },
   "outputs": [
    {
     "name": "stdout",
     "output_type": "stream",
     "text": [
      "[2, 4, 6, 8]\n"
     ]
    }
   ],
   "source": [
    "matrix = [[1, 2, 3], [4, 5, 6], [7, 8, 9]]\n",
    "result = [num for row in matrix for num in row if num % 2 == 0]\n",
    "print(result)  # [2, 4, 6, 8]"
   ]
  },
  {
   "cell_type": "markdown",
   "id": "b86ea872-041c-4751-b2d4-471d2292ebeb",
   "metadata": {
    "tags": []
   },
   "source": [
    " - 리스트 안에 있는 특정 요소에 접근하는 방법입니다. 리스트 인덱싱은 대괄호 []를 사용하며, 리스트에서 접근하려는 요소의 인덱스를 대괄호 안에 넣어서 사용합니다.\n",
    "인덱스는 0부터 시작하며, 리스트의 길이보다 1 작은 값을 가집니다. 만약 음수 값을 사용하면 리스트의 끝에서부터 역순으로 접근할 수 있습니다."
   ]
  },
  {
   "cell_type": "code",
   "execution_count": 9,
   "id": "736e7c60-6c7b-4ebd-b0d2-5d6e1d6c0696",
   "metadata": {
    "tags": []
   },
   "outputs": [
    {
     "name": "stdout",
     "output_type": "stream",
     "text": [
      "apple\n",
      "banana\n",
      "cherry\n"
     ]
    }
   ],
   "source": [
    "# 리스트 인덱싱 기본 문법\n",
    "# my_list[index]\n",
    "\n",
    "# 리스트 인덱싱 예시\n",
    "fruits = [\"apple\", \"banana\", \"cherry\"]\n",
    "print(fruits[0])  # \"apple\" 출력\n",
    "print(fruits[1])  # \"banana\" 출력\n",
    "print(fruits[-1])  # \"cherry\" 출력"
   ]
  },
  {
   "cell_type": "code",
   "execution_count": 10,
   "id": "eb9e0725-3526-4c7b-b8aa-5120fe4232a5",
   "metadata": {
    "tags": []
   },
   "outputs": [
    {
     "name": "stdout",
     "output_type": "stream",
     "text": [
      "[1, 2, 3]\n",
      "[4, 5, 6]\n",
      "[7, 8, 9]\n",
      "2\n",
      "6\n"
     ]
    }
   ],
   "source": [
    "matrix = [\n",
    "    [1, 2, 3],\n",
    "    [4, 5, 6],\n",
    "    [7, 8, 9]\n",
    "]\n",
    "\n",
    "print(matrix[0])  # [1, 2, 3] 출력\n",
    "print(matrix[1])  # [4, 5, 6] 출력\n",
    "print(matrix[2])  # [7, 8, 9] 출력\n",
    "print(matrix[0][1])  # 2 출력\n",
    "print(matrix[1][2])  # 6 출력\n"
   ]
  },
  {
   "cell_type": "code",
   "execution_count": 16,
   "id": "0d09e9be-ae28-4948-b90e-df05e4628efe",
   "metadata": {
    "tags": []
   },
   "outputs": [
    {
     "name": "stdout",
     "output_type": "stream",
     "text": [
      "[1, 2, 3, 'abc', 3.14, [1, 2, 3], {'apple': 3, 'banana': 2, 'orange': 1}]\n"
     ]
    }
   ],
   "source": [
    "l = [1,2,3]\n",
    "l.append('abc')\n",
    "l.append(3.14)\n",
    "l.append([1,2,3])\n",
    "l.append({'apple': 3, 'banana': 2, 'orange': 1})\n",
    "print(l)"
   ]
  },
  {
   "cell_type": "code",
   "execution_count": 1,
   "id": "deb60af7-9e59-49f0-aa71-66243edaaf96",
   "metadata": {
    "tags": []
   },
   "outputs": [
    {
     "ename": "SyntaxError",
     "evalue": "unterminated string literal (detected at line 1) (1948236366.py, line 1)",
     "output_type": "error",
     "traceback": [
      "\u001b[1;36m  Cell \u001b[1;32mIn[1], line 1\u001b[1;36m\u001b[0m\n\u001b[1;33m    a = 'abc;\u001b[0m\n\u001b[1;37m        ^\u001b[0m\n\u001b[1;31mSyntaxError\u001b[0m\u001b[1;31m:\u001b[0m unterminated string literal (detected at line 1)\n"
     ]
    }
   ],
   "source": [
    "a = 'abc;\n",
    "a.reverse()"
   ]
  },
  {
   "cell_type": "code",
   "execution_count": 5,
   "id": "38820435-1798-44ab-8adc-393f5c51e7bb",
   "metadata": {
    "tags": []
   },
   "outputs": [
    {
     "name": "stdout",
     "output_type": "stream",
     "text": [
      "(1, 2, 3, (5, ()))\n"
     ]
    }
   ],
   "source": [
    "import copy\n",
    "c= ()\n",
    "a = (5,c)\n",
    "l1 = (1,2,3, a)\n",
    "l2 = copy.deepcopy(l1)\n",
    "\n",
    "print(l2)"
   ]
  },
  {
   "cell_type": "code",
   "execution_count": null,
   "id": "13746101-951d-4bd4-bc15-ef00e4a85c9a",
   "metadata": {},
   "outputs": [],
   "source": []
  }
 ],
 "metadata": {
  "kernelspec": {
   "display_name": "Python 3 (ipykernel)",
   "language": "python",
   "name": "python3"
  },
  "language_info": {
   "codemirror_mode": {
    "name": "ipython",
    "version": 3
   },
   "file_extension": ".py",
   "mimetype": "text/x-python",
   "name": "python",
   "nbconvert_exporter": "python",
   "pygments_lexer": "ipython3",
   "version": "3.10.10"
  }
 },
 "nbformat": 4,
 "nbformat_minor": 5
}
